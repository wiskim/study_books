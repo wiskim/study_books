{
 "cells": [
  {
   "cell_type": "markdown",
   "metadata": {},
   "source": [
    "# Web Scraping - HTML Basics\n",
    "\n",
    "In this set of web scraping tutorials, we will use Python to scrape data from the internet. Before we begin, it's important to note that not all websites can or should be scraped by a bot. Before scraping any website, if you are unsure whether scraping is permitted, check the website's terms and conditions. (Here's an example for Yahoo Finance: https://www.verizonmedia.com/policies/us/en/verizonmedia/terms/otos/index.html). There can be legal ramifications for unapproved web scraping.\n",
    "\n",
    "We will learn three methods to scrape data from websites.\n",
    "    \n",
    "1. **scrapy**\n",
    "2. Text splitting\n",
    "3. Pandas **read_html**\n",
    "\n",
    "We will illustrate using Ford's summary page on Yahoo Finance ('https://finance.yahoo.com/quote/F')."
   ]
  },
  {
   "cell_type": "markdown",
   "metadata": {},
   "source": [
    "#### Method 1 - scrapy\n",
    "\n",
    "The **scrapy** module in Python allows us to directly interact with the HTML of a website to extract information.\n",
    "\n",
    "To use **scrapy**, we must install it first. \n",
    "\n",
    "1. In Windows, click on the Windows icon in the lower left had corner of your screen.\n",
    "2. Search for and open \"Anaconda Prompt\".\n",
    "3. Within \"Anaconda Prompt\", type \"pip install scrapy\".\n",
    "4. Exit the \"Anaconda Prompt\" window.\n",
    "\n",
    "Let's now import **scrapy**, and specifically, the **Selector** function within the **scrapy** module which we will use to read the HTML of our website."
   ]
  },
  {
   "cell_type": "code",
   "execution_count": 1,
   "metadata": {},
   "outputs": [],
   "source": [
    "#!pip install scrapy"
   ]
  },
  {
   "cell_type": "code",
   "execution_count": 2,
   "metadata": {},
   "outputs": [],
   "source": [
    "from scrapy.selector import Selector"
   ]
  },
  {
   "cell_type": "markdown",
   "metadata": {},
   "source": [
    "To use **scrapy**, we must first understand the basic structure of HTML. I will only cover some of the basics.\n",
    "\n",
    "Below is some simple HTML code."
   ]
  },
  {
   "cell_type": "code",
   "execution_count": 3,
   "metadata": {},
   "outputs": [
    {
     "name": "stdout",
     "output_type": "stream",
     "text": [
      "<html>\n",
      "    <body>\n",
      "        <div>\n",
      "            <p>\n",
      "                I love programming!\n",
      "            </p>\n",
      "            <p id=\"id1\">\n",
      "                This is the best career!\n",
      "            </p>\n",
      "        </div>\n",
      "        <p class=\"MFIN290\">\n",
      "            I am learning to code.\n",
      "            <a href=\"www.codingisfun.com\">Coding is Fun</a>\n",
      "        </p>\n",
      "        <p class=\"MFIN290\">\n",
      "            MFIN Courses Fun!\n",
      "            <a href=\"https://merage.uci.edu/programs/masters/master-finance/index.html\">MFIN</a>\n",
      "        <p>\n",
      "    </body>\n",
      "</html>\n"
     ]
    }
   ],
   "source": [
    "html = \"\"\"<html>\n",
    "    <body>\n",
    "        <div>\n",
    "            <p>\n",
    "                I love programming!\n",
    "            </p>\n",
    "            <p id=\"id1\">\n",
    "                This is the best career!\n",
    "            </p>\n",
    "        </div>\n",
    "        <p class=\"MFIN290\">\n",
    "            I am learning to code.\n",
    "            <a href=\"www.codingisfun.com\">Coding is Fun</a>\n",
    "        </p>\n",
    "        <p class=\"MFIN290\">\n",
    "            MFIN Courses Fun!\n",
    "            <a href=\"https://merage.uci.edu/programs/masters/master-finance/index.html\">MFIN</a>\n",
    "        <p>\n",
    "    </body>\n",
    "</html>\"\"\"\n",
    "print(html)"
   ]
  },
  {
   "cell_type": "markdown",
   "metadata": {},
   "source": [
    "We use the **Selector** function to read our html with the following code:"
   ]
  },
  {
   "cell_type": "code",
   "execution_count": 4,
   "metadata": {},
   "outputs": [],
   "source": [
    "response = Selector(text=html)"
   ]
  },
  {
   "cell_type": "markdown",
   "metadata": {},
   "source": [
    "We can now use **xpath** functions on the **response** variable to extract data from our HTML. The xpath is simply a path that directs us to a specific location within the html document. For example, we can navigate to the `<p>` tags located directly after the `<div>` tag using the following code:"
   ]
  },
  {
   "cell_type": "code",
   "execution_count": 5,
   "metadata": {},
   "outputs": [
    {
     "data": {
      "text/plain": [
       "['<p>\\n                I love programming!\\n            </p>',\n",
       " '<p id=\"id1\">\\n                This is the best career!\\n            </p>']"
      ]
     },
     "execution_count": 5,
     "metadata": {},
     "output_type": "execute_result"
    }
   ],
   "source": [
    "response.xpath('/html/body/div/p').extract()"
   ]
  },
  {
   "cell_type": "markdown",
   "metadata": {},
   "source": [
    "The **.extract()** function extracts all instances of the tag in our HTML. To obtain the first instance only, we can use the **.extract_first()** function."
   ]
  },
  {
   "cell_type": "code",
   "execution_count": 6,
   "metadata": {},
   "outputs": [
    {
     "data": {
      "text/plain": [
       "'<p>\\n                I love programming!\\n            </p>'"
      ]
     },
     "execution_count": 6,
     "metadata": {},
     "output_type": "execute_result"
    }
   ],
   "source": [
    "response.xpath('/html/body/div/p').extract_first()"
   ]
  },
  {
   "cell_type": "markdown",
   "metadata": {},
   "source": [
    "We can also specify the first, second, third, etc. tags using bracket notation. For example, to obtain the second `<p>` tag, we can use the following code:"
   ]
  },
  {
   "cell_type": "code",
   "execution_count": 7,
   "metadata": {},
   "outputs": [
    {
     "data": {
      "text/plain": [
       "'<p id=\"id1\">\\n                This is the best career!\\n            </p>'"
      ]
     },
     "execution_count": 7,
     "metadata": {},
     "output_type": "execute_result"
    }
   ],
   "source": [
    "response.xpath('/html/body/div/p[2]').extract_first()"
   ]
  },
  {
   "cell_type": "markdown",
   "metadata": {},
   "source": [
    "To obtain the text contained in a tag, rather than the entire tag, we can use the code `/text()`:"
   ]
  },
  {
   "cell_type": "code",
   "execution_count": 8,
   "metadata": {},
   "outputs": [
    {
     "data": {
      "text/plain": [
       "'This is the best career!'"
      ]
     },
     "execution_count": 8,
     "metadata": {},
     "output_type": "execute_result"
    }
   ],
   "source": [
    "response.xpath('/html/body/div/p[2]/text()').extract_first().strip()"
   ]
  },
  {
   "cell_type": "markdown",
   "metadata": {},
   "source": [
    "We can alternatively obtain all tags of a specific type (e.g., p, div, etc.). For example, to obtain all `<p>` tags, we can use the code:"
   ]
  },
  {
   "cell_type": "code",
   "execution_count": 9,
   "metadata": {},
   "outputs": [
    {
     "data": {
      "text/plain": [
       "['<p>\\n                I love programming!\\n            </p>',\n",
       " '<p id=\"id1\">\\n                This is the best career!\\n            </p>',\n",
       " '<p class=\"MFIN290\">\\n            I am learning to code.\\n            <a href=\"www.codingisfun.com\">Coding is Fun</a>\\n        </p>',\n",
       " '<p class=\"MFIN290\">\\n            MFIN Courses Fun!\\n            <a href=\"https://merage.uci.edu/programs/masters/master-finance/index.html\">MFIN</a>\\n        </p>',\n",
       " '<p>\\n    </p>']"
      ]
     },
     "execution_count": 9,
     "metadata": {},
     "output_type": "execute_result"
    }
   ],
   "source": [
    "response.xpath('//p').extract()"
   ]
  },
  {
   "cell_type": "markdown",
   "metadata": {},
   "source": [
    "Similarly, we can focus on a specific tag using bracket notation. For example, we can extract the 3rd `<p>` tag using the following code:"
   ]
  },
  {
   "cell_type": "code",
   "execution_count": 10,
   "metadata": {},
   "outputs": [
    {
     "data": {
      "text/plain": [
       "'I am learning to code.'"
      ]
     },
     "execution_count": 10,
     "metadata": {},
     "output_type": "execute_result"
    }
   ],
   "source": [
    "response.xpath('(//p)[3]/text()').extract_first().strip()"
   ]
  },
  {
   "cell_type": "markdown",
   "metadata": {},
   "source": [
    "#### Exercise\n",
    "\n",
    "1. Obtain the second `<a>` tag in the html document.\n",
    "2. Obtain the text contained in the second `<a>` tag."
   ]
  },
  {
   "cell_type": "markdown",
   "metadata": {},
   "source": [
    "#### Solution for # 1"
   ]
  },
  {
   "cell_type": "code",
   "execution_count": 11,
   "metadata": {},
   "outputs": [
    {
     "data": {
      "text/plain": [
       "'<a href=\"https://merage.uci.edu/programs/masters/master-finance/index.html\">MFIN</a>'"
      ]
     },
     "execution_count": 11,
     "metadata": {},
     "output_type": "execute_result"
    }
   ],
   "source": [
    "response.xpath('(//a)[2]').extract_first()"
   ]
  },
  {
   "cell_type": "markdown",
   "metadata": {},
   "source": [
    "#### Solution for # 2"
   ]
  },
  {
   "cell_type": "code",
   "execution_count": 12,
   "metadata": {},
   "outputs": [
    {
     "data": {
      "text/plain": [
       "'MFIN'"
      ]
     },
     "execution_count": 12,
     "metadata": {},
     "output_type": "execute_result"
    }
   ],
   "source": [
    "response.xpath('(//a)[2]/text()').extract_first()"
   ]
  },
  {
   "cell_type": "code",
   "execution_count": null,
   "metadata": {},
   "outputs": [],
   "source": []
  }
 ],
 "metadata": {
  "language_info": {
   "name": "python"
  }
 },
 "nbformat": 4,
 "nbformat_minor": 1
}
