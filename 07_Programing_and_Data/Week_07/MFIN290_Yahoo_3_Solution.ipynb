{
 "cells": [
  {
   "cell_type": "markdown",
   "metadata": {},
   "source": [
    "# Web Scraping Yahoo! Finance with Text Splitting\n",
    "\n",
    "In this tutorial, we will use the text splitting method in Python to scrape data from *Yahoo! Finance*.\n",
    "\n",
    "We will illustrate using Ford's profile page on *Yahoo! Finance* ('https://finance.yahoo.com/quote/F/profile?p=F')."
   ]
  },
  {
   "cell_type": "markdown",
   "metadata": {},
   "source": [
    "#### Text Splitting\n",
    "\n",
    "I've found another trick that you might find useful: text splitting.\n",
    "\n",
    "When we read HTML into Python using the **requests** module, the resulting HTML is stored as a text string. Therefore, we can simply split our string based on unique identifiers to manually extract the data we want. \n",
    "\n",
    "#### Simple Example\n",
    "\n",
    "When we split a string, the result is a list containing the string before and after each instance of the text we split on. For example, let's say we have the string:\n",
    "\n",
    "    \"I love my job. This is the best job I have ever had.\"\n",
    "\n",
    "Let's split this string on 'job' and view the result."
   ]
  },
  {
   "cell_type": "code",
   "execution_count": 1,
   "metadata": {},
   "outputs": [
    {
     "data": {
      "text/plain": [
       "['I love my ', '. This is the best ', ' I have ever had.']"
      ]
     },
     "execution_count": 1,
     "metadata": {},
     "output_type": "execute_result"
    }
   ],
   "source": [
    "sentences = \"I love my job. This is the best job I have ever had.\"\n",
    "job_list = sentences.split('job')\n",
    "job_list"
   ]
  },
  {
   "cell_type": "markdown",
   "metadata": {},
   "source": [
    "Splitting on 'job' resulted in a list with three elements because there were two instances of 'job' in our string.\n",
    "\n",
    "In the first element is all text before the first instance of 'job'.\n",
    "\n",
    "In the second element is the string between the first and second instances of 'job'.\n",
    "\n",
    "In the third element is the string after the second instance of 'job' and up to the end of the string.\n",
    "\n",
    "Now, let's say we want to extract the word \"have\" from this string. Here's how that would be done."
   ]
  },
  {
   "cell_type": "code",
   "execution_count": 2,
   "metadata": {},
   "outputs": [
    {
     "name": "stdout",
     "output_type": "stream",
     "text": [
      "have\n"
     ]
    }
   ],
   "source": [
    "have = sentences.split('job')[2].split('I ')[1].split(' ever')[0]\n",
    "print(have)"
   ]
  },
  {
   "cell_type": "markdown",
   "metadata": {},
   "source": [
    "#### Text Splitting and Ford\n",
    "\n",
    "Now, let's apply this logic to our Ford Yahoo! Finance example. Let's go find the Industry within the HTML source code of the Yahoo! Finance web page.\n",
    "\n",
    "We can split our HTML string to obtain the industry manually. We must choose a unique identifier to split on. The most obvious choice to me would be something like `Industry`. Let's split on this text and view the result:"
   ]
  },
  {
   "cell_type": "code",
   "execution_count": 3,
   "metadata": {},
   "outputs": [],
   "source": [
    "from selenium import webdriver\n",
    "from selenium.webdriver.common.by import By\n",
    "\n",
    "# Set up headless Chrome options\n",
    "options = webdriver.ChromeOptions()\n",
    "options.add_argument('--headless')  # Optional: runs the browser in the background\n",
    "driver = webdriver.Chrome(options=options)\n",
    "\n",
    "# Load the Yahoo Finance Profile page\n",
    "url = \"https://finance.yahoo.com/quote/F/profile/?p=F\"\n",
    "driver.get(url)\n",
    "\n",
    "# Wait for the page to load\n",
    "driver.implicitly_wait(5)  # Waits up to 5 seconds \n",
    "\n",
    "# Retrieve HTML\n",
    "html = driver.page_source\n",
    "\n",
    "# Close the browser\n",
    "driver.quit()\n"
   ]
  },
  {
   "cell_type": "code",
   "execution_count": 4,
   "metadata": {},
   "outputs": [],
   "source": [
    "#html"
   ]
  },
  {
   "cell_type": "code",
   "execution_count": 5,
   "metadata": {},
   "outputs": [
    {
     "name": "stdout",
     "output_type": "stream",
     "text": [
      "2\n"
     ]
    }
   ],
   "source": [
    "industry = html.split('Industry:&nbsp;</dt>')\n",
    "print(len(industry))"
   ]
  },
  {
   "cell_type": "code",
   "execution_count": 6,
   "metadata": {},
   "outputs": [
    {
     "name": "stdout",
     "output_type": "stream",
     "text": [
      " <a class=\"subtle-link fin-size-large yf-1e4diqp\" data-ylk=\"elm:itm;elmt:link;itc:0;sec:qsp-company-overview;subsec:profile;slk:Auto%20Manufacturers\" href=\"/sectors/consumer-cyclical/auto-manufacturers/\" data-rapid_p=\"22\" data-v9y=\"1\">Auto Manufacturers </a> </div><div><dt class=\"yf-wxp4ja\">Full Tim\n"
     ]
    }
   ],
   "source": [
    "print(industry[1][0:300])"
   ]
  },
  {
   "cell_type": "markdown",
   "metadata": {},
   "source": [
    "Splitting on `Industry</span>` returns a list with two elements. The first element contains everything in the HTML before `Industry</span>` and the second element contains everything in the HTML after `Industry</span>`."
   ]
  },
  {
   "cell_type": "code",
   "execution_count": 7,
   "metadata": {},
   "outputs": [
    {
     "name": "stdout",
     "output_type": "stream",
     "text": [
      "<html lang=\"en-US\" theme=\"light\" data-color-scheme=\"light\" class=\"desktop neo-green dock-upscale\"><head><script type=\"text/javascript\" async=\"\" src=\"https://static.criteo.net/js/ld/publishertag.prebid.144.js\"></script><script charset=\"UTF-8\" type=\"text/javascript\" async=\"async\" src=\"https://cdn.tabo\n"
     ]
    }
   ],
   "source": [
    "print(industry[0][0:300])"
   ]
  },
  {
   "cell_type": "markdown",
   "metadata": {},
   "source": [
    "The industry is contained in the second item in the list. Let's restrict our search to that second item using `[1]` at the end of our code:"
   ]
  },
  {
   "cell_type": "code",
   "execution_count": 8,
   "metadata": {},
   "outputs": [
    {
     "name": "stdout",
     "output_type": "stream",
     "text": [
      " <a class=\"subtle-link fin-size-large yf-1e4diqp\" data-ylk=\"elm:itm;elmt:link;itc:0;sec:qsp-company-overview;subsec:profile;slk:Auto%20Manufacturers\" href=\"/sectors/consumer-cyclical/auto-manufacturers/\" data-rapid_p=\"22\" data-v9y=\"1\">Auto Manufacturers </a> </div><div><dt class=\"yf-wxp4ja\">Full Tim\n"
     ]
    }
   ],
   "source": [
    "industry = html.split('Industry:&nbsp;</dt>')[1]\n",
    "print(industry[0:300])"
   ]
  },
  {
   "cell_type": "markdown",
   "metadata": {},
   "source": [
    " We can now extract the industry by making a few more splits (e.g., split on `</span>` and choose the first element in the list, etc.)."
   ]
  },
  {
   "cell_type": "code",
   "execution_count": 9,
   "metadata": {},
   "outputs": [
    {
     "name": "stdout",
     "output_type": "stream",
     "text": [
      " <a class=\"subtle-link fin-size-large yf-1e4diqp\" data-ylk=\"elm:itm;elmt:link;itc:0;sec:qsp-company-overview;subsec:profile;slk:Auto%20Manufacturers\" href=\"/sectors/consumer-cyclical/auto-manufacturers/\" data-rapid_p=\"22\" data-v9y=\"1\">Auto Manufacturers \n"
     ]
    }
   ],
   "source": [
    "industry = html.split('Industry:&nbsp;</dt>')[1].split('</a>')[0]\n",
    "print(industry[0:300])"
   ]
  },
  {
   "cell_type": "code",
   "execution_count": 10,
   "metadata": {},
   "outputs": [
    {
     "name": "stdout",
     "output_type": "stream",
     "text": [
      "Auto Manufacturers \n"
     ]
    }
   ],
   "source": [
    "industry = html.split('Industry:&nbsp;</dt>')[1].split('</a>')[0].split('>')[-1]\n",
    "print(industry)"
   ]
  },
  {
   "cell_type": "code",
   "execution_count": null,
   "metadata": {},
   "outputs": [],
   "source": []
  },
  {
   "cell_type": "markdown",
   "metadata": {},
   "source": [
    "#### Exercise -- Practice Using Text Splitting\n",
    "\n",
    "1. Obtain the 'Corporate Goverance Score' for Ford listed on Ford's Yahoo Finance Profile page.\n",
    "2. Create a function to obtain the Corporate Governance Score for any ticker. Then extract the Corporate Governance Score for 'F','AAPL','AMZN', and 'WMT' and save the data to a new pandas DataFrame."
   ]
  },
  {
   "cell_type": "markdown",
   "metadata": {},
   "source": [
    "#### Solution for # 1"
   ]
  },
  {
   "cell_type": "code",
   "execution_count": 11,
   "metadata": {},
   "outputs": [
    {
     "name": "stdout",
     "output_type": "stream",
     "text": [
      "10\n"
     ]
    }
   ],
   "source": [
    "cg = html.split('Governance QualityScore')[1].split(' is ')[1].split('.')[0]\n",
    "print(cg)"
   ]
  },
  {
   "cell_type": "code",
   "execution_count": null,
   "metadata": {},
   "outputs": [],
   "source": []
  },
  {
   "cell_type": "markdown",
   "metadata": {},
   "source": [
    "#### Solution for # 2"
   ]
  },
  {
   "cell_type": "code",
   "execution_count": 12,
   "metadata": {},
   "outputs": [
    {
     "data": {
      "text/html": [
       "<div>\n",
       "<style scoped>\n",
       "    .dataframe tbody tr th:only-of-type {\n",
       "        vertical-align: middle;\n",
       "    }\n",
       "\n",
       "    .dataframe tbody tr th {\n",
       "        vertical-align: top;\n",
       "    }\n",
       "\n",
       "    .dataframe thead th {\n",
       "        text-align: right;\n",
       "    }\n",
       "</style>\n",
       "<table border=\"1\" class=\"dataframe\">\n",
       "  <thead>\n",
       "    <tr style=\"text-align: right;\">\n",
       "      <th></th>\n",
       "      <th>ticker</th>\n",
       "      <th>cg</th>\n",
       "    </tr>\n",
       "  </thead>\n",
       "  <tbody>\n",
       "    <tr>\n",
       "      <th>0</th>\n",
       "      <td>F</td>\n",
       "      <td>10</td>\n",
       "    </tr>\n",
       "    <tr>\n",
       "      <th>1</th>\n",
       "      <td>AAPL</td>\n",
       "      <td>1</td>\n",
       "    </tr>\n",
       "    <tr>\n",
       "      <th>2</th>\n",
       "      <td>AMZN</td>\n",
       "      <td>9</td>\n",
       "    </tr>\n",
       "    <tr>\n",
       "      <th>3</th>\n",
       "      <td>WMT</td>\n",
       "      <td>3</td>\n",
       "    </tr>\n",
       "  </tbody>\n",
       "</table>\n",
       "</div>"
      ],
      "text/plain": [
       "  ticker  cg\n",
       "0      F  10\n",
       "1   AAPL   1\n",
       "2   AMZN   9\n",
       "3    WMT   3"
      ]
     },
     "execution_count": 12,
     "metadata": {},
     "output_type": "execute_result"
    }
   ],
   "source": [
    "import pandas as pd\n",
    "import requests\n",
    "\n",
    "def get_data(ticker):\n",
    "    \n",
    "    # Set up headless Chrome options\n",
    "    options = webdriver.ChromeOptions()\n",
    "    options.add_argument('--headless')  # Optional: runs the browser in the background\n",
    "    driver = webdriver.Chrome(options=options)    \n",
    "    \n",
    "    url = 'https://finance.yahoo.com/quote/'+ticker+'/profile?p='+ticker\n",
    "    driver.get(url)\n",
    "\n",
    "    # Wait for the page to load \n",
    "    driver.implicitly_wait(5)  # Waits up to 5 seconds\n",
    "    \n",
    "\n",
    "    # Retrieve HTML\n",
    "    html = driver.page_source\n",
    "\n",
    "    # Close the browser\n",
    "    driver.quit()\n",
    "\n",
    "    cg = html.split('Governance QualityScore')[1].split(' is ')[1].split('.')[0]\n",
    "    \n",
    "    return cg\n",
    "\n",
    "# List of tickers to obtain\n",
    "tickers = ['F','AAPL','AMZN','WMT']\n",
    "\n",
    "# Initalize a new pandas DataFrame\n",
    "df = pd.DataFrame(columns = ['ticker','cg'])\n",
    "\n",
    "# Iterate through list of tickers and save mktcap to our df DataFrame\n",
    "for ticker in tickers:\n",
    "    cg = get_data(ticker)\n",
    "    df = pd.concat([df, pd.DataFrame({'ticker':[ticker], 'cg':[cg]})], ignore_index=True)\n",
    "    \n",
    "# Print the df DataFrame\n",
    "df"
   ]
  },
  {
   "cell_type": "code",
   "execution_count": null,
   "metadata": {},
   "outputs": [],
   "source": []
  }
 ],
 "metadata": {
  "kernelspec": {
   "display_name": "Python 3",
   "language": "python",
   "name": "python3"
  },
  "language_info": {
   "name": "python",
   "version": "3.12.7"
  }
 },
 "nbformat": 4,
 "nbformat_minor": 1
}
