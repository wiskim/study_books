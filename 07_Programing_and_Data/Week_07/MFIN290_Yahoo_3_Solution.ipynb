{
 "cells": [
  {
   "cell_type": "markdown",
   "metadata": {},
   "source": [
    "# Web Scraping Yahoo! Finance with Text Splitting\n",
    "\n",
    "In this tutorial, we will use the text splitting method in Python to scrape data from *Yahoo! Finance*.\n",
    "\n",
    "We will illustrate using Ford's profile page on *Yahoo! Finance* ('https://finance.yahoo.com/quote/F/profile?p=F')."
   ]
  },
  {
   "cell_type": "markdown",
   "metadata": {},
   "source": [
    "#### Text Splitting\n",
    "\n",
    "I've found another trick that you might find useful: text splitting.\n",
    "\n",
    "When we read HTML into Python using the **requests** module, the resulting HTML is stored as a text string. Therefore, we can simply split our string based on unique identifiers to manually extract the data we want. \n",
    "\n",
    "#### Simple Example\n",
    "\n",
    "When we split a string, the result is a list containing the string before and after each instance of the text we split on. For example, let's say we have the string:\n",
    "\n",
    "    \"I love my job. This is the best job I have ever had.\"\n",
    "\n",
    "Let's split this string on 'job' and view the result."
   ]
  },
  {
   "cell_type": "code",
   "execution_count": null,
   "metadata": {},
   "outputs": [],
   "source": [
    "sentences = \"I love my job. This is the best job I have ever had.\"\n",
    "job_list = sentences.split('job')\n",
    "job_list"
   ]
  },
  {
   "cell_type": "markdown",
   "metadata": {},
   "source": [
    "Splitting on 'job' resulted in a list with three elements because there were two instances of 'job' in our string.\n",
    "\n",
    "In the first element is all text before the first instance of 'job'.\n",
    "\n",
    "In the second element is the string between the first and second instances of 'job'.\n",
    "\n",
    "In the third element is the string after the second instance of 'job' and up to the end of the string.\n",
    "\n",
    "Now, let's say we want to extract the word \"have\" from this string. Here's how that would be done."
   ]
  },
  {
   "cell_type": "code",
   "execution_count": null,
   "metadata": {},
   "outputs": [],
   "source": [
    "have = sentences.split('job')[2].split('I ')[1].split(' ever')[0]\n",
    "print(have)"
   ]
  },
  {
   "cell_type": "markdown",
   "metadata": {},
   "source": [
    "#### Text Splitting and Ford\n",
    "\n",
    "Now, let's apply this logic to our Ford Yahoo! Finance example. Let's go find the Industry within the HTML source code of the Yahoo! Finance web page.\n",
    "\n",
    "We can split our HTML string to obtain the industry manually. We must choose a unique identifier to split on. The most obvious choice to me would be something like `Industry`. Let's split on this text and view the result:"
   ]
  },
  {
   "cell_type": "code",
   "execution_count": null,
   "metadata": {},
   "outputs": [],
   "source": [
    "from selenium import webdriver\n",
    "from selenium.webdriver.common.by import By\n",
    "\n",
    "# Set up headless Chrome options\n",
    "options = webdriver.ChromeOptions()\n",
    "options.add_argument('--headless')  # Optional: runs the browser in the background\n",
    "driver = webdriver.Chrome(options=options)\n",
    "\n",
    "# Load the Yahoo Finance Profile page\n",
    "url = \"https://finance.yahoo.com/quote/F/profile/?p=F\"\n",
    "driver.get(url)\n",
    "\n",
    "# Wait for the page to load\n",
    "driver.implicitly_wait(5)  # Waits up to 5 seconds \n",
    "\n",
    "# Retrieve HTML\n",
    "html = driver.page_source\n",
    "\n",
    "# Close the browser\n",
    "driver.quit()\n"
   ]
  },
  {
   "cell_type": "code",
   "execution_count": null,
   "metadata": {},
   "outputs": [],
   "source": [
    "#html"
   ]
  },
  {
   "cell_type": "code",
   "execution_count": null,
   "metadata": {},
   "outputs": [],
   "source": [
    "industry = html.split('Industry:&nbsp;</dt>')\n",
    "print(len(industry))"
   ]
  },
  {
   "cell_type": "code",
   "execution_count": null,
   "metadata": {},
   "outputs": [],
   "source": [
    "print(industry[1][0:300])"
   ]
  },
  {
   "cell_type": "markdown",
   "metadata": {},
   "source": [
    "Splitting on `Industry</span>` returns a list with two elements. The first element contains everything in the HTML before `Industry</span>` and the second element contains everything in the HTML after `Industry</span>`."
   ]
  },
  {
   "cell_type": "code",
   "execution_count": null,
   "metadata": {},
   "outputs": [],
   "source": [
    "print(industry[0][0:300])"
   ]
  },
  {
   "cell_type": "markdown",
   "metadata": {},
   "source": [
    "The industry is contained in the second item in the list. Let's restrict our search to that second item using `[1]` at the end of our code:"
   ]
  },
  {
   "cell_type": "code",
   "execution_count": null,
   "metadata": {},
   "outputs": [],
   "source": [
    "industry = html.split('Industry:&nbsp;</dt>')[1]\n",
    "print(industry[0:300])"
   ]
  },
  {
   "cell_type": "markdown",
   "metadata": {},
   "source": [
    " We can now extract the industry by making a few more splits (e.g., split on `</span>` and choose the first element in the list, etc.)."
   ]
  },
  {
   "cell_type": "code",
   "execution_count": null,
   "metadata": {},
   "outputs": [],
   "source": [
    "industry = html.split('Industry:&nbsp;</dt>')[1].split('</a>')[0]\n",
    "print(industry[0:300])"
   ]
  },
  {
   "cell_type": "code",
   "execution_count": null,
   "metadata": {},
   "outputs": [],
   "source": [
    "industry = html.split('Industry:&nbsp;</dt>')[1].split('</a>')[0].split('>')[-1]\n",
    "print(industry)"
   ]
  },
  {
   "cell_type": "code",
   "execution_count": null,
   "metadata": {},
   "outputs": [],
   "source": []
  },
  {
   "cell_type": "markdown",
   "metadata": {},
   "source": [
    "#### Exercise -- Practice Using Text Splitting\n",
    "\n",
    "1. Obtain the 'Corporate Goverance Score' for Ford listed on Ford's Yahoo Finance Profile page.\n",
    "2. Create a function to obtain the Corporate Governance Score for any ticker. Then extract the Corporate Governance Score for 'F','AAPL','AMZN', and 'WMT' and save the data to a new pandas DataFrame."
   ]
  },
  {
   "cell_type": "markdown",
   "metadata": {},
   "source": [
    "#### Solution for # 1"
   ]
  },
  {
   "cell_type": "code",
   "execution_count": null,
   "metadata": {},
   "outputs": [],
   "source": [
    "cg = html.split('Governance QualityScore')[1].split(' is ')[1].split('.')[0]\n",
    "print(cg)"
   ]
  },
  {
   "cell_type": "code",
   "execution_count": null,
   "metadata": {},
   "outputs": [],
   "source": []
  },
  {
   "cell_type": "markdown",
   "metadata": {},
   "source": [
    "#### Solution for # 2"
   ]
  },
  {
   "cell_type": "code",
   "execution_count": null,
   "metadata": {},
   "outputs": [],
   "source": [
    "import pandas as pd\n",
    "import requests\n",
    "\n",
    "def get_data(ticker):\n",
    "    \n",
    "    # Set up headless Chrome options\n",
    "    options = webdriver.ChromeOptions()\n",
    "    options.add_argument('--headless')  # Optional: runs the browser in the background\n",
    "    driver = webdriver.Chrome(options=options)    \n",
    "    \n",
    "    url = 'https://finance.yahoo.com/quote/'+ticker+'/profile?p='+ticker\n",
    "    driver.get(url)\n",
    "\n",
    "    # Wait for the page to load \n",
    "    driver.implicitly_wait(5)  # Waits up to 5 seconds\n",
    "    \n",
    "\n",
    "    # Retrieve HTML\n",
    "    html = driver.page_source\n",
    "\n",
    "    # Close the browser\n",
    "    driver.quit()\n",
    "\n",
    "    cg = html.split('Governance QualityScore')[1].split(' is ')[1].split('.')[0]\n",
    "    \n",
    "    return cg\n",
    "\n",
    "# List of tickers to obtain\n",
    "tickers = ['F','AAPL','AMZN','WMT']\n",
    "\n",
    "# Initalize a new pandas DataFrame\n",
    "df = pd.DataFrame(columns = ['ticker','cg'])\n",
    "\n",
    "# Iterate through list of tickers and save mktcap to our df DataFrame\n",
    "for ticker in tickers:\n",
    "    cg = get_data(ticker)\n",
    "    df = pd.concat([df, pd.DataFrame({'ticker':[ticker], 'cg':[cg]})], ignore_index=True)\n",
    "    \n",
    "# Print the df DataFrame\n",
    "df"
   ]
  },
  {
   "cell_type": "code",
   "execution_count": null,
   "metadata": {},
   "outputs": [],
   "source": []
  }
 ],
 "metadata": {
  "kernelspec": {
   "display_name": "py312",
   "language": "python",
   "name": "python3"
  },
  "language_info": {
   "name": "python",
   "version": "3.12.7"
  }
 },
 "nbformat": 4,
 "nbformat_minor": 1
}
