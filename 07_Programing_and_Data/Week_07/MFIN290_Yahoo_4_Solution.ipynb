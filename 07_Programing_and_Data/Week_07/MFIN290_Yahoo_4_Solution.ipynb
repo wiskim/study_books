{
 "cells": [
  {
   "cell_type": "markdown",
   "metadata": {},
   "source": [
    "# Web Scraping Yahoo! Finance with pandas read_html\n",
    "\n",
    "In this tutorial, we will use the **pandas read_html** method in Python to scrape data from *Yahoo! Finance*.\n",
    "\n",
    "We will illustrate using Ford's Statistics page on *Yahoo! Finance* ('https://finance.yahoo.com/quote/F/key-statistics?p=F')."
   ]
  },
  {
   "cell_type": "markdown",
   "metadata": {},
   "source": [
    "#### Scraping Data from Tables\n",
    "\n",
    "The **pandas read_html** function reads the contents of HTML and extracts all tables into a list of **pandas** DataFrames, making web scraping extremely easy!\n",
    "\n",
    "However, the **read_html** function is limited to extracting ONLY data that is contained within *table* tags in the HTML code. If the data you want to scrape is NOT contained in a *table* tag, this method will not work.\n",
    "\n",
    "The **read_html** function requires a parameter specifying the HTML data. This parameter can either be HTML stored as text or the web site address."
   ]
  },
  {
   "cell_type": "code",
   "execution_count": null,
   "metadata": {},
   "outputs": [],
   "source": [
    "import pandas as pd\n",
    "\n",
    "from selenium import webdriver\n",
    "from selenium.webdriver.common.by import By\n",
    "\n",
    "# Set up headless Chrome options\n",
    "options = webdriver.ChromeOptions()\n",
    "options.add_argument('--headless')  # Optional: runs the browser in the background\n",
    "driver = webdriver.Chrome(options=options)\n",
    "\n",
    "# Load the Yahoo Finance Profile page\n",
    "url = \"https://finance.yahoo.com/quote/F/key-statistics?p=F\"\n",
    "driver.get(url)\n",
    "\n",
    "# Wait for the page to load\n",
    "driver.implicitly_wait(5)  # Waits up to 5 seconds \n",
    "\n",
    "# Retrieve HTML\n",
    "html = driver.page_source\n",
    "\n",
    "# Close the browser\n",
    "driver.quit()\n",
    "\n",
    "dfs = pd.read_html(html)"
   ]
  },
  {
   "cell_type": "markdown",
   "metadata": {},
   "source": [
    "Let's print out the DataFrames in our **dfs** list to see what data in our web page is contained in tables."
   ]
  },
  {
   "cell_type": "code",
   "execution_count": null,
   "metadata": {},
   "outputs": [],
   "source": [
    "for df in dfs:\n",
    "    print(df)\n",
    "    print('\\n\\n----------------------------------------------------------------------------------\\n\\n')"
   ]
  },
  {
   "cell_type": "markdown",
   "metadata": {},
   "source": [
    "Let's say we want to extract only the 5-year monthly Beta, which is contained in the second DataFrame in the **dfs** list."
   ]
  },
  {
   "cell_type": "code",
   "execution_count": null,
   "metadata": {},
   "outputs": [],
   "source": [
    "dfs[8]"
   ]
  },
  {
   "cell_type": "markdown",
   "metadata": {},
   "source": [
    "We can extract information from a DataFrame using the **.iloc[rownum,colnum]** function. The *rownum* and *colnum* are row and column numbers, respectively, and are indexed starting at 0.\n",
    "\n",
    "Beta is contained in first row and second column, so the *rownum* is equal to 0 (i.e., first row), and the *colnum* is equal to 1 (i.e., second column)."
   ]
  },
  {
   "cell_type": "code",
   "execution_count": null,
   "metadata": {},
   "outputs": [],
   "source": [
    "beta = dfs[8].iloc[0,1]\n",
    "print(beta)"
   ]
  },
  {
   "cell_type": "markdown",
   "metadata": {},
   "source": [
    "#### Exercise -- Practice Using pandas read_html\n",
    "\n",
    "1. Obtain the 'Trailing Annual Dividend Rate' for Ford listed on Ford's Yahoo Finance Statistics page.\n",
    "2. Obtain the 'Shares Outstanding' for Ford listed on Ford's Yahoo Finance Statistics page.\n",
    "3. Create a function to obtain the 'Trailing Annual Dividend Rate' and the 'Shares Outstanding' for any ticker. Then extract the these items for 'F','AAPL','AMZN', and 'WMT' and save the data to a new pandas DataFrame."
   ]
  },
  {
   "cell_type": "markdown",
   "metadata": {},
   "source": [
    "#### Solution for # 1"
   ]
  },
  {
   "cell_type": "code",
   "execution_count": null,
   "metadata": {},
   "outputs": [],
   "source": [
    "dfs[10]"
   ]
  },
  {
   "cell_type": "code",
   "execution_count": null,
   "metadata": {},
   "outputs": [],
   "source": [
    "divrate = dfs[10].iloc[3,1]\n",
    "print(divrate)"
   ]
  },
  {
   "cell_type": "code",
   "execution_count": null,
   "metadata": {},
   "outputs": [],
   "source": []
  },
  {
   "cell_type": "code",
   "execution_count": null,
   "metadata": {},
   "outputs": [],
   "source": []
  },
  {
   "cell_type": "markdown",
   "metadata": {},
   "source": [
    "#### Solution for # 2"
   ]
  },
  {
   "cell_type": "code",
   "execution_count": null,
   "metadata": {},
   "outputs": [],
   "source": [
    "dfs[9]"
   ]
  },
  {
   "cell_type": "code",
   "execution_count": null,
   "metadata": {},
   "outputs": [],
   "source": [
    "shrout = dfs[9].iloc[3,1]\n",
    "print(shrout)"
   ]
  },
  {
   "cell_type": "markdown",
   "metadata": {},
   "source": [
    "#### Solution for # 3"
   ]
  },
  {
   "cell_type": "code",
   "execution_count": null,
   "metadata": {},
   "outputs": [],
   "source": [
    "import pandas as pd\n",
    "\n",
    "def get_data(ticker):\n",
    "\n",
    "    # Set up headless Chrome options\n",
    "    options = webdriver.ChromeOptions()\n",
    "    options.add_argument('--headless')  # Optional: runs the browser in the background\n",
    "    driver = webdriver.Chrome(options=options)\n",
    "\n",
    "    # Load the Yahoo Finance Profile page\n",
    "    url = 'https://finance.yahoo.com/quote/'+ticker+'/key-statistics?p='+ticker\n",
    "    driver.get(url)\n",
    "\n",
    "    # Wait for the page to load\n",
    "    driver.implicitly_wait(1)  # Waits up to 1 seconds \n",
    "\n",
    "    # Retrieve HTML\n",
    "    html = driver.page_source\n",
    "\n",
    "    # Close the browser\n",
    "    driver.quit()\n",
    "\n",
    "    dfs = pd.read_html(html)\n",
    "    divrate = dfs[10].iloc[3,1]\n",
    "    shrout = dfs[9].iloc[3,1]\n",
    "    return divrate,shrout\n",
    "\n",
    "# List of tickers to obtain\n",
    "tickers = ['F','AAPL','AMZN']\n",
    "\n",
    "# Initalize a new pandas DataFrame\n",
    "df = pd.DataFrame(columns = ['ticker','divrate','shrout'])\n",
    "\n",
    "# Iterate through list of tickers and save mktcap to our df DataFrame\n",
    "for ticker in tickers:\n",
    "    divrate,shrout = get_data(ticker)\n",
    "    df = pd.concat([df, pd.DataFrame({'ticker':[ticker], 'divrate':[divrate], 'shrout':[shrout]})], ignore_index=True)\n",
    "\n",
    "# Print the df DataFrame\n",
    "df"
   ]
  },
  {
   "cell_type": "code",
   "execution_count": null,
   "metadata": {},
   "outputs": [],
   "source": []
  }
 ],
 "metadata": {
  "kernelspec": {
   "display_name": "py312",
   "language": "python",
   "name": "python3"
  },
  "language_info": {
   "codemirror_mode": {
    "name": "ipython",
    "version": 3
   },
   "file_extension": ".py",
   "mimetype": "text/x-python",
   "name": "python",
   "nbconvert_exporter": "python",
   "pygments_lexer": "ipython3",
   "version": "3.12.7"
  }
 },
 "nbformat": 4,
 "nbformat_minor": 1
}
