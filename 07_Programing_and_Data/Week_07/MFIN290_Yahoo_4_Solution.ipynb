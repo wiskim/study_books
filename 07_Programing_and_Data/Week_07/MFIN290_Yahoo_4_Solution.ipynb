{
 "cells": [
  {
   "cell_type": "markdown",
   "metadata": {},
   "source": [
    "# Web Scraping Yahoo! Finance with pandas read_html\n",
    "\n",
    "In this tutorial, we will use the **pandas read_html** method in Python to scrape data from *Yahoo! Finance*.\n",
    "\n",
    "We will illustrate using Ford's Statistics page on *Yahoo! Finance* ('https://finance.yahoo.com/quote/F/key-statistics?p=F')."
   ]
  },
  {
   "cell_type": "markdown",
   "metadata": {},
   "source": [
    "#### Scraping Data from Tables\n",
    "\n",
    "The **pandas read_html** function reads the contents of HTML and extracts all tables into a list of **pandas** DataFrames, making web scraping extremely easy!\n",
    "\n",
    "However, the **read_html** function is limited to extracting ONLY data that is contained within *table* tags in the HTML code. If the data you want to scrape is NOT contained in a *table* tag, this method will not work.\n",
    "\n",
    "The **read_html** function requires a parameter specifying the HTML data. This parameter can either be HTML stored as text or the web site address."
   ]
  },
  {
   "cell_type": "code",
   "execution_count": 1,
   "metadata": {},
   "outputs": [
    {
     "name": "stderr",
     "output_type": "stream",
     "text": [
      "/var/folders/dt/31_473f9129gq8009hs6znhh0000gn/T/ipykernel_37757/128016973.py:24: FutureWarning: Passing literal html to 'read_html' is deprecated and will be removed in a future version. To read from a literal string, wrap it in a 'StringIO' object.\n",
      "  dfs = pd.read_html(html)\n"
     ]
    }
   ],
   "source": [
    "import pandas as pd\n",
    "\n",
    "from selenium import webdriver\n",
    "from selenium.webdriver.common.by import By\n",
    "\n",
    "# Set up headless Chrome options\n",
    "options = webdriver.ChromeOptions()\n",
    "options.add_argument('--headless')  # Optional: runs the browser in the background\n",
    "driver = webdriver.Chrome(options=options)\n",
    "\n",
    "# Load the Yahoo Finance Profile page\n",
    "url = \"https://finance.yahoo.com/quote/F/key-statistics?p=F\"\n",
    "driver.get(url)\n",
    "\n",
    "# Wait for the page to load\n",
    "driver.implicitly_wait(5)  # Waits up to 5 seconds \n",
    "\n",
    "# Retrieve HTML\n",
    "html = driver.page_source\n",
    "\n",
    "# Close the browser\n",
    "driver.quit()\n",
    "\n",
    "dfs = pd.read_html(html)"
   ]
  },
  {
   "cell_type": "markdown",
   "metadata": {},
   "source": [
    "Let's print out the DataFrames in our **dfs** list to see what data in our web page is contained in tables."
   ]
  },
  {
   "cell_type": "code",
   "execution_count": 2,
   "metadata": {},
   "outputs": [
    {
     "name": "stdout",
     "output_type": "stream",
     "text": [
      "                 Unnamed: 0  Current 9/30/2024 6/30/2024 3/31/2024 12/31/2023  \\\n",
      "0                Market Cap   42.13B    41.98B    50.06B    52.77B     48.80B   \n",
      "1          Enterprise Value  164.24B   160.31B   167.02B   163.71B    152.22B   \n",
      "2              Trailing P/E    12.05     11.00     12.93     12.30       7.97   \n",
      "3               Forward P/E     6.02      5.33      6.06      7.22       7.05   \n",
      "4  PEG Ratio (5yr expected)     0.88      0.57      0.66      0.78       0.73   \n",
      "5               Price/Sales     0.23      0.24      0.29      0.30       0.28   \n",
      "6                Price/Book     0.95      0.96      1.17      1.23       1.10   \n",
      "7  Enterprise Value/Revenue     0.90      0.89      0.94      0.93       0.87   \n",
      "8   Enterprise Value/EBITDA    15.82     14.36     15.02     13.86      10.28   \n",
      "\n",
      "  9/30/2023  \n",
      "0    49.71B  \n",
      "1   151.74B  \n",
      "2     12.06  \n",
      "3      6.25  \n",
      "4      0.65  \n",
      "5      0.29  \n",
      "6      1.14  \n",
      "7      0.89  \n",
      "8     12.32  \n",
      "\n",
      "\n",
      "----------------------------------------------------------------------------------\n",
      "\n",
      "\n",
      "                                9/30/2023 - 6/1/1972\n",
      "0  Upgrade to begin using 40 years of earnings da...\n",
      "1  Upgrade to begin using 40 years of earnings da...\n",
      "2  Upgrade to begin using 40 years of earnings da...\n",
      "3  Upgrade to begin using 40 years of earnings da...\n",
      "4  Upgrade to begin using 40 years of earnings da...\n",
      "5  Upgrade to begin using 40 years of earnings da...\n",
      "6  Upgrade to begin using 40 years of earnings da...\n",
      "7  Upgrade to begin using 40 years of earnings da...\n",
      "8  Upgrade to begin using 40 years of earnings da...\n",
      "\n",
      "\n",
      "----------------------------------------------------------------------------------\n",
      "\n",
      "\n",
      "                           0           1\n",
      "0           Fiscal Year Ends  12/31/2023\n",
      "1  Most Recent Quarter (mrq)   9/30/2024\n",
      "\n",
      "\n",
      "----------------------------------------------------------------------------------\n",
      "\n",
      "\n",
      "                        0      1\n",
      "0           Profit Margin  1.93%\n",
      "1  Operating Margin (ttm)  2.68%\n",
      "\n",
      "\n",
      "----------------------------------------------------------------------------------\n",
      "\n",
      "\n",
      "                        0      1\n",
      "0  Return on Assets (ttm)  0.75%\n",
      "1  Return on Equity (ttm)  7.99%\n",
      "\n",
      "\n",
      "----------------------------------------------------------------------------------\n",
      "\n",
      "\n",
      "                                 0        1\n",
      "0                    Revenue (ttm)  182.74B\n",
      "1          Revenue Per Share (ttm)    45.87\n",
      "2   Quarterly Revenue Growth (yoy)    5.50%\n",
      "3               Gross Profit (ttm)       --\n",
      "4                           EBITDA    9.36B\n",
      "5   Net Income Avi to Common (ttm)    3.53B\n",
      "6                Diluted EPS (ttm)     0.88\n",
      "7  Quarterly Earnings Growth (yoy)  -25.60%\n",
      "\n",
      "\n",
      "----------------------------------------------------------------------------------\n",
      "\n",
      "\n",
      "                            0        1\n",
      "0            Total Cash (mrq)   27.71B\n",
      "1  Total Cash Per Share (mrq)     6.97\n",
      "2            Total Debt (mrq)  159.34B\n",
      "3     Total Debt/Equity (mrq)  359.36%\n",
      "4         Current Ratio (mrq)     1.15\n",
      "5  Book Value Per Share (mrq)    11.15\n",
      "\n",
      "\n",
      "----------------------------------------------------------------------------------\n",
      "\n",
      "\n",
      "                              0       1\n",
      "0     Operating Cash Flow (ttm)  14.89B\n",
      "1  Levered Free Cash Flow (ttm)   1.99B\n",
      "\n",
      "\n",
      "----------------------------------------------------------------------------------\n",
      "\n",
      "\n",
      "                          0       1\n",
      "0         Beta (5Y Monthly)    1.63\n",
      "1           52 Week Range 3   5.47%\n",
      "2  S&P 500 52-Week Change 3  31.94%\n",
      "3            52 Week High 3   14.85\n",
      "4             52 Week Low 3    9.49\n",
      "5   50-Day Moving Average 3   10.77\n",
      "6  200-Day Moving Average 3   11.84\n",
      "\n",
      "\n",
      "----------------------------------------------------------------------------------\n",
      "\n",
      "\n",
      "                                               0       1\n",
      "0                            Avg Vol (3 month) 3  50.24M\n",
      "1                             Avg Vol (10 day) 3  64.43M\n",
      "2                           Shares Outstanding 5    3.9B\n",
      "3                   Implied Shares Outstanding 6   3.97B\n",
      "4                                        Float 8   3.89B\n",
      "5                           % Held by Insiders 1   0.27%\n",
      "6                       % Held by Institutions 1  58.01%\n",
      "7                    Shares Short (10/15/2024) 4  99.65M\n",
      "8                     Short Ratio (10/15/2024) 4    2.05\n",
      "9                Short % of Float (10/15/2024) 4   2.77%\n",
      "10  Short % of Shares Outstanding (10/15/2024) 4   2.51%\n",
      "11        Shares Short (prior month 9/13/2024) 4  94.96M\n",
      "\n",
      "\n",
      "----------------------------------------------------------------------------------\n",
      "\n",
      "\n",
      "                                  0                1\n",
      "0    Forward Annual Dividend Rate 4              0.6\n",
      "1   Forward Annual Dividend Yield 4            5.66%\n",
      "2   Trailing Annual Dividend Rate 3             0.60\n",
      "3  Trailing Annual Dividend Yield 3            5.66%\n",
      "4   5 Year Average Dividend Yield 4             5.76\n",
      "5                    Payout Ratio 4           68.18%\n",
      "6                   Dividend Date 3        12/2/2024\n",
      "7                Ex-Dividend Date 4        11/7/2024\n",
      "8               Last Split Factor 2  1748175:1000000\n",
      "9                 Last Split Date 3         8/3/2000\n",
      "\n",
      "\n",
      "----------------------------------------------------------------------------------\n",
      "\n",
      "\n"
     ]
    }
   ],
   "source": [
    "for df in dfs:\n",
    "    print(df)\n",
    "    print('\\n\\n----------------------------------------------------------------------------------\\n\\n')"
   ]
  },
  {
   "cell_type": "markdown",
   "metadata": {},
   "source": [
    "Let's say we want to extract only the 5-year monthly Beta, which is contained in the second DataFrame in the **dfs** list."
   ]
  },
  {
   "cell_type": "code",
   "execution_count": 3,
   "metadata": {},
   "outputs": [
    {
     "data": {
      "text/html": [
       "<div>\n",
       "<style scoped>\n",
       "    .dataframe tbody tr th:only-of-type {\n",
       "        vertical-align: middle;\n",
       "    }\n",
       "\n",
       "    .dataframe tbody tr th {\n",
       "        vertical-align: top;\n",
       "    }\n",
       "\n",
       "    .dataframe thead th {\n",
       "        text-align: right;\n",
       "    }\n",
       "</style>\n",
       "<table border=\"1\" class=\"dataframe\">\n",
       "  <thead>\n",
       "    <tr style=\"text-align: right;\">\n",
       "      <th></th>\n",
       "      <th>0</th>\n",
       "      <th>1</th>\n",
       "    </tr>\n",
       "  </thead>\n",
       "  <tbody>\n",
       "    <tr>\n",
       "      <th>0</th>\n",
       "      <td>Beta (5Y Monthly)</td>\n",
       "      <td>1.63</td>\n",
       "    </tr>\n",
       "    <tr>\n",
       "      <th>1</th>\n",
       "      <td>52 Week Range 3</td>\n",
       "      <td>5.47%</td>\n",
       "    </tr>\n",
       "    <tr>\n",
       "      <th>2</th>\n",
       "      <td>S&amp;P 500 52-Week Change 3</td>\n",
       "      <td>31.94%</td>\n",
       "    </tr>\n",
       "    <tr>\n",
       "      <th>3</th>\n",
       "      <td>52 Week High 3</td>\n",
       "      <td>14.85</td>\n",
       "    </tr>\n",
       "    <tr>\n",
       "      <th>4</th>\n",
       "      <td>52 Week Low 3</td>\n",
       "      <td>9.49</td>\n",
       "    </tr>\n",
       "    <tr>\n",
       "      <th>5</th>\n",
       "      <td>50-Day Moving Average 3</td>\n",
       "      <td>10.77</td>\n",
       "    </tr>\n",
       "    <tr>\n",
       "      <th>6</th>\n",
       "      <td>200-Day Moving Average 3</td>\n",
       "      <td>11.84</td>\n",
       "    </tr>\n",
       "  </tbody>\n",
       "</table>\n",
       "</div>"
      ],
      "text/plain": [
       "                          0       1\n",
       "0         Beta (5Y Monthly)    1.63\n",
       "1           52 Week Range 3   5.47%\n",
       "2  S&P 500 52-Week Change 3  31.94%\n",
       "3            52 Week High 3   14.85\n",
       "4             52 Week Low 3    9.49\n",
       "5   50-Day Moving Average 3   10.77\n",
       "6  200-Day Moving Average 3   11.84"
      ]
     },
     "execution_count": 3,
     "metadata": {},
     "output_type": "execute_result"
    }
   ],
   "source": [
    "dfs[8]"
   ]
  },
  {
   "cell_type": "markdown",
   "metadata": {},
   "source": [
    "We can extract information from a DataFrame using the **.iloc[rownum,colnum]** function. The *rownum* and *colnum* are row and column numbers, respectively, and are indexed starting at 0.\n",
    "\n",
    "Beta is contained in first row and second column, so the *rownum* is equal to 0 (i.e., first row), and the *colnum* is equal to 1 (i.e., second column)."
   ]
  },
  {
   "cell_type": "code",
   "execution_count": 4,
   "metadata": {},
   "outputs": [
    {
     "name": "stdout",
     "output_type": "stream",
     "text": [
      "1.63\n"
     ]
    }
   ],
   "source": [
    "beta = dfs[8].iloc[0,1]\n",
    "print(beta)"
   ]
  },
  {
   "cell_type": "markdown",
   "metadata": {},
   "source": [
    "#### Exercise -- Practice Using pandas read_html\n",
    "\n",
    "1. Obtain the 'Trailing Annual Dividend Rate' for Ford listed on Ford's Yahoo Finance Statistics page.\n",
    "2. Obtain the 'Shares Outstanding' for Ford listed on Ford's Yahoo Finance Statistics page.\n",
    "3. Create a function to obtain the 'Trailing Annual Dividend Rate' and the 'Shares Outstanding' for any ticker. Then extract the these items for 'F','AAPL','AMZN', and 'WMT' and save the data to a new pandas DataFrame."
   ]
  },
  {
   "cell_type": "markdown",
   "metadata": {},
   "source": [
    "#### Solution for # 1"
   ]
  },
  {
   "cell_type": "code",
   "execution_count": 5,
   "metadata": {},
   "outputs": [
    {
     "data": {
      "text/html": [
       "<div>\n",
       "<style scoped>\n",
       "    .dataframe tbody tr th:only-of-type {\n",
       "        vertical-align: middle;\n",
       "    }\n",
       "\n",
       "    .dataframe tbody tr th {\n",
       "        vertical-align: top;\n",
       "    }\n",
       "\n",
       "    .dataframe thead th {\n",
       "        text-align: right;\n",
       "    }\n",
       "</style>\n",
       "<table border=\"1\" class=\"dataframe\">\n",
       "  <thead>\n",
       "    <tr style=\"text-align: right;\">\n",
       "      <th></th>\n",
       "      <th>0</th>\n",
       "      <th>1</th>\n",
       "    </tr>\n",
       "  </thead>\n",
       "  <tbody>\n",
       "    <tr>\n",
       "      <th>0</th>\n",
       "      <td>Forward Annual Dividend Rate 4</td>\n",
       "      <td>0.6</td>\n",
       "    </tr>\n",
       "    <tr>\n",
       "      <th>1</th>\n",
       "      <td>Forward Annual Dividend Yield 4</td>\n",
       "      <td>5.66%</td>\n",
       "    </tr>\n",
       "    <tr>\n",
       "      <th>2</th>\n",
       "      <td>Trailing Annual Dividend Rate 3</td>\n",
       "      <td>0.60</td>\n",
       "    </tr>\n",
       "    <tr>\n",
       "      <th>3</th>\n",
       "      <td>Trailing Annual Dividend Yield 3</td>\n",
       "      <td>5.66%</td>\n",
       "    </tr>\n",
       "    <tr>\n",
       "      <th>4</th>\n",
       "      <td>5 Year Average Dividend Yield 4</td>\n",
       "      <td>5.76</td>\n",
       "    </tr>\n",
       "    <tr>\n",
       "      <th>5</th>\n",
       "      <td>Payout Ratio 4</td>\n",
       "      <td>68.18%</td>\n",
       "    </tr>\n",
       "    <tr>\n",
       "      <th>6</th>\n",
       "      <td>Dividend Date 3</td>\n",
       "      <td>12/2/2024</td>\n",
       "    </tr>\n",
       "    <tr>\n",
       "      <th>7</th>\n",
       "      <td>Ex-Dividend Date 4</td>\n",
       "      <td>11/7/2024</td>\n",
       "    </tr>\n",
       "    <tr>\n",
       "      <th>8</th>\n",
       "      <td>Last Split Factor 2</td>\n",
       "      <td>1748175:1000000</td>\n",
       "    </tr>\n",
       "    <tr>\n",
       "      <th>9</th>\n",
       "      <td>Last Split Date 3</td>\n",
       "      <td>8/3/2000</td>\n",
       "    </tr>\n",
       "  </tbody>\n",
       "</table>\n",
       "</div>"
      ],
      "text/plain": [
       "                                  0                1\n",
       "0    Forward Annual Dividend Rate 4              0.6\n",
       "1   Forward Annual Dividend Yield 4            5.66%\n",
       "2   Trailing Annual Dividend Rate 3             0.60\n",
       "3  Trailing Annual Dividend Yield 3            5.66%\n",
       "4   5 Year Average Dividend Yield 4             5.76\n",
       "5                    Payout Ratio 4           68.18%\n",
       "6                   Dividend Date 3        12/2/2024\n",
       "7                Ex-Dividend Date 4        11/7/2024\n",
       "8               Last Split Factor 2  1748175:1000000\n",
       "9                 Last Split Date 3         8/3/2000"
      ]
     },
     "execution_count": 5,
     "metadata": {},
     "output_type": "execute_result"
    }
   ],
   "source": [
    "dfs[10]"
   ]
  },
  {
   "cell_type": "code",
   "execution_count": 6,
   "metadata": {},
   "outputs": [
    {
     "name": "stdout",
     "output_type": "stream",
     "text": [
      "5.66%\n"
     ]
    }
   ],
   "source": [
    "divrate = dfs[10].iloc[3,1]\n",
    "print(divrate)"
   ]
  },
  {
   "cell_type": "code",
   "execution_count": null,
   "metadata": {},
   "outputs": [],
   "source": []
  },
  {
   "cell_type": "code",
   "execution_count": null,
   "metadata": {},
   "outputs": [],
   "source": []
  },
  {
   "cell_type": "markdown",
   "metadata": {},
   "source": [
    "#### Solution for # 2"
   ]
  },
  {
   "cell_type": "code",
   "execution_count": 7,
   "metadata": {},
   "outputs": [
    {
     "data": {
      "text/html": [
       "<div>\n",
       "<style scoped>\n",
       "    .dataframe tbody tr th:only-of-type {\n",
       "        vertical-align: middle;\n",
       "    }\n",
       "\n",
       "    .dataframe tbody tr th {\n",
       "        vertical-align: top;\n",
       "    }\n",
       "\n",
       "    .dataframe thead th {\n",
       "        text-align: right;\n",
       "    }\n",
       "</style>\n",
       "<table border=\"1\" class=\"dataframe\">\n",
       "  <thead>\n",
       "    <tr style=\"text-align: right;\">\n",
       "      <th></th>\n",
       "      <th>0</th>\n",
       "      <th>1</th>\n",
       "    </tr>\n",
       "  </thead>\n",
       "  <tbody>\n",
       "    <tr>\n",
       "      <th>0</th>\n",
       "      <td>Avg Vol (3 month) 3</td>\n",
       "      <td>50.24M</td>\n",
       "    </tr>\n",
       "    <tr>\n",
       "      <th>1</th>\n",
       "      <td>Avg Vol (10 day) 3</td>\n",
       "      <td>64.43M</td>\n",
       "    </tr>\n",
       "    <tr>\n",
       "      <th>2</th>\n",
       "      <td>Shares Outstanding 5</td>\n",
       "      <td>3.9B</td>\n",
       "    </tr>\n",
       "    <tr>\n",
       "      <th>3</th>\n",
       "      <td>Implied Shares Outstanding 6</td>\n",
       "      <td>3.97B</td>\n",
       "    </tr>\n",
       "    <tr>\n",
       "      <th>4</th>\n",
       "      <td>Float 8</td>\n",
       "      <td>3.89B</td>\n",
       "    </tr>\n",
       "    <tr>\n",
       "      <th>5</th>\n",
       "      <td>% Held by Insiders 1</td>\n",
       "      <td>0.27%</td>\n",
       "    </tr>\n",
       "    <tr>\n",
       "      <th>6</th>\n",
       "      <td>% Held by Institutions 1</td>\n",
       "      <td>58.01%</td>\n",
       "    </tr>\n",
       "    <tr>\n",
       "      <th>7</th>\n",
       "      <td>Shares Short (10/15/2024) 4</td>\n",
       "      <td>99.65M</td>\n",
       "    </tr>\n",
       "    <tr>\n",
       "      <th>8</th>\n",
       "      <td>Short Ratio (10/15/2024) 4</td>\n",
       "      <td>2.05</td>\n",
       "    </tr>\n",
       "    <tr>\n",
       "      <th>9</th>\n",
       "      <td>Short % of Float (10/15/2024) 4</td>\n",
       "      <td>2.77%</td>\n",
       "    </tr>\n",
       "    <tr>\n",
       "      <th>10</th>\n",
       "      <td>Short % of Shares Outstanding (10/15/2024) 4</td>\n",
       "      <td>2.51%</td>\n",
       "    </tr>\n",
       "    <tr>\n",
       "      <th>11</th>\n",
       "      <td>Shares Short (prior month 9/13/2024) 4</td>\n",
       "      <td>94.96M</td>\n",
       "    </tr>\n",
       "  </tbody>\n",
       "</table>\n",
       "</div>"
      ],
      "text/plain": [
       "                                               0       1\n",
       "0                            Avg Vol (3 month) 3  50.24M\n",
       "1                             Avg Vol (10 day) 3  64.43M\n",
       "2                           Shares Outstanding 5    3.9B\n",
       "3                   Implied Shares Outstanding 6   3.97B\n",
       "4                                        Float 8   3.89B\n",
       "5                           % Held by Insiders 1   0.27%\n",
       "6                       % Held by Institutions 1  58.01%\n",
       "7                    Shares Short (10/15/2024) 4  99.65M\n",
       "8                     Short Ratio (10/15/2024) 4    2.05\n",
       "9                Short % of Float (10/15/2024) 4   2.77%\n",
       "10  Short % of Shares Outstanding (10/15/2024) 4   2.51%\n",
       "11        Shares Short (prior month 9/13/2024) 4  94.96M"
      ]
     },
     "execution_count": 7,
     "metadata": {},
     "output_type": "execute_result"
    }
   ],
   "source": [
    "dfs[9]"
   ]
  },
  {
   "cell_type": "code",
   "execution_count": 8,
   "metadata": {},
   "outputs": [
    {
     "name": "stdout",
     "output_type": "stream",
     "text": [
      "3.97B\n"
     ]
    }
   ],
   "source": [
    "shrout = dfs[9].iloc[3,1]\n",
    "print(shrout)"
   ]
  },
  {
   "cell_type": "markdown",
   "metadata": {},
   "source": [
    "#### Solution for # 3"
   ]
  },
  {
   "cell_type": "code",
   "execution_count": 9,
   "metadata": {},
   "outputs": [
    {
     "name": "stderr",
     "output_type": "stream",
     "text": [
      "/var/folders/dt/31_473f9129gq8009hs6znhh0000gn/T/ipykernel_37757/3025335071.py:23: FutureWarning: Passing literal html to 'read_html' is deprecated and will be removed in a future version. To read from a literal string, wrap it in a 'StringIO' object.\n",
      "  dfs = pd.read_html(html)\n",
      "/var/folders/dt/31_473f9129gq8009hs6znhh0000gn/T/ipykernel_37757/3025335071.py:23: FutureWarning: Passing literal html to 'read_html' is deprecated and will be removed in a future version. To read from a literal string, wrap it in a 'StringIO' object.\n",
      "  dfs = pd.read_html(html)\n",
      "/var/folders/dt/31_473f9129gq8009hs6znhh0000gn/T/ipykernel_37757/3025335071.py:23: FutureWarning: Passing literal html to 'read_html' is deprecated and will be removed in a future version. To read from a literal string, wrap it in a 'StringIO' object.\n",
      "  dfs = pd.read_html(html)\n"
     ]
    },
    {
     "data": {
      "text/html": [
       "<div>\n",
       "<style scoped>\n",
       "    .dataframe tbody tr th:only-of-type {\n",
       "        vertical-align: middle;\n",
       "    }\n",
       "\n",
       "    .dataframe tbody tr th {\n",
       "        vertical-align: top;\n",
       "    }\n",
       "\n",
       "    .dataframe thead th {\n",
       "        text-align: right;\n",
       "    }\n",
       "</style>\n",
       "<table border=\"1\" class=\"dataframe\">\n",
       "  <thead>\n",
       "    <tr style=\"text-align: right;\">\n",
       "      <th></th>\n",
       "      <th>ticker</th>\n",
       "      <th>divrate</th>\n",
       "      <th>shrout</th>\n",
       "    </tr>\n",
       "  </thead>\n",
       "  <tbody>\n",
       "    <tr>\n",
       "      <th>0</th>\n",
       "      <td>F</td>\n",
       "      <td>5.66%</td>\n",
       "      <td>3.97B</td>\n",
       "    </tr>\n",
       "    <tr>\n",
       "      <th>1</th>\n",
       "      <td>AAPL</td>\n",
       "      <td>0.44%</td>\n",
       "      <td>15.17B</td>\n",
       "    </tr>\n",
       "    <tr>\n",
       "      <th>2</th>\n",
       "      <td>AMZN</td>\n",
       "      <td>0.00%</td>\n",
       "      <td>10.63B</td>\n",
       "    </tr>\n",
       "  </tbody>\n",
       "</table>\n",
       "</div>"
      ],
      "text/plain": [
       "  ticker divrate  shrout\n",
       "0      F   5.66%   3.97B\n",
       "1   AAPL   0.44%  15.17B\n",
       "2   AMZN   0.00%  10.63B"
      ]
     },
     "execution_count": 9,
     "metadata": {},
     "output_type": "execute_result"
    }
   ],
   "source": [
    "import pandas as pd\n",
    "\n",
    "def get_data(ticker):\n",
    "\n",
    "    # Set up headless Chrome options\n",
    "    options = webdriver.ChromeOptions()\n",
    "    options.add_argument('--headless')  # Optional: runs the browser in the background\n",
    "    driver = webdriver.Chrome(options=options)\n",
    "\n",
    "    # Load the Yahoo Finance Profile page\n",
    "    url = 'https://finance.yahoo.com/quote/'+ticker+'/key-statistics?p='+ticker\n",
    "    driver.get(url)\n",
    "\n",
    "    # Wait for the page to load\n",
    "    driver.implicitly_wait(1)  # Waits up to 1 seconds \n",
    "\n",
    "    # Retrieve HTML\n",
    "    html = driver.page_source\n",
    "\n",
    "    # Close the browser\n",
    "    driver.quit()\n",
    "\n",
    "    dfs = pd.read_html(html)\n",
    "    divrate = dfs[10].iloc[3,1]\n",
    "    shrout = dfs[9].iloc[3,1]\n",
    "    return divrate,shrout\n",
    "\n",
    "# List of tickers to obtain\n",
    "tickers = ['F','AAPL','AMZN']\n",
    "\n",
    "# Initalize a new pandas DataFrame\n",
    "df = pd.DataFrame(columns = ['ticker','divrate','shrout'])\n",
    "\n",
    "# Iterate through list of tickers and save mktcap to our df DataFrame\n",
    "for ticker in tickers:\n",
    "    divrate,shrout = get_data(ticker)\n",
    "    df = pd.concat([df, pd.DataFrame({'ticker':[ticker], 'divrate':[divrate], 'shrout':[shrout]})], ignore_index=True)\n",
    "\n",
    "# Print the df DataFrame\n",
    "df"
   ]
  },
  {
   "cell_type": "code",
   "execution_count": null,
   "metadata": {},
   "outputs": [],
   "source": []
  }
 ],
 "metadata": {
  "kernelspec": {
   "display_name": "Python 3 (ipykernel)",
   "language": "python",
   "name": "python3"
  },
  "language_info": {
   "codemirror_mode": {
    "name": "ipython",
    "version": 3
   },
   "file_extension": ".py",
   "mimetype": "text/x-python",
   "name": "python",
   "nbconvert_exporter": "python",
   "pygments_lexer": "ipython3",
   "version": "3.12.7"
  }
 },
 "nbformat": 4,
 "nbformat_minor": 1
}
