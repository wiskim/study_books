{
 "cells": [
  {
   "cell_type": "markdown",
   "id": "1a4468d7",
   "metadata": {},
   "source": [
    "# Midterm Part 1 (Woosoo Kim)"
   ]
  },
  {
   "cell_type": "markdown",
   "id": "e975f499",
   "metadata": {},
   "source": [
    "#### The following materials and tools are allowed: \n",
    "1. Lecture materials\n",
    "2. Laptop\n",
    "\n",
    "#### The following tools/actions are not allowed: \n",
    "1. ChatGPT\n",
    "2. Web engine search\n",
    "3. Communicating with anyone\n",
    "4. Sharing any information about the midterm\n",
    "5. Phones\n",
    "6. All communication apps need to be turned off during the exam"
   ]
  },
  {
   "cell_type": "markdown",
   "id": "75f19595",
   "metadata": {},
   "source": [
    "## Problem 1\n",
    "### In Problem 1, we will implement investment strategies using multiple return signals. "
   ]
  },
  {
   "cell_type": "markdown",
   "id": "6219b641",
   "metadata": {},
   "source": [
    "#### (1 point) \n",
    "\n",
    "#### Bring in the csv file titled `mret.csv`.  Name the Dataframe: `mret`."
   ]
  },
  {
   "cell_type": "code",
   "execution_count": 1,
   "id": "eef652bd",
   "metadata": {},
   "outputs": [],
   "source": [
    "import numpy as numpy\n",
    "import pandas as pd"
   ]
  },
  {
   "cell_type": "code",
   "execution_count": 2,
   "id": "50023bfb",
   "metadata": {},
   "outputs": [
    {
     "data": {
      "text/html": [
       "<div>\n",
       "<style scoped>\n",
       "    .dataframe tbody tr th:only-of-type {\n",
       "        vertical-align: middle;\n",
       "    }\n",
       "\n",
       "    .dataframe tbody tr th {\n",
       "        vertical-align: top;\n",
       "    }\n",
       "\n",
       "    .dataframe thead th {\n",
       "        text-align: right;\n",
       "    }\n",
       "</style>\n",
       "<table border=\"1\" class=\"dataframe\">\n",
       "  <thead>\n",
       "    <tr style=\"text-align: right;\">\n",
       "      <th></th>\n",
       "      <th>permno</th>\n",
       "      <th>year</th>\n",
       "      <th>month</th>\n",
       "      <th>shrcd</th>\n",
       "      <th>exchcd</th>\n",
       "      <th>prc</th>\n",
       "      <th>ret</th>\n",
       "      <th>shrout</th>\n",
       "    </tr>\n",
       "  </thead>\n",
       "  <tbody>\n",
       "    <tr>\n",
       "      <th>0</th>\n",
       "      <td>10000</td>\n",
       "      <td>1986</td>\n",
       "      <td>1</td>\n",
       "      <td>10.0</td>\n",
       "      <td>3.0</td>\n",
       "      <td>4.375000</td>\n",
       "      <td>NaN</td>\n",
       "      <td>3680.0</td>\n",
       "    </tr>\n",
       "    <tr>\n",
       "      <th>1</th>\n",
       "      <td>10000</td>\n",
       "      <td>1986</td>\n",
       "      <td>2</td>\n",
       "      <td>10.0</td>\n",
       "      <td>3.0</td>\n",
       "      <td>3.250000</td>\n",
       "      <td>-0.257143</td>\n",
       "      <td>3680.0</td>\n",
       "    </tr>\n",
       "    <tr>\n",
       "      <th>2</th>\n",
       "      <td>10000</td>\n",
       "      <td>1986</td>\n",
       "      <td>3</td>\n",
       "      <td>10.0</td>\n",
       "      <td>3.0</td>\n",
       "      <td>4.437500</td>\n",
       "      <td>0.365385</td>\n",
       "      <td>3680.0</td>\n",
       "    </tr>\n",
       "    <tr>\n",
       "      <th>3</th>\n",
       "      <td>10000</td>\n",
       "      <td>1986</td>\n",
       "      <td>4</td>\n",
       "      <td>10.0</td>\n",
       "      <td>3.0</td>\n",
       "      <td>4.000000</td>\n",
       "      <td>-0.098592</td>\n",
       "      <td>3793.0</td>\n",
       "    </tr>\n",
       "    <tr>\n",
       "      <th>4</th>\n",
       "      <td>10000</td>\n",
       "      <td>1986</td>\n",
       "      <td>5</td>\n",
       "      <td>10.0</td>\n",
       "      <td>3.0</td>\n",
       "      <td>3.109375</td>\n",
       "      <td>-0.222656</td>\n",
       "      <td>3793.0</td>\n",
       "    </tr>\n",
       "  </tbody>\n",
       "</table>\n",
       "</div>"
      ],
      "text/plain": [
       "   permno  year  month  shrcd  exchcd       prc       ret  shrout\n",
       "0   10000  1986      1   10.0     3.0  4.375000       NaN  3680.0\n",
       "1   10000  1986      2   10.0     3.0  3.250000 -0.257143  3680.0\n",
       "2   10000  1986      3   10.0     3.0  4.437500  0.365385  3680.0\n",
       "3   10000  1986      4   10.0     3.0  4.000000 -0.098592  3793.0\n",
       "4   10000  1986      5   10.0     3.0  3.109375 -0.222656  3793.0"
      ]
     },
     "execution_count": 2,
     "metadata": {},
     "output_type": "execute_result"
    }
   ],
   "source": [
    "mret = pd.read_csv('mret.csv')\n",
    "mret.head()"
   ]
  },
  {
   "cell_type": "code",
   "execution_count": 3,
   "id": "406bf27d",
   "metadata": {},
   "outputs": [
    {
     "name": "stdout",
     "output_type": "stream",
     "text": [
      "<class 'pandas.core.frame.DataFrame'>\n",
      "RangeIndex: 3455713 entries, 0 to 3455712\n",
      "Data columns (total 8 columns):\n",
      " #   Column  Non-Null Count    Dtype  \n",
      "---  ------  --------------    -----  \n",
      " 0   permno  3455713 non-null  int64  \n",
      " 1   year    3455713 non-null  int64  \n",
      " 2   month   3455713 non-null  int64  \n",
      " 3   shrcd   3455713 non-null  float64\n",
      " 4   exchcd  3455713 non-null  float64\n",
      " 5   prc     3377794 non-null  float64\n",
      " 6   ret     3351349 non-null  float64\n",
      " 7   shrout  3451988 non-null  float64\n",
      "dtypes: float64(5), int64(3)\n",
      "memory usage: 210.9 MB\n"
     ]
    }
   ],
   "source": [
    "mret.info(show_counts=True)"
   ]
  },
  {
   "cell_type": "markdown",
   "id": "f7b9a515",
   "metadata": {},
   "source": [
    "#### (1 point) \n",
    "\n",
    "#### Keep observations with `shrcd` of 10 or 11 and `exchcd` of 1, 2, or 3.\n",
    "\n",
    "#### Note that we keep ordinary common shares (shrcd of 10, 11) traded on the NYSE, AMEX, or NASDAQ (exchcd of 1, 2, or 3)."
   ]
  },
  {
   "cell_type": "code",
   "execution_count": 4,
   "id": "d2c7c4a3",
   "metadata": {},
   "outputs": [],
   "source": [
    "mret = mret[(mret['shrcd'].isin([10, 11])) & mret['exchcd'].isin([1, 2, 3])]"
   ]
  },
  {
   "cell_type": "code",
   "execution_count": 5,
   "id": "58dc239e",
   "metadata": {},
   "outputs": [
    {
     "data": {
      "text/plain": [
       "array([10., 11.])"
      ]
     },
     "execution_count": 5,
     "metadata": {},
     "output_type": "execute_result"
    }
   ],
   "source": [
    "mret['shrcd'].unique()"
   ]
  },
  {
   "cell_type": "code",
   "execution_count": 6,
   "id": "f90b5cb0",
   "metadata": {},
   "outputs": [
    {
     "data": {
      "text/plain": [
       "array([3., 2., 1.])"
      ]
     },
     "execution_count": 6,
     "metadata": {},
     "output_type": "execute_result"
    }
   ],
   "source": [
    "mret['exchcd'].unique()"
   ]
  },
  {
   "cell_type": "markdown",
   "id": "dd1c6e1e",
   "metadata": {},
   "source": [
    "#### (1 point) \n",
    "\n",
    "#### Using `.apply`, convert the following:\n",
    " - `permno` to 5-digit text string"
   ]
  },
  {
   "cell_type": "code",
   "execution_count": 7,
   "id": "01a61728",
   "metadata": {},
   "outputs": [
    {
     "name": "stdout",
     "output_type": "stream",
     "text": [
      "<class 'pandas.core.frame.DataFrame'>\n",
      "Index: 2528627 entries, 0 to 3455712\n",
      "Data columns (total 8 columns):\n",
      " #   Column  Non-Null Count    Dtype  \n",
      "---  ------  --------------    -----  \n",
      " 0   permno  2528627 non-null  object \n",
      " 1   year    2528627 non-null  int64  \n",
      " 2   month   2528627 non-null  int64  \n",
      " 3   shrcd   2528627 non-null  float64\n",
      " 4   exchcd  2528627 non-null  float64\n",
      " 5   prc     2505593 non-null  float64\n",
      " 6   ret     2487506 non-null  float64\n",
      " 7   shrout  2525617 non-null  float64\n",
      "dtypes: float64(5), int64(2), object(1)\n",
      "memory usage: 173.6+ MB\n"
     ]
    }
   ],
   "source": [
    "mret['permno'] = mret['permno'].apply('{:0>5}'.format)\n",
    "mret.info(show_counts=True)"
   ]
  },
  {
   "cell_type": "markdown",
   "id": "24429b05",
   "metadata": {},
   "source": [
    "#### (1 point) \n",
    "\n",
    "#### Bring in the csv file titled `signal.csv`.  Name the Dataframe: `signal`."
   ]
  },
  {
   "cell_type": "code",
   "execution_count": 8,
   "id": "b65347db",
   "metadata": {},
   "outputs": [
    {
     "data": {
      "text/html": [
       "<div>\n",
       "<style scoped>\n",
       "    .dataframe tbody tr th:only-of-type {\n",
       "        vertical-align: middle;\n",
       "    }\n",
       "\n",
       "    .dataframe tbody tr th {\n",
       "        vertical-align: top;\n",
       "    }\n",
       "\n",
       "    .dataframe thead th {\n",
       "        text-align: right;\n",
       "    }\n",
       "</style>\n",
       "<table border=\"1\" class=\"dataframe\">\n",
       "  <thead>\n",
       "    <tr style=\"text-align: right;\">\n",
       "      <th></th>\n",
       "      <th>permno</th>\n",
       "      <th>year</th>\n",
       "      <th>month</th>\n",
       "      <th>btm</th>\n",
       "      <th>gprof</th>\n",
       "      <th>atg</th>\n",
       "      <th>pe</th>\n",
       "      <th>momentum</th>\n",
       "      <th>momentum12</th>\n",
       "      <th>seasonality</th>\n",
       "      <th>sir</th>\n",
       "    </tr>\n",
       "  </thead>\n",
       "  <tbody>\n",
       "    <tr>\n",
       "      <th>0</th>\n",
       "      <td>10000</td>\n",
       "      <td>1986</td>\n",
       "      <td>1</td>\n",
       "      <td>NaN</td>\n",
       "      <td>NaN</td>\n",
       "      <td>NaN</td>\n",
       "      <td>NaN</td>\n",
       "      <td>NaN</td>\n",
       "      <td>NaN</td>\n",
       "      <td>NaN</td>\n",
       "      <td>NaN</td>\n",
       "    </tr>\n",
       "    <tr>\n",
       "      <th>1</th>\n",
       "      <td>10000</td>\n",
       "      <td>1986</td>\n",
       "      <td>2</td>\n",
       "      <td>NaN</td>\n",
       "      <td>NaN</td>\n",
       "      <td>NaN</td>\n",
       "      <td>NaN</td>\n",
       "      <td>NaN</td>\n",
       "      <td>NaN</td>\n",
       "      <td>NaN</td>\n",
       "      <td>NaN</td>\n",
       "    </tr>\n",
       "    <tr>\n",
       "      <th>2</th>\n",
       "      <td>10000</td>\n",
       "      <td>1986</td>\n",
       "      <td>3</td>\n",
       "      <td>0.042192</td>\n",
       "      <td>-0.032242</td>\n",
       "      <td>NaN</td>\n",
       "      <td>-0.026393</td>\n",
       "      <td>NaN</td>\n",
       "      <td>NaN</td>\n",
       "      <td>NaN</td>\n",
       "      <td>NaN</td>\n",
       "    </tr>\n",
       "    <tr>\n",
       "      <th>3</th>\n",
       "      <td>10000</td>\n",
       "      <td>1986</td>\n",
       "      <td>4</td>\n",
       "      <td>0.044054</td>\n",
       "      <td>-0.032242</td>\n",
       "      <td>NaN</td>\n",
       "      <td>-0.028408</td>\n",
       "      <td>NaN</td>\n",
       "      <td>NaN</td>\n",
       "      <td>NaN</td>\n",
       "      <td>NaN</td>\n",
       "    </tr>\n",
       "    <tr>\n",
       "      <th>4</th>\n",
       "      <td>10000</td>\n",
       "      <td>1986</td>\n",
       "      <td>5</td>\n",
       "      <td>0.044054</td>\n",
       "      <td>-0.032242</td>\n",
       "      <td>NaN</td>\n",
       "      <td>-0.036544</td>\n",
       "      <td>NaN</td>\n",
       "      <td>NaN</td>\n",
       "      <td>NaN</td>\n",
       "      <td>NaN</td>\n",
       "    </tr>\n",
       "  </tbody>\n",
       "</table>\n",
       "</div>"
      ],
      "text/plain": [
       "   permno  year  month       btm     gprof  atg        pe  momentum  \\\n",
       "0   10000  1986      1       NaN       NaN  NaN       NaN       NaN   \n",
       "1   10000  1986      2       NaN       NaN  NaN       NaN       NaN   \n",
       "2   10000  1986      3  0.042192 -0.032242  NaN -0.026393       NaN   \n",
       "3   10000  1986      4  0.044054 -0.032242  NaN -0.028408       NaN   \n",
       "4   10000  1986      5  0.044054 -0.032242  NaN -0.036544       NaN   \n",
       "\n",
       "   momentum12  seasonality  sir  \n",
       "0         NaN          NaN  NaN  \n",
       "1         NaN          NaN  NaN  \n",
       "2         NaN          NaN  NaN  \n",
       "3         NaN          NaN  NaN  \n",
       "4         NaN          NaN  NaN  "
      ]
     },
     "execution_count": 8,
     "metadata": {},
     "output_type": "execute_result"
    }
   ],
   "source": [
    "signal = pd.read_csv('signal.csv')\n",
    "signal.head()"
   ]
  },
  {
   "cell_type": "code",
   "execution_count": 9,
   "id": "c914b7a6",
   "metadata": {},
   "outputs": [
    {
     "name": "stdout",
     "output_type": "stream",
     "text": [
      "<class 'pandas.core.frame.DataFrame'>\n",
      "RangeIndex: 5122683 entries, 0 to 5122682\n",
      "Data columns (total 11 columns):\n",
      " #   Column       Non-Null Count    Dtype  \n",
      "---  ------       --------------    -----  \n",
      " 0   permno       5122683 non-null  int64  \n",
      " 1   year         5122683 non-null  int64  \n",
      " 2   month        5122683 non-null  int64  \n",
      " 3   btm          2712566 non-null  float64\n",
      " 4   gprof        2766918 non-null  float64\n",
      " 5   atg          2695636 non-null  float64\n",
      " 6   pe           2701814 non-null  float64\n",
      " 7   momentum     3356675 non-null  float64\n",
      " 8   momentum12   3212431 non-null  float64\n",
      " 9   seasonality  2163315 non-null  float64\n",
      " 10  sir          1698537 non-null  float64\n",
      "dtypes: float64(8), int64(3)\n",
      "memory usage: 429.9 MB\n"
     ]
    }
   ],
   "source": [
    "signal.info(show_counts=True)"
   ]
  },
  {
   "cell_type": "markdown",
   "id": "64001904",
   "metadata": {},
   "source": [
    "#### (1 point) \n",
    "\n",
    "#### Using `.apply`, convert the following:\n",
    " - `permno` to 5-digit text string"
   ]
  },
  {
   "cell_type": "code",
   "execution_count": 10,
   "id": "bb1d878f",
   "metadata": {},
   "outputs": [
    {
     "name": "stdout",
     "output_type": "stream",
     "text": [
      "<class 'pandas.core.frame.DataFrame'>\n",
      "RangeIndex: 5122683 entries, 0 to 5122682\n",
      "Data columns (total 11 columns):\n",
      " #   Column       Dtype  \n",
      "---  ------       -----  \n",
      " 0   permno       object \n",
      " 1   year         int64  \n",
      " 2   month        int64  \n",
      " 3   btm          float64\n",
      " 4   gprof        float64\n",
      " 5   atg          float64\n",
      " 6   pe           float64\n",
      " 7   momentum     float64\n",
      " 8   momentum12   float64\n",
      " 9   seasonality  float64\n",
      " 10  sir          float64\n",
      "dtypes: float64(8), int64(2), object(1)\n",
      "memory usage: 429.9+ MB\n"
     ]
    }
   ],
   "source": [
    "signal['permno'] = signal['permno'].apply('{:0>5}'.format)\n",
    "signal.info()"
   ]
  },
  {
   "cell_type": "markdown",
   "id": "d5d1e2c6",
   "metadata": {},
   "source": [
    "#### (1 point) \n",
    "\n",
    "#### Create one-month-lagged variables for `btm`,  `gprof`, `atg`, `pe`, `momentum`, `momentum12`, `seasonality`, `sir`.  \n",
    "\n",
    "#### No need to worry about the difference between dates as there are no 'gaps' between dates. \n",
    "\n",
    "#### Note that we must use lagged variables to form portfolios in order to avoid look-ahead bias."
   ]
  },
  {
   "cell_type": "code",
   "execution_count": 11,
   "id": "81a4622c",
   "metadata": {},
   "outputs": [
    {
     "data": {
      "text/html": [
       "<div>\n",
       "<style scoped>\n",
       "    .dataframe tbody tr th:only-of-type {\n",
       "        vertical-align: middle;\n",
       "    }\n",
       "\n",
       "    .dataframe tbody tr th {\n",
       "        vertical-align: top;\n",
       "    }\n",
       "\n",
       "    .dataframe thead th {\n",
       "        text-align: right;\n",
       "    }\n",
       "</style>\n",
       "<table border=\"1\" class=\"dataframe\">\n",
       "  <thead>\n",
       "    <tr style=\"text-align: right;\">\n",
       "      <th></th>\n",
       "      <th>permno</th>\n",
       "      <th>year</th>\n",
       "      <th>month</th>\n",
       "      <th>btm</th>\n",
       "      <th>gprof</th>\n",
       "      <th>atg</th>\n",
       "      <th>pe</th>\n",
       "      <th>momentum</th>\n",
       "      <th>momentum12</th>\n",
       "      <th>seasonality</th>\n",
       "      <th>sir</th>\n",
       "      <th>btm_lag1</th>\n",
       "      <th>gprof_lag1</th>\n",
       "      <th>atg_lag1</th>\n",
       "      <th>pe_lag1</th>\n",
       "      <th>momentum_lag1</th>\n",
       "      <th>momentum12_lag1</th>\n",
       "      <th>seasonality_lag1</th>\n",
       "      <th>sir_lag1</th>\n",
       "    </tr>\n",
       "  </thead>\n",
       "  <tbody>\n",
       "    <tr>\n",
       "      <th>0</th>\n",
       "      <td>10000</td>\n",
       "      <td>1986</td>\n",
       "      <td>1</td>\n",
       "      <td>NaN</td>\n",
       "      <td>NaN</td>\n",
       "      <td>NaN</td>\n",
       "      <td>NaN</td>\n",
       "      <td>NaN</td>\n",
       "      <td>NaN</td>\n",
       "      <td>NaN</td>\n",
       "      <td>NaN</td>\n",
       "      <td>NaN</td>\n",
       "      <td>NaN</td>\n",
       "      <td>NaN</td>\n",
       "      <td>NaN</td>\n",
       "      <td>NaN</td>\n",
       "      <td>NaN</td>\n",
       "      <td>NaN</td>\n",
       "      <td>NaN</td>\n",
       "    </tr>\n",
       "    <tr>\n",
       "      <th>1</th>\n",
       "      <td>10000</td>\n",
       "      <td>1986</td>\n",
       "      <td>2</td>\n",
       "      <td>NaN</td>\n",
       "      <td>NaN</td>\n",
       "      <td>NaN</td>\n",
       "      <td>NaN</td>\n",
       "      <td>NaN</td>\n",
       "      <td>NaN</td>\n",
       "      <td>NaN</td>\n",
       "      <td>NaN</td>\n",
       "      <td>NaN</td>\n",
       "      <td>NaN</td>\n",
       "      <td>NaN</td>\n",
       "      <td>NaN</td>\n",
       "      <td>NaN</td>\n",
       "      <td>NaN</td>\n",
       "      <td>NaN</td>\n",
       "      <td>NaN</td>\n",
       "    </tr>\n",
       "    <tr>\n",
       "      <th>2</th>\n",
       "      <td>10000</td>\n",
       "      <td>1986</td>\n",
       "      <td>3</td>\n",
       "      <td>0.042192</td>\n",
       "      <td>-0.032242</td>\n",
       "      <td>NaN</td>\n",
       "      <td>-0.026393</td>\n",
       "      <td>NaN</td>\n",
       "      <td>NaN</td>\n",
       "      <td>NaN</td>\n",
       "      <td>NaN</td>\n",
       "      <td>NaN</td>\n",
       "      <td>NaN</td>\n",
       "      <td>NaN</td>\n",
       "      <td>NaN</td>\n",
       "      <td>NaN</td>\n",
       "      <td>NaN</td>\n",
       "      <td>NaN</td>\n",
       "      <td>NaN</td>\n",
       "    </tr>\n",
       "    <tr>\n",
       "      <th>3</th>\n",
       "      <td>10000</td>\n",
       "      <td>1986</td>\n",
       "      <td>4</td>\n",
       "      <td>0.044054</td>\n",
       "      <td>-0.032242</td>\n",
       "      <td>NaN</td>\n",
       "      <td>-0.028408</td>\n",
       "      <td>NaN</td>\n",
       "      <td>NaN</td>\n",
       "      <td>NaN</td>\n",
       "      <td>NaN</td>\n",
       "      <td>0.042192</td>\n",
       "      <td>-0.032242</td>\n",
       "      <td>NaN</td>\n",
       "      <td>-0.026393</td>\n",
       "      <td>NaN</td>\n",
       "      <td>NaN</td>\n",
       "      <td>NaN</td>\n",
       "      <td>NaN</td>\n",
       "    </tr>\n",
       "    <tr>\n",
       "      <th>4</th>\n",
       "      <td>10000</td>\n",
       "      <td>1986</td>\n",
       "      <td>5</td>\n",
       "      <td>0.044054</td>\n",
       "      <td>-0.032242</td>\n",
       "      <td>NaN</td>\n",
       "      <td>-0.036544</td>\n",
       "      <td>NaN</td>\n",
       "      <td>NaN</td>\n",
       "      <td>NaN</td>\n",
       "      <td>NaN</td>\n",
       "      <td>0.044054</td>\n",
       "      <td>-0.032242</td>\n",
       "      <td>NaN</td>\n",
       "      <td>-0.028408</td>\n",
       "      <td>NaN</td>\n",
       "      <td>NaN</td>\n",
       "      <td>NaN</td>\n",
       "      <td>NaN</td>\n",
       "    </tr>\n",
       "  </tbody>\n",
       "</table>\n",
       "</div>"
      ],
      "text/plain": [
       "  permno  year  month       btm     gprof  atg        pe  momentum  \\\n",
       "0  10000  1986      1       NaN       NaN  NaN       NaN       NaN   \n",
       "1  10000  1986      2       NaN       NaN  NaN       NaN       NaN   \n",
       "2  10000  1986      3  0.042192 -0.032242  NaN -0.026393       NaN   \n",
       "3  10000  1986      4  0.044054 -0.032242  NaN -0.028408       NaN   \n",
       "4  10000  1986      5  0.044054 -0.032242  NaN -0.036544       NaN   \n",
       "\n",
       "   momentum12  seasonality  sir  btm_lag1  gprof_lag1  atg_lag1   pe_lag1  \\\n",
       "0         NaN          NaN  NaN       NaN         NaN       NaN       NaN   \n",
       "1         NaN          NaN  NaN       NaN         NaN       NaN       NaN   \n",
       "2         NaN          NaN  NaN       NaN         NaN       NaN       NaN   \n",
       "3         NaN          NaN  NaN  0.042192   -0.032242       NaN -0.026393   \n",
       "4         NaN          NaN  NaN  0.044054   -0.032242       NaN -0.028408   \n",
       "\n",
       "   momentum_lag1  momentum12_lag1  seasonality_lag1  sir_lag1  \n",
       "0            NaN              NaN               NaN       NaN  \n",
       "1            NaN              NaN               NaN       NaN  \n",
       "2            NaN              NaN               NaN       NaN  \n",
       "3            NaN              NaN               NaN       NaN  \n",
       "4            NaN              NaN               NaN       NaN  "
      ]
     },
     "execution_count": 11,
     "metadata": {},
     "output_type": "execute_result"
    }
   ],
   "source": [
    "col_list = ['btm',  'gprof', 'atg', 'pe', 'momentum', 'momentum12', 'seasonality', 'sir']\n",
    "\n",
    "for col in col_list:\n",
    "    signal[col+'_lag1'] = signal.groupby('permno')[col].shift(1)\n",
    "\n",
    "signal.head()"
   ]
  },
  {
   "cell_type": "markdown",
   "id": "d9f0c2c3",
   "metadata": {},
   "source": [
    "#### (2 points) \n",
    "\n",
    "#### Merge `mret` together with `signal`.  Name the resulting DataFrame, `merged`. \n",
    "\n",
    "#### Criteria:\n",
    " - left join (mret is the left dataframe)\n",
    " - bring only lagged variables from `signal`"
   ]
  },
  {
   "cell_type": "code",
   "execution_count": 12,
   "id": "be84fd1e",
   "metadata": {},
   "outputs": [
    {
     "data": {
      "text/html": [
       "<div>\n",
       "<style scoped>\n",
       "    .dataframe tbody tr th:only-of-type {\n",
       "        vertical-align: middle;\n",
       "    }\n",
       "\n",
       "    .dataframe tbody tr th {\n",
       "        vertical-align: top;\n",
       "    }\n",
       "\n",
       "    .dataframe thead th {\n",
       "        text-align: right;\n",
       "    }\n",
       "</style>\n",
       "<table border=\"1\" class=\"dataframe\">\n",
       "  <thead>\n",
       "    <tr style=\"text-align: right;\">\n",
       "      <th></th>\n",
       "      <th>permno</th>\n",
       "      <th>year</th>\n",
       "      <th>month</th>\n",
       "      <th>shrcd</th>\n",
       "      <th>exchcd</th>\n",
       "      <th>prc</th>\n",
       "      <th>ret</th>\n",
       "      <th>shrout</th>\n",
       "      <th>btm_lag1</th>\n",
       "      <th>gprof_lag1</th>\n",
       "      <th>atg_lag1</th>\n",
       "      <th>pe_lag1</th>\n",
       "      <th>momentum_lag1</th>\n",
       "      <th>momentum12_lag1</th>\n",
       "      <th>seasonality_lag1</th>\n",
       "      <th>sir_lag1</th>\n",
       "    </tr>\n",
       "  </thead>\n",
       "  <tbody>\n",
       "    <tr>\n",
       "      <th>0</th>\n",
       "      <td>10000</td>\n",
       "      <td>1986</td>\n",
       "      <td>1</td>\n",
       "      <td>10.0</td>\n",
       "      <td>3.0</td>\n",
       "      <td>4.375000</td>\n",
       "      <td>NaN</td>\n",
       "      <td>3680.0</td>\n",
       "      <td>NaN</td>\n",
       "      <td>NaN</td>\n",
       "      <td>NaN</td>\n",
       "      <td>NaN</td>\n",
       "      <td>NaN</td>\n",
       "      <td>NaN</td>\n",
       "      <td>NaN</td>\n",
       "      <td>NaN</td>\n",
       "    </tr>\n",
       "    <tr>\n",
       "      <th>1</th>\n",
       "      <td>10000</td>\n",
       "      <td>1986</td>\n",
       "      <td>2</td>\n",
       "      <td>10.0</td>\n",
       "      <td>3.0</td>\n",
       "      <td>3.250000</td>\n",
       "      <td>-0.257143</td>\n",
       "      <td>3680.0</td>\n",
       "      <td>NaN</td>\n",
       "      <td>NaN</td>\n",
       "      <td>NaN</td>\n",
       "      <td>NaN</td>\n",
       "      <td>NaN</td>\n",
       "      <td>NaN</td>\n",
       "      <td>NaN</td>\n",
       "      <td>NaN</td>\n",
       "    </tr>\n",
       "    <tr>\n",
       "      <th>2</th>\n",
       "      <td>10000</td>\n",
       "      <td>1986</td>\n",
       "      <td>3</td>\n",
       "      <td>10.0</td>\n",
       "      <td>3.0</td>\n",
       "      <td>4.437500</td>\n",
       "      <td>0.365385</td>\n",
       "      <td>3680.0</td>\n",
       "      <td>NaN</td>\n",
       "      <td>NaN</td>\n",
       "      <td>NaN</td>\n",
       "      <td>NaN</td>\n",
       "      <td>NaN</td>\n",
       "      <td>NaN</td>\n",
       "      <td>NaN</td>\n",
       "      <td>NaN</td>\n",
       "    </tr>\n",
       "    <tr>\n",
       "      <th>3</th>\n",
       "      <td>10000</td>\n",
       "      <td>1986</td>\n",
       "      <td>4</td>\n",
       "      <td>10.0</td>\n",
       "      <td>3.0</td>\n",
       "      <td>4.000000</td>\n",
       "      <td>-0.098592</td>\n",
       "      <td>3793.0</td>\n",
       "      <td>0.042192</td>\n",
       "      <td>-0.032242</td>\n",
       "      <td>NaN</td>\n",
       "      <td>-0.026393</td>\n",
       "      <td>NaN</td>\n",
       "      <td>NaN</td>\n",
       "      <td>NaN</td>\n",
       "      <td>NaN</td>\n",
       "    </tr>\n",
       "    <tr>\n",
       "      <th>4</th>\n",
       "      <td>10000</td>\n",
       "      <td>1986</td>\n",
       "      <td>5</td>\n",
       "      <td>10.0</td>\n",
       "      <td>3.0</td>\n",
       "      <td>3.109375</td>\n",
       "      <td>-0.222656</td>\n",
       "      <td>3793.0</td>\n",
       "      <td>0.044054</td>\n",
       "      <td>-0.032242</td>\n",
       "      <td>NaN</td>\n",
       "      <td>-0.028408</td>\n",
       "      <td>NaN</td>\n",
       "      <td>NaN</td>\n",
       "      <td>NaN</td>\n",
       "      <td>NaN</td>\n",
       "    </tr>\n",
       "  </tbody>\n",
       "</table>\n",
       "</div>"
      ],
      "text/plain": [
       "  permno  year  month  shrcd  exchcd       prc       ret  shrout  btm_lag1  \\\n",
       "0  10000  1986      1   10.0     3.0  4.375000       NaN  3680.0       NaN   \n",
       "1  10000  1986      2   10.0     3.0  3.250000 -0.257143  3680.0       NaN   \n",
       "2  10000  1986      3   10.0     3.0  4.437500  0.365385  3680.0       NaN   \n",
       "3  10000  1986      4   10.0     3.0  4.000000 -0.098592  3793.0  0.042192   \n",
       "4  10000  1986      5   10.0     3.0  3.109375 -0.222656  3793.0  0.044054   \n",
       "\n",
       "   gprof_lag1  atg_lag1   pe_lag1  momentum_lag1  momentum12_lag1  \\\n",
       "0         NaN       NaN       NaN            NaN              NaN   \n",
       "1         NaN       NaN       NaN            NaN              NaN   \n",
       "2         NaN       NaN       NaN            NaN              NaN   \n",
       "3   -0.032242       NaN -0.026393            NaN              NaN   \n",
       "4   -0.032242       NaN -0.028408            NaN              NaN   \n",
       "\n",
       "   seasonality_lag1  sir_lag1  \n",
       "0               NaN       NaN  \n",
       "1               NaN       NaN  \n",
       "2               NaN       NaN  \n",
       "3               NaN       NaN  \n",
       "4               NaN       NaN  "
      ]
     },
     "execution_count": 12,
     "metadata": {},
     "output_type": "execute_result"
    }
   ],
   "source": [
    "merged = pd.merge(\n",
    "    mret, \n",
    "    signal[['permno', 'year', 'month', 'btm_lag1', 'gprof_lag1', 'atg_lag1', 'pe_lag1', \n",
    "           'momentum_lag1', 'momentum12_lag1', 'seasonality_lag1', 'sir_lag1']],\n",
    "    how='left',\n",
    "    on=['permno', 'year', 'month']\n",
    "    )\n",
    "\n",
    "merged.head()"
   ]
  },
  {
   "cell_type": "code",
   "execution_count": 13,
   "id": "65c59e2a",
   "metadata": {},
   "outputs": [
    {
     "name": "stdout",
     "output_type": "stream",
     "text": [
      "<class 'pandas.core.frame.DataFrame'>\n",
      "RangeIndex: 2528627 entries, 0 to 2528626\n",
      "Data columns (total 16 columns):\n",
      " #   Column            Non-Null Count    Dtype  \n",
      "---  ------            --------------    -----  \n",
      " 0   permno            2528627 non-null  object \n",
      " 1   year              2528627 non-null  int64  \n",
      " 2   month             2528627 non-null  int64  \n",
      " 3   shrcd             2528627 non-null  float64\n",
      " 4   exchcd            2528627 non-null  float64\n",
      " 5   prc               2505593 non-null  float64\n",
      " 6   ret               2487506 non-null  float64\n",
      " 7   shrout            2525617 non-null  float64\n",
      " 8   btm_lag1          2259978 non-null  float64\n",
      " 9   gprof_lag1        2309494 non-null  float64\n",
      " 10  atg_lag1          2247616 non-null  float64\n",
      " 11  pe_lag1           2296463 non-null  float64\n",
      " 12  momentum_lag1     2420242 non-null  float64\n",
      " 13  momentum12_lag1   2320970 non-null  float64\n",
      " 14  seasonality_lag1  1626909 non-null  float64\n",
      " 15  sir_lag1          1220587 non-null  float64\n",
      "dtypes: float64(13), int64(2), object(1)\n",
      "memory usage: 308.7+ MB\n"
     ]
    }
   ],
   "source": [
    "merged.info(show_counts=True)"
   ]
  },
  {
   "cell_type": "markdown",
   "id": "785425c5",
   "metadata": {},
   "source": [
    "#### (5 points) \n",
    "\n",
    "#### For each lagged variable, rank it into quintiles within each month."
   ]
  },
  {
   "cell_type": "code",
   "execution_count": 14,
   "id": "68f4b48c",
   "metadata": {},
   "outputs": [
    {
     "data": {
      "text/html": [
       "<div>\n",
       "<style scoped>\n",
       "    .dataframe tbody tr th:only-of-type {\n",
       "        vertical-align: middle;\n",
       "    }\n",
       "\n",
       "    .dataframe tbody tr th {\n",
       "        vertical-align: top;\n",
       "    }\n",
       "\n",
       "    .dataframe thead th {\n",
       "        text-align: right;\n",
       "    }\n",
       "</style>\n",
       "<table border=\"1\" class=\"dataframe\">\n",
       "  <thead>\n",
       "    <tr style=\"text-align: right;\">\n",
       "      <th></th>\n",
       "      <th>permno</th>\n",
       "      <th>year</th>\n",
       "      <th>month</th>\n",
       "      <th>shrcd</th>\n",
       "      <th>exchcd</th>\n",
       "      <th>prc</th>\n",
       "      <th>ret</th>\n",
       "      <th>shrout</th>\n",
       "      <th>btm_lag1</th>\n",
       "      <th>gprof_lag1</th>\n",
       "      <th>...</th>\n",
       "      <th>seasonality_lag1</th>\n",
       "      <th>sir_lag1</th>\n",
       "      <th>btm_lag1_rank</th>\n",
       "      <th>gprof_lag1_rank</th>\n",
       "      <th>atg_lag1_rank</th>\n",
       "      <th>pe_lag1_rank</th>\n",
       "      <th>momentum_lag1_rank</th>\n",
       "      <th>momentum12_lag1_rank</th>\n",
       "      <th>seasonality_lag1_rank</th>\n",
       "      <th>sir_lag1_rank</th>\n",
       "    </tr>\n",
       "  </thead>\n",
       "  <tbody>\n",
       "    <tr>\n",
       "      <th>0</th>\n",
       "      <td>10000</td>\n",
       "      <td>1986</td>\n",
       "      <td>1</td>\n",
       "      <td>10.0</td>\n",
       "      <td>3.0</td>\n",
       "      <td>4.375000</td>\n",
       "      <td>NaN</td>\n",
       "      <td>3680.0</td>\n",
       "      <td>NaN</td>\n",
       "      <td>NaN</td>\n",
       "      <td>...</td>\n",
       "      <td>NaN</td>\n",
       "      <td>NaN</td>\n",
       "      <td>NaN</td>\n",
       "      <td>NaN</td>\n",
       "      <td>NaN</td>\n",
       "      <td>NaN</td>\n",
       "      <td>NaN</td>\n",
       "      <td>NaN</td>\n",
       "      <td>NaN</td>\n",
       "      <td>NaN</td>\n",
       "    </tr>\n",
       "    <tr>\n",
       "      <th>1</th>\n",
       "      <td>10000</td>\n",
       "      <td>1986</td>\n",
       "      <td>2</td>\n",
       "      <td>10.0</td>\n",
       "      <td>3.0</td>\n",
       "      <td>3.250000</td>\n",
       "      <td>-0.257143</td>\n",
       "      <td>3680.0</td>\n",
       "      <td>NaN</td>\n",
       "      <td>NaN</td>\n",
       "      <td>...</td>\n",
       "      <td>NaN</td>\n",
       "      <td>NaN</td>\n",
       "      <td>NaN</td>\n",
       "      <td>NaN</td>\n",
       "      <td>NaN</td>\n",
       "      <td>NaN</td>\n",
       "      <td>NaN</td>\n",
       "      <td>NaN</td>\n",
       "      <td>NaN</td>\n",
       "      <td>NaN</td>\n",
       "    </tr>\n",
       "    <tr>\n",
       "      <th>2</th>\n",
       "      <td>10000</td>\n",
       "      <td>1986</td>\n",
       "      <td>3</td>\n",
       "      <td>10.0</td>\n",
       "      <td>3.0</td>\n",
       "      <td>4.437500</td>\n",
       "      <td>0.365385</td>\n",
       "      <td>3680.0</td>\n",
       "      <td>NaN</td>\n",
       "      <td>NaN</td>\n",
       "      <td>...</td>\n",
       "      <td>NaN</td>\n",
       "      <td>NaN</td>\n",
       "      <td>NaN</td>\n",
       "      <td>NaN</td>\n",
       "      <td>NaN</td>\n",
       "      <td>NaN</td>\n",
       "      <td>NaN</td>\n",
       "      <td>NaN</td>\n",
       "      <td>NaN</td>\n",
       "      <td>NaN</td>\n",
       "    </tr>\n",
       "    <tr>\n",
       "      <th>3</th>\n",
       "      <td>10000</td>\n",
       "      <td>1986</td>\n",
       "      <td>4</td>\n",
       "      <td>10.0</td>\n",
       "      <td>3.0</td>\n",
       "      <td>4.000000</td>\n",
       "      <td>-0.098592</td>\n",
       "      <td>3793.0</td>\n",
       "      <td>0.042192</td>\n",
       "      <td>-0.032242</td>\n",
       "      <td>...</td>\n",
       "      <td>NaN</td>\n",
       "      <td>NaN</td>\n",
       "      <td>1.0</td>\n",
       "      <td>1.0</td>\n",
       "      <td>NaN</td>\n",
       "      <td>1.0</td>\n",
       "      <td>NaN</td>\n",
       "      <td>NaN</td>\n",
       "      <td>NaN</td>\n",
       "      <td>NaN</td>\n",
       "    </tr>\n",
       "    <tr>\n",
       "      <th>4</th>\n",
       "      <td>10000</td>\n",
       "      <td>1986</td>\n",
       "      <td>5</td>\n",
       "      <td>10.0</td>\n",
       "      <td>3.0</td>\n",
       "      <td>3.109375</td>\n",
       "      <td>-0.222656</td>\n",
       "      <td>3793.0</td>\n",
       "      <td>0.044054</td>\n",
       "      <td>-0.032242</td>\n",
       "      <td>...</td>\n",
       "      <td>NaN</td>\n",
       "      <td>NaN</td>\n",
       "      <td>1.0</td>\n",
       "      <td>1.0</td>\n",
       "      <td>NaN</td>\n",
       "      <td>1.0</td>\n",
       "      <td>NaN</td>\n",
       "      <td>NaN</td>\n",
       "      <td>NaN</td>\n",
       "      <td>NaN</td>\n",
       "    </tr>\n",
       "  </tbody>\n",
       "</table>\n",
       "<p>5 rows × 24 columns</p>\n",
       "</div>"
      ],
      "text/plain": [
       "  permno  year  month  shrcd  exchcd       prc       ret  shrout  btm_lag1  \\\n",
       "0  10000  1986      1   10.0     3.0  4.375000       NaN  3680.0       NaN   \n",
       "1  10000  1986      2   10.0     3.0  3.250000 -0.257143  3680.0       NaN   \n",
       "2  10000  1986      3   10.0     3.0  4.437500  0.365385  3680.0       NaN   \n",
       "3  10000  1986      4   10.0     3.0  4.000000 -0.098592  3793.0  0.042192   \n",
       "4  10000  1986      5   10.0     3.0  3.109375 -0.222656  3793.0  0.044054   \n",
       "\n",
       "   gprof_lag1  ...  seasonality_lag1  sir_lag1  btm_lag1_rank  \\\n",
       "0         NaN  ...               NaN       NaN            NaN   \n",
       "1         NaN  ...               NaN       NaN            NaN   \n",
       "2         NaN  ...               NaN       NaN            NaN   \n",
       "3   -0.032242  ...               NaN       NaN            1.0   \n",
       "4   -0.032242  ...               NaN       NaN            1.0   \n",
       "\n",
       "   gprof_lag1_rank  atg_lag1_rank  pe_lag1_rank  momentum_lag1_rank  \\\n",
       "0              NaN            NaN           NaN                 NaN   \n",
       "1              NaN            NaN           NaN                 NaN   \n",
       "2              NaN            NaN           NaN                 NaN   \n",
       "3              1.0            NaN           1.0                 NaN   \n",
       "4              1.0            NaN           1.0                 NaN   \n",
       "\n",
       "   momentum12_lag1_rank  seasonality_lag1_rank  sir_lag1_rank  \n",
       "0                   NaN                    NaN            NaN  \n",
       "1                   NaN                    NaN            NaN  \n",
       "2                   NaN                    NaN            NaN  \n",
       "3                   NaN                    NaN            NaN  \n",
       "4                   NaN                    NaN            NaN  \n",
       "\n",
       "[5 rows x 24 columns]"
      ]
     },
     "execution_count": 14,
     "metadata": {},
     "output_type": "execute_result"
    }
   ],
   "source": [
    "col_list = ['btm',  'gprof', 'atg', 'pe', 'momentum', 'momentum12', 'seasonality', 'sir']\n",
    "\n",
    "for col in col_list:\n",
    "    merged[col+'_lag1_rank'] = merged.groupby(['year', 'month'])[col+'_lag1'].transform(lambda x: pd.qcut(x, 5, labels=False)+1)\n",
    "\n",
    "merged.head()"
   ]
  },
  {
   "cell_type": "markdown",
   "id": "bec5946f",
   "metadata": {},
   "source": [
    "#### (5 points) \n",
    "\n",
    "#### Construct 5 portfolios based on the quantiles of each lagged variable. \n",
    "\n",
    "#### In other words, calculate the average returns of all firms corresponding to each quintile in each month.\n",
    "\n",
    "#### Note that each portfolio should have 480 monthly return observations from January 1980 to December 2019.\n",
    "\n",
    "#### Note that you should construct 5 portfolios for each lagged variable constructed in the previous question. \n",
    "\n",
    "#### In other words, you should end up having 5 $\\times$ 7 $=$ 35 portfolios."
   ]
  },
  {
   "cell_type": "code",
   "execution_count": null,
   "id": "3d08fb06",
   "metadata": {},
   "outputs": [
    {
     "data": {
      "text/html": [
       "<div>\n",
       "<style scoped>\n",
       "    .dataframe tbody tr th:only-of-type {\n",
       "        vertical-align: middle;\n",
       "    }\n",
       "\n",
       "    .dataframe tbody tr th {\n",
       "        vertical-align: top;\n",
       "    }\n",
       "\n",
       "    .dataframe thead th {\n",
       "        text-align: right;\n",
       "    }\n",
       "</style>\n",
       "<table border=\"1\" class=\"dataframe\">\n",
       "  <thead>\n",
       "    <tr style=\"text-align: right;\">\n",
       "      <th></th>\n",
       "      <th>year</th>\n",
       "      <th>month</th>\n",
       "      <th>ret</th>\n",
       "      <th>signal</th>\n",
       "      <th>rank</th>\n",
       "    </tr>\n",
       "  </thead>\n",
       "  <tbody>\n",
       "    <tr>\n",
       "      <th>0</th>\n",
       "      <td>1980</td>\n",
       "      <td>1</td>\n",
       "      <td>0.142807</td>\n",
       "      <td>btm</td>\n",
       "      <td>1</td>\n",
       "    </tr>\n",
       "    <tr>\n",
       "      <th>1</th>\n",
       "      <td>1980</td>\n",
       "      <td>2</td>\n",
       "      <td>0.026293</td>\n",
       "      <td>btm</td>\n",
       "      <td>1</td>\n",
       "    </tr>\n",
       "    <tr>\n",
       "      <th>2</th>\n",
       "      <td>1980</td>\n",
       "      <td>3</td>\n",
       "      <td>-0.220382</td>\n",
       "      <td>btm</td>\n",
       "      <td>1</td>\n",
       "    </tr>\n",
       "    <tr>\n",
       "      <th>3</th>\n",
       "      <td>1980</td>\n",
       "      <td>4</td>\n",
       "      <td>0.060936</td>\n",
       "      <td>btm</td>\n",
       "      <td>1</td>\n",
       "    </tr>\n",
       "    <tr>\n",
       "      <th>4</th>\n",
       "      <td>1980</td>\n",
       "      <td>5</td>\n",
       "      <td>0.069421</td>\n",
       "      <td>btm</td>\n",
       "      <td>1</td>\n",
       "    </tr>\n",
       "  </tbody>\n",
       "</table>\n",
       "</div>"
      ],
      "text/plain": [
       "   year  month       ret signal  rank\n",
       "0  1980      1  0.142807    btm     1\n",
       "1  1980      2  0.026293    btm     1\n",
       "2  1980      3 -0.220382    btm     1\n",
       "3  1980      4  0.060936    btm     1\n",
       "4  1980      5  0.069421    btm     1"
      ]
     },
     "execution_count": 15,
     "metadata": {},
     "output_type": "execute_result"
    }
   ],
   "source": [
    "col_list = ['btm',  'gprof', 'atg', 'pe', 'momentum', 'momentum12', 'seasonality', 'sir']\n",
    "\n",
    "dfs = []\n",
    "\n",
    "for col in col_list:\n",
    "    for rank in [1, 2, 3, 4, 5]:\n",
    "        df = merged[merged[col+'_lag1_rank']==rank].groupby(['year', 'month'], as_index=False)['ret'].mean()\n",
    "        df['signal'] = col\n",
    "        df['rank'] = rank\n",
    "        dfs.append(df)\n",
    "\n",
    "result = pd.concat(dfs, axis=0, ignore_index=True)\n",
    "\n",
    "result.head()"
   ]
  },
  {
   "cell_type": "code",
   "execution_count": null,
   "id": "8ef69ad7",
   "metadata": {},
   "outputs": [
    {
     "name": "stdout",
     "output_type": "stream",
     "text": [
      "<class 'pandas.core.frame.DataFrame'>\n",
      "RangeIndex: 19200 entries, 0 to 19199\n",
      "Data columns (total 5 columns):\n",
      " #   Column  Non-Null Count  Dtype  \n",
      "---  ------  --------------  -----  \n",
      " 0   year    19200 non-null  int64  \n",
      " 1   month   19200 non-null  int64  \n",
      " 2   ret     19200 non-null  float64\n",
      " 3   signal  19200 non-null  object \n",
      " 4   rank    19200 non-null  int64  \n",
      "dtypes: float64(1), int64(3), object(1)\n",
      "memory usage: 750.1+ KB\n"
     ]
    }
   ],
   "source": [
    "# The number of monthly return data is 480 * 5 * 8 = 19,200\n",
    "result.info()"
   ]
  },
  {
   "cell_type": "markdown",
   "id": "3eea5d17",
   "metadata": {},
   "source": [
    "#### (1 point) \n",
    "\n",
    "#### Show the average return (from January 1980 to December 2019) of 5 potfolios formed by `btm_lag1`. \n",
    "\n",
    "#### What is the difference between the returns of the highest quintile portfolio and the lowest quintile portfolio?"
   ]
  },
  {
   "cell_type": "code",
   "execution_count": 17,
   "id": "bf61b1c3",
   "metadata": {},
   "outputs": [
    {
     "data": {
      "text/plain": [
       "rank\n",
       "1    0.006474\n",
       "2    0.009574\n",
       "3    0.011290\n",
       "4    0.013195\n",
       "5    0.017475\n",
       "Name: ret, dtype: float64"
      ]
     },
     "execution_count": 17,
     "metadata": {},
     "output_type": "execute_result"
    }
   ],
   "source": [
    "result[result['signal'] =='btm'].groupby('rank')['ret'].mean()"
   ]
  },
  {
   "cell_type": "code",
   "execution_count": 18,
   "id": "1ecb22ae",
   "metadata": {},
   "outputs": [
    {
     "data": {
      "text/plain": [
       "np.float64(0.011001183414435432)"
      ]
     },
     "execution_count": 18,
     "metadata": {},
     "output_type": "execute_result"
    }
   ],
   "source": [
    "result[result['signal'] =='btm'].groupby('rank')['ret'].mean().iloc[-1] - result[result['signal'] =='btm'].groupby('rank')['ret'].mean().iloc[0]"
   ]
  },
  {
   "cell_type": "markdown",
   "id": "4e1f74c8",
   "metadata": {},
   "source": [
    "#### (1 point) \n",
    "\n",
    "#### Show the average return (from January 1980 to December 2019) of 5 potfolios formed by `gprof_lag1`. \n",
    "\n",
    "#### What is the difference between the returns of the highest quintile portfolio and the lowest quintile portfolio?"
   ]
  },
  {
   "cell_type": "code",
   "execution_count": 19,
   "id": "9ceceb3d",
   "metadata": {},
   "outputs": [
    {
     "data": {
      "text/plain": [
       "rank\n",
       "1    0.008366\n",
       "2    0.009655\n",
       "3    0.010706\n",
       "4    0.013250\n",
       "5    0.016060\n",
       "Name: ret, dtype: float64"
      ]
     },
     "execution_count": 19,
     "metadata": {},
     "output_type": "execute_result"
    }
   ],
   "source": [
    "result[result['signal'] =='gprof'].groupby('rank')['ret'].mean()"
   ]
  },
  {
   "cell_type": "code",
   "execution_count": 20,
   "id": "8a6ccde0",
   "metadata": {},
   "outputs": [
    {
     "data": {
      "text/plain": [
       "np.float64(0.007693618626938868)"
      ]
     },
     "execution_count": 20,
     "metadata": {},
     "output_type": "execute_result"
    }
   ],
   "source": [
    "result[result['signal'] =='gprof'].groupby('rank')['ret'].mean().iloc[-1] - result[result['signal'] =='gprof'].groupby('rank')['ret'].mean().iloc[0]"
   ]
  },
  {
   "cell_type": "markdown",
   "id": "db6ac154",
   "metadata": {},
   "source": [
    "#### (1 point) \n",
    "\n",
    "#### Show the average return (from January 1980 to December 2019) of 5 potfolios formed by `atg_lag1`. \n",
    "\n",
    "#### What is the difference between the returns of the highest quintile portfolio and the lowest quintile portfolio?"
   ]
  },
  {
   "cell_type": "code",
   "execution_count": 21,
   "id": "364a1e6f",
   "metadata": {},
   "outputs": [
    {
     "data": {
      "text/plain": [
       "rank\n",
       "1    0.005411\n",
       "2    0.011911\n",
       "3    0.012977\n",
       "4    0.013898\n",
       "5    0.014425\n",
       "Name: ret, dtype: float64"
      ]
     },
     "execution_count": 21,
     "metadata": {},
     "output_type": "execute_result"
    }
   ],
   "source": [
    "result[result['signal'] =='atg'].groupby('rank')['ret'].mean()"
   ]
  },
  {
   "cell_type": "code",
   "execution_count": 22,
   "id": "3f4609c4",
   "metadata": {},
   "outputs": [
    {
     "data": {
      "text/plain": [
       "np.float64(0.009013838511052799)"
      ]
     },
     "execution_count": 22,
     "metadata": {},
     "output_type": "execute_result"
    }
   ],
   "source": [
    "result[result['signal'] =='atg'].groupby('rank')['ret'].mean().iloc[-1] - result[result['signal'] =='atg'].groupby('rank')['ret'].mean().iloc[0]"
   ]
  },
  {
   "cell_type": "markdown",
   "id": "eca3e13c",
   "metadata": {},
   "source": [
    "#### (1 point) \n",
    "\n",
    "#### Show the average return (from January 1980 to December 2019) of 5 potfolios formed by `momentum_lag1`. \n",
    "\n",
    "#### What is the difference between the returns of the highest quintile portfolio and the lowest quintile portfolio?"
   ]
  },
  {
   "cell_type": "code",
   "execution_count": 23,
   "id": "b5e7dd45",
   "metadata": {},
   "outputs": [
    {
     "data": {
      "text/plain": [
       "rank\n",
       "1    0.009221\n",
       "2    0.010082\n",
       "3    0.011800\n",
       "4    0.012152\n",
       "5    0.014318\n",
       "Name: ret, dtype: float64"
      ]
     },
     "execution_count": 23,
     "metadata": {},
     "output_type": "execute_result"
    }
   ],
   "source": [
    "result[result['signal'] =='momentum'].groupby('rank')['ret'].mean()"
   ]
  },
  {
   "cell_type": "code",
   "execution_count": 24,
   "id": "c7b69707",
   "metadata": {},
   "outputs": [
    {
     "data": {
      "text/plain": [
       "np.float64(0.005096839050081759)"
      ]
     },
     "execution_count": 24,
     "metadata": {},
     "output_type": "execute_result"
    }
   ],
   "source": [
    "result[result['signal'] =='momentum'].groupby('rank')['ret'].mean().iloc[-1] - result[result['signal'] =='momentum'].groupby('rank')['ret'].mean().iloc[0]"
   ]
  },
  {
   "cell_type": "markdown",
   "id": "a700a26e",
   "metadata": {},
   "source": [
    "#### (1 point) \n",
    "\n",
    "#### Show the average return (from January 1980 to December 2019) of 5 potfolios formed by `momentum12_lag1`. \n",
    "\n",
    "#### What is the difference between the returns of the highest quintile portfolio and the lowest quintile portfolio?"
   ]
  },
  {
   "cell_type": "code",
   "execution_count": 25,
   "id": "0419b89a",
   "metadata": {},
   "outputs": [
    {
     "data": {
      "text/plain": [
       "rank\n",
       "1    0.009375\n",
       "2    0.009991\n",
       "3    0.011830\n",
       "4    0.013420\n",
       "5    0.014597\n",
       "Name: ret, dtype: float64"
      ]
     },
     "execution_count": 25,
     "metadata": {},
     "output_type": "execute_result"
    }
   ],
   "source": [
    "result[result['signal'] =='momentum12'].groupby('rank')['ret'].mean()"
   ]
  },
  {
   "cell_type": "code",
   "execution_count": 26,
   "id": "e28336c6",
   "metadata": {},
   "outputs": [
    {
     "data": {
      "text/plain": [
       "np.float64(0.005222157504818768)"
      ]
     },
     "execution_count": 26,
     "metadata": {},
     "output_type": "execute_result"
    }
   ],
   "source": [
    "result[result['signal'] =='momentum12'].groupby('rank')['ret'].mean().iloc[-1] - result[result['signal'] =='momentum12'].groupby('rank')['ret'].mean().iloc[0]"
   ]
  },
  {
   "cell_type": "markdown",
   "id": "6d6e2931",
   "metadata": {},
   "source": [
    "#### (1 point) \n",
    "\n",
    "#### Show the average return (from January 1980 to December 2019) of 5 potfolios formed by `seasonality_lag1`. \n",
    "\n",
    "#### What is the difference between the returns of the highest quintile portfolio and the lowest quintile portfolio?"
   ]
  },
  {
   "cell_type": "code",
   "execution_count": 27,
   "id": "9be73b93",
   "metadata": {},
   "outputs": [
    {
     "data": {
      "text/plain": [
       "rank\n",
       "1    0.009547\n",
       "2    0.011659\n",
       "3    0.012961\n",
       "4    0.014473\n",
       "5    0.016223\n",
       "Name: ret, dtype: float64"
      ]
     },
     "execution_count": 27,
     "metadata": {},
     "output_type": "execute_result"
    }
   ],
   "source": [
    "result[result['signal'] =='seasonality'].groupby('rank')['ret'].mean()"
   ]
  },
  {
   "cell_type": "code",
   "execution_count": 28,
   "id": "73204aa6",
   "metadata": {},
   "outputs": [
    {
     "data": {
      "text/plain": [
       "np.float64(0.006675269762571415)"
      ]
     },
     "execution_count": 28,
     "metadata": {},
     "output_type": "execute_result"
    }
   ],
   "source": [
    "result[result['signal'] =='seasonality'].groupby('rank')['ret'].mean().iloc[-1] - result[result['signal'] =='seasonality'].groupby('rank')['ret'].mean().iloc[0]"
   ]
  },
  {
   "cell_type": "markdown",
   "id": "2a5d06cc",
   "metadata": {},
   "source": [
    "#### (1 point) \n",
    "\n",
    "#### Show the average return (from January 1980 to December 2019) of 5 potfolios formed by `sir_lag1`. \n",
    "\n",
    "#### What is the difference between the returns of the highest quintile portfolio and the lowest quintile portfolio?"
   ]
  },
  {
   "cell_type": "code",
   "execution_count": 29,
   "id": "6568c454",
   "metadata": {},
   "outputs": [
    {
     "data": {
      "text/plain": [
       "rank\n",
       "1    0.002079\n",
       "2    0.010458\n",
       "3    0.012913\n",
       "4    0.013845\n",
       "5    0.015080\n",
       "Name: ret, dtype: float64"
      ]
     },
     "execution_count": 29,
     "metadata": {},
     "output_type": "execute_result"
    }
   ],
   "source": [
    "result[result['signal'] =='sir'].groupby('rank')['ret'].mean()"
   ]
  },
  {
   "cell_type": "code",
   "execution_count": 30,
   "id": "0eb63e46",
   "metadata": {},
   "outputs": [
    {
     "data": {
      "text/plain": [
       "np.float64(0.013001458164716763)"
      ]
     },
     "execution_count": 30,
     "metadata": {},
     "output_type": "execute_result"
    }
   ],
   "source": [
    "result[result['signal'] =='sir'].groupby('rank')['ret'].mean().iloc[-1] - result[result['signal'] =='sir'].groupby('rank')['ret'].mean().iloc[0]"
   ]
  }
 ],
 "metadata": {
  "kernelspec": {
   "display_name": "py312",
   "language": "python",
   "name": "python3"
  },
  "language_info": {
   "codemirror_mode": {
    "name": "ipython",
    "version": 3
   },
   "file_extension": ".py",
   "mimetype": "text/x-python",
   "name": "python",
   "nbconvert_exporter": "python",
   "pygments_lexer": "ipython3",
   "version": "3.12.7"
  }
 },
 "nbformat": 4,
 "nbformat_minor": 5
}
