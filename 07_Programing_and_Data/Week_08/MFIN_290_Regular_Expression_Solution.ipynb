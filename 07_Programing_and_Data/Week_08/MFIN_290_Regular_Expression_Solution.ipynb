{
 "cells": [
  {
   "cell_type": "markdown",
   "metadata": {},
   "source": [
    "# Introduction to Regular Expressions\n",
    "\n",
    "In this module, we'll introduce regular expressions or \"regex\" as a way to perform more sophisticated string functions. Regex can search for patterns within a string rather than only searching for specific characters.\n",
    "\n",
    "For example, we can write some regex code to extract an email address (e.g., \" myname@email.com \") using the following pattern:\n",
    "\n",
    "1. A break (e.g., \" \" or \",\"), followed by\n",
    "2. Alpha-numeric characters, followed by\n",
    "3. The \"@\" symbol, followed by\n",
    "4. Alpha-numeric characters, followed by\n",
    "5. A period (\".\"), followed by\n",
    "6. Alpha-numeric characters, followed by\n",
    "7. A break (e.g., \" \" or \",\")\n",
    "\n",
    "The regular expressions module in Python is called **re**. We import **re** as follows:"
   ]
  },
  {
   "cell_type": "code",
   "execution_count": 1,
   "metadata": {},
   "outputs": [],
   "source": [
    "import re"
   ]
  },
  {
   "cell_type": "markdown",
   "metadata": {},
   "source": [
    "#### Regex Functions\n",
    "\n",
    "Regular expression (i.e., \"regex\") syntax can be quite complex. The purpose of this tutorial is not to help you become an expert. Rather, you will come away with a basic understanding of what regex can do.\n",
    "\n",
    "Here are the basic functions you can use within the **re** module:\n",
    "\n",
    "| Function | Description |\n",
    "| :- | :- |\n",
    "| re.match(pattern, string) | returns a match object of the first instance of the pattern within the string if the pattern is found at the beginning of the string |\n",
    "| re.search(pattern, string) | returns a match object of the first instance of the pattern within the string |\n",
    "| re.split(pattern, string) | returns a list with the string split by the pattern |\n",
    "| re.findall(pattern, string) | returns a list of all occurences of the pattern within the string |\n",
    "| re.sub(pattern, replacement_pattern, string) | returns the string replacing the pattern with the replacement pattern |"
   ]
  },
  {
   "cell_type": "code",
   "execution_count": 2,
   "metadata": {},
   "outputs": [],
   "source": [
    "text = 'Here is an example sentence. This sentence is an example!'"
   ]
  },
  {
   "cell_type": "code",
   "execution_count": 3,
   "metadata": {},
   "outputs": [
    {
     "name": "stdout",
     "output_type": "stream",
     "text": [
      "<re.Match object; span=(19, 27), match='sentence'>\n",
      "19\n",
      "27\n",
      "sentence\n"
     ]
    }
   ],
   "source": [
    "test = re.search('sentence', text)\n",
    "print(test)\n",
    "print(test.start())\n",
    "print(test.end())\n",
    "print(test.group())"
   ]
  },
  {
   "cell_type": "code",
   "execution_count": 4,
   "metadata": {},
   "outputs": [
    {
     "data": {
      "text/plain": [
       "['Here is an example ', '. This ', ' is an example!']"
      ]
     },
     "execution_count": 4,
     "metadata": {},
     "output_type": "execute_result"
    }
   ],
   "source": [
    "test = re.split('sentence',text)\n",
    "test"
   ]
  },
  {
   "cell_type": "code",
   "execution_count": 5,
   "metadata": {},
   "outputs": [
    {
     "name": "stdout",
     "output_type": "stream",
     "text": [
      "['sentence', 'sentence']\n",
      "2\n"
     ]
    }
   ],
   "source": [
    "test = re.findall('sentence', text)\n",
    "count = len(test)\n",
    "print(test)\n",
    "print(count)"
   ]
  },
  {
   "cell_type": "code",
   "execution_count": 6,
   "metadata": {},
   "outputs": [
    {
     "data": {
      "text/plain": [
       "'Here is an example phrase. This phrase is an example!'"
      ]
     },
     "execution_count": 6,
     "metadata": {},
     "output_type": "execute_result"
    }
   ],
   "source": [
    "test = re.sub('sentence', 'phrase', text)\n",
    "test"
   ]
  },
  {
   "cell_type": "markdown",
   "metadata": {},
   "source": [
    "#### Special Patterns\n",
    "\n",
    "The power of regex comes not in these built-in functions, but in our ability to create flexible patterns that capture specific text.\n",
    "\n",
    "Here's a list of special patterns in regex:\n",
    "\n",
    "| Special Pattern | Description |\n",
    "| :-: | :- |\n",
    "| \\w+ | word |\n",
    "| \\d | digit |\n",
    "| \\s | space |\n",
    "| \\b | boundary |\n",
    "| \\S | NOT a space |\n",
    "| \\D | NOT a digit |\n",
    "| .* | wildcard matches any character, symbol, or string |\n",
    "| + | one or more occurrences |\n",
    "| * | zero or more occurrences |\n",
    "| \\| | OR operator within a group |\n",
    "| ? | previous character or group is optional |\n",
    "| {} | exactly the specified number of occurrences |\n",
    "| [a-z] | lower case character class |\n",
    "| [A-Z] | upper case character class |\n",
    "| [a-zA-Z] | lower case or upper case character class |\n",
    "| [0-9] | digit character class |\n",
    "| [a-zA-Z0-9] | lower case or upper case or digit character class |\n",
    "\n",
    "To use these special patterns, the best practice is to use Python's **raw string** by include an \"r\" at the beginning of the string pattern."
   ]
  },
  {
   "cell_type": "code",
   "execution_count": 7,
   "metadata": {},
   "outputs": [],
   "source": [
    "text = \"You miss 100% of the shots you don't take - Wayne Gretzky - Michael Scott\""
   ]
  },
  {
   "cell_type": "code",
   "execution_count": 8,
   "metadata": {},
   "outputs": [
    {
     "name": "stdout",
     "output_type": "stream",
     "text": [
      "['You', 'miss', '100', 'of', 'the', 'shots', 'you', 'don', 't', 'take', 'Wayne', 'Gretzky', 'Michael', 'Scott']\n"
     ]
    }
   ],
   "source": [
    "test = re.findall(r'\\w+',text)\n",
    "print(test)"
   ]
  },
  {
   "cell_type": "code",
   "execution_count": 9,
   "metadata": {},
   "outputs": [
    {
     "data": {
      "text/plain": [
       "['You', 'Wayne', 'Gretzky', 'Michael', 'Scott']"
      ]
     },
     "execution_count": 9,
     "metadata": {},
     "output_type": "execute_result"
    }
   ],
   "source": [
    "test = re.findall(r'[A-Z][a-z]+',text)\n",
    "test"
   ]
  },
  {
   "cell_type": "code",
   "execution_count": 10,
   "metadata": {},
   "outputs": [
    {
     "data": {
      "text/plain": [
       "['miss', 'take']"
      ]
     },
     "execution_count": 10,
     "metadata": {},
     "output_type": "execute_result"
    }
   ],
   "source": [
    "test = re.findall(r'\\b[a-z][a-z][a-z][a-z]\\b',text)\n",
    "test"
   ]
  },
  {
   "cell_type": "code",
   "execution_count": 11,
   "metadata": {},
   "outputs": [
    {
     "data": {
      "text/plain": [
       "['miss', 'take']"
      ]
     },
     "execution_count": 11,
     "metadata": {},
     "output_type": "execute_result"
    }
   ],
   "source": [
    "test = re.findall(r'\\b[a-z]{4}\\b',text)\n",
    "test"
   ]
  },
  {
   "cell_type": "code",
   "execution_count": 12,
   "metadata": {},
   "outputs": [
    {
     "data": {
      "text/plain": [
       "\"You XXXX 100% of the shots you don't XXXX - Wayne Gretzky - Michael Scott\""
      ]
     },
     "execution_count": 12,
     "metadata": {},
     "output_type": "execute_result"
    }
   ],
   "source": [
    "test = re.sub(r'\\b[a-z]{4}\\b','XXXX',text)\n",
    "test"
   ]
  },
  {
   "cell_type": "code",
   "execution_count": 13,
   "metadata": {},
   "outputs": [
    {
     "data": {
      "text/plain": [
       "['100']"
      ]
     },
     "execution_count": 13,
     "metadata": {},
     "output_type": "execute_result"
    }
   ],
   "source": [
    "#test = re.findall(r'\\d',text)\n",
    "test = re.findall(r'\\d+',text)\n",
    "test"
   ]
  },
  {
   "cell_type": "code",
   "execution_count": 14,
   "metadata": {},
   "outputs": [
    {
     "data": {
      "text/plain": [
       "['100']"
      ]
     },
     "execution_count": 14,
     "metadata": {},
     "output_type": "execute_result"
    }
   ],
   "source": [
    "test = re.findall(r'[0-9]+',text)\n",
    "test"
   ]
  },
  {
   "cell_type": "code",
   "execution_count": 15,
   "metadata": {},
   "outputs": [
    {
     "data": {
      "text/plain": [
       "[\"shots you don't take\"]"
      ]
     },
     "execution_count": 15,
     "metadata": {},
     "output_type": "execute_result"
    }
   ],
   "source": [
    "test = re.findall(r'shots .* take',text)\n",
    "test"
   ]
  },
  {
   "cell_type": "markdown",
   "metadata": {},
   "source": [
    "#### Regex Groups\n",
    "\n",
    "Regex groups are helpful when you want to *capture* matches within a string. We create groups using the () symbols. We can then refer to each captured group using a backslash followed by a number representing each group starting at 1, then 2, etc. (e.g., \"\\\\3\" represents the third captured group).\n",
    "\n",
    "Capturing groups can be really useful if you want to replace a captured group with specific text. An example will make this more clear. Say we have a list of people in the format:\n",
    "\n",
    "    LastName, FirstName - Job Position"
   ]
  },
  {
   "cell_type": "code",
   "execution_count": 16,
   "metadata": {},
   "outputs": [
    {
     "name": "stdout",
     "output_type": "stream",
     "text": [
      "Scott, Michael - Regional Manager\n",
      "Schrute, Dwight - Salesperson\n",
      "Halpert, Jim - Salesperson\n",
      "Beesly, Pam - Receptionist\n",
      "Howard, Ryan - Temp\n",
      "Bernard, Andy - Salesperson\n",
      "Hudson, Stanley - Salesperson\n",
      "Malone, Kevin - Accountant\n",
      "Palmer, Meredith - Supplier Relations\n",
      "Martin, Angela - Accountant\n",
      "Martinez, Oscar - Accountant\n",
      "Lapin, Phyllis - Salesperson\n",
      "Kapoor, Kelly - Customer Service\n",
      "Flenderson, Toby - Human Resources Representative\n",
      "Bratton, Creed - Quality Control\n",
      "Philbin, Darryl - Foreman\n",
      "\n"
     ]
    }
   ],
   "source": [
    "text = \"\"\"Scott, Michael - Regional Manager\n",
    "Schrute, Dwight - Salesperson\n",
    "Halpert, Jim - Salesperson\n",
    "Beesly, Pam - Receptionist\n",
    "Howard, Ryan - Temp\n",
    "Bernard, Andy - Salesperson\n",
    "Hudson, Stanley - Salesperson\n",
    "Malone, Kevin - Accountant\n",
    "Palmer, Meredith - Supplier Relations\n",
    "Martin, Angela - Accountant\n",
    "Martinez, Oscar - Accountant\n",
    "Lapin, Phyllis - Salesperson\n",
    "Kapoor, Kelly - Customer Service\n",
    "Flenderson, Toby - Human Resources Representative\n",
    "Bratton, Creed - Quality Control\n",
    "Philbin, Darryl - Foreman\n",
    "\"\"\"\n",
    "print(text)"
   ]
  },
  {
   "cell_type": "markdown",
   "metadata": {},
   "source": [
    "We can write some regex code that will capture the LastName and FirstName groups of characters and replace them with whatever we want.\n",
    "\n",
    "Let's just start out by finding all \"LastName, FirstName\" matches before we worry about adding the complexity of groups."
   ]
  },
  {
   "cell_type": "code",
   "execution_count": 17,
   "metadata": {},
   "outputs": [
    {
     "data": {
      "text/plain": [
       "['Scott, Michael',\n",
       " 'Schrute, Dwight',\n",
       " 'Halpert, Jim',\n",
       " 'Beesly, Pam',\n",
       " 'Howard, Ryan',\n",
       " 'Bernard, Andy',\n",
       " 'Hudson, Stanley',\n",
       " 'Malone, Kevin',\n",
       " 'Palmer, Meredith',\n",
       " 'Martin, Angela',\n",
       " 'Martinez, Oscar',\n",
       " 'Lapin, Phyllis',\n",
       " 'Kapoor, Kelly',\n",
       " 'Flenderson, Toby',\n",
       " 'Bratton, Creed',\n",
       " 'Philbin, Darryl']"
      ]
     },
     "execution_count": 17,
     "metadata": {},
     "output_type": "execute_result"
    }
   ],
   "source": [
    "names = re.findall(r'[A-Z][a-z]+,\\s[A-Z][a-z]+', text)\n",
    "names"
   ]
  },
  {
   "cell_type": "markdown",
   "metadata": {},
   "source": [
    "Now let's adjust this code slightly to capture these groups by adding parentheses"
   ]
  },
  {
   "cell_type": "code",
   "execution_count": 18,
   "metadata": {},
   "outputs": [
    {
     "data": {
      "text/plain": [
       "[('Scott', 'Michael'),\n",
       " ('Schrute', 'Dwight'),\n",
       " ('Halpert', 'Jim'),\n",
       " ('Beesly', 'Pam'),\n",
       " ('Howard', 'Ryan'),\n",
       " ('Bernard', 'Andy'),\n",
       " ('Hudson', 'Stanley'),\n",
       " ('Malone', 'Kevin'),\n",
       " ('Palmer', 'Meredith'),\n",
       " ('Martin', 'Angela'),\n",
       " ('Martinez', 'Oscar'),\n",
       " ('Lapin', 'Phyllis'),\n",
       " ('Kapoor', 'Kelly'),\n",
       " ('Flenderson', 'Toby'),\n",
       " ('Bratton', 'Creed'),\n",
       " ('Philbin', 'Darryl')]"
      ]
     },
     "execution_count": 18,
     "metadata": {},
     "output_type": "execute_result"
    }
   ],
   "source": [
    "names = re.findall(r'([A-Z][a-z]+),\\s([A-Z][a-z]+)', text)\n",
    "names"
   ]
  },
  {
   "cell_type": "markdown",
   "metadata": {},
   "source": [
    "We can now refer to these groups in our pattern. For example, let's replace our text so that it is in the format:\n",
    "\n",
    "    FirstName LastName - Job Position\n",
    "    \n",
    "In the code below, the \"\\1\" refers to the first captured group (i.e., the last name). The \"\\2\" refers to the second captured group (i.e., the first name)."
   ]
  },
  {
   "cell_type": "code",
   "execution_count": 19,
   "metadata": {},
   "outputs": [
    {
     "name": "stdout",
     "output_type": "stream",
     "text": [
      "Michael Scott - Regional Manager\n",
      "Dwight Schrute - Salesperson\n",
      "Jim Halpert - Salesperson\n",
      "Pam Beesly - Receptionist\n",
      "Ryan Howard - Temp\n",
      "Andy Bernard - Salesperson\n",
      "Stanley Hudson - Salesperson\n",
      "Kevin Malone - Accountant\n",
      "Meredith Palmer - Supplier Relations\n",
      "Angela Martin - Accountant\n",
      "Oscar Martinez - Accountant\n",
      "Phyllis Lapin - Salesperson\n",
      "Kelly Kapoor - Customer Service\n",
      "Toby Flenderson - Human Resources Representative\n",
      "Creed Bratton - Quality Control\n",
      "Darryl Philbin - Foreman\n",
      "\n"
     ]
    }
   ],
   "source": [
    "new_text = re.sub(r'([A-Z][a-z]+),\\s([A-Z][a-z]+)', r'\\2 \\1', text)\n",
    "print(new_text)"
   ]
  },
  {
   "cell_type": "markdown",
   "metadata": {},
   "source": [
    "#### Exercise\n",
    "\n",
    "You are given the following text string:"
   ]
  },
  {
   "cell_type": "code",
   "execution_count": 20,
   "metadata": {},
   "outputs": [],
   "source": [
    "text = 'The student was taking ENG 101, ACC 200, FIN 101, and MTH 114.'"
   ]
  },
  {
   "cell_type": "markdown",
   "metadata": {},
   "source": [
    "Do the following:\n",
    "\n",
    "1. Obtain a list of all words (including numbers as \"words\") in the string.\n",
    "2. Create a variable called `new_text` equal to `text` but replacing all numbers in the string with the word 'NUMBER'.\n",
    "3. Obtain a list of all courses listed in the string where each course is 3 uppercase letters followed by a space and followed by three digits. Write your code without the \"{}\" symbols.\n",
    "4. Repeat #3 but use the \"{}\" symbols in your pattern to repeat characters.\n",
    "5. Use the .* symbols to obtain a list of all text that starts with 'student' and ends with '200' in the string."
   ]
  },
  {
   "cell_type": "markdown",
   "metadata": {},
   "source": [
    "#### Solution for # 1"
   ]
  },
  {
   "cell_type": "code",
   "execution_count": 21,
   "metadata": {},
   "outputs": [
    {
     "name": "stdout",
     "output_type": "stream",
     "text": [
      "['The', 'student', 'was', 'taking', 'ENG', '101', 'ACC', '200', 'FIN', '101', 'and', 'MTH', '114']\n"
     ]
    }
   ],
   "source": [
    "test = re.findall(r'\\w+', text)\n",
    "print(test)"
   ]
  },
  {
   "cell_type": "markdown",
   "metadata": {},
   "source": [
    "#### Solution for # 2"
   ]
  },
  {
   "cell_type": "code",
   "execution_count": 22,
   "metadata": {},
   "outputs": [
    {
     "data": {
      "text/plain": [
       "'The student was taking ENG NUMBER, ACC NUMBER, FIN NUMBER, and MTH NUMBER.'"
      ]
     },
     "execution_count": 22,
     "metadata": {},
     "output_type": "execute_result"
    }
   ],
   "source": [
    "new_text = re.sub(r'\\d+', 'NUMBER', text)\n",
    "new_text"
   ]
  },
  {
   "cell_type": "markdown",
   "metadata": {},
   "source": [
    "#### Solution for # 3"
   ]
  },
  {
   "cell_type": "code",
   "execution_count": 23,
   "metadata": {},
   "outputs": [
    {
     "data": {
      "text/plain": [
       "['ENG 101', 'ACC 200', 'FIN 101', 'MTH 114']"
      ]
     },
     "execution_count": 23,
     "metadata": {},
     "output_type": "execute_result"
    }
   ],
   "source": [
    "re.findall(r'[A-Z][A-Z][A-Z]\\s[0-9][0-9][0-9]', text)"
   ]
  },
  {
   "cell_type": "markdown",
   "metadata": {},
   "source": [
    "#### Solution for # 4"
   ]
  },
  {
   "cell_type": "code",
   "execution_count": 24,
   "metadata": {},
   "outputs": [
    {
     "data": {
      "text/plain": [
       "['ENG 101', 'ACC 200', 'FIN 101', 'MTH 114']"
      ]
     },
     "execution_count": 24,
     "metadata": {},
     "output_type": "execute_result"
    }
   ],
   "source": [
    "re.findall(r'[A-Z]{3}\\s[0-9]{3}', text)"
   ]
  },
  {
   "cell_type": "markdown",
   "metadata": {},
   "source": [
    "#### Solution for # 5"
   ]
  },
  {
   "cell_type": "code",
   "execution_count": 25,
   "metadata": {},
   "outputs": [
    {
     "data": {
      "text/plain": [
       "['student was taking ENG 101, ACC 200']"
      ]
     },
     "execution_count": 25,
     "metadata": {},
     "output_type": "execute_result"
    }
   ],
   "source": [
    "re.findall(r'student .* 200', text)"
   ]
  },
  {
   "cell_type": "markdown",
   "metadata": {},
   "source": [
    "#### Exercise - Regex Groups\n",
    "\n",
    "You are given the following text string with phone numbers in the format XXX-XXX-XXXX:"
   ]
  },
  {
   "cell_type": "code",
   "execution_count": 26,
   "metadata": {},
   "outputs": [],
   "source": [
    "text = \"\"\"801-123-4567\n",
    "706-124-8765\n",
    "714-321-9876\"\"\""
   ]
  },
  {
   "cell_type": "markdown",
   "metadata": {},
   "source": [
    "Write some regex code that will capture three groups:\n",
    "\n",
    "1. The area code\n",
    "2. The first three digits\n",
    "3. The last four digits\n",
    "\n",
    "Use re.sub to replace the string so that the phone numbers are in the format (XXX)XXX-XXXX:\n",
    "\n",
    "    (801)123-4567\n",
    "    (706)124-8765\n",
    "    (714)321-9876"
   ]
  },
  {
   "cell_type": "markdown",
   "metadata": {},
   "source": [
    "#### Solution - Regex Groups"
   ]
  },
  {
   "cell_type": "code",
   "execution_count": 27,
   "metadata": {},
   "outputs": [
    {
     "name": "stdout",
     "output_type": "stream",
     "text": [
      "(801)123-4567\n",
      "(706)124-8765\n",
      "(714)321-9876\n"
     ]
    }
   ],
   "source": [
    "new_text = re.sub(r'([0-9]{3})-([0-9]{3})-([0-9]{4})', r'(\\1)\\2-\\3', text)\n",
    "print(new_text)"
   ]
  },
  {
   "cell_type": "code",
   "execution_count": null,
   "metadata": {},
   "outputs": [],
   "source": []
  }
 ],
 "metadata": {
  "kernelspec": {
   "display_name": "py312",
   "language": "python",
   "name": "python3"
  },
  "language_info": {
   "codemirror_mode": {
    "name": "ipython",
    "version": 3
   },
   "file_extension": ".py",
   "mimetype": "text/x-python",
   "name": "python",
   "nbconvert_exporter": "python",
   "pygments_lexer": "ipython3",
   "version": "3.12.7"
  }
 },
 "nbformat": 4,
 "nbformat_minor": 2
}
