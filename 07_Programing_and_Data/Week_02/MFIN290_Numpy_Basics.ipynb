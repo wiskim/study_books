{
 "cells": [
  {
   "cell_type": "markdown",
   "metadata": {},
   "source": [
    "## What is Numpy\n",
    "\n",
    "Numpy is one of the fundamental Python packages for data science because of its ability to manipulate numerical data.  Many other packages in the PyData ecosystem are built upon Numpy.\n",
    "\n",
    "Numpy works primarily with arrays and matrices.  An array is a one-dimensional vector, while a matrix is a two-dimensional array.  \n",
    "\n",
    "Numpy is shorthand for \"numerical Python\".  \n",
    "\n",
    "*You need to install Numpy before moving on.  It should be included with your Anaconda installation, but if not, please pip install the Numpy library.*\n"
   ]
  },
  {
   "cell_type": "code",
   "execution_count": 1,
   "metadata": {},
   "outputs": [],
   "source": [
    "#It is the convention to use np as the shortcut for numpy.\n",
    "import numpy as np"
   ]
  },
  {
   "cell_type": "code",
   "execution_count": 2,
   "metadata": {},
   "outputs": [
    {
     "data": {
      "text/plain": [
       "array([1, 2, 3, 4, 5])"
      ]
     },
     "execution_count": 2,
     "metadata": {},
     "output_type": "execute_result"
    }
   ],
   "source": [
    "#create an array\n",
    "a0 =list(range(1,6))\n",
    "a1 = np.array(a0)\n",
    "a1"
   ]
  },
  {
   "cell_type": "code",
   "execution_count": 3,
   "metadata": {},
   "outputs": [
    {
     "data": {
      "text/plain": [
       "array([10, 12, 14, 16, 18])"
      ]
     },
     "execution_count": 3,
     "metadata": {},
     "output_type": "execute_result"
    }
   ],
   "source": [
    "#create a second array, b1\n",
    "b0 =list(range(10,20, 2))\n",
    "b1 = np.array(b0)\n",
    "b1\n"
   ]
  },
  {
   "cell_type": "code",
   "execution_count": 4,
   "metadata": {},
   "outputs": [
    {
     "data": {
      "text/plain": [
       "array([[ 1,  2,  3,  4,  5],\n",
       "       [10, 12, 14, 16, 18]])"
      ]
     },
     "execution_count": 4,
     "metadata": {},
     "output_type": "execute_result"
    }
   ],
   "source": [
    "#create a matrix, A\n",
    "A = np.array([a1,b1])\n",
    "A"
   ]
  },
  {
   "cell_type": "code",
   "execution_count": 5,
   "metadata": {},
   "outputs": [
    {
     "data": {
      "text/plain": [
       "2"
      ]
     },
     "execution_count": 5,
     "metadata": {},
     "output_type": "execute_result"
    }
   ],
   "source": [
    "A.ndim"
   ]
  },
  {
   "cell_type": "code",
   "execution_count": 6,
   "metadata": {},
   "outputs": [
    {
     "data": {
      "text/plain": [
       "1"
      ]
     },
     "execution_count": 6,
     "metadata": {},
     "output_type": "execute_result"
    }
   ],
   "source": [
    "b1.ndim"
   ]
  },
  {
   "cell_type": "code",
   "execution_count": 7,
   "metadata": {},
   "outputs": [
    {
     "data": {
      "text/plain": [
       "(2, 5)"
      ]
     },
     "execution_count": 7,
     "metadata": {},
     "output_type": "execute_result"
    }
   ],
   "source": [
    "A.shape"
   ]
  },
  {
   "cell_type": "code",
   "execution_count": 8,
   "metadata": {},
   "outputs": [
    {
     "data": {
      "text/plain": [
       "10"
      ]
     },
     "execution_count": 8,
     "metadata": {},
     "output_type": "execute_result"
    }
   ],
   "source": [
    "A.size"
   ]
  },
  {
   "cell_type": "markdown",
   "metadata": {},
   "source": [
    "### Slicing arrays and matrices"
   ]
  },
  {
   "cell_type": "code",
   "execution_count": 9,
   "metadata": {},
   "outputs": [
    {
     "data": {
      "text/plain": [
       "array([10, 11, 12, 13, 14, 15, 16, 17, 18, 19, 20])"
      ]
     },
     "execution_count": 9,
     "metadata": {},
     "output_type": "execute_result"
    }
   ],
   "source": [
    "c1 = np.arange(10,21)\n",
    "c1"
   ]
  },
  {
   "cell_type": "code",
   "execution_count": 10,
   "metadata": {},
   "outputs": [
    {
     "data": {
      "text/plain": [
       "15"
      ]
     },
     "execution_count": 10,
     "metadata": {},
     "output_type": "execute_result"
    }
   ],
   "source": [
    "c1[5]"
   ]
  },
  {
   "cell_type": "code",
   "execution_count": 11,
   "metadata": {},
   "outputs": [
    {
     "data": {
      "text/plain": [
       "array([15, 16, 17, 18, 19, 20])"
      ]
     },
     "execution_count": 11,
     "metadata": {},
     "output_type": "execute_result"
    }
   ],
   "source": [
    "c1[5:]"
   ]
  },
  {
   "cell_type": "code",
   "execution_count": 12,
   "metadata": {},
   "outputs": [
    {
     "data": {
      "text/plain": [
       "array([10, 11, 12, 13, 14])"
      ]
     },
     "execution_count": 12,
     "metadata": {},
     "output_type": "execute_result"
    }
   ],
   "source": [
    "c1[:5]"
   ]
  },
  {
   "cell_type": "code",
   "execution_count": 13,
   "metadata": {},
   "outputs": [
    {
     "data": {
      "text/plain": [
       "array([12, 13, 14, 15, 16, 17])"
      ]
     },
     "execution_count": 13,
     "metadata": {},
     "output_type": "execute_result"
    }
   ],
   "source": [
    "c1[2:8]"
   ]
  },
  {
   "cell_type": "code",
   "execution_count": 14,
   "metadata": {},
   "outputs": [
    {
     "data": {
      "text/plain": [
       "array([[ 1,  2,  3,  4,  5],\n",
       "       [10, 12, 14, 16, 18]])"
      ]
     },
     "execution_count": 14,
     "metadata": {},
     "output_type": "execute_result"
    }
   ],
   "source": [
    "A"
   ]
  },
  {
   "cell_type": "code",
   "execution_count": 15,
   "metadata": {},
   "outputs": [
    {
     "data": {
      "text/plain": [
       "18"
      ]
     },
     "execution_count": 15,
     "metadata": {},
     "output_type": "execute_result"
    }
   ],
   "source": [
    "A[1,4]"
   ]
  },
  {
   "cell_type": "code",
   "execution_count": 16,
   "metadata": {},
   "outputs": [],
   "source": [
    "new_array = A[:,3:]"
   ]
  },
  {
   "cell_type": "code",
   "execution_count": 17,
   "metadata": {},
   "outputs": [
    {
     "data": {
      "text/plain": [
       "array([[ 4,  5],\n",
       "       [16, 18]])"
      ]
     },
     "execution_count": 17,
     "metadata": {},
     "output_type": "execute_result"
    }
   ],
   "source": [
    "new_array"
   ]
  },
  {
   "cell_type": "markdown",
   "metadata": {},
   "source": [
    "### Random numbers"
   ]
  },
  {
   "cell_type": "code",
   "execution_count": 18,
   "metadata": {},
   "outputs": [
    {
     "data": {
      "text/plain": [
       "array([0.87610658, 0.26513489, 0.01314372, 0.29460438, 0.90888961,\n",
       "       0.70685803, 0.17394502, 0.64534699, 0.42468722, 0.34111376])"
      ]
     },
     "execution_count": 18,
     "metadata": {},
     "output_type": "execute_result"
    }
   ],
   "source": [
    "# create a 1d array of uniformly distributed numbers (floats) over [0, 1).\n",
    "np.random.random(10)\n"
   ]
  },
  {
   "cell_type": "code",
   "execution_count": 19,
   "metadata": {},
   "outputs": [
    {
     "data": {
      "text/plain": [
       "array([[0.13095868, 0.22173038, 0.05206104, 0.90982212, 0.45352623,\n",
       "        0.34438792, 0.99769013, 0.76959929, 0.19602832, 0.4906743 ],\n",
       "       [0.37977098, 0.94551651, 0.40943195, 0.78331029, 0.54338849,\n",
       "        0.48925742, 0.27589137, 0.71475532, 0.34757595, 0.39690204],\n",
       "       [0.10394299, 0.86235605, 0.04330286, 0.53579985, 0.59577684,\n",
       "        0.33570342, 0.97493672, 0.3380781 , 0.28420868, 0.5914584 ],\n",
       "       [0.62237503, 0.521927  , 0.03745312, 0.99548963, 0.64108574,\n",
       "        0.49867812, 0.24760019, 0.5915029 , 0.95621727, 0.25168427],\n",
       "       [0.20958039, 0.32474302, 0.8404562 , 0.93144109, 0.72232075,\n",
       "        0.65224626, 0.44590044, 0.23596891, 0.08793594, 0.20308129],\n",
       "       [0.9704056 , 0.95850041, 0.34935592, 0.44739372, 0.58804254,\n",
       "        0.50978464, 0.81192478, 0.84034848, 0.79219384, 0.50311532],\n",
       "       [0.07043942, 0.5108316 , 0.3593809 , 0.26432007, 0.25679482,\n",
       "        0.77294669, 0.15916   , 0.17316831, 0.33139965, 0.68711298],\n",
       "       [0.2648758 , 0.53016254, 0.2650773 , 0.16597236, 0.90439334,\n",
       "        0.98225657, 0.1217375 , 0.7703707 , 0.4465834 , 0.93893122],\n",
       "       [0.07945607, 0.55193462, 0.654552  , 0.01075489, 0.52658254,\n",
       "        0.30636713, 0.09532317, 0.35900187, 0.48551854, 0.5013822 ],\n",
       "       [0.41191743, 0.25463731, 0.78278069, 0.12595094, 0.17337774,\n",
       "        0.14625165, 0.87433625, 0.75692479, 0.76915544, 0.05606778]])"
      ]
     },
     "execution_count": 19,
     "metadata": {},
     "output_type": "execute_result"
    }
   ],
   "source": [
    "np.random.random([10,10])"
   ]
  },
  {
   "cell_type": "code",
   "execution_count": 20,
   "metadata": {},
   "outputs": [
    {
     "data": {
      "text/plain": [
       "array([0.5488135 , 0.71518937, 0.60276338, 0.54488318, 0.4236548 ,\n",
       "       0.64589411, 0.43758721, 0.891773  , 0.96366276, 0.38344152])"
      ]
     },
     "execution_count": 20,
     "metadata": {},
     "output_type": "execute_result"
    }
   ],
   "source": [
    "np.random.seed(0)\n",
    "np.random.random(10)"
   ]
  },
  {
   "cell_type": "code",
   "execution_count": 21,
   "metadata": {},
   "outputs": [
    {
     "data": {
      "text/plain": [
       "array([ 1.76405235,  0.40015721,  0.97873798,  2.2408932 ,  1.86755799,\n",
       "       -0.97727788,  0.95008842, -0.15135721, -0.10321885,  0.4105985 ,\n",
       "        0.14404357,  1.45427351,  0.76103773,  0.12167502,  0.44386323,\n",
       "        0.33367433,  1.49407907, -0.20515826,  0.3130677 , -0.85409574,\n",
       "       -2.55298982,  0.6536186 ,  0.8644362 , -0.74216502,  2.26975462,\n",
       "       -1.45436567,  0.04575852, -0.18718385,  1.53277921,  1.46935877,\n",
       "        0.15494743,  0.37816252, -0.88778575, -1.98079647, -0.34791215,\n",
       "        0.15634897,  1.23029068,  1.20237985, -0.38732682, -0.30230275,\n",
       "       -1.04855297, -1.42001794, -1.70627019,  1.9507754 , -0.50965218,\n",
       "       -0.4380743 , -1.25279536,  0.77749036, -1.61389785, -0.21274028])"
      ]
     },
     "execution_count": 21,
     "metadata": {},
     "output_type": "execute_result"
    }
   ],
   "source": [
    "# create a 1d array of normally-distributed numbers centered at 0.\n",
    "np.random.seed(0)\n",
    "np.random.randn(50)"
   ]
  },
  {
   "cell_type": "code",
   "execution_count": 22,
   "metadata": {},
   "outputs": [
    {
     "data": {
      "text/plain": [
       "array([[ 1.76405235,  0.40015721,  0.97873798,  2.2408932 ,  1.86755799],\n",
       "       [-0.97727788,  0.95008842, -0.15135721, -0.10321885,  0.4105985 ],\n",
       "       [ 0.14404357,  1.45427351,  0.76103773,  0.12167502,  0.44386323],\n",
       "       [ 0.33367433,  1.49407907, -0.20515826,  0.3130677 , -0.85409574],\n",
       "       [-2.55298982,  0.6536186 ,  0.8644362 , -0.74216502,  2.26975462]])"
      ]
     },
     "execution_count": 22,
     "metadata": {},
     "output_type": "execute_result"
    }
   ],
   "source": [
    "np.random.seed(0)\n",
    "np.random.randn(5,5)"
   ]
  },
  {
   "cell_type": "code",
   "execution_count": 23,
   "metadata": {},
   "outputs": [
    {
     "data": {
      "text/plain": [
       "714661"
      ]
     },
     "execution_count": 23,
     "metadata": {},
     "output_type": "execute_result"
    }
   ],
   "source": [
    "# report a single number from an interval [start, end, #].\n",
    "#np.random.seed(63)\n",
    "np.random.randint(1,1000000)"
   ]
  },
  {
   "cell_type": "code",
   "execution_count": 24,
   "metadata": {},
   "outputs": [
    {
     "data": {
      "text/plain": [
       "array([1, 5, 2, 5, 2, 3, 3, 1, 2, 2])"
      ]
     },
     "execution_count": 24,
     "metadata": {},
     "output_type": "execute_result"
    }
   ],
   "source": [
    "np.random.choice([1,2,3,4,5], 10, replace=True)"
   ]
  },
  {
   "cell_type": "markdown",
   "metadata": {},
   "source": [
    "### Numeric functions using Numpy"
   ]
  },
  {
   "cell_type": "code",
   "execution_count": 25,
   "metadata": {},
   "outputs": [
    {
     "data": {
      "text/plain": [
       "array([-1.74976547,  0.3426804 ,  1.1530358 , -0.25243604,  0.98132079,\n",
       "        0.51421884,  0.22117967, -1.07004333, -0.18949583,  0.25500144,\n",
       "       -0.45802699,  0.43516349, -0.58359505,  0.81684707,  0.67272081,\n",
       "       -0.10441114, -0.53128038,  1.02973269, -0.43813562, -1.11831825,\n",
       "        1.61898166,  1.54160517, -0.25187914, -0.84243574,  0.18451869,\n",
       "        0.9370822 ,  0.73100034,  1.36155613, -0.32623806,  0.05567601,\n",
       "        0.22239961, -1.443217  , -0.75635231,  0.81645401,  0.75044476,\n",
       "       -0.45594693,  1.18962227, -1.69061683, -1.35639905, -1.23243451,\n",
       "       -0.54443916, -0.66817174,  0.00731456, -0.61293874,  1.29974807,\n",
       "       -1.73309562, -0.9833101 ,  0.35750775, -1.6135785 ,  1.47071387])"
      ]
     },
     "execution_count": 25,
     "metadata": {},
     "output_type": "execute_result"
    }
   ],
   "source": [
    "# create a 1d array of normally-distributed numbers (floats) centered at 0.\n",
    "np.random.seed(100)\n",
    "d1 = np.random.randn(50)\n",
    "d1"
   ]
  },
  {
   "cell_type": "code",
   "execution_count": 26,
   "metadata": {},
   "outputs": [
    {
     "data": {
      "text/plain": [
       "1.6189816606752596"
      ]
     },
     "execution_count": 26,
     "metadata": {},
     "output_type": "execute_result"
    }
   ],
   "source": [
    "d1.max()"
   ]
  },
  {
   "cell_type": "code",
   "execution_count": 27,
   "metadata": {},
   "outputs": [
    {
     "data": {
      "text/plain": [
       "-1.7497654730546974"
      ]
     },
     "execution_count": 27,
     "metadata": {},
     "output_type": "execute_result"
    }
   ],
   "source": [
    "d1.min()"
   ]
  },
  {
   "cell_type": "code",
   "execution_count": 28,
   "metadata": {},
   "outputs": [
    {
     "data": {
      "text/plain": [
       "-0.040800707873950195"
      ]
     },
     "execution_count": 28,
     "metadata": {},
     "output_type": "execute_result"
    }
   ],
   "source": [
    "d1.mean()"
   ]
  },
  {
   "cell_type": "code",
   "execution_count": 29,
   "metadata": {},
   "outputs": [
    {
     "data": {
      "text/plain": [
       "0.941220049285939"
      ]
     },
     "execution_count": 29,
     "metadata": {},
     "output_type": "execute_result"
    }
   ],
   "source": [
    "d1.std()"
   ]
  },
  {
   "cell_type": "code",
   "execution_count": 30,
   "metadata": {},
   "outputs": [
    {
     "data": {
      "text/plain": [
       "1.6189816606752596"
      ]
     },
     "execution_count": 30,
     "metadata": {},
     "output_type": "execute_result"
    }
   ],
   "source": [
    "np.max(d1)"
   ]
  },
  {
   "cell_type": "code",
   "execution_count": 31,
   "metadata": {},
   "outputs": [
    {
     "data": {
      "text/plain": [
       "-0.04854829008086233"
      ]
     },
     "execution_count": 31,
     "metadata": {},
     "output_type": "execute_result"
    }
   ],
   "source": [
    "np.median(d1)"
   ]
  },
  {
   "cell_type": "code",
   "execution_count": 32,
   "metadata": {},
   "outputs": [
    {
     "data": {
      "text/plain": [
       "20"
      ]
     },
     "execution_count": 32,
     "metadata": {},
     "output_type": "execute_result"
    }
   ],
   "source": [
    "# 최대값의 위치를 반환\n",
    "np.argmax(d1)"
   ]
  },
  {
   "cell_type": "code",
   "execution_count": 33,
   "metadata": {},
   "outputs": [
    {
     "data": {
      "text/plain": [
       "0"
      ]
     },
     "execution_count": 33,
     "metadata": {},
     "output_type": "execute_result"
    }
   ],
   "source": [
    "# 최값의 위치를 반환\n",
    "np.argmin(d1)"
   ]
  },
  {
   "cell_type": "markdown",
   "metadata": {},
   "source": [
    "### Element-wise functions using Numpy"
   ]
  },
  {
   "cell_type": "code",
   "execution_count": 34,
   "metadata": {},
   "outputs": [
    {
     "data": {
      "text/plain": [
       "array([-1.74976547,  0.3426804 ,  1.1530358 , -0.25243604,  0.98132079,\n",
       "        0.51421884,  0.22117967, -1.07004333, -0.18949583,  0.25500144,\n",
       "       -0.45802699,  0.43516349, -0.58359505,  0.81684707,  0.67272081,\n",
       "       -0.10441114, -0.53128038,  1.02973269, -0.43813562, -1.11831825,\n",
       "        1.61898166,  1.54160517, -0.25187914, -0.84243574,  0.18451869,\n",
       "        0.9370822 ,  0.73100034,  1.36155613, -0.32623806,  0.05567601,\n",
       "        0.22239961, -1.443217  , -0.75635231,  0.81645401,  0.75044476,\n",
       "       -0.45594693,  1.18962227, -1.69061683, -1.35639905, -1.23243451,\n",
       "       -0.54443916, -0.66817174,  0.00731456, -0.61293874,  1.29974807,\n",
       "       -1.73309562, -0.9833101 ,  0.35750775, -1.6135785 ,  1.47071387])"
      ]
     },
     "execution_count": 34,
     "metadata": {},
     "output_type": "execute_result"
    }
   ],
   "source": [
    "d1"
   ]
  },
  {
   "cell_type": "code",
   "execution_count": 35,
   "metadata": {},
   "outputs": [
    {
     "data": {
      "text/plain": [
       "array([1.74976547, 0.3426804 , 1.1530358 , 0.25243604, 0.98132079,\n",
       "       0.51421884, 0.22117967, 1.07004333, 0.18949583, 0.25500144,\n",
       "       0.45802699, 0.43516349, 0.58359505, 0.81684707, 0.67272081,\n",
       "       0.10441114, 0.53128038, 1.02973269, 0.43813562, 1.11831825,\n",
       "       1.61898166, 1.54160517, 0.25187914, 0.84243574, 0.18451869,\n",
       "       0.9370822 , 0.73100034, 1.36155613, 0.32623806, 0.05567601,\n",
       "       0.22239961, 1.443217  , 0.75635231, 0.81645401, 0.75044476,\n",
       "       0.45594693, 1.18962227, 1.69061683, 1.35639905, 1.23243451,\n",
       "       0.54443916, 0.66817174, 0.00731456, 0.61293874, 1.29974807,\n",
       "       1.73309562, 0.9833101 , 0.35750775, 1.6135785 , 1.47071387])"
      ]
     },
     "execution_count": 35,
     "metadata": {},
     "output_type": "execute_result"
    }
   ],
   "source": [
    "d2 = np.abs(d1)\n",
    "d2"
   ]
  },
  {
   "cell_type": "code",
   "execution_count": 36,
   "metadata": {},
   "outputs": [
    {
     "data": {
      "text/plain": [
       "array([0.1738147 , 1.40871847, 3.16779513, 0.7769059 , 2.66797775,\n",
       "       1.67233164, 1.24754756, 0.34299365, 0.82737617, 1.29046348,\n",
       "       0.63253041, 1.54521566, 0.55788912, 2.26335239, 1.95956166,\n",
       "       0.90085484, 0.58785182, 2.80031717, 0.64523827, 0.32682898,\n",
       "       5.04794718, 4.67208376, 0.77733868, 0.43066027, 1.20263946,\n",
       "       2.55252279, 2.07715744, 3.90226099, 0.72163338, 1.05725509,\n",
       "       1.24907042, 0.23616679, 0.46937545, 2.26246293, 2.11794179,\n",
       "       0.63384748, 3.28583981, 0.18440574, 0.25758667, 0.29158185,\n",
       "       0.58016707, 0.51264497, 1.00734138, 0.54175645, 3.6683724 ,\n",
       "       0.17673645, 0.37407084, 1.42976165, 0.19917359, 4.35234102])"
      ]
     },
     "execution_count": 36,
     "metadata": {},
     "output_type": "execute_result"
    }
   ],
   "source": [
    "d2 = np.exp(d1)\n",
    "d2"
   ]
  },
  {
   "cell_type": "code",
   "execution_count": 37,
   "metadata": {},
   "outputs": [
    {
     "name": "stderr",
     "output_type": "stream",
     "text": [
      "/var/folders/dt/31_473f9129gq8009hs6znhh0000gn/T/ipykernel_31464/3296390883.py:1: RuntimeWarning: invalid value encountered in log\n",
      "  d2 = np.log(d1)\n"
     ]
    },
    {
     "data": {
      "text/plain": [
       "array([        nan, -1.07095703,  0.14239829,         nan, -0.01885587,\n",
       "       -0.66510634, -1.50877992,         nan,         nan, -1.36648607,\n",
       "               nan, -0.83203348,         nan, -0.20230338, -0.39642489,\n",
       "               nan,         nan,  0.02929924,         nan,         nan,\n",
       "        0.48179735,  0.43282419,         nan,         nan, -1.69000452,\n",
       "       -0.06498427, -0.31334135,  0.30862826,         nan, -2.88820584,\n",
       "       -1.50327948,         nan,         nan, -0.20278469, -0.28708923,\n",
       "               nan,  0.17363583,         nan,         nan,         nan,\n",
       "               nan,         nan, -4.91788796,         nan,  0.26217046,\n",
       "               nan,         nan, -1.02859823,         nan,  0.38574791])"
      ]
     },
     "execution_count": 37,
     "metadata": {},
     "output_type": "execute_result"
    }
   ],
   "source": [
    "d2 = np.log(d1)\n",
    "d2"
   ]
  },
  {
   "cell_type": "code",
   "execution_count": 38,
   "metadata": {},
   "outputs": [
    {
     "data": {
      "text/plain": [
       "array([        nan, -2.14191407,  0.28479658,         nan, -0.03771175,\n",
       "       -1.33021269, -3.01755985,         nan,         nan, -2.73297214,\n",
       "               nan, -1.66406697,         nan, -0.40460677, -0.79284977,\n",
       "               nan,         nan,  0.05859848,         nan,         nan,\n",
       "        0.96359469,  0.86564839,         nan,         nan, -3.38000903,\n",
       "       -0.12996855, -0.6266827 ,  0.61725651,         nan, -5.77641168,\n",
       "       -3.00655895,         nan,         nan, -0.40556939, -0.57417847,\n",
       "               nan,  0.34727167,         nan,         nan,         nan,\n",
       "               nan,         nan, -9.83577591,         nan,  0.52434091,\n",
       "               nan,         nan, -2.05719646,         nan,  0.77149581])"
      ]
     },
     "execution_count": 38,
     "metadata": {},
     "output_type": "execute_result"
    }
   ],
   "source": [
    "d3 = d2 + d2\n",
    "d3"
   ]
  },
  {
   "cell_type": "code",
   "execution_count": 39,
   "metadata": {},
   "outputs": [
    {
     "data": {
      "text/plain": [
       "array([           nan, 1.14694897e+00, 2.02772737e-02,            nan,\n",
       "       3.55543944e-04, 4.42366447e-01, 2.27641686e+00,            nan,\n",
       "                  nan, 1.86728418e+00,            nan, 6.92279718e-01,\n",
       "                  nan, 4.09266593e-02, 1.57152690e-01,            nan,\n",
       "                  nan, 8.58445439e-04,            nan,            nan,\n",
       "       2.32128684e-01, 1.87336784e-01,            nan,            nan,\n",
       "       2.85611527e+00, 4.22295569e-03, 9.81828009e-02, 9.52514000e-02,\n",
       "                  nan, 8.34173296e+00, 2.25984919e+00,            nan,\n",
       "                  nan, 4.11216316e-02, 8.24202276e-02,            nan,\n",
       "       3.01494032e-02,            nan,            nan,            nan,\n",
       "                  nan,            nan, 2.41856219e+01,            nan,\n",
       "       6.87333485e-02,            nan,            nan, 1.05801432e+00,\n",
       "                  nan, 1.48801447e-01])"
      ]
     },
     "execution_count": 39,
     "metadata": {},
     "output_type": "execute_result"
    }
   ],
   "source": [
    "d2**2"
   ]
  }
 ],
 "metadata": {
  "language_info": {
   "name": "python"
  }
 },
 "nbformat": 4,
 "nbformat_minor": 2
}
