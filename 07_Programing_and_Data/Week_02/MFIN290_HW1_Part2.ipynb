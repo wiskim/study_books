{
 "cells": [
  {
   "cell_type": "markdown",
   "metadata": {},
   "source": [
    "0. Import numpy and pandas."
   ]
  },
  {
   "cell_type": "code",
   "execution_count": 1,
   "metadata": {},
   "outputs": [],
   "source": [
    "import numpy as np\n",
    "import pandas as pd"
   ]
  },
  {
   "cell_type": "markdown",
   "metadata": {},
   "source": [
    "1. Create a pandas series object, `s1`, from the following list of (actual) tickers: BOOM, YUM, EAT, WOOF, LUV, ZEUS, COOL, FUN"
   ]
  },
  {
   "cell_type": "code",
   "execution_count": 2,
   "metadata": {},
   "outputs": [
    {
     "data": {
      "text/plain": [
       "0    BOOM\n",
       "1     YUM\n",
       "2     EAT\n",
       "3    WOOF\n",
       "4     LUV\n",
       "5    ZEUS\n",
       "6    COOL\n",
       "7     FUN\n",
       "dtype: object"
      ]
     },
     "execution_count": 2,
     "metadata": {},
     "output_type": "execute_result"
    }
   ],
   "source": [
    "s1 = pd.Series(['BOOM', 'YUM', 'EAT', 'WOOF', 'LUV', 'ZEUS', 'COOL', 'FUN'])\n",
    "s1"
   ]
  },
  {
   "cell_type": "markdown",
   "metadata": {},
   "source": [
    "2. Create a matrix, `M1`, that is 8 rows by 4 columns.  \n",
    " - Use `randn` and multiply by 1000.  \n",
    " - Set seed=1.\n",
    " - Take the absolute value of each element."
   ]
  },
  {
   "cell_type": "code",
   "execution_count": 3,
   "metadata": {},
   "outputs": [
    {
     "data": {
      "text/plain": [
       "array([[1624.34536366,  611.75641365,  528.17175226, 1072.96862216],\n",
       "       [ 865.40762932, 2301.53869688, 1744.81176422,  761.2069009 ],\n",
       "       [ 319.03909606,  249.37037548, 1462.10793704, 2060.1407095 ],\n",
       "       [ 322.41720401,  384.05435467, 1133.76944234, 1099.89126731],\n",
       "       [ 172.42820755,  877.85841792,   42.21374672,  582.81521372],\n",
       "       [1100.61917721, 1144.72370984,  901.59072059,  502.4943389 ],\n",
       "       [ 900.85594926,  683.72785917,  122.89022552,  935.76943426],\n",
       "       [ 267.88807963,  530.35546674,  691.66075173,  396.75352686]])"
      ]
     },
     "execution_count": 3,
     "metadata": {},
     "output_type": "execute_result"
    }
   ],
   "source": [
    "np.random.seed(1)\n",
    "M1 = np.random.randn(8, 4) * 1000\n",
    "M1 = np.abs(M1)\n",
    "M1"
   ]
  },
  {
   "cell_type": "markdown",
   "metadata": {},
   "source": [
    "3. Create a list, `cols`, with the following elements: sale, cogs, sga, opinc"
   ]
  },
  {
   "cell_type": "code",
   "execution_count": 4,
   "metadata": {},
   "outputs": [
    {
     "data": {
      "text/plain": [
       "['sale', 'cogs', 'sga', 'opinc']"
      ]
     },
     "execution_count": 4,
     "metadata": {},
     "output_type": "execute_result"
    }
   ],
   "source": [
    "cols = ['sale', 'cogs', 'sga', 'opinc']\n",
    "cols"
   ]
  },
  {
   "cell_type": "markdown",
   "metadata": {},
   "source": [
    "4. Create a Pandas DataFrame from `M1`, `s1`, and `cols`. Name the DataFrame, `df1`."
   ]
  },
  {
   "cell_type": "code",
   "execution_count": 5,
   "metadata": {},
   "outputs": [
    {
     "data": {
      "text/html": [
       "<div>\n",
       "<style scoped>\n",
       "    .dataframe tbody tr th:only-of-type {\n",
       "        vertical-align: middle;\n",
       "    }\n",
       "\n",
       "    .dataframe tbody tr th {\n",
       "        vertical-align: top;\n",
       "    }\n",
       "\n",
       "    .dataframe thead th {\n",
       "        text-align: right;\n",
       "    }\n",
       "</style>\n",
       "<table border=\"1\" class=\"dataframe\">\n",
       "  <thead>\n",
       "    <tr style=\"text-align: right;\">\n",
       "      <th></th>\n",
       "      <th>sale</th>\n",
       "      <th>cogs</th>\n",
       "      <th>sga</th>\n",
       "      <th>opinc</th>\n",
       "    </tr>\n",
       "  </thead>\n",
       "  <tbody>\n",
       "    <tr>\n",
       "      <th>BOOM</th>\n",
       "      <td>1624.345364</td>\n",
       "      <td>611.756414</td>\n",
       "      <td>528.171752</td>\n",
       "      <td>1072.968622</td>\n",
       "    </tr>\n",
       "    <tr>\n",
       "      <th>YUM</th>\n",
       "      <td>865.407629</td>\n",
       "      <td>2301.538697</td>\n",
       "      <td>1744.811764</td>\n",
       "      <td>761.206901</td>\n",
       "    </tr>\n",
       "    <tr>\n",
       "      <th>EAT</th>\n",
       "      <td>319.039096</td>\n",
       "      <td>249.370375</td>\n",
       "      <td>1462.107937</td>\n",
       "      <td>2060.140709</td>\n",
       "    </tr>\n",
       "    <tr>\n",
       "      <th>WOOF</th>\n",
       "      <td>322.417204</td>\n",
       "      <td>384.054355</td>\n",
       "      <td>1133.769442</td>\n",
       "      <td>1099.891267</td>\n",
       "    </tr>\n",
       "    <tr>\n",
       "      <th>LUV</th>\n",
       "      <td>172.428208</td>\n",
       "      <td>877.858418</td>\n",
       "      <td>42.213747</td>\n",
       "      <td>582.815214</td>\n",
       "    </tr>\n",
       "    <tr>\n",
       "      <th>ZEUS</th>\n",
       "      <td>1100.619177</td>\n",
       "      <td>1144.723710</td>\n",
       "      <td>901.590721</td>\n",
       "      <td>502.494339</td>\n",
       "    </tr>\n",
       "    <tr>\n",
       "      <th>COOL</th>\n",
       "      <td>900.855949</td>\n",
       "      <td>683.727859</td>\n",
       "      <td>122.890226</td>\n",
       "      <td>935.769434</td>\n",
       "    </tr>\n",
       "    <tr>\n",
       "      <th>FUN</th>\n",
       "      <td>267.888080</td>\n",
       "      <td>530.355467</td>\n",
       "      <td>691.660752</td>\n",
       "      <td>396.753527</td>\n",
       "    </tr>\n",
       "  </tbody>\n",
       "</table>\n",
       "</div>"
      ],
      "text/plain": [
       "             sale         cogs          sga        opinc\n",
       "BOOM  1624.345364   611.756414   528.171752  1072.968622\n",
       "YUM    865.407629  2301.538697  1744.811764   761.206901\n",
       "EAT    319.039096   249.370375  1462.107937  2060.140709\n",
       "WOOF   322.417204   384.054355  1133.769442  1099.891267\n",
       "LUV    172.428208   877.858418    42.213747   582.815214\n",
       "ZEUS  1100.619177  1144.723710   901.590721   502.494339\n",
       "COOL   900.855949   683.727859   122.890226   935.769434\n",
       "FUN    267.888080   530.355467   691.660752   396.753527"
      ]
     },
     "execution_count": 5,
     "metadata": {},
     "output_type": "execute_result"
    }
   ],
   "source": [
    "df1 = pd.DataFrame(M1, s1, cols)\n",
    "df1"
   ]
  },
  {
   "cell_type": "markdown",
   "metadata": {},
   "source": [
    "5. Remove (reset) the index for `df1`; rename the column."
   ]
  },
  {
   "cell_type": "code",
   "execution_count": 6,
   "metadata": {},
   "outputs": [
    {
     "data": {
      "text/html": [
       "<div>\n",
       "<style scoped>\n",
       "    .dataframe tbody tr th:only-of-type {\n",
       "        vertical-align: middle;\n",
       "    }\n",
       "\n",
       "    .dataframe tbody tr th {\n",
       "        vertical-align: top;\n",
       "    }\n",
       "\n",
       "    .dataframe thead th {\n",
       "        text-align: right;\n",
       "    }\n",
       "</style>\n",
       "<table border=\"1\" class=\"dataframe\">\n",
       "  <thead>\n",
       "    <tr style=\"text-align: right;\">\n",
       "      <th></th>\n",
       "      <th>ticker</th>\n",
       "      <th>sale</th>\n",
       "      <th>cogs</th>\n",
       "      <th>sga</th>\n",
       "      <th>opinc</th>\n",
       "    </tr>\n",
       "  </thead>\n",
       "  <tbody>\n",
       "    <tr>\n",
       "      <th>0</th>\n",
       "      <td>BOOM</td>\n",
       "      <td>1624.345364</td>\n",
       "      <td>611.756414</td>\n",
       "      <td>528.171752</td>\n",
       "      <td>1072.968622</td>\n",
       "    </tr>\n",
       "    <tr>\n",
       "      <th>1</th>\n",
       "      <td>YUM</td>\n",
       "      <td>865.407629</td>\n",
       "      <td>2301.538697</td>\n",
       "      <td>1744.811764</td>\n",
       "      <td>761.206901</td>\n",
       "    </tr>\n",
       "    <tr>\n",
       "      <th>2</th>\n",
       "      <td>EAT</td>\n",
       "      <td>319.039096</td>\n",
       "      <td>249.370375</td>\n",
       "      <td>1462.107937</td>\n",
       "      <td>2060.140709</td>\n",
       "    </tr>\n",
       "    <tr>\n",
       "      <th>3</th>\n",
       "      <td>WOOF</td>\n",
       "      <td>322.417204</td>\n",
       "      <td>384.054355</td>\n",
       "      <td>1133.769442</td>\n",
       "      <td>1099.891267</td>\n",
       "    </tr>\n",
       "    <tr>\n",
       "      <th>4</th>\n",
       "      <td>LUV</td>\n",
       "      <td>172.428208</td>\n",
       "      <td>877.858418</td>\n",
       "      <td>42.213747</td>\n",
       "      <td>582.815214</td>\n",
       "    </tr>\n",
       "    <tr>\n",
       "      <th>5</th>\n",
       "      <td>ZEUS</td>\n",
       "      <td>1100.619177</td>\n",
       "      <td>1144.723710</td>\n",
       "      <td>901.590721</td>\n",
       "      <td>502.494339</td>\n",
       "    </tr>\n",
       "    <tr>\n",
       "      <th>6</th>\n",
       "      <td>COOL</td>\n",
       "      <td>900.855949</td>\n",
       "      <td>683.727859</td>\n",
       "      <td>122.890226</td>\n",
       "      <td>935.769434</td>\n",
       "    </tr>\n",
       "    <tr>\n",
       "      <th>7</th>\n",
       "      <td>FUN</td>\n",
       "      <td>267.888080</td>\n",
       "      <td>530.355467</td>\n",
       "      <td>691.660752</td>\n",
       "      <td>396.753527</td>\n",
       "    </tr>\n",
       "  </tbody>\n",
       "</table>\n",
       "</div>"
      ],
      "text/plain": [
       "  ticker         sale         cogs          sga        opinc\n",
       "0   BOOM  1624.345364   611.756414   528.171752  1072.968622\n",
       "1    YUM   865.407629  2301.538697  1744.811764   761.206901\n",
       "2    EAT   319.039096   249.370375  1462.107937  2060.140709\n",
       "3   WOOF   322.417204   384.054355  1133.769442  1099.891267\n",
       "4    LUV   172.428208   877.858418    42.213747   582.815214\n",
       "5   ZEUS  1100.619177  1144.723710   901.590721   502.494339\n",
       "6   COOL   900.855949   683.727859   122.890226   935.769434\n",
       "7    FUN   267.888080   530.355467   691.660752   396.753527"
      ]
     },
     "execution_count": 6,
     "metadata": {},
     "output_type": "execute_result"
    }
   ],
   "source": [
    "df1.reset_index(inplace=True)\n",
    "df1.rename(columns={'index':'ticker'}, inplace=True)\n",
    "df1"
   ]
  },
  {
   "cell_type": "markdown",
   "metadata": {},
   "source": [
    "6. Using .iloc(), create a new DataFrame, `df2`, consisting of just the first two (leftmost) columns."
   ]
  },
  {
   "cell_type": "code",
   "execution_count": 7,
   "metadata": {},
   "outputs": [
    {
     "data": {
      "text/html": [
       "<div>\n",
       "<style scoped>\n",
       "    .dataframe tbody tr th:only-of-type {\n",
       "        vertical-align: middle;\n",
       "    }\n",
       "\n",
       "    .dataframe tbody tr th {\n",
       "        vertical-align: top;\n",
       "    }\n",
       "\n",
       "    .dataframe thead th {\n",
       "        text-align: right;\n",
       "    }\n",
       "</style>\n",
       "<table border=\"1\" class=\"dataframe\">\n",
       "  <thead>\n",
       "    <tr style=\"text-align: right;\">\n",
       "      <th></th>\n",
       "      <th>ticker</th>\n",
       "      <th>sale</th>\n",
       "    </tr>\n",
       "  </thead>\n",
       "  <tbody>\n",
       "    <tr>\n",
       "      <th>0</th>\n",
       "      <td>BOOM</td>\n",
       "      <td>1624.345364</td>\n",
       "    </tr>\n",
       "    <tr>\n",
       "      <th>1</th>\n",
       "      <td>YUM</td>\n",
       "      <td>865.407629</td>\n",
       "    </tr>\n",
       "    <tr>\n",
       "      <th>2</th>\n",
       "      <td>EAT</td>\n",
       "      <td>319.039096</td>\n",
       "    </tr>\n",
       "    <tr>\n",
       "      <th>3</th>\n",
       "      <td>WOOF</td>\n",
       "      <td>322.417204</td>\n",
       "    </tr>\n",
       "    <tr>\n",
       "      <th>4</th>\n",
       "      <td>LUV</td>\n",
       "      <td>172.428208</td>\n",
       "    </tr>\n",
       "    <tr>\n",
       "      <th>5</th>\n",
       "      <td>ZEUS</td>\n",
       "      <td>1100.619177</td>\n",
       "    </tr>\n",
       "    <tr>\n",
       "      <th>6</th>\n",
       "      <td>COOL</td>\n",
       "      <td>900.855949</td>\n",
       "    </tr>\n",
       "    <tr>\n",
       "      <th>7</th>\n",
       "      <td>FUN</td>\n",
       "      <td>267.888080</td>\n",
       "    </tr>\n",
       "  </tbody>\n",
       "</table>\n",
       "</div>"
      ],
      "text/plain": [
       "  ticker         sale\n",
       "0   BOOM  1624.345364\n",
       "1    YUM   865.407629\n",
       "2    EAT   319.039096\n",
       "3   WOOF   322.417204\n",
       "4    LUV   172.428208\n",
       "5   ZEUS  1100.619177\n",
       "6   COOL   900.855949\n",
       "7    FUN   267.888080"
      ]
     },
     "execution_count": 7,
     "metadata": {},
     "output_type": "execute_result"
    }
   ],
   "source": [
    "df2 = df1.iloc[:, :2]\n",
    "df2"
   ]
  },
  {
   "cell_type": "markdown",
   "metadata": {},
   "source": [
    "7. Create a new DataFrame, `df3`, that is a subset of `df1` with the following columns: ticker, cogs, sga."
   ]
  },
  {
   "cell_type": "code",
   "execution_count": 8,
   "metadata": {},
   "outputs": [
    {
     "data": {
      "text/html": [
       "<div>\n",
       "<style scoped>\n",
       "    .dataframe tbody tr th:only-of-type {\n",
       "        vertical-align: middle;\n",
       "    }\n",
       "\n",
       "    .dataframe tbody tr th {\n",
       "        vertical-align: top;\n",
       "    }\n",
       "\n",
       "    .dataframe thead th {\n",
       "        text-align: right;\n",
       "    }\n",
       "</style>\n",
       "<table border=\"1\" class=\"dataframe\">\n",
       "  <thead>\n",
       "    <tr style=\"text-align: right;\">\n",
       "      <th></th>\n",
       "      <th>ticker</th>\n",
       "      <th>cogs</th>\n",
       "      <th>sga</th>\n",
       "    </tr>\n",
       "  </thead>\n",
       "  <tbody>\n",
       "    <tr>\n",
       "      <th>0</th>\n",
       "      <td>BOOM</td>\n",
       "      <td>611.756414</td>\n",
       "      <td>528.171752</td>\n",
       "    </tr>\n",
       "    <tr>\n",
       "      <th>1</th>\n",
       "      <td>YUM</td>\n",
       "      <td>2301.538697</td>\n",
       "      <td>1744.811764</td>\n",
       "    </tr>\n",
       "    <tr>\n",
       "      <th>2</th>\n",
       "      <td>EAT</td>\n",
       "      <td>249.370375</td>\n",
       "      <td>1462.107937</td>\n",
       "    </tr>\n",
       "    <tr>\n",
       "      <th>3</th>\n",
       "      <td>WOOF</td>\n",
       "      <td>384.054355</td>\n",
       "      <td>1133.769442</td>\n",
       "    </tr>\n",
       "    <tr>\n",
       "      <th>4</th>\n",
       "      <td>LUV</td>\n",
       "      <td>877.858418</td>\n",
       "      <td>42.213747</td>\n",
       "    </tr>\n",
       "    <tr>\n",
       "      <th>5</th>\n",
       "      <td>ZEUS</td>\n",
       "      <td>1144.723710</td>\n",
       "      <td>901.590721</td>\n",
       "    </tr>\n",
       "    <tr>\n",
       "      <th>6</th>\n",
       "      <td>COOL</td>\n",
       "      <td>683.727859</td>\n",
       "      <td>122.890226</td>\n",
       "    </tr>\n",
       "    <tr>\n",
       "      <th>7</th>\n",
       "      <td>FUN</td>\n",
       "      <td>530.355467</td>\n",
       "      <td>691.660752</td>\n",
       "    </tr>\n",
       "  </tbody>\n",
       "</table>\n",
       "</div>"
      ],
      "text/plain": [
       "  ticker         cogs          sga\n",
       "0   BOOM   611.756414   528.171752\n",
       "1    YUM  2301.538697  1744.811764\n",
       "2    EAT   249.370375  1462.107937\n",
       "3   WOOF   384.054355  1133.769442\n",
       "4    LUV   877.858418    42.213747\n",
       "5   ZEUS  1144.723710   901.590721\n",
       "6   COOL   683.727859   122.890226\n",
       "7    FUN   530.355467   691.660752"
      ]
     },
     "execution_count": 8,
     "metadata": {},
     "output_type": "execute_result"
    }
   ],
   "source": [
    "df3 = df1.loc[:, ['ticker', 'cogs', 'sga']]\n",
    "df3"
   ]
  }
 ],
 "metadata": {
  "kernelspec": {
   "display_name": "py312",
   "language": "python",
   "name": "python3"
  },
  "language_info": {
   "codemirror_mode": {
    "name": "ipython",
    "version": 3
   },
   "file_extension": ".py",
   "mimetype": "text/x-python",
   "name": "python",
   "nbconvert_exporter": "python",
   "pygments_lexer": "ipython3",
   "version": "3.12.7"
  }
 },
 "nbformat": 4,
 "nbformat_minor": 2
}
