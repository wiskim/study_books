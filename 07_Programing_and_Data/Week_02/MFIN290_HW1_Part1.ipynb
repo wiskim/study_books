{
 "cells": [
  {
   "cell_type": "markdown",
   "metadata": {},
   "source": [
    "# Homework 2 - Part 1 (Woosoo Kim)"
   ]
  },
  {
   "cell_type": "markdown",
   "metadata": {},
   "source": [
    "1. Import Numpy"
   ]
  },
  {
   "cell_type": "code",
   "execution_count": 1,
   "metadata": {},
   "outputs": [],
   "source": [
    "import numpy as np"
   ]
  },
  {
   "cell_type": "markdown",
   "metadata": {},
   "source": [
    "2. Create two Numpy arrays:\n",
    " -  `array1` = ranges from 0 to 9\n",
    " - `array2` = ranges from 0 to 27 by 3\n",
    "\n",
    "Each array should have exactly 10 elements."
   ]
  },
  {
   "cell_type": "code",
   "execution_count": 2,
   "metadata": {},
   "outputs": [
    {
     "data": {
      "text/plain": [
       "array([0, 1, 2, 3, 4, 5, 6, 7, 8, 9])"
      ]
     },
     "execution_count": 2,
     "metadata": {},
     "output_type": "execute_result"
    }
   ],
   "source": [
    "array1 = np.array(list(range(0, 10)))\n",
    "array1"
   ]
  },
  {
   "cell_type": "code",
   "execution_count": 3,
   "metadata": {},
   "outputs": [
    {
     "data": {
      "text/plain": [
       "array([ 0,  3,  6,  9, 12, 15, 18, 21, 24, 27])"
      ]
     },
     "execution_count": 3,
     "metadata": {},
     "output_type": "execute_result"
    }
   ],
   "source": [
    "array2 = np.array(list(range(0, 28, 3)))\n",
    "array2"
   ]
  },
  {
   "cell_type": "markdown",
   "metadata": {},
   "source": [
    "3. Create `M1`, a matrix made up of `array1` and `array2`"
   ]
  },
  {
   "cell_type": "code",
   "execution_count": 4,
   "metadata": {},
   "outputs": [
    {
     "data": {
      "text/plain": [
       "array([[ 0,  1,  2,  3,  4,  5,  6,  7,  8,  9],\n",
       "       [ 0,  3,  6,  9, 12, 15, 18, 21, 24, 27]])"
      ]
     },
     "execution_count": 4,
     "metadata": {},
     "output_type": "execute_result"
    }
   ],
   "source": [
    "M1 = np.array([array1, array2])\n",
    "M1"
   ]
  },
  {
   "cell_type": "markdown",
   "metadata": {},
   "source": [
    "4. Create a new array, `M2`, that slices `M1` into to include all rows and only the last 3 columns "
   ]
  },
  {
   "cell_type": "code",
   "execution_count": 5,
   "metadata": {},
   "outputs": [
    {
     "data": {
      "text/plain": [
       "array([[ 7,  8,  9],\n",
       "       [21, 24, 27]])"
      ]
     },
     "execution_count": 5,
     "metadata": {},
     "output_type": "execute_result"
    }
   ],
   "source": [
    "M2 = M1[:, -3:]\n",
    "M2"
   ]
  },
  {
   "cell_type": "markdown",
   "metadata": {},
   "source": [
    "5. Create a new array, `M3`, of uniformly distributed random numbers that is 3 by 3 in dimension."
   ]
  },
  {
   "cell_type": "code",
   "execution_count": 6,
   "metadata": {},
   "outputs": [
    {
     "data": {
      "text/plain": [
       "array([[0.68573024, 0.65660231, 0.96406721],\n",
       "       [0.23027002, 0.78462963, 0.94816409],\n",
       "       [0.33043274, 0.50321336, 0.58198937]])"
      ]
     },
     "execution_count": 6,
     "metadata": {},
     "output_type": "execute_result"
    }
   ],
   "source": [
    "M3 = np.random.random([3, 3])\n",
    "M3"
   ]
  },
  {
   "cell_type": "markdown",
   "metadata": {},
   "source": [
    "6. Re-create `M3` but with seed=1 and multiply each element by 1000"
   ]
  },
  {
   "cell_type": "code",
   "execution_count": 7,
   "metadata": {},
   "outputs": [
    {
     "data": {
      "text/plain": [
       "array([[4.17022005e+02, 7.20324493e+02, 1.14374817e-01],\n",
       "       [3.02332573e+02, 1.46755891e+02, 9.23385948e+01],\n",
       "       [1.86260211e+02, 3.45560727e+02, 3.96767474e+02]])"
      ]
     },
     "execution_count": 7,
     "metadata": {},
     "output_type": "execute_result"
    }
   ],
   "source": [
    "np.random.seed(1)\n",
    "M3 = np.random.random([3, 3]) * 1000\n",
    "M3"
   ]
  },
  {
   "cell_type": "markdown",
   "metadata": {},
   "source": [
    "7. Create an array, `array3`, of normally distributed numbers, with dimensions 10 rows by 4 columns. Set seed=3.  "
   ]
  },
  {
   "cell_type": "code",
   "execution_count": 8,
   "metadata": {},
   "outputs": [
    {
     "data": {
      "text/plain": [
       "array([[ 1.78862847,  0.43650985,  0.09649747, -1.8634927 ],\n",
       "       [-0.2773882 , -0.35475898, -0.08274148, -0.62700068],\n",
       "       [-0.04381817, -0.47721803, -1.31386475,  0.88462238],\n",
       "       [ 0.88131804,  1.70957306,  0.05003364, -0.40467741],\n",
       "       [-0.54535995, -1.54647732,  0.98236743, -1.10106763],\n",
       "       [-1.18504653, -0.2056499 ,  1.48614836,  0.23671627],\n",
       "       [-1.02378514, -0.7129932 ,  0.62524497, -0.16051336],\n",
       "       [-0.76883635, -0.23003072,  0.74505627,  1.97611078],\n",
       "       [-1.24412333, -0.62641691, -0.80376609, -2.41908317],\n",
       "       [-0.92379202, -1.02387576,  1.12397796, -0.13191423]])"
      ]
     },
     "execution_count": 8,
     "metadata": {},
     "output_type": "execute_result"
    }
   ],
   "source": [
    "np.random.seed(3)\n",
    "array3 = np.random.randn(10, 4)\n",
    "array3"
   ]
  },
  {
   "cell_type": "markdown",
   "metadata": {},
   "source": [
    "8. Find the mean and st. dev. of `array3`"
   ]
  },
  {
   "cell_type": "code",
   "execution_count": 9,
   "metadata": {},
   "outputs": [
    {
     "data": {
      "text/plain": [
       "np.float64(-0.17687217694521734)"
      ]
     },
     "execution_count": 9,
     "metadata": {},
     "output_type": "execute_result"
    }
   ],
   "source": [
    "array3.mean()"
   ]
  },
  {
   "cell_type": "code",
   "execution_count": 10,
   "metadata": {},
   "outputs": [
    {
     "data": {
      "text/plain": [
       "np.float64(1.0012852082549313)"
      ]
     },
     "execution_count": 10,
     "metadata": {},
     "output_type": "execute_result"
    }
   ],
   "source": [
    "array3.std()"
   ]
  },
  {
   "cell_type": "markdown",
   "metadata": {},
   "source": [
    "9. Take the log+1 of `array3`.  Call it `array4`."
   ]
  },
  {
   "cell_type": "code",
   "execution_count": 11,
   "metadata": {},
   "outputs": [
    {
     "name": "stderr",
     "output_type": "stream",
     "text": [
      "/var/folders/nf/pr_zbg4n09l0wk9d51jnb0xc0000gn/T/ipykernel_7233/2193220283.py:1: RuntimeWarning: invalid value encountered in log\n",
      "  array4 = np.log(array3) + 1\n"
     ]
    },
    {
     "data": {
      "text/plain": [
       "array([[ 1.58144911,  0.17105566, -1.33823851,         nan],\n",
       "       [        nan,         nan,         nan,         nan],\n",
       "       [        nan,         nan,         nan,  0.87740559],\n",
       "       [ 0.87366328,  1.53624367, -1.99505966,         nan],\n",
       "       [        nan,         nan,  0.98221013,         nan],\n",
       "       [        nan,         nan,  1.39618778, -0.44089304],\n",
       "       [        nan,         nan,  0.53038824,         nan],\n",
       "       [        nan,         nan,  0.70570446,  1.68113066],\n",
       "       [        nan,         nan,         nan,         nan],\n",
       "       [        nan,         nan,  1.11687414,         nan]])"
      ]
     },
     "execution_count": 11,
     "metadata": {},
     "output_type": "execute_result"
    }
   ],
   "source": [
    "array4 = np.log(array3) + 1\n",
    "array4"
   ]
  }
 ],
 "metadata": {
  "kernelspec": {
   "display_name": "py312",
   "language": "python",
   "name": "python3"
  },
  "language_info": {
   "codemirror_mode": {
    "name": "ipython",
    "version": 3
   },
   "file_extension": ".py",
   "mimetype": "text/x-python",
   "name": "python",
   "nbconvert_exporter": "python",
   "pygments_lexer": "ipython3",
   "version": "3.12.7"
  }
 },
 "nbformat": 4,
 "nbformat_minor": 2
}
