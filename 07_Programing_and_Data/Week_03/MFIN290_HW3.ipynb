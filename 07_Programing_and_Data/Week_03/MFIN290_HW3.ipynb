{
 "cells": [
  {
   "cell_type": "markdown",
   "id": "f6ec7e17",
   "metadata": {},
   "source": [
    "# Homework 3 (Woosoo Kim)"
   ]
  },
  {
   "cell_type": "markdown",
   "id": "e4c7aa28",
   "metadata": {},
   "source": [
    "## Instructions:\n",
    "\n",
    "1. Whenever possible, please provide output along with your code. For example, in Problem 2, you can print `url1` after defining it. Similarly, in Problem 6, print the first 5 rows of `df2` after creating it. Providing output as much as possible helps reduce the possibility of grading errors.\n",
    "2. It is best practice to re-run everything before submitting it. This serves as a final check to ensure there are no errors in your code or output.\n"
   ]
  },
  {
   "cell_type": "markdown",
   "id": "3cdcb8b8",
   "metadata": {},
   "source": [
    "0. Import numpy and pandas."
   ]
  },
  {
   "cell_type": "code",
   "execution_count": 1,
   "id": "2ea2c008",
   "metadata": {},
   "outputs": [],
   "source": [
    "import numpy as np\n",
    "import pandas as pd"
   ]
  },
  {
   "cell_type": "markdown",
   "id": "1d1a04cb",
   "metadata": {},
   "source": [
    "1. Import the `os` module. Print out the current working directory. "
   ]
  },
  {
   "cell_type": "code",
   "execution_count": 2,
   "id": "0103b10c",
   "metadata": {},
   "outputs": [
    {
     "data": {
      "text/plain": [
       "'/Users/ws/Projects/study_books/07_Programing_and_Data/Week_03'"
      ]
     },
     "execution_count": 2,
     "metadata": {},
     "output_type": "execute_result"
    }
   ],
   "source": [
    "import os\n",
    "os.getcwd()"
   ]
  },
  {
   "cell_type": "markdown",
   "id": "4908a9ee",
   "metadata": {},
   "source": [
    "2. Then create a variable, `url1` (your current working directory), and use `r` to capture the full url as a raw string. "
   ]
  },
  {
   "cell_type": "code",
   "execution_count": 3,
   "id": "ce82669a",
   "metadata": {},
   "outputs": [
    {
     "data": {
      "text/plain": [
       "'/Users/ws/Projects/study_books/07_Programing_and_Data/Week_03'"
      ]
     },
     "execution_count": 3,
     "metadata": {},
     "output_type": "execute_result"
    }
   ],
   "source": [
    "url1 = r'/Users/ws/Projects/study_books/07_Programing_and_Data/Week_03'\n",
    "url1"
   ]
  },
  {
   "cell_type": "markdown",
   "id": "f75da712",
   "metadata": {},
   "source": [
    "3. Create am empty folder `Financial Statement` under the current working directory using Python."
   ]
  },
  {
   "cell_type": "code",
   "execution_count": 4,
   "id": "ee31f5df",
   "metadata": {},
   "outputs": [
    {
     "data": {
      "text/plain": [
       "['.DS_Store',\n",
       " 'MFIN290_Folders_and_Functions.ipynb',\n",
       " 'Finished_Earnings',\n",
       " 'MFIN290_Grouping_and_Summary_Stats.ipynb',\n",
       " 'MFIN290_Missing_Data.ipynb',\n",
       " 'MFIN290_Stacking_and_Merging.ipynb',\n",
       " 'fina.csv',\n",
       " 'Earnings.zip',\n",
       " 'Earnings',\n",
       " 'MFIN290_Reading_and_Filtering_Data.ipynb',\n",
       " 'earnings1.csv',\n",
       " 'Financial Statement',\n",
       " 'MFIN290_HW3.ipynb']"
      ]
     },
     "execution_count": 4,
     "metadata": {},
     "output_type": "execute_result"
    }
   ],
   "source": [
    "fs_directory = os.getcwd()+'/Financial Statement/'\n",
    "if not os.path.exists(fs_directory):\n",
    "    os.mkdir(fs_directory)\n",
    "os.listdir(os.getcwd())"
   ]
  },
  {
   "cell_type": "markdown",
   "id": "7e3102cd",
   "metadata": {},
   "source": [
    "4. Read the `fina.csv` file, and adjust the `datadate` column to the correct date format as we did in our class."
   ]
  },
  {
   "cell_type": "code",
   "execution_count": 5,
   "id": "aab7d7b6",
   "metadata": {},
   "outputs": [
    {
     "data": {
      "text/html": [
       "<div>\n",
       "<style scoped>\n",
       "    .dataframe tbody tr th:only-of-type {\n",
       "        vertical-align: middle;\n",
       "    }\n",
       "\n",
       "    .dataframe tbody tr th {\n",
       "        vertical-align: top;\n",
       "    }\n",
       "\n",
       "    .dataframe thead th {\n",
       "        text-align: right;\n",
       "    }\n",
       "</style>\n",
       "<table border=\"1\" class=\"dataframe\">\n",
       "  <thead>\n",
       "    <tr style=\"text-align: right;\">\n",
       "      <th></th>\n",
       "      <th>gvkey</th>\n",
       "      <th>datadate</th>\n",
       "      <th>fyr</th>\n",
       "      <th>tic</th>\n",
       "      <th>cik</th>\n",
       "      <th>conm</th>\n",
       "      <th>ni</th>\n",
       "      <th>sale</th>\n",
       "      <th>cogs</th>\n",
       "      <th>oancf</th>\n",
       "      <th>at</th>\n",
       "      <th>lt</th>\n",
       "      <th>seq</th>\n",
       "    </tr>\n",
       "  </thead>\n",
       "  <tbody>\n",
       "    <tr>\n",
       "      <th>0</th>\n",
       "      <td>2575</td>\n",
       "      <td>2012-12-31</td>\n",
       "      <td>12</td>\n",
       "      <td>MTD</td>\n",
       "      <td>1037646</td>\n",
       "      <td>Mettler Toledo</td>\n",
       "      <td>290.847</td>\n",
       "      <td>2341.528</td>\n",
       "      <td>811.204</td>\n",
       "      <td>327.704</td>\n",
       "      <td>2117.400</td>\n",
       "      <td>1290.181</td>\n",
       "      <td>827.219</td>\n",
       "    </tr>\n",
       "    <tr>\n",
       "      <th>1</th>\n",
       "      <td>2575</td>\n",
       "      <td>2013-12-31</td>\n",
       "      <td>12</td>\n",
       "      <td>MTD</td>\n",
       "      <td>1037646</td>\n",
       "      <td>Mettler Toledo</td>\n",
       "      <td>306.094</td>\n",
       "      <td>2378.972</td>\n",
       "      <td>794.915</td>\n",
       "      <td>345.928</td>\n",
       "      <td>2152.819</td>\n",
       "      <td>1217.767</td>\n",
       "      <td>935.052</td>\n",
       "    </tr>\n",
       "    <tr>\n",
       "      <th>2</th>\n",
       "      <td>2575</td>\n",
       "      <td>2014-12-31</td>\n",
       "      <td>12</td>\n",
       "      <td>MTD</td>\n",
       "      <td>1037646</td>\n",
       "      <td>Mettler Toledo</td>\n",
       "      <td>338.241</td>\n",
       "      <td>2485.983</td>\n",
       "      <td>809.537</td>\n",
       "      <td>418.912</td>\n",
       "      <td>2009.110</td>\n",
       "      <td>1289.515</td>\n",
       "      <td>719.595</td>\n",
       "    </tr>\n",
       "    <tr>\n",
       "      <th>3</th>\n",
       "      <td>2575</td>\n",
       "      <td>2015-12-31</td>\n",
       "      <td>12</td>\n",
       "      <td>MTD</td>\n",
       "      <td>1037646</td>\n",
       "      <td>Mettler Toledo</td>\n",
       "      <td>352.820</td>\n",
       "      <td>2395.447</td>\n",
       "      <td>744.867</td>\n",
       "      <td>426.868</td>\n",
       "      <td>2018.485</td>\n",
       "      <td>1438.028</td>\n",
       "      <td>580.457</td>\n",
       "    </tr>\n",
       "    <tr>\n",
       "      <th>4</th>\n",
       "      <td>2575</td>\n",
       "      <td>2016-12-31</td>\n",
       "      <td>12</td>\n",
       "      <td>MTD</td>\n",
       "      <td>1037646</td>\n",
       "      <td>Mettler Toledo</td>\n",
       "      <td>384.370</td>\n",
       "      <td>2508.257</td>\n",
       "      <td>767.753</td>\n",
       "      <td>443.078</td>\n",
       "      <td>2166.777</td>\n",
       "      <td>1731.834</td>\n",
       "      <td>434.943</td>\n",
       "    </tr>\n",
       "  </tbody>\n",
       "</table>\n",
       "</div>"
      ],
      "text/plain": [
       "   gvkey   datadate  fyr  tic      cik            conm       ni      sale  \\\n",
       "0   2575 2012-12-31   12  MTD  1037646  Mettler Toledo  290.847  2341.528   \n",
       "1   2575 2013-12-31   12  MTD  1037646  Mettler Toledo  306.094  2378.972   \n",
       "2   2575 2014-12-31   12  MTD  1037646  Mettler Toledo  338.241  2485.983   \n",
       "3   2575 2015-12-31   12  MTD  1037646  Mettler Toledo  352.820  2395.447   \n",
       "4   2575 2016-12-31   12  MTD  1037646  Mettler Toledo  384.370  2508.257   \n",
       "\n",
       "      cogs    oancf        at        lt      seq  \n",
       "0  811.204  327.704  2117.400  1290.181  827.219  \n",
       "1  794.915  345.928  2152.819  1217.767  935.052  \n",
       "2  809.537  418.912  2009.110  1289.515  719.595  \n",
       "3  744.867  426.868  2018.485  1438.028  580.457  \n",
       "4  767.753  443.078  2166.777  1731.834  434.943  "
      ]
     },
     "execution_count": 5,
     "metadata": {},
     "output_type": "execute_result"
    }
   ],
   "source": [
    "df = pd.read_csv('fina.csv', parse_dates=['datadate'], date_format='%Y%m%d')\n",
    "df.head()"
   ]
  },
  {
   "cell_type": "markdown",
   "id": "67ec19e8",
   "metadata": {},
   "source": [
    "5. Create a new DataFrame, `df2`, containing only the `gvkey` column."
   ]
  },
  {
   "cell_type": "code",
   "execution_count": 6,
   "id": "c5eaeb3c",
   "metadata": {},
   "outputs": [
    {
     "data": {
      "text/html": [
       "<div>\n",
       "<style scoped>\n",
       "    .dataframe tbody tr th:only-of-type {\n",
       "        vertical-align: middle;\n",
       "    }\n",
       "\n",
       "    .dataframe tbody tr th {\n",
       "        vertical-align: top;\n",
       "    }\n",
       "\n",
       "    .dataframe thead th {\n",
       "        text-align: right;\n",
       "    }\n",
       "</style>\n",
       "<table border=\"1\" class=\"dataframe\">\n",
       "  <thead>\n",
       "    <tr style=\"text-align: right;\">\n",
       "      <th></th>\n",
       "      <th>gvkey</th>\n",
       "    </tr>\n",
       "  </thead>\n",
       "  <tbody>\n",
       "    <tr>\n",
       "      <th>0</th>\n",
       "      <td>2575</td>\n",
       "    </tr>\n",
       "    <tr>\n",
       "      <th>1</th>\n",
       "      <td>2575</td>\n",
       "    </tr>\n",
       "    <tr>\n",
       "      <th>2</th>\n",
       "      <td>2575</td>\n",
       "    </tr>\n",
       "    <tr>\n",
       "      <th>3</th>\n",
       "      <td>2575</td>\n",
       "    </tr>\n",
       "    <tr>\n",
       "      <th>4</th>\n",
       "      <td>2575</td>\n",
       "    </tr>\n",
       "  </tbody>\n",
       "</table>\n",
       "</div>"
      ],
      "text/plain": [
       "   gvkey\n",
       "0   2575\n",
       "1   2575\n",
       "2   2575\n",
       "3   2575\n",
       "4   2575"
      ]
     },
     "execution_count": 6,
     "metadata": {},
     "output_type": "execute_result"
    }
   ],
   "source": [
    "df2 = df[['gvkey']]\n",
    "df2.head()"
   ]
  },
  {
   "cell_type": "markdown",
   "id": "0b8645af",
   "metadata": {},
   "source": [
    "6. Remove duplicate observations in `df2` to retain unique values in the `gvkey` column."
   ]
  },
  {
   "cell_type": "code",
   "execution_count": 7,
   "id": "0ac847e3",
   "metadata": {},
   "outputs": [
    {
     "data": {
      "text/html": [
       "<div>\n",
       "<style scoped>\n",
       "    .dataframe tbody tr th:only-of-type {\n",
       "        vertical-align: middle;\n",
       "    }\n",
       "\n",
       "    .dataframe tbody tr th {\n",
       "        vertical-align: top;\n",
       "    }\n",
       "\n",
       "    .dataframe thead th {\n",
       "        text-align: right;\n",
       "    }\n",
       "</style>\n",
       "<table border=\"1\" class=\"dataframe\">\n",
       "  <thead>\n",
       "    <tr style=\"text-align: right;\">\n",
       "      <th></th>\n",
       "      <th>gvkey</th>\n",
       "    </tr>\n",
       "  </thead>\n",
       "  <tbody>\n",
       "    <tr>\n",
       "      <th>0</th>\n",
       "      <td>2575</td>\n",
       "    </tr>\n",
       "    <tr>\n",
       "      <th>1</th>\n",
       "      <td>5977</td>\n",
       "    </tr>\n",
       "    <tr>\n",
       "      <th>2</th>\n",
       "      <td>6683</td>\n",
       "    </tr>\n",
       "    <tr>\n",
       "      <th>3</th>\n",
       "      <td>7334</td>\n",
       "    </tr>\n",
       "    <tr>\n",
       "      <th>4</th>\n",
       "      <td>9402</td>\n",
       "    </tr>\n",
       "  </tbody>\n",
       "</table>\n",
       "</div>"
      ],
      "text/plain": [
       "   gvkey\n",
       "0   2575\n",
       "1   5977\n",
       "2   6683\n",
       "3   7334\n",
       "4   9402"
      ]
     },
     "execution_count": 7,
     "metadata": {},
     "output_type": "execute_result"
    }
   ],
   "source": [
    "df2 = df2.drop_duplicates(ignore_index=True)\n",
    "df2.head()"
   ]
  },
  {
   "cell_type": "markdown",
   "id": "d049d769",
   "metadata": {},
   "source": [
    "7. By utilizing `iterrows()` on `df2` and filtering `df` for each unique gvkey (e.g., df['gvkey'] == 2575), generate a subset DataFrame corresponding to each unique firm associated with that `gvkey` (e.g., df[df['gvkey'] == 2575]). Save each subset as a CSV file under the `Financial Statement` folder. For example, if `gvkey` is 2575, the file name should be `fina_2575.csv`. (Hint: To include an integer as a variable name, use code similar to `subset_df.to_csv(directory + f'fina_{gvkey}.csv', index=False)`)"
   ]
  },
  {
   "cell_type": "code",
   "execution_count": 8,
   "id": "cdcc8e69",
   "metadata": {},
   "outputs": [],
   "source": [
    "for index, row in df2.iterrows():\n",
    "    gvkey = row['gvkey']\n",
    "    subset_df = df[df['gvkey']==gvkey]\n",
    "    subset_df.to_csv(fs_directory + f'fina_{gvkey}.csv', index=False)"
   ]
  },
  {
   "cell_type": "markdown",
   "id": "ed3142f8",
   "metadata": {},
   "source": [
    "8. Create an empty list named `dfs`. Read each file in the `Financial Statement` folder with a subset of columns including `gvkey`, `datadate`, `at`, and `lt`, and append each DataFrame to the `dfs` list."
   ]
  },
  {
   "cell_type": "code",
   "execution_count": 9,
   "id": "c29c2eb0",
   "metadata": {},
   "outputs": [
    {
     "data": {
      "text/html": [
       "<div>\n",
       "<style scoped>\n",
       "    .dataframe tbody tr th:only-of-type {\n",
       "        vertical-align: middle;\n",
       "    }\n",
       "\n",
       "    .dataframe tbody tr th {\n",
       "        vertical-align: top;\n",
       "    }\n",
       "\n",
       "    .dataframe thead th {\n",
       "        text-align: right;\n",
       "    }\n",
       "</style>\n",
       "<table border=\"1\" class=\"dataframe\">\n",
       "  <thead>\n",
       "    <tr style=\"text-align: right;\">\n",
       "      <th></th>\n",
       "      <th>gvkey</th>\n",
       "      <th>datadate</th>\n",
       "      <th>at</th>\n",
       "      <th>lt</th>\n",
       "    </tr>\n",
       "  </thead>\n",
       "  <tbody>\n",
       "    <tr>\n",
       "      <th>0</th>\n",
       "      <td>797235</td>\n",
       "      <td>2012-12-31</td>\n",
       "      <td>119213.0</td>\n",
       "      <td>100229.0</td>\n",
       "    </tr>\n",
       "    <tr>\n",
       "      <th>1</th>\n",
       "      <td>797235</td>\n",
       "      <td>2013-12-31</td>\n",
       "      <td>126223.0</td>\n",
       "      <td>103294.0</td>\n",
       "    </tr>\n",
       "    <tr>\n",
       "      <th>2</th>\n",
       "      <td>797235</td>\n",
       "      <td>2014-12-31</td>\n",
       "      <td>117532.0</td>\n",
       "      <td>105518.0</td>\n",
       "    </tr>\n",
       "    <tr>\n",
       "      <th>3</th>\n",
       "      <td>797235</td>\n",
       "      <td>2015-12-31</td>\n",
       "      <td>110495.0</td>\n",
       "      <td>96071.0</td>\n",
       "    </tr>\n",
       "    <tr>\n",
       "      <th>4</th>\n",
       "      <td>797235</td>\n",
       "      <td>2016-12-31</td>\n",
       "      <td>117470.0</td>\n",
       "      <td>99078.0</td>\n",
       "    </tr>\n",
       "    <tr>\n",
       "      <th>5</th>\n",
       "      <td>797235</td>\n",
       "      <td>2017-12-31</td>\n",
       "      <td>125356.0</td>\n",
       "      <td>107631.0</td>\n",
       "    </tr>\n",
       "    <tr>\n",
       "      <th>6</th>\n",
       "      <td>797235</td>\n",
       "      <td>2018-12-31</td>\n",
       "      <td>123382.0</td>\n",
       "      <td>106452.0</td>\n",
       "    </tr>\n",
       "    <tr>\n",
       "      <th>7</th>\n",
       "      <td>797235</td>\n",
       "      <td>2019-12-31</td>\n",
       "      <td>152186.0</td>\n",
       "      <td>131202.0</td>\n",
       "    </tr>\n",
       "  </tbody>\n",
       "</table>\n",
       "</div>"
      ],
      "text/plain": [
       "    gvkey    datadate        at        lt\n",
       "0  797235  2012-12-31  119213.0  100229.0\n",
       "1  797235  2013-12-31  126223.0  103294.0\n",
       "2  797235  2014-12-31  117532.0  105518.0\n",
       "3  797235  2015-12-31  110495.0   96071.0\n",
       "4  797235  2016-12-31  117470.0   99078.0\n",
       "5  797235  2017-12-31  125356.0  107631.0\n",
       "6  797235  2018-12-31  123382.0  106452.0\n",
       "7  797235  2019-12-31  152186.0  131202.0"
      ]
     },
     "execution_count": 9,
     "metadata": {},
     "output_type": "execute_result"
    }
   ],
   "source": [
    "dfs = []\n",
    "csv_list = os.listdir(fs_directory)\n",
    "for csv in csv_list:\n",
    "    subset_df = pd.read_csv(fs_directory+csv, index_col=None, header=0)\n",
    "    subset_df = subset_df[['gvkey', 'datadate', 'at', 'lt']]\n",
    "    dfs.append(subset_df)\n",
    "dfs[0]"
   ]
  },
  {
   "cell_type": "markdown",
   "id": "ed16a441",
   "metadata": {},
   "source": [
    "9. Concatenate all the data in `dfs` into a single DataFrame named `fina`."
   ]
  },
  {
   "cell_type": "code",
   "execution_count": 10,
   "id": "12614b38",
   "metadata": {},
   "outputs": [
    {
     "data": {
      "text/html": [
       "<div>\n",
       "<style scoped>\n",
       "    .dataframe tbody tr th:only-of-type {\n",
       "        vertical-align: middle;\n",
       "    }\n",
       "\n",
       "    .dataframe tbody tr th {\n",
       "        vertical-align: top;\n",
       "    }\n",
       "\n",
       "    .dataframe thead th {\n",
       "        text-align: right;\n",
       "    }\n",
       "</style>\n",
       "<table border=\"1\" class=\"dataframe\">\n",
       "  <thead>\n",
       "    <tr style=\"text-align: right;\">\n",
       "      <th></th>\n",
       "      <th>gvkey</th>\n",
       "      <th>datadate</th>\n",
       "      <th>at</th>\n",
       "      <th>lt</th>\n",
       "    </tr>\n",
       "  </thead>\n",
       "  <tbody>\n",
       "    <tr>\n",
       "      <th>0</th>\n",
       "      <td>797235</td>\n",
       "      <td>2012-12-31</td>\n",
       "      <td>119213.0</td>\n",
       "      <td>100229.0</td>\n",
       "    </tr>\n",
       "    <tr>\n",
       "      <th>1</th>\n",
       "      <td>797235</td>\n",
       "      <td>2013-12-31</td>\n",
       "      <td>126223.0</td>\n",
       "      <td>103294.0</td>\n",
       "    </tr>\n",
       "    <tr>\n",
       "      <th>2</th>\n",
       "      <td>797235</td>\n",
       "      <td>2014-12-31</td>\n",
       "      <td>117532.0</td>\n",
       "      <td>105518.0</td>\n",
       "    </tr>\n",
       "    <tr>\n",
       "      <th>3</th>\n",
       "      <td>797235</td>\n",
       "      <td>2015-12-31</td>\n",
       "      <td>110495.0</td>\n",
       "      <td>96071.0</td>\n",
       "    </tr>\n",
       "    <tr>\n",
       "      <th>4</th>\n",
       "      <td>797235</td>\n",
       "      <td>2016-12-31</td>\n",
       "      <td>117470.0</td>\n",
       "      <td>99078.0</td>\n",
       "    </tr>\n",
       "  </tbody>\n",
       "</table>\n",
       "</div>"
      ],
      "text/plain": [
       "    gvkey    datadate        at        lt\n",
       "0  797235  2012-12-31  119213.0  100229.0\n",
       "1  797235  2013-12-31  126223.0  103294.0\n",
       "2  797235  2014-12-31  117532.0  105518.0\n",
       "3  797235  2015-12-31  110495.0   96071.0\n",
       "4  797235  2016-12-31  117470.0   99078.0"
      ]
     },
     "execution_count": 10,
     "metadata": {},
     "output_type": "execute_result"
    }
   ],
   "source": [
    "fina = pd.concat(dfs, axis=0, ignore_index=True)\n",
    "fina.head()"
   ]
  },
  {
   "cell_type": "markdown",
   "id": "b2ea632a",
   "metadata": {},
   "source": [
    "10. Calculate the median of `at` by `gvkey` using `groupby()`"
   ]
  },
  {
   "cell_type": "code",
   "execution_count": 11,
   "id": "701cd32c",
   "metadata": {},
   "outputs": [
    {
     "data": {
      "text/plain": [
       "gvkey\n",
       "2575        2159.798\n",
       "5977      188602.000\n",
       "6683        3451.048\n",
       "7334       28316.500\n",
       "9402      184958.500\n",
       "             ...    \n",
       "995990     11460.000\n",
       "996343      7666.223\n",
       "996812     23394.000\n",
       "997531      8426.000\n",
       "998876      1705.900\n",
       "Name: at, Length: 481, dtype: float64"
      ]
     },
     "execution_count": 11,
     "metadata": {},
     "output_type": "execute_result"
    }
   ],
   "source": [
    "fina.groupby('gvkey')['at'].median()"
   ]
  }
 ],
 "metadata": {
  "language_info": {
   "name": "python"
  }
 },
 "nbformat": 4,
 "nbformat_minor": 5
}
