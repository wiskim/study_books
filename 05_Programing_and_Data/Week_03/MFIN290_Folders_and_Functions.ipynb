{
 "cells": [
  {
   "cell_type": "code",
   "execution_count": 1,
   "metadata": {},
   "outputs": [],
   "source": [
    "import pandas as pd\n",
    "import numpy as np"
   ]
  },
  {
   "cell_type": "markdown",
   "metadata": {},
   "source": [
    "### Part 1: Folders and files\n",
    "\n",
    "Rather than using a point-click approach to folders and files, we are going to let Python do the work for us.  We will focus on the `os` module, but there are others out there that you should take a look at (e.g., `glob`)."
   ]
  },
  {
   "cell_type": "code",
   "execution_count": 2,
   "metadata": {},
   "outputs": [],
   "source": [
    "import os"
   ]
  },
  {
   "cell_type": "markdown",
   "metadata": {},
   "source": [
    "First, let's understand how Python maps folders in your computer.\n"
   ]
  },
  {
   "cell_type": "code",
   "execution_count": 3,
   "metadata": {},
   "outputs": [
    {
     "data": {
      "text/plain": [
       "'/Users/ws/Projects/study_books/07_Programing_and_Data/Week_03'"
      ]
     },
     "execution_count": 3,
     "metadata": {},
     "output_type": "execute_result"
    }
   ],
   "source": [
    "# Current working directory\n",
    "cwd = os.getcwd()\n",
    "cwd"
   ]
  },
  {
   "cell_type": "markdown",
   "metadata": {},
   "source": [
    "An alternative is to simply open the folder where this notebook is stored using Explorer and copy the url.  Then create a variable, `url1`, and use `r` to capture the full url as a raw string."
   ]
  },
  {
   "cell_type": "code",
   "execution_count": 4,
   "metadata": {},
   "outputs": [
    {
     "data": {
      "text/plain": [
       "'/Users/ws/Projects/study_books/07_Programing_and_Data/Week_03'"
      ]
     },
     "execution_count": 4,
     "metadata": {},
     "output_type": "execute_result"
    }
   ],
   "source": [
    "url1 = r'/Users/ws/Projects/study_books/07_Programing_and_Data/Week_03'\n",
    "url1"
   ]
  },
  {
   "cell_type": "markdown",
   "metadata": {},
   "source": [
    "Let's take a look at what is contained in the current working directory.  For that we'll use: `os.listdir()`"
   ]
  },
  {
   "cell_type": "code",
   "execution_count": 5,
   "metadata": {},
   "outputs": [
    {
     "data": {
      "text/plain": [
       "['.DS_Store',\n",
       " 'MFIN290_Folders_and_Functions.ipynb',\n",
       " 'MFIN290_Grouping_and_Summary_Stats.ipynb',\n",
       " 'MFIN290_Missing_Data.ipynb',\n",
       " 'MFIN290_Stacking_and_Merging.ipynb',\n",
       " 'fina.csv',\n",
       " 'Earnings.zip',\n",
       " 'MFIN290_Reading_and_Filtering_Data.ipynb',\n",
       " 'MFIN290_HW3.ipynb']"
      ]
     },
     "execution_count": 5,
     "metadata": {},
     "output_type": "execute_result"
    }
   ],
   "source": [
    "os.listdir(cwd)"
   ]
  },
  {
   "cell_type": "markdown",
   "metadata": {},
   "source": [
    "We need to extract the files in 'Earnings.zip'.  For that, we'll use the `zipfile` module."
   ]
  },
  {
   "cell_type": "code",
   "execution_count": 6,
   "metadata": {},
   "outputs": [],
   "source": [
    "from zipfile import ZipFile"
   ]
  },
  {
   "cell_type": "code",
   "execution_count": 7,
   "metadata": {},
   "outputs": [],
   "source": [
    "with ZipFile('Earnings.zip','r') as zipObj:\n",
    "           zipObj.extractall()"
   ]
  },
  {
   "cell_type": "markdown",
   "metadata": {},
   "source": [
    "The files from 'Earnings.zip' have been extracted to a new folder called \"Earnings.\"  Let's see what's in that folder.  There are several ways to do this, but we'll use `os.listdir()`, which lists all files in a given directory.\n",
    "\n"
   ]
  },
  {
   "cell_type": "code",
   "execution_count": 8,
   "metadata": {},
   "outputs": [
    {
     "data": {
      "text/plain": [
       "['goog_earnings.csv',\n",
       " 'msft_earnings.csv',\n",
       " 'aapl_earnings.csv',\n",
       " 'nflx_earnings.csv',\n",
       " 'fb_earnings.csv']"
      ]
     },
     "execution_count": 8,
     "metadata": {},
     "output_type": "execute_result"
    }
   ],
   "source": [
    "os.listdir('Earnings')"
   ]
  },
  {
   "cell_type": "markdown",
   "metadata": {},
   "source": [
    "### Part 2: Learning functions\n",
    "\n",
    "In this part, we'll illustrate the power of user-created functions with a single CSV file.  Let's pull in the earnings file for Apple."
   ]
  },
  {
   "cell_type": "code",
   "execution_count": 9,
   "metadata": {},
   "outputs": [],
   "source": [
    "aapl = pd.read_csv('Earnings/aapl_earnings.csv')"
   ]
  },
  {
   "cell_type": "code",
   "execution_count": 10,
   "metadata": {},
   "outputs": [
    {
     "data": {
      "text/html": [
       "<div>\n",
       "<style scoped>\n",
       "    .dataframe tbody tr th:only-of-type {\n",
       "        vertical-align: middle;\n",
       "    }\n",
       "\n",
       "    .dataframe tbody tr th {\n",
       "        vertical-align: top;\n",
       "    }\n",
       "\n",
       "    .dataframe thead th {\n",
       "        text-align: right;\n",
       "    }\n",
       "</style>\n",
       "<table border=\"1\" class=\"dataframe\">\n",
       "  <thead>\n",
       "    <tr style=\"text-align: right;\">\n",
       "      <th></th>\n",
       "      <th>Symbol</th>\n",
       "      <th>Company</th>\n",
       "      <th>Earnings Date</th>\n",
       "      <th>EPS Estimate</th>\n",
       "      <th>Reported EPS</th>\n",
       "      <th>Surprise(%)</th>\n",
       "    </tr>\n",
       "  </thead>\n",
       "  <tbody>\n",
       "    <tr>\n",
       "      <th>0</th>\n",
       "      <td>AAPL</td>\n",
       "      <td>Apple Inc.</td>\n",
       "      <td>Jul 30, 2020, 12 AMEDT</td>\n",
       "      <td>2.04</td>\n",
       "      <td>2.58</td>\n",
       "      <td>26.22</td>\n",
       "    </tr>\n",
       "    <tr>\n",
       "      <th>1</th>\n",
       "      <td>AAPL</td>\n",
       "      <td>Apple Inc.</td>\n",
       "      <td>Apr 30, 2020, 12 AMEDT</td>\n",
       "      <td>2.26</td>\n",
       "      <td>2.55</td>\n",
       "      <td>12.78</td>\n",
       "    </tr>\n",
       "    <tr>\n",
       "      <th>2</th>\n",
       "      <td>AAPL</td>\n",
       "      <td>Apple Inc.</td>\n",
       "      <td>Jan 28, 2020, 12 AMEDT</td>\n",
       "      <td>4.55</td>\n",
       "      <td>4.99</td>\n",
       "      <td>9.74</td>\n",
       "    </tr>\n",
       "    <tr>\n",
       "      <th>3</th>\n",
       "      <td>AAPL</td>\n",
       "      <td>Apple Inc.</td>\n",
       "      <td>Oct 30, 2019, 12 AMEDT</td>\n",
       "      <td>2.84</td>\n",
       "      <td>3.03</td>\n",
       "      <td>6.73</td>\n",
       "    </tr>\n",
       "    <tr>\n",
       "      <th>4</th>\n",
       "      <td>AAPL</td>\n",
       "      <td>Apple Inc.</td>\n",
       "      <td>Jul 30, 2019, 12 AMEDT</td>\n",
       "      <td>2.10</td>\n",
       "      <td>2.18</td>\n",
       "      <td>3.91</td>\n",
       "    </tr>\n",
       "    <tr>\n",
       "      <th>5</th>\n",
       "      <td>AAPL</td>\n",
       "      <td>Apple Inc.</td>\n",
       "      <td>Apr 30, 2019, 12 AMEDT</td>\n",
       "      <td>2.36</td>\n",
       "      <td>2.46</td>\n",
       "      <td>4.19</td>\n",
       "    </tr>\n",
       "    <tr>\n",
       "      <th>6</th>\n",
       "      <td>AAPL</td>\n",
       "      <td>Apple Inc.</td>\n",
       "      <td>Jan 29, 2019, 12 AMEDT</td>\n",
       "      <td>4.17</td>\n",
       "      <td>4.18</td>\n",
       "      <td>0.31</td>\n",
       "    </tr>\n",
       "    <tr>\n",
       "      <th>7</th>\n",
       "      <td>AAPL</td>\n",
       "      <td>Apple Inc.</td>\n",
       "      <td>Nov 01, 2018, 12 AMEDT</td>\n",
       "      <td>2.78</td>\n",
       "      <td>2.91</td>\n",
       "      <td>4.56</td>\n",
       "    </tr>\n",
       "    <tr>\n",
       "      <th>8</th>\n",
       "      <td>AAPL</td>\n",
       "      <td>Apple Inc.</td>\n",
       "      <td>Jul 31, 2018, 12 AMEDT</td>\n",
       "      <td>2.18</td>\n",
       "      <td>2.34</td>\n",
       "      <td>7.29</td>\n",
       "    </tr>\n",
       "    <tr>\n",
       "      <th>9</th>\n",
       "      <td>AAPL</td>\n",
       "      <td>Apple Inc.</td>\n",
       "      <td>May 01, 2018, 12 AMEDT</td>\n",
       "      <td>2.67</td>\n",
       "      <td>2.73</td>\n",
       "      <td>2.13</td>\n",
       "    </tr>\n",
       "  </tbody>\n",
       "</table>\n",
       "</div>"
      ],
      "text/plain": [
       "  Symbol     Company           Earnings Date  EPS Estimate  Reported EPS  \\\n",
       "0   AAPL  Apple Inc.  Jul 30, 2020, 12 AMEDT          2.04          2.58   \n",
       "1   AAPL  Apple Inc.  Apr 30, 2020, 12 AMEDT          2.26          2.55   \n",
       "2   AAPL  Apple Inc.  Jan 28, 2020, 12 AMEDT          4.55          4.99   \n",
       "3   AAPL  Apple Inc.  Oct 30, 2019, 12 AMEDT          2.84          3.03   \n",
       "4   AAPL  Apple Inc.  Jul 30, 2019, 12 AMEDT          2.10          2.18   \n",
       "5   AAPL  Apple Inc.  Apr 30, 2019, 12 AMEDT          2.36          2.46   \n",
       "6   AAPL  Apple Inc.  Jan 29, 2019, 12 AMEDT          4.17          4.18   \n",
       "7   AAPL  Apple Inc.  Nov 01, 2018, 12 AMEDT          2.78          2.91   \n",
       "8   AAPL  Apple Inc.  Jul 31, 2018, 12 AMEDT          2.18          2.34   \n",
       "9   AAPL  Apple Inc.  May 01, 2018, 12 AMEDT          2.67          2.73   \n",
       "\n",
       "   Surprise(%)  \n",
       "0        26.22  \n",
       "1        12.78  \n",
       "2         9.74  \n",
       "3         6.73  \n",
       "4         3.91  \n",
       "5         4.19  \n",
       "6         0.31  \n",
       "7         4.56  \n",
       "8         7.29  \n",
       "9         2.13  "
      ]
     },
     "execution_count": 10,
     "metadata": {},
     "output_type": "execute_result"
    }
   ],
   "source": [
    "aapl.head(10)"
   ]
  },
  {
   "cell_type": "markdown",
   "metadata": {},
   "source": [
    "### User-Created Functions\n",
    "\n",
    "These functions can be *anything* you want them to be.  Therein lies their power.  We will look at several user-created functions, just to illustrate the basic principles and syntax."
   ]
  },
  {
   "cell_type": "markdown",
   "metadata": {},
   "source": [
    "**User Function #1: Using `apply()`**\n",
    "\n",
    "`apply()` is a pandas method that applies a function along an axis of a DataFrame.  The primary parameter of `apply()` is a function.  \n",
    "\n",
    "Let's use `apply` over the built-in `len` function, in order to to figure out the length of the company name.\n",
    "\n"
   ]
  },
  {
   "cell_type": "code",
   "execution_count": 11,
   "metadata": {},
   "outputs": [],
   "source": [
    "aapl['name_length'] = aapl['Company'].apply(len)"
   ]
  },
  {
   "cell_type": "code",
   "execution_count": 12,
   "metadata": {},
   "outputs": [
    {
     "data": {
      "text/html": [
       "<div>\n",
       "<style scoped>\n",
       "    .dataframe tbody tr th:only-of-type {\n",
       "        vertical-align: middle;\n",
       "    }\n",
       "\n",
       "    .dataframe tbody tr th {\n",
       "        vertical-align: top;\n",
       "    }\n",
       "\n",
       "    .dataframe thead th {\n",
       "        text-align: right;\n",
       "    }\n",
       "</style>\n",
       "<table border=\"1\" class=\"dataframe\">\n",
       "  <thead>\n",
       "    <tr style=\"text-align: right;\">\n",
       "      <th></th>\n",
       "      <th>Symbol</th>\n",
       "      <th>Company</th>\n",
       "      <th>Earnings Date</th>\n",
       "      <th>EPS Estimate</th>\n",
       "      <th>Reported EPS</th>\n",
       "      <th>Surprise(%)</th>\n",
       "      <th>name_length</th>\n",
       "    </tr>\n",
       "  </thead>\n",
       "  <tbody>\n",
       "    <tr>\n",
       "      <th>0</th>\n",
       "      <td>AAPL</td>\n",
       "      <td>Apple Inc.</td>\n",
       "      <td>Jul 30, 2020, 12 AMEDT</td>\n",
       "      <td>2.04</td>\n",
       "      <td>2.58</td>\n",
       "      <td>26.22</td>\n",
       "      <td>10</td>\n",
       "    </tr>\n",
       "    <tr>\n",
       "      <th>1</th>\n",
       "      <td>AAPL</td>\n",
       "      <td>Apple Inc.</td>\n",
       "      <td>Apr 30, 2020, 12 AMEDT</td>\n",
       "      <td>2.26</td>\n",
       "      <td>2.55</td>\n",
       "      <td>12.78</td>\n",
       "      <td>10</td>\n",
       "    </tr>\n",
       "    <tr>\n",
       "      <th>2</th>\n",
       "      <td>AAPL</td>\n",
       "      <td>Apple Inc.</td>\n",
       "      <td>Jan 28, 2020, 12 AMEDT</td>\n",
       "      <td>4.55</td>\n",
       "      <td>4.99</td>\n",
       "      <td>9.74</td>\n",
       "      <td>10</td>\n",
       "    </tr>\n",
       "    <tr>\n",
       "      <th>3</th>\n",
       "      <td>AAPL</td>\n",
       "      <td>Apple Inc.</td>\n",
       "      <td>Oct 30, 2019, 12 AMEDT</td>\n",
       "      <td>2.84</td>\n",
       "      <td>3.03</td>\n",
       "      <td>6.73</td>\n",
       "      <td>10</td>\n",
       "    </tr>\n",
       "    <tr>\n",
       "      <th>4</th>\n",
       "      <td>AAPL</td>\n",
       "      <td>Apple Inc.</td>\n",
       "      <td>Jul 30, 2019, 12 AMEDT</td>\n",
       "      <td>2.10</td>\n",
       "      <td>2.18</td>\n",
       "      <td>3.91</td>\n",
       "      <td>10</td>\n",
       "    </tr>\n",
       "  </tbody>\n",
       "</table>\n",
       "</div>"
      ],
      "text/plain": [
       "  Symbol     Company           Earnings Date  EPS Estimate  Reported EPS  \\\n",
       "0   AAPL  Apple Inc.  Jul 30, 2020, 12 AMEDT          2.04          2.58   \n",
       "1   AAPL  Apple Inc.  Apr 30, 2020, 12 AMEDT          2.26          2.55   \n",
       "2   AAPL  Apple Inc.  Jan 28, 2020, 12 AMEDT          4.55          4.99   \n",
       "3   AAPL  Apple Inc.  Oct 30, 2019, 12 AMEDT          2.84          3.03   \n",
       "4   AAPL  Apple Inc.  Jul 30, 2019, 12 AMEDT          2.10          2.18   \n",
       "\n",
       "   Surprise(%)  name_length  \n",
       "0        26.22           10  \n",
       "1        12.78           10  \n",
       "2         9.74           10  \n",
       "3         6.73           10  \n",
       "4         3.91           10  "
      ]
     },
     "execution_count": 12,
     "metadata": {},
     "output_type": "execute_result"
    }
   ],
   "source": [
    "aapl.head()"
   ]
  },
  {
   "cell_type": "markdown",
   "metadata": {},
   "source": [
    "**User Function #2: Meet/Beat Earnings Surprises**\n",
    "\n",
    "Let's create our own function -- we'll call it `meet_or_beat`.  The goal of this function is to identify earnings surprises that:\n",
    "  - just beat the analyst forecast by a single penny,\n",
    "  - exactly met the forecast, or \n",
    "  - just missed the analyst forecast by a single penny. \n"
   ]
  },
  {
   "cell_type": "code",
   "execution_count": 13,
   "metadata": {},
   "outputs": [],
   "source": [
    "# first, create the `surprise` variable\n",
    "aapl['surprise'] = aapl['Reported EPS'] - aapl['EPS Estimate'] "
   ]
  },
  {
   "cell_type": "code",
   "execution_count": 14,
   "metadata": {},
   "outputs": [
    {
     "data": {
      "text/html": [
       "<div>\n",
       "<style scoped>\n",
       "    .dataframe tbody tr th:only-of-type {\n",
       "        vertical-align: middle;\n",
       "    }\n",
       "\n",
       "    .dataframe tbody tr th {\n",
       "        vertical-align: top;\n",
       "    }\n",
       "\n",
       "    .dataframe thead th {\n",
       "        text-align: right;\n",
       "    }\n",
       "</style>\n",
       "<table border=\"1\" class=\"dataframe\">\n",
       "  <thead>\n",
       "    <tr style=\"text-align: right;\">\n",
       "      <th></th>\n",
       "      <th>Symbol</th>\n",
       "      <th>Company</th>\n",
       "      <th>Earnings Date</th>\n",
       "      <th>EPS Estimate</th>\n",
       "      <th>Reported EPS</th>\n",
       "      <th>Surprise(%)</th>\n",
       "      <th>name_length</th>\n",
       "      <th>surprise</th>\n",
       "    </tr>\n",
       "  </thead>\n",
       "  <tbody>\n",
       "    <tr>\n",
       "      <th>0</th>\n",
       "      <td>AAPL</td>\n",
       "      <td>Apple Inc.</td>\n",
       "      <td>Jul 30, 2020, 12 AMEDT</td>\n",
       "      <td>2.04</td>\n",
       "      <td>2.58</td>\n",
       "      <td>26.22</td>\n",
       "      <td>10</td>\n",
       "      <td>0.54</td>\n",
       "    </tr>\n",
       "    <tr>\n",
       "      <th>1</th>\n",
       "      <td>AAPL</td>\n",
       "      <td>Apple Inc.</td>\n",
       "      <td>Apr 30, 2020, 12 AMEDT</td>\n",
       "      <td>2.26</td>\n",
       "      <td>2.55</td>\n",
       "      <td>12.78</td>\n",
       "      <td>10</td>\n",
       "      <td>0.29</td>\n",
       "    </tr>\n",
       "    <tr>\n",
       "      <th>2</th>\n",
       "      <td>AAPL</td>\n",
       "      <td>Apple Inc.</td>\n",
       "      <td>Jan 28, 2020, 12 AMEDT</td>\n",
       "      <td>4.55</td>\n",
       "      <td>4.99</td>\n",
       "      <td>9.74</td>\n",
       "      <td>10</td>\n",
       "      <td>0.44</td>\n",
       "    </tr>\n",
       "    <tr>\n",
       "      <th>3</th>\n",
       "      <td>AAPL</td>\n",
       "      <td>Apple Inc.</td>\n",
       "      <td>Oct 30, 2019, 12 AMEDT</td>\n",
       "      <td>2.84</td>\n",
       "      <td>3.03</td>\n",
       "      <td>6.73</td>\n",
       "      <td>10</td>\n",
       "      <td>0.19</td>\n",
       "    </tr>\n",
       "    <tr>\n",
       "      <th>4</th>\n",
       "      <td>AAPL</td>\n",
       "      <td>Apple Inc.</td>\n",
       "      <td>Jul 30, 2019, 12 AMEDT</td>\n",
       "      <td>2.10</td>\n",
       "      <td>2.18</td>\n",
       "      <td>3.91</td>\n",
       "      <td>10</td>\n",
       "      <td>0.08</td>\n",
       "    </tr>\n",
       "  </tbody>\n",
       "</table>\n",
       "</div>"
      ],
      "text/plain": [
       "  Symbol     Company           Earnings Date  EPS Estimate  Reported EPS  \\\n",
       "0   AAPL  Apple Inc.  Jul 30, 2020, 12 AMEDT          2.04          2.58   \n",
       "1   AAPL  Apple Inc.  Apr 30, 2020, 12 AMEDT          2.26          2.55   \n",
       "2   AAPL  Apple Inc.  Jan 28, 2020, 12 AMEDT          4.55          4.99   \n",
       "3   AAPL  Apple Inc.  Oct 30, 2019, 12 AMEDT          2.84          3.03   \n",
       "4   AAPL  Apple Inc.  Jul 30, 2019, 12 AMEDT          2.10          2.18   \n",
       "\n",
       "   Surprise(%)  name_length  surprise  \n",
       "0        26.22           10      0.54  \n",
       "1        12.78           10      0.29  \n",
       "2         9.74           10      0.44  \n",
       "3         6.73           10      0.19  \n",
       "4         3.91           10      0.08  "
      ]
     },
     "execution_count": 14,
     "metadata": {},
     "output_type": "execute_result"
    }
   ],
   "source": [
    "aapl.head()"
   ]
  },
  {
   "cell_type": "code",
   "execution_count": 15,
   "metadata": {},
   "outputs": [],
   "source": [
    "# Let's practice creating a user-created function\n",
    "def temp_function(num):\n",
    "    if num > 0:\n",
    "        value = 'positive'\n",
    "    elif num == 0:\n",
    "        value = 'zero'\n",
    "    else:\n",
    "        value = 'negative'\n",
    "    return value"
   ]
  },
  {
   "cell_type": "code",
   "execution_count": 16,
   "metadata": {},
   "outputs": [
    {
     "data": {
      "text/plain": [
       "'positive'"
      ]
     },
     "execution_count": 16,
     "metadata": {},
     "output_type": "execute_result"
    }
   ],
   "source": [
    "temp_variable = temp_function(3)\n",
    "temp_variable"
   ]
  },
  {
   "cell_type": "code",
   "execution_count": 17,
   "metadata": {},
   "outputs": [],
   "source": [
    "# next, let's create our own function:\n",
    "def meet_or_beat(row):\n",
    "    if 0  < row['surprise'] <= 0.01:\n",
    "        value = 'justbeat'\n",
    "    elif row['surprise'] ==0:\n",
    "        value = 'exactlymeet'\n",
    "    elif -0.01  <= row['surprise'] < 0:\n",
    "        value = 'justmiss'\n",
    "    else:\n",
    "        value= 'none'\n",
    "    return value\n",
    "\n"
   ]
  },
  {
   "cell_type": "code",
   "execution_count": 18,
   "metadata": {},
   "outputs": [
    {
     "data": {
      "text/html": [
       "<div>\n",
       "<style scoped>\n",
       "    .dataframe tbody tr th:only-of-type {\n",
       "        vertical-align: middle;\n",
       "    }\n",
       "\n",
       "    .dataframe tbody tr th {\n",
       "        vertical-align: top;\n",
       "    }\n",
       "\n",
       "    .dataframe thead th {\n",
       "        text-align: right;\n",
       "    }\n",
       "</style>\n",
       "<table border=\"1\" class=\"dataframe\">\n",
       "  <thead>\n",
       "    <tr style=\"text-align: right;\">\n",
       "      <th></th>\n",
       "      <th>Symbol</th>\n",
       "      <th>Company</th>\n",
       "      <th>Earnings Date</th>\n",
       "      <th>EPS Estimate</th>\n",
       "      <th>Reported EPS</th>\n",
       "      <th>Surprise(%)</th>\n",
       "      <th>name_length</th>\n",
       "      <th>surprise</th>\n",
       "      <th>meet_beat</th>\n",
       "    </tr>\n",
       "  </thead>\n",
       "  <tbody>\n",
       "    <tr>\n",
       "      <th>0</th>\n",
       "      <td>AAPL</td>\n",
       "      <td>Apple Inc.</td>\n",
       "      <td>Jul 30, 2020, 12 AMEDT</td>\n",
       "      <td>2.04</td>\n",
       "      <td>2.58</td>\n",
       "      <td>26.22</td>\n",
       "      <td>10</td>\n",
       "      <td>0.54</td>\n",
       "      <td>none</td>\n",
       "    </tr>\n",
       "    <tr>\n",
       "      <th>1</th>\n",
       "      <td>AAPL</td>\n",
       "      <td>Apple Inc.</td>\n",
       "      <td>Apr 30, 2020, 12 AMEDT</td>\n",
       "      <td>2.26</td>\n",
       "      <td>2.55</td>\n",
       "      <td>12.78</td>\n",
       "      <td>10</td>\n",
       "      <td>0.29</td>\n",
       "      <td>none</td>\n",
       "    </tr>\n",
       "    <tr>\n",
       "      <th>2</th>\n",
       "      <td>AAPL</td>\n",
       "      <td>Apple Inc.</td>\n",
       "      <td>Jan 28, 2020, 12 AMEDT</td>\n",
       "      <td>4.55</td>\n",
       "      <td>4.99</td>\n",
       "      <td>9.74</td>\n",
       "      <td>10</td>\n",
       "      <td>0.44</td>\n",
       "      <td>none</td>\n",
       "    </tr>\n",
       "    <tr>\n",
       "      <th>3</th>\n",
       "      <td>AAPL</td>\n",
       "      <td>Apple Inc.</td>\n",
       "      <td>Oct 30, 2019, 12 AMEDT</td>\n",
       "      <td>2.84</td>\n",
       "      <td>3.03</td>\n",
       "      <td>6.73</td>\n",
       "      <td>10</td>\n",
       "      <td>0.19</td>\n",
       "      <td>none</td>\n",
       "    </tr>\n",
       "    <tr>\n",
       "      <th>4</th>\n",
       "      <td>AAPL</td>\n",
       "      <td>Apple Inc.</td>\n",
       "      <td>Jul 30, 2019, 12 AMEDT</td>\n",
       "      <td>2.10</td>\n",
       "      <td>2.18</td>\n",
       "      <td>3.91</td>\n",
       "      <td>10</td>\n",
       "      <td>0.08</td>\n",
       "      <td>none</td>\n",
       "    </tr>\n",
       "    <tr>\n",
       "      <th>5</th>\n",
       "      <td>AAPL</td>\n",
       "      <td>Apple Inc.</td>\n",
       "      <td>Apr 30, 2019, 12 AMEDT</td>\n",
       "      <td>2.36</td>\n",
       "      <td>2.46</td>\n",
       "      <td>4.19</td>\n",
       "      <td>10</td>\n",
       "      <td>0.10</td>\n",
       "      <td>none</td>\n",
       "    </tr>\n",
       "    <tr>\n",
       "      <th>6</th>\n",
       "      <td>AAPL</td>\n",
       "      <td>Apple Inc.</td>\n",
       "      <td>Jan 29, 2019, 12 AMEDT</td>\n",
       "      <td>4.17</td>\n",
       "      <td>4.18</td>\n",
       "      <td>0.31</td>\n",
       "      <td>10</td>\n",
       "      <td>0.01</td>\n",
       "      <td>justbeat</td>\n",
       "    </tr>\n",
       "    <tr>\n",
       "      <th>7</th>\n",
       "      <td>AAPL</td>\n",
       "      <td>Apple Inc.</td>\n",
       "      <td>Nov 01, 2018, 12 AMEDT</td>\n",
       "      <td>2.78</td>\n",
       "      <td>2.91</td>\n",
       "      <td>4.56</td>\n",
       "      <td>10</td>\n",
       "      <td>0.13</td>\n",
       "      <td>none</td>\n",
       "    </tr>\n",
       "    <tr>\n",
       "      <th>8</th>\n",
       "      <td>AAPL</td>\n",
       "      <td>Apple Inc.</td>\n",
       "      <td>Jul 31, 2018, 12 AMEDT</td>\n",
       "      <td>2.18</td>\n",
       "      <td>2.34</td>\n",
       "      <td>7.29</td>\n",
       "      <td>10</td>\n",
       "      <td>0.16</td>\n",
       "      <td>none</td>\n",
       "    </tr>\n",
       "    <tr>\n",
       "      <th>9</th>\n",
       "      <td>AAPL</td>\n",
       "      <td>Apple Inc.</td>\n",
       "      <td>May 01, 2018, 12 AMEDT</td>\n",
       "      <td>2.67</td>\n",
       "      <td>2.73</td>\n",
       "      <td>2.13</td>\n",
       "      <td>10</td>\n",
       "      <td>0.06</td>\n",
       "      <td>none</td>\n",
       "    </tr>\n",
       "    <tr>\n",
       "      <th>10</th>\n",
       "      <td>AAPL</td>\n",
       "      <td>Apple Inc.</td>\n",
       "      <td>Feb 01, 2018, 12 AMEDT</td>\n",
       "      <td>3.86</td>\n",
       "      <td>3.89</td>\n",
       "      <td>0.86</td>\n",
       "      <td>10</td>\n",
       "      <td>0.03</td>\n",
       "      <td>none</td>\n",
       "    </tr>\n",
       "    <tr>\n",
       "      <th>11</th>\n",
       "      <td>AAPL</td>\n",
       "      <td>Apple Inc.</td>\n",
       "      <td>Nov 02, 2017, 12 AMEDT</td>\n",
       "      <td>1.87</td>\n",
       "      <td>2.07</td>\n",
       "      <td>10.87</td>\n",
       "      <td>10</td>\n",
       "      <td>0.20</td>\n",
       "      <td>none</td>\n",
       "    </tr>\n",
       "    <tr>\n",
       "      <th>12</th>\n",
       "      <td>AAPL</td>\n",
       "      <td>Apple Inc.</td>\n",
       "      <td>Aug 01, 2017, 12 AMEDT</td>\n",
       "      <td>1.57</td>\n",
       "      <td>1.67</td>\n",
       "      <td>6.23</td>\n",
       "      <td>10</td>\n",
       "      <td>0.10</td>\n",
       "      <td>none</td>\n",
       "    </tr>\n",
       "    <tr>\n",
       "      <th>13</th>\n",
       "      <td>AAPL</td>\n",
       "      <td>Apple Inc.</td>\n",
       "      <td>May 02, 2017, 12 AMEDT</td>\n",
       "      <td>2.02</td>\n",
       "      <td>2.10</td>\n",
       "      <td>3.96</td>\n",
       "      <td>10</td>\n",
       "      <td>0.08</td>\n",
       "      <td>none</td>\n",
       "    </tr>\n",
       "    <tr>\n",
       "      <th>14</th>\n",
       "      <td>AAPL</td>\n",
       "      <td>Apple Inc.</td>\n",
       "      <td>Jan 31, 2017, 12 AMEDT</td>\n",
       "      <td>3.21</td>\n",
       "      <td>3.36</td>\n",
       "      <td>4.54</td>\n",
       "      <td>10</td>\n",
       "      <td>0.15</td>\n",
       "      <td>none</td>\n",
       "    </tr>\n",
       "  </tbody>\n",
       "</table>\n",
       "</div>"
      ],
      "text/plain": [
       "   Symbol     Company           Earnings Date  EPS Estimate  Reported EPS  \\\n",
       "0    AAPL  Apple Inc.  Jul 30, 2020, 12 AMEDT          2.04          2.58   \n",
       "1    AAPL  Apple Inc.  Apr 30, 2020, 12 AMEDT          2.26          2.55   \n",
       "2    AAPL  Apple Inc.  Jan 28, 2020, 12 AMEDT          4.55          4.99   \n",
       "3    AAPL  Apple Inc.  Oct 30, 2019, 12 AMEDT          2.84          3.03   \n",
       "4    AAPL  Apple Inc.  Jul 30, 2019, 12 AMEDT          2.10          2.18   \n",
       "5    AAPL  Apple Inc.  Apr 30, 2019, 12 AMEDT          2.36          2.46   \n",
       "6    AAPL  Apple Inc.  Jan 29, 2019, 12 AMEDT          4.17          4.18   \n",
       "7    AAPL  Apple Inc.  Nov 01, 2018, 12 AMEDT          2.78          2.91   \n",
       "8    AAPL  Apple Inc.  Jul 31, 2018, 12 AMEDT          2.18          2.34   \n",
       "9    AAPL  Apple Inc.  May 01, 2018, 12 AMEDT          2.67          2.73   \n",
       "10   AAPL  Apple Inc.  Feb 01, 2018, 12 AMEDT          3.86          3.89   \n",
       "11   AAPL  Apple Inc.  Nov 02, 2017, 12 AMEDT          1.87          2.07   \n",
       "12   AAPL  Apple Inc.  Aug 01, 2017, 12 AMEDT          1.57          1.67   \n",
       "13   AAPL  Apple Inc.  May 02, 2017, 12 AMEDT          2.02          2.10   \n",
       "14   AAPL  Apple Inc.  Jan 31, 2017, 12 AMEDT          3.21          3.36   \n",
       "\n",
       "    Surprise(%)  name_length  surprise meet_beat  \n",
       "0         26.22           10      0.54      none  \n",
       "1         12.78           10      0.29      none  \n",
       "2          9.74           10      0.44      none  \n",
       "3          6.73           10      0.19      none  \n",
       "4          3.91           10      0.08      none  \n",
       "5          4.19           10      0.10      none  \n",
       "6          0.31           10      0.01  justbeat  \n",
       "7          4.56           10      0.13      none  \n",
       "8          7.29           10      0.16      none  \n",
       "9          2.13           10      0.06      none  \n",
       "10         0.86           10      0.03      none  \n",
       "11        10.87           10      0.20      none  \n",
       "12         6.23           10      0.10      none  \n",
       "13         3.96           10      0.08      none  \n",
       "14         4.54           10      0.15      none  "
      ]
     },
     "execution_count": 18,
     "metadata": {},
     "output_type": "execute_result"
    }
   ],
   "source": [
    "# By setting axis = 1, we're applying meet_or_beat row-by-row\n",
    "aapl['meet_beat']=aapl.apply(meet_or_beat, axis=1)\n",
    "aapl.head(15)"
   ]
  },
  {
   "cell_type": "code",
   "execution_count": 19,
   "metadata": {},
   "outputs": [
    {
     "name": "stdout",
     "output_type": "stream",
     "text": [
      "<class 'pandas.core.frame.DataFrame'>\n",
      "RangeIndex: 89 entries, 0 to 88\n",
      "Data columns (total 9 columns):\n",
      " #   Column         Non-Null Count  Dtype  \n",
      "---  ------         --------------  -----  \n",
      " 0   Symbol         89 non-null     object \n",
      " 1   Company        89 non-null     object \n",
      " 2   Earnings Date  89 non-null     object \n",
      " 3   EPS Estimate   89 non-null     float64\n",
      " 4   Reported EPS   89 non-null     float64\n",
      " 5   Surprise(%)    89 non-null     float64\n",
      " 6   name_length    89 non-null     int64  \n",
      " 7   surprise       89 non-null     float64\n",
      " 8   meet_beat      89 non-null     object \n",
      "dtypes: float64(4), int64(1), object(4)\n",
      "memory usage: 6.4+ KB\n"
     ]
    }
   ],
   "source": [
    "aapl.info()"
   ]
  },
  {
   "cell_type": "markdown",
   "metadata": {},
   "source": [
    "**User Function #3: Clean up dates**\n",
    "\n",
    "Notice that the date variable, `Earnings Date`, is a string object that has extraneous information.  Let's create our own function to clean up the variable and create a new variable that is a datetime object.  We will use `split()` and `datetime.strptime` to do so."
   ]
  },
  {
   "cell_type": "code",
   "execution_count": 20,
   "metadata": {},
   "outputs": [
    {
     "data": {
      "text/plain": [
       "'Jul 30, 2020, 12 AMEDT'"
      ]
     },
     "execution_count": 20,
     "metadata": {},
     "output_type": "execute_result"
    }
   ],
   "source": [
    "# an example to show the point\n",
    "date1 = 'Jul 30, 2020, 12 AMEDT'\n",
    "date1"
   ]
  },
  {
   "cell_type": "code",
   "execution_count": 21,
   "metadata": {},
   "outputs": [
    {
     "data": {
      "text/plain": [
       "['Jul 30', ' 2020', ' 12 AMEDT']"
      ]
     },
     "execution_count": 21,
     "metadata": {},
     "output_type": "execute_result"
    }
   ],
   "source": [
    "#the split function creates a list, splitting the string on a character.\n",
    "date1.split(',')"
   ]
  },
  {
   "cell_type": "code",
   "execution_count": 22,
   "metadata": {},
   "outputs": [
    {
     "data": {
      "text/plain": [
       "'Jul 30'"
      ]
     },
     "execution_count": 22,
     "metadata": {},
     "output_type": "execute_result"
    }
   ],
   "source": [
    "#let's extract an element from that list using slice notation\n",
    "date1.split(',')[0]"
   ]
  },
  {
   "cell_type": "code",
   "execution_count": 23,
   "metadata": {},
   "outputs": [
    {
     "data": {
      "text/plain": [
       "' 2020'"
      ]
     },
     "execution_count": 23,
     "metadata": {},
     "output_type": "execute_result"
    }
   ],
   "source": [
    "date1.split(',')[1]"
   ]
  },
  {
   "cell_type": "code",
   "execution_count": 24,
   "metadata": {},
   "outputs": [
    {
     "data": {
      "text/plain": [
       "'Jul 30 2020'"
      ]
     },
     "execution_count": 24,
     "metadata": {},
     "output_type": "execute_result"
    }
   ],
   "source": [
    "date2 = date1.split(',')[0] + date1.split(',')[1]\n",
    "date2"
   ]
  },
  {
   "cell_type": "code",
   "execution_count": 25,
   "metadata": {},
   "outputs": [],
   "source": [
    "import datetime as dt\n",
    "fixed_date = dt.datetime.strptime(date2, '%b %d %Y')"
   ]
  },
  {
   "cell_type": "code",
   "execution_count": 26,
   "metadata": {},
   "outputs": [
    {
     "data": {
      "text/plain": [
       "datetime.datetime(2020, 7, 30, 0, 0)"
      ]
     },
     "execution_count": 26,
     "metadata": {},
     "output_type": "execute_result"
    }
   ],
   "source": [
    "fixed_date"
   ]
  },
  {
   "cell_type": "code",
   "execution_count": 27,
   "metadata": {},
   "outputs": [],
   "source": [
    "# Let's create a function that includes all the steps before\n",
    "def convert_date(date):\n",
    "    fixed_date = date.split(',')[0]+ date.split(',')[1]\n",
    "    fixed_date = dt.datetime.strptime(fixed_date, '%b %d %Y')\n",
    "    return fixed_date"
   ]
  },
  {
   "cell_type": "code",
   "execution_count": 28,
   "metadata": {},
   "outputs": [
    {
     "data": {
      "text/plain": [
       "datetime.datetime(2020, 7, 30, 0, 0)"
      ]
     },
     "execution_count": 28,
     "metadata": {},
     "output_type": "execute_result"
    }
   ],
   "source": [
    "convert_date(date1)"
   ]
  },
  {
   "cell_type": "markdown",
   "metadata": {},
   "source": [
    "Now let's apply our own function, `convert_date`, to the `aapl` DataFrame."
   ]
  },
  {
   "cell_type": "code",
   "execution_count": 29,
   "metadata": {},
   "outputs": [],
   "source": [
    "aapl['edate'] = aapl['Earnings Date'].apply(convert_date)"
   ]
  },
  {
   "cell_type": "code",
   "execution_count": 30,
   "metadata": {},
   "outputs": [
    {
     "data": {
      "text/html": [
       "<div>\n",
       "<style scoped>\n",
       "    .dataframe tbody tr th:only-of-type {\n",
       "        vertical-align: middle;\n",
       "    }\n",
       "\n",
       "    .dataframe tbody tr th {\n",
       "        vertical-align: top;\n",
       "    }\n",
       "\n",
       "    .dataframe thead th {\n",
       "        text-align: right;\n",
       "    }\n",
       "</style>\n",
       "<table border=\"1\" class=\"dataframe\">\n",
       "  <thead>\n",
       "    <tr style=\"text-align: right;\">\n",
       "      <th></th>\n",
       "      <th>Symbol</th>\n",
       "      <th>Company</th>\n",
       "      <th>Earnings Date</th>\n",
       "      <th>EPS Estimate</th>\n",
       "      <th>Reported EPS</th>\n",
       "      <th>Surprise(%)</th>\n",
       "      <th>name_length</th>\n",
       "      <th>surprise</th>\n",
       "      <th>meet_beat</th>\n",
       "      <th>edate</th>\n",
       "    </tr>\n",
       "  </thead>\n",
       "  <tbody>\n",
       "    <tr>\n",
       "      <th>0</th>\n",
       "      <td>AAPL</td>\n",
       "      <td>Apple Inc.</td>\n",
       "      <td>Jul 30, 2020, 12 AMEDT</td>\n",
       "      <td>2.04</td>\n",
       "      <td>2.58</td>\n",
       "      <td>26.22</td>\n",
       "      <td>10</td>\n",
       "      <td>0.54</td>\n",
       "      <td>none</td>\n",
       "      <td>2020-07-30</td>\n",
       "    </tr>\n",
       "    <tr>\n",
       "      <th>1</th>\n",
       "      <td>AAPL</td>\n",
       "      <td>Apple Inc.</td>\n",
       "      <td>Apr 30, 2020, 12 AMEDT</td>\n",
       "      <td>2.26</td>\n",
       "      <td>2.55</td>\n",
       "      <td>12.78</td>\n",
       "      <td>10</td>\n",
       "      <td>0.29</td>\n",
       "      <td>none</td>\n",
       "      <td>2020-04-30</td>\n",
       "    </tr>\n",
       "    <tr>\n",
       "      <th>2</th>\n",
       "      <td>AAPL</td>\n",
       "      <td>Apple Inc.</td>\n",
       "      <td>Jan 28, 2020, 12 AMEDT</td>\n",
       "      <td>4.55</td>\n",
       "      <td>4.99</td>\n",
       "      <td>9.74</td>\n",
       "      <td>10</td>\n",
       "      <td>0.44</td>\n",
       "      <td>none</td>\n",
       "      <td>2020-01-28</td>\n",
       "    </tr>\n",
       "    <tr>\n",
       "      <th>3</th>\n",
       "      <td>AAPL</td>\n",
       "      <td>Apple Inc.</td>\n",
       "      <td>Oct 30, 2019, 12 AMEDT</td>\n",
       "      <td>2.84</td>\n",
       "      <td>3.03</td>\n",
       "      <td>6.73</td>\n",
       "      <td>10</td>\n",
       "      <td>0.19</td>\n",
       "      <td>none</td>\n",
       "      <td>2019-10-30</td>\n",
       "    </tr>\n",
       "    <tr>\n",
       "      <th>4</th>\n",
       "      <td>AAPL</td>\n",
       "      <td>Apple Inc.</td>\n",
       "      <td>Jul 30, 2019, 12 AMEDT</td>\n",
       "      <td>2.10</td>\n",
       "      <td>2.18</td>\n",
       "      <td>3.91</td>\n",
       "      <td>10</td>\n",
       "      <td>0.08</td>\n",
       "      <td>none</td>\n",
       "      <td>2019-07-30</td>\n",
       "    </tr>\n",
       "  </tbody>\n",
       "</table>\n",
       "</div>"
      ],
      "text/plain": [
       "  Symbol     Company           Earnings Date  EPS Estimate  Reported EPS  \\\n",
       "0   AAPL  Apple Inc.  Jul 30, 2020, 12 AMEDT          2.04          2.58   \n",
       "1   AAPL  Apple Inc.  Apr 30, 2020, 12 AMEDT          2.26          2.55   \n",
       "2   AAPL  Apple Inc.  Jan 28, 2020, 12 AMEDT          4.55          4.99   \n",
       "3   AAPL  Apple Inc.  Oct 30, 2019, 12 AMEDT          2.84          3.03   \n",
       "4   AAPL  Apple Inc.  Jul 30, 2019, 12 AMEDT          2.10          2.18   \n",
       "\n",
       "   Surprise(%)  name_length  surprise meet_beat      edate  \n",
       "0        26.22           10      0.54      none 2020-07-30  \n",
       "1        12.78           10      0.29      none 2020-04-30  \n",
       "2         9.74           10      0.44      none 2020-01-28  \n",
       "3         6.73           10      0.19      none 2019-10-30  \n",
       "4         3.91           10      0.08      none 2019-07-30  "
      ]
     },
     "execution_count": 30,
     "metadata": {},
     "output_type": "execute_result"
    }
   ],
   "source": [
    "aapl.head()"
   ]
  },
  {
   "cell_type": "code",
   "execution_count": 31,
   "metadata": {},
   "outputs": [
    {
     "name": "stdout",
     "output_type": "stream",
     "text": [
      "<class 'pandas.core.frame.DataFrame'>\n",
      "RangeIndex: 89 entries, 0 to 88\n",
      "Data columns (total 10 columns):\n",
      " #   Column         Non-Null Count  Dtype         \n",
      "---  ------         --------------  -----         \n",
      " 0   Symbol         89 non-null     object        \n",
      " 1   Company        89 non-null     object        \n",
      " 2   Earnings Date  89 non-null     object        \n",
      " 3   EPS Estimate   89 non-null     float64       \n",
      " 4   Reported EPS   89 non-null     float64       \n",
      " 5   Surprise(%)    89 non-null     float64       \n",
      " 6   name_length    89 non-null     int64         \n",
      " 7   surprise       89 non-null     float64       \n",
      " 8   meet_beat      89 non-null     object        \n",
      " 9   edate          89 non-null     datetime64[ns]\n",
      "dtypes: datetime64[ns](1), float64(4), int64(1), object(4)\n",
      "memory usage: 7.1+ KB\n"
     ]
    }
   ],
   "source": [
    "aapl.info()"
   ]
  },
  {
   "cell_type": "markdown",
   "metadata": {},
   "source": [
    "### Part 3: Looping over files and applying functions\n",
    "\n",
    "We have several files that we want to pull together.  Let's loop over the files and apply the functions we've created as we do so."
   ]
  },
  {
   "cell_type": "code",
   "execution_count": 32,
   "metadata": {},
   "outputs": [
    {
     "data": {
      "text/plain": [
       "['goog_earnings.csv',\n",
       " 'msft_earnings.csv',\n",
       " 'aapl_earnings.csv',\n",
       " 'nflx_earnings.csv',\n",
       " 'fb_earnings.csv']"
      ]
     },
     "execution_count": 32,
     "metadata": {},
     "output_type": "execute_result"
    }
   ],
   "source": [
    "csvlist = os.listdir('Earnings')\n",
    "csvlist"
   ]
  },
  {
   "cell_type": "markdown",
   "metadata": {},
   "source": [
    "Let's create a user-created function, `get_csv`, that aggregates all our tasks into one function.  All at once, this function will:\n",
    " - bring in the related `csv` file\n",
    " - remove rows with missing values\n",
    " - create the `surprise` variable\n",
    " - apply the previously-defined `meet_beat` function\n",
    " - apply the previously-defined `convert_date` function\n",
    " - subset the data to retain only the variables we want\n"
   ]
  },
  {
   "cell_type": "code",
   "execution_count": 33,
   "metadata": {},
   "outputs": [],
   "source": [
    "# Let's create a function that does all the work \n",
    "def get_csv(file):\n",
    "    earnings = pd.read_csv('Earnings/'+file, index_col=None, header=0) # Read csv\n",
    "    earnings = earnings.dropna() # Drop missing values\n",
    "    earnings['surprise'] = earnings['Reported EPS'] - earnings['EPS Estimate'] # Create a new variable surprise\n",
    "    earnings['meet_beat'] = earnings.apply(meet_or_beat, axis=1) # Apply meet_or_beat() function to create a new variable\n",
    "    earnings['edate'] = earnings['Earnings Date'].apply(convert_date) # Apply convert_date() function to create a new variable\n",
    "    earnings = earnings[['Symbol','edate','EPS Estimate','Reported EPS', 'surprise','meet_beat']] # Keep a subset of variables\n",
    "    return earnings\n",
    "    \n",
    "    "
   ]
  },
  {
   "cell_type": "markdown",
   "metadata": {},
   "source": [
    "We need to run the `get_csv` function over each csv file in the directory.  Let's do so with a *for-loop*."
   ]
  },
  {
   "cell_type": "code",
   "execution_count": 34,
   "metadata": {},
   "outputs": [],
   "source": [
    "#create an empty list\n",
    "dfs = []\n",
    "\n",
    "# use a for-loop to iterate over each element, i, in the list of csv files, csvlist.\n",
    "for i in csvlist:\n",
    "    csv = get_csv(i)\n",
    "    dfs.append(csv)\n",
    "    "
   ]
  },
  {
   "cell_type": "code",
   "execution_count": 35,
   "metadata": {},
   "outputs": [
    {
     "data": {
      "text/html": [
       "<div>\n",
       "<style scoped>\n",
       "    .dataframe tbody tr th:only-of-type {\n",
       "        vertical-align: middle;\n",
       "    }\n",
       "\n",
       "    .dataframe tbody tr th {\n",
       "        vertical-align: top;\n",
       "    }\n",
       "\n",
       "    .dataframe thead th {\n",
       "        text-align: right;\n",
       "    }\n",
       "</style>\n",
       "<table border=\"1\" class=\"dataframe\">\n",
       "  <thead>\n",
       "    <tr style=\"text-align: right;\">\n",
       "      <th></th>\n",
       "      <th>Symbol</th>\n",
       "      <th>edate</th>\n",
       "      <th>EPS Estimate</th>\n",
       "      <th>Reported EPS</th>\n",
       "      <th>surprise</th>\n",
       "      <th>meet_beat</th>\n",
       "    </tr>\n",
       "  </thead>\n",
       "  <tbody>\n",
       "    <tr>\n",
       "      <th>0</th>\n",
       "      <td>FB</td>\n",
       "      <td>2020-07-30</td>\n",
       "      <td>1.39</td>\n",
       "      <td>1.80</td>\n",
       "      <td>0.41</td>\n",
       "      <td>none</td>\n",
       "    </tr>\n",
       "    <tr>\n",
       "      <th>1</th>\n",
       "      <td>FB</td>\n",
       "      <td>2020-04-29</td>\n",
       "      <td>1.76</td>\n",
       "      <td>1.71</td>\n",
       "      <td>-0.05</td>\n",
       "      <td>none</td>\n",
       "    </tr>\n",
       "    <tr>\n",
       "      <th>2</th>\n",
       "      <td>FB</td>\n",
       "      <td>2020-01-29</td>\n",
       "      <td>2.53</td>\n",
       "      <td>2.56</td>\n",
       "      <td>0.03</td>\n",
       "      <td>none</td>\n",
       "    </tr>\n",
       "    <tr>\n",
       "      <th>3</th>\n",
       "      <td>FB</td>\n",
       "      <td>2019-10-30</td>\n",
       "      <td>1.91</td>\n",
       "      <td>2.12</td>\n",
       "      <td>0.21</td>\n",
       "      <td>none</td>\n",
       "    </tr>\n",
       "    <tr>\n",
       "      <th>4</th>\n",
       "      <td>FB</td>\n",
       "      <td>2019-07-24</td>\n",
       "      <td>1.88</td>\n",
       "      <td>0.91</td>\n",
       "      <td>-0.97</td>\n",
       "      <td>none</td>\n",
       "    </tr>\n",
       "    <tr>\n",
       "      <th>5</th>\n",
       "      <td>FB</td>\n",
       "      <td>2019-04-24</td>\n",
       "      <td>1.63</td>\n",
       "      <td>0.85</td>\n",
       "      <td>-0.78</td>\n",
       "      <td>none</td>\n",
       "    </tr>\n",
       "    <tr>\n",
       "      <th>6</th>\n",
       "      <td>FB</td>\n",
       "      <td>2019-01-30</td>\n",
       "      <td>2.19</td>\n",
       "      <td>2.38</td>\n",
       "      <td>0.19</td>\n",
       "      <td>none</td>\n",
       "    </tr>\n",
       "    <tr>\n",
       "      <th>7</th>\n",
       "      <td>FB</td>\n",
       "      <td>2018-10-30</td>\n",
       "      <td>1.47</td>\n",
       "      <td>1.76</td>\n",
       "      <td>0.29</td>\n",
       "      <td>none</td>\n",
       "    </tr>\n",
       "    <tr>\n",
       "      <th>8</th>\n",
       "      <td>FB</td>\n",
       "      <td>2018-07-25</td>\n",
       "      <td>1.72</td>\n",
       "      <td>1.74</td>\n",
       "      <td>0.02</td>\n",
       "      <td>none</td>\n",
       "    </tr>\n",
       "    <tr>\n",
       "      <th>9</th>\n",
       "      <td>FB</td>\n",
       "      <td>2018-04-25</td>\n",
       "      <td>1.35</td>\n",
       "      <td>1.69</td>\n",
       "      <td>0.34</td>\n",
       "      <td>none</td>\n",
       "    </tr>\n",
       "    <tr>\n",
       "      <th>10</th>\n",
       "      <td>FB</td>\n",
       "      <td>2018-01-31</td>\n",
       "      <td>1.95</td>\n",
       "      <td>1.44</td>\n",
       "      <td>-0.51</td>\n",
       "      <td>none</td>\n",
       "    </tr>\n",
       "    <tr>\n",
       "      <th>11</th>\n",
       "      <td>FB</td>\n",
       "      <td>2017-11-01</td>\n",
       "      <td>1.28</td>\n",
       "      <td>1.59</td>\n",
       "      <td>0.31</td>\n",
       "      <td>none</td>\n",
       "    </tr>\n",
       "    <tr>\n",
       "      <th>12</th>\n",
       "      <td>FB</td>\n",
       "      <td>2017-07-26</td>\n",
       "      <td>1.13</td>\n",
       "      <td>1.32</td>\n",
       "      <td>0.19</td>\n",
       "      <td>none</td>\n",
       "    </tr>\n",
       "    <tr>\n",
       "      <th>13</th>\n",
       "      <td>FB</td>\n",
       "      <td>2017-05-03</td>\n",
       "      <td>1.12</td>\n",
       "      <td>1.04</td>\n",
       "      <td>-0.08</td>\n",
       "      <td>none</td>\n",
       "    </tr>\n",
       "    <tr>\n",
       "      <th>14</th>\n",
       "      <td>FB</td>\n",
       "      <td>2017-02-01</td>\n",
       "      <td>1.31</td>\n",
       "      <td>1.41</td>\n",
       "      <td>0.10</td>\n",
       "      <td>none</td>\n",
       "    </tr>\n",
       "    <tr>\n",
       "      <th>15</th>\n",
       "      <td>FB</td>\n",
       "      <td>2016-11-02</td>\n",
       "      <td>0.97</td>\n",
       "      <td>1.09</td>\n",
       "      <td>0.12</td>\n",
       "      <td>none</td>\n",
       "    </tr>\n",
       "    <tr>\n",
       "      <th>16</th>\n",
       "      <td>FB</td>\n",
       "      <td>2016-07-27</td>\n",
       "      <td>0.82</td>\n",
       "      <td>0.97</td>\n",
       "      <td>0.15</td>\n",
       "      <td>none</td>\n",
       "    </tr>\n",
       "    <tr>\n",
       "      <th>17</th>\n",
       "      <td>FB</td>\n",
       "      <td>2016-04-27</td>\n",
       "      <td>0.62</td>\n",
       "      <td>0.77</td>\n",
       "      <td>0.15</td>\n",
       "      <td>none</td>\n",
       "    </tr>\n",
       "    <tr>\n",
       "      <th>18</th>\n",
       "      <td>FB</td>\n",
       "      <td>2016-01-27</td>\n",
       "      <td>0.68</td>\n",
       "      <td>0.79</td>\n",
       "      <td>0.11</td>\n",
       "      <td>none</td>\n",
       "    </tr>\n",
       "    <tr>\n",
       "      <th>19</th>\n",
       "      <td>FB</td>\n",
       "      <td>2015-11-04</td>\n",
       "      <td>0.52</td>\n",
       "      <td>0.57</td>\n",
       "      <td>0.05</td>\n",
       "      <td>none</td>\n",
       "    </tr>\n",
       "    <tr>\n",
       "      <th>20</th>\n",
       "      <td>FB</td>\n",
       "      <td>2015-07-29</td>\n",
       "      <td>0.47</td>\n",
       "      <td>0.50</td>\n",
       "      <td>0.03</td>\n",
       "      <td>none</td>\n",
       "    </tr>\n",
       "    <tr>\n",
       "      <th>21</th>\n",
       "      <td>FB</td>\n",
       "      <td>2015-04-22</td>\n",
       "      <td>0.40</td>\n",
       "      <td>0.42</td>\n",
       "      <td>0.02</td>\n",
       "      <td>none</td>\n",
       "    </tr>\n",
       "    <tr>\n",
       "      <th>22</th>\n",
       "      <td>FB</td>\n",
       "      <td>2015-01-28</td>\n",
       "      <td>0.49</td>\n",
       "      <td>0.54</td>\n",
       "      <td>0.05</td>\n",
       "      <td>none</td>\n",
       "    </tr>\n",
       "    <tr>\n",
       "      <th>23</th>\n",
       "      <td>FB</td>\n",
       "      <td>2014-10-28</td>\n",
       "      <td>0.40</td>\n",
       "      <td>0.43</td>\n",
       "      <td>0.03</td>\n",
       "      <td>none</td>\n",
       "    </tr>\n",
       "    <tr>\n",
       "      <th>24</th>\n",
       "      <td>FB</td>\n",
       "      <td>2014-07-23</td>\n",
       "      <td>0.32</td>\n",
       "      <td>0.42</td>\n",
       "      <td>0.10</td>\n",
       "      <td>none</td>\n",
       "    </tr>\n",
       "    <tr>\n",
       "      <th>25</th>\n",
       "      <td>FB</td>\n",
       "      <td>2014-04-23</td>\n",
       "      <td>0.24</td>\n",
       "      <td>0.34</td>\n",
       "      <td>0.10</td>\n",
       "      <td>none</td>\n",
       "    </tr>\n",
       "    <tr>\n",
       "      <th>26</th>\n",
       "      <td>FB</td>\n",
       "      <td>2014-01-29</td>\n",
       "      <td>0.27</td>\n",
       "      <td>0.31</td>\n",
       "      <td>0.04</td>\n",
       "      <td>none</td>\n",
       "    </tr>\n",
       "    <tr>\n",
       "      <th>27</th>\n",
       "      <td>FB</td>\n",
       "      <td>2013-10-30</td>\n",
       "      <td>0.19</td>\n",
       "      <td>0.25</td>\n",
       "      <td>0.06</td>\n",
       "      <td>none</td>\n",
       "    </tr>\n",
       "    <tr>\n",
       "      <th>28</th>\n",
       "      <td>FB</td>\n",
       "      <td>2013-07-24</td>\n",
       "      <td>0.14</td>\n",
       "      <td>0.19</td>\n",
       "      <td>0.05</td>\n",
       "      <td>none</td>\n",
       "    </tr>\n",
       "    <tr>\n",
       "      <th>29</th>\n",
       "      <td>FB</td>\n",
       "      <td>2013-05-01</td>\n",
       "      <td>0.13</td>\n",
       "      <td>0.12</td>\n",
       "      <td>-0.01</td>\n",
       "      <td>none</td>\n",
       "    </tr>\n",
       "    <tr>\n",
       "      <th>30</th>\n",
       "      <td>FB</td>\n",
       "      <td>2013-01-30</td>\n",
       "      <td>0.15</td>\n",
       "      <td>0.17</td>\n",
       "      <td>0.02</td>\n",
       "      <td>none</td>\n",
       "    </tr>\n",
       "    <tr>\n",
       "      <th>31</th>\n",
       "      <td>FB</td>\n",
       "      <td>2012-10-23</td>\n",
       "      <td>0.11</td>\n",
       "      <td>0.12</td>\n",
       "      <td>0.01</td>\n",
       "      <td>justbeat</td>\n",
       "    </tr>\n",
       "    <tr>\n",
       "      <th>32</th>\n",
       "      <td>FB</td>\n",
       "      <td>2012-07-26</td>\n",
       "      <td>0.12</td>\n",
       "      <td>0.12</td>\n",
       "      <td>0.00</td>\n",
       "      <td>exactlymeet</td>\n",
       "    </tr>\n",
       "  </tbody>\n",
       "</table>\n",
       "</div>"
      ],
      "text/plain": [
       "   Symbol      edate  EPS Estimate  Reported EPS  surprise    meet_beat\n",
       "0      FB 2020-07-30          1.39          1.80      0.41         none\n",
       "1      FB 2020-04-29          1.76          1.71     -0.05         none\n",
       "2      FB 2020-01-29          2.53          2.56      0.03         none\n",
       "3      FB 2019-10-30          1.91          2.12      0.21         none\n",
       "4      FB 2019-07-24          1.88          0.91     -0.97         none\n",
       "5      FB 2019-04-24          1.63          0.85     -0.78         none\n",
       "6      FB 2019-01-30          2.19          2.38      0.19         none\n",
       "7      FB 2018-10-30          1.47          1.76      0.29         none\n",
       "8      FB 2018-07-25          1.72          1.74      0.02         none\n",
       "9      FB 2018-04-25          1.35          1.69      0.34         none\n",
       "10     FB 2018-01-31          1.95          1.44     -0.51         none\n",
       "11     FB 2017-11-01          1.28          1.59      0.31         none\n",
       "12     FB 2017-07-26          1.13          1.32      0.19         none\n",
       "13     FB 2017-05-03          1.12          1.04     -0.08         none\n",
       "14     FB 2017-02-01          1.31          1.41      0.10         none\n",
       "15     FB 2016-11-02          0.97          1.09      0.12         none\n",
       "16     FB 2016-07-27          0.82          0.97      0.15         none\n",
       "17     FB 2016-04-27          0.62          0.77      0.15         none\n",
       "18     FB 2016-01-27          0.68          0.79      0.11         none\n",
       "19     FB 2015-11-04          0.52          0.57      0.05         none\n",
       "20     FB 2015-07-29          0.47          0.50      0.03         none\n",
       "21     FB 2015-04-22          0.40          0.42      0.02         none\n",
       "22     FB 2015-01-28          0.49          0.54      0.05         none\n",
       "23     FB 2014-10-28          0.40          0.43      0.03         none\n",
       "24     FB 2014-07-23          0.32          0.42      0.10         none\n",
       "25     FB 2014-04-23          0.24          0.34      0.10         none\n",
       "26     FB 2014-01-29          0.27          0.31      0.04         none\n",
       "27     FB 2013-10-30          0.19          0.25      0.06         none\n",
       "28     FB 2013-07-24          0.14          0.19      0.05         none\n",
       "29     FB 2013-05-01          0.13          0.12     -0.01         none\n",
       "30     FB 2013-01-30          0.15          0.17      0.02         none\n",
       "31     FB 2012-10-23          0.11          0.12      0.01     justbeat\n",
       "32     FB 2012-07-26          0.12          0.12      0.00  exactlymeet"
      ]
     },
     "execution_count": 35,
     "metadata": {},
     "output_type": "execute_result"
    }
   ],
   "source": [
    "#dfs is a list container, which contains each of the individual csv data separately\n",
    "dfs[4]"
   ]
  },
  {
   "cell_type": "code",
   "execution_count": 36,
   "metadata": {},
   "outputs": [],
   "source": [
    "#let's concatenate all the data in `dfs` into a single DataAFrame\n",
    "earnings1 = pd.concat(dfs, axis=0, ignore_index=True)"
   ]
  },
  {
   "cell_type": "code",
   "execution_count": 37,
   "metadata": {},
   "outputs": [
    {
     "data": {
      "text/html": [
       "<div>\n",
       "<style scoped>\n",
       "    .dataframe tbody tr th:only-of-type {\n",
       "        vertical-align: middle;\n",
       "    }\n",
       "\n",
       "    .dataframe tbody tr th {\n",
       "        vertical-align: top;\n",
       "    }\n",
       "\n",
       "    .dataframe thead th {\n",
       "        text-align: right;\n",
       "    }\n",
       "</style>\n",
       "<table border=\"1\" class=\"dataframe\">\n",
       "  <thead>\n",
       "    <tr style=\"text-align: right;\">\n",
       "      <th></th>\n",
       "      <th>Symbol</th>\n",
       "      <th>edate</th>\n",
       "      <th>EPS Estimate</th>\n",
       "      <th>Reported EPS</th>\n",
       "      <th>surprise</th>\n",
       "      <th>meet_beat</th>\n",
       "    </tr>\n",
       "  </thead>\n",
       "  <tbody>\n",
       "    <tr>\n",
       "      <th>300</th>\n",
       "      <td>FB</td>\n",
       "      <td>2013-07-24</td>\n",
       "      <td>0.14</td>\n",
       "      <td>0.19</td>\n",
       "      <td>0.05</td>\n",
       "      <td>none</td>\n",
       "    </tr>\n",
       "    <tr>\n",
       "      <th>301</th>\n",
       "      <td>FB</td>\n",
       "      <td>2013-05-01</td>\n",
       "      <td>0.13</td>\n",
       "      <td>0.12</td>\n",
       "      <td>-0.01</td>\n",
       "      <td>none</td>\n",
       "    </tr>\n",
       "    <tr>\n",
       "      <th>302</th>\n",
       "      <td>FB</td>\n",
       "      <td>2013-01-30</td>\n",
       "      <td>0.15</td>\n",
       "      <td>0.17</td>\n",
       "      <td>0.02</td>\n",
       "      <td>none</td>\n",
       "    </tr>\n",
       "    <tr>\n",
       "      <th>303</th>\n",
       "      <td>FB</td>\n",
       "      <td>2012-10-23</td>\n",
       "      <td>0.11</td>\n",
       "      <td>0.12</td>\n",
       "      <td>0.01</td>\n",
       "      <td>justbeat</td>\n",
       "    </tr>\n",
       "    <tr>\n",
       "      <th>304</th>\n",
       "      <td>FB</td>\n",
       "      <td>2012-07-26</td>\n",
       "      <td>0.12</td>\n",
       "      <td>0.12</td>\n",
       "      <td>0.00</td>\n",
       "      <td>exactlymeet</td>\n",
       "    </tr>\n",
       "  </tbody>\n",
       "</table>\n",
       "</div>"
      ],
      "text/plain": [
       "    Symbol      edate  EPS Estimate  Reported EPS  surprise    meet_beat\n",
       "300     FB 2013-07-24          0.14          0.19      0.05         none\n",
       "301     FB 2013-05-01          0.13          0.12     -0.01         none\n",
       "302     FB 2013-01-30          0.15          0.17      0.02         none\n",
       "303     FB 2012-10-23          0.11          0.12      0.01     justbeat\n",
       "304     FB 2012-07-26          0.12          0.12      0.00  exactlymeet"
      ]
     },
     "execution_count": 37,
     "metadata": {},
     "output_type": "execute_result"
    }
   ],
   "source": [
    "earnings1.tail()"
   ]
  },
  {
   "cell_type": "code",
   "execution_count": 38,
   "metadata": {},
   "outputs": [
    {
     "name": "stdout",
     "output_type": "stream",
     "text": [
      "<class 'pandas.core.frame.DataFrame'>\n",
      "RangeIndex: 305 entries, 0 to 304\n",
      "Data columns (total 6 columns):\n",
      " #   Column        Non-Null Count  Dtype         \n",
      "---  ------        --------------  -----         \n",
      " 0   Symbol        305 non-null    object        \n",
      " 1   edate         305 non-null    datetime64[ns]\n",
      " 2   EPS Estimate  305 non-null    float64       \n",
      " 3   Reported EPS  305 non-null    float64       \n",
      " 4   surprise      305 non-null    float64       \n",
      " 5   meet_beat     305 non-null    object        \n",
      "dtypes: datetime64[ns](1), float64(3), object(2)\n",
      "memory usage: 14.4+ KB\n"
     ]
    }
   ],
   "source": [
    "earnings1.info()"
   ]
  },
  {
   "cell_type": "code",
   "execution_count": 39,
   "metadata": {},
   "outputs": [],
   "source": [
    "earnings1.to_csv('earnings1.csv', index=False)"
   ]
  },
  {
   "cell_type": "markdown",
   "metadata": {},
   "source": [
    "### Part 4: using Python to create/adjust/move folders"
   ]
  },
  {
   "cell_type": "markdown",
   "metadata": {},
   "source": [
    "#### 4.1 Create a new folder\n",
    "\n",
    "In this step, we'll create a new folder on our computer and save *earnings1.csv* to that folder. "
   ]
  },
  {
   "cell_type": "code",
   "execution_count": 40,
   "metadata": {},
   "outputs": [
    {
     "data": {
      "text/plain": [
       "'/Users/ws/Projects/study_books/07_Programing_and_Data/Week_03/Finished_Earnings/'"
      ]
     },
     "execution_count": 40,
     "metadata": {},
     "output_type": "execute_result"
    }
   ],
   "source": [
    "to_directory = os.getcwd() +'/Finished_Earnings/'\n",
    "to_directory"
   ]
  },
  {
   "cell_type": "code",
   "execution_count": 41,
   "metadata": {},
   "outputs": [],
   "source": [
    "# If the folder doesn't exist, create a new one\n",
    "if not os.path.exists(to_directory):\n",
    "    os.mkdir(to_directory)"
   ]
  },
  {
   "cell_type": "code",
   "execution_count": 42,
   "metadata": {},
   "outputs": [
    {
     "data": {
      "text/plain": [
       "'/Users/ws/Projects/study_books/07_Programing_and_Data/Week_03/Earnings/'"
      ]
     },
     "execution_count": 42,
     "metadata": {},
     "output_type": "execute_result"
    }
   ],
   "source": [
    "from_directory = os.getcwd() + '/Earnings/'\n",
    "from_directory"
   ]
  },
  {
   "cell_type": "code",
   "execution_count": 43,
   "metadata": {},
   "outputs": [
    {
     "data": {
      "text/plain": [
       "['goog_earnings.csv',\n",
       " 'msft_earnings.csv',\n",
       " 'aapl_earnings.csv',\n",
       " 'nflx_earnings.csv',\n",
       " 'fb_earnings.csv']"
      ]
     },
     "execution_count": 43,
     "metadata": {},
     "output_type": "execute_result"
    }
   ],
   "source": [
    "os.listdir(from_directory)"
   ]
  },
  {
   "cell_type": "code",
   "execution_count": 44,
   "metadata": {},
   "outputs": [],
   "source": [
    "import shutil"
   ]
  },
  {
   "cell_type": "code",
   "execution_count": 45,
   "metadata": {},
   "outputs": [
    {
     "data": {
      "text/plain": [
       "['goog_earnings.csv',\n",
       " 'msft_earnings.csv',\n",
       " 'aapl_earnings.csv',\n",
       " 'nflx_earnings.csv',\n",
       " 'fb_earnings.csv']"
      ]
     },
     "execution_count": 45,
     "metadata": {},
     "output_type": "execute_result"
    }
   ],
   "source": [
    "files = os.listdir(from_directory)\n",
    "files"
   ]
  },
  {
   "cell_type": "code",
   "execution_count": 46,
   "metadata": {},
   "outputs": [
    {
     "data": {
      "text/html": [
       "<div>\n",
       "<style scoped>\n",
       "    .dataframe tbody tr th:only-of-type {\n",
       "        vertical-align: middle;\n",
       "    }\n",
       "\n",
       "    .dataframe tbody tr th {\n",
       "        vertical-align: top;\n",
       "    }\n",
       "\n",
       "    .dataframe thead th {\n",
       "        text-align: right;\n",
       "    }\n",
       "</style>\n",
       "<table border=\"1\" class=\"dataframe\">\n",
       "  <thead>\n",
       "    <tr style=\"text-align: right;\">\n",
       "      <th></th>\n",
       "      <th>filename</th>\n",
       "    </tr>\n",
       "  </thead>\n",
       "  <tbody>\n",
       "    <tr>\n",
       "      <th>0</th>\n",
       "      <td>goog_earnings.csv</td>\n",
       "    </tr>\n",
       "    <tr>\n",
       "      <th>1</th>\n",
       "      <td>msft_earnings.csv</td>\n",
       "    </tr>\n",
       "    <tr>\n",
       "      <th>2</th>\n",
       "      <td>aapl_earnings.csv</td>\n",
       "    </tr>\n",
       "    <tr>\n",
       "      <th>3</th>\n",
       "      <td>nflx_earnings.csv</td>\n",
       "    </tr>\n",
       "    <tr>\n",
       "      <th>4</th>\n",
       "      <td>fb_earnings.csv</td>\n",
       "    </tr>\n",
       "  </tbody>\n",
       "</table>\n",
       "</div>"
      ],
      "text/plain": [
       "            filename\n",
       "0  goog_earnings.csv\n",
       "1  msft_earnings.csv\n",
       "2  aapl_earnings.csv\n",
       "3  nflx_earnings.csv\n",
       "4    fb_earnings.csv"
      ]
     },
     "execution_count": 46,
     "metadata": {},
     "output_type": "execute_result"
    }
   ],
   "source": [
    "move_df = pd.DataFrame({'filename':files})\n",
    "move_df\n"
   ]
  },
  {
   "cell_type": "code",
   "execution_count": 47,
   "metadata": {},
   "outputs": [],
   "source": [
    "# loop over a DataFrame using iterrows()\n",
    "for index,row in move_df.iterrows():\n",
    "   filename = row['filename'] # Take each file name in move_df\n",
    "   source = from_directory+filename # Source directory\n",
    "   dest = to_directory+filename # Destination directory\n",
    "   shutil.move(source, dest) # Move each file"
   ]
  },
  {
   "cell_type": "code",
   "execution_count": 48,
   "metadata": {},
   "outputs": [
    {
     "data": {
      "text/plain": [
       "[]"
      ]
     },
     "execution_count": 48,
     "metadata": {},
     "output_type": "execute_result"
    }
   ],
   "source": [
    "os.listdir(from_directory)"
   ]
  },
  {
   "cell_type": "code",
   "execution_count": 49,
   "metadata": {},
   "outputs": [
    {
     "data": {
      "text/plain": [
       "['goog_earnings.csv',\n",
       " 'msft_earnings.csv',\n",
       " 'aapl_earnings.csv',\n",
       " 'nflx_earnings.csv',\n",
       " 'fb_earnings.csv']"
      ]
     },
     "execution_count": 49,
     "metadata": {},
     "output_type": "execute_result"
    }
   ],
   "source": [
    "os.listdir(to_directory)"
   ]
  },
  {
   "cell_type": "raw",
   "metadata": {},
   "source": [
    "#this is a different way of doing it ... I'm leaving it here as an FYI.\n",
    "\n",
    "files = os.listdir(from_directory)\n",
    "files.sort()\n",
    "for filename in files:\n",
    "    source = from_directory+filename\n",
    "    dest = to_directory+filename\n",
    "    shutil.move(source, dest)"
   ]
  }
 ],
 "metadata": {
  "kernelspec": {
   "display_name": "Python 3",
   "language": "python",
   "name": "python3"
  },
  "language_info": {
   "name": "python",
   "version": "3.x"
  }
 },
 "nbformat": 4,
 "nbformat_minor": 2
}