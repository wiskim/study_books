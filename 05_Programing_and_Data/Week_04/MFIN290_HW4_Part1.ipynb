{
 "cells": [
  {
   "cell_type": "markdown",
   "metadata": {},
   "source": [
    "## Instructions:\n",
    "\n",
    "1. Whenever possible, please provide output along with your code. \n",
    "2. It is best practice to re-run everything before submitting it. This serves as a final check to ensure there are no errors in your code or output."
   ]
  },
  {
   "cell_type": "markdown",
   "metadata": {},
   "source": [
    "#### Import the standard libraries"
   ]
  },
  {
   "cell_type": "code",
   "execution_count": 1,
   "metadata": {},
   "outputs": [],
   "source": [
    "import numpy as np\n",
    "import pandas as pd\n",
    "import datetime as dt"
   ]
  },
  {
   "cell_type": "markdown",
   "metadata": {},
   "source": [
    "#### Bring in the csv file titled `fina.csv`.  Name the Dataframe: `comp`"
   ]
  },
  {
   "cell_type": "code",
   "execution_count": 2,
   "metadata": {},
   "outputs": [
    {
     "data": {
      "text/html": [
       "<div>\n",
       "<style scoped>\n",
       "    .dataframe tbody tr th:only-of-type {\n",
       "        vertical-align: middle;\n",
       "    }\n",
       "\n",
       "    .dataframe tbody tr th {\n",
       "        vertical-align: top;\n",
       "    }\n",
       "\n",
       "    .dataframe thead th {\n",
       "        text-align: right;\n",
       "    }\n",
       "</style>\n",
       "<table border=\"1\" class=\"dataframe\">\n",
       "  <thead>\n",
       "    <tr style=\"text-align: right;\">\n",
       "      <th></th>\n",
       "      <th>gvkey</th>\n",
       "      <th>datadate</th>\n",
       "      <th>fyr</th>\n",
       "      <th>tic</th>\n",
       "      <th>cik</th>\n",
       "      <th>conm</th>\n",
       "      <th>ni</th>\n",
       "      <th>sale</th>\n",
       "      <th>cogs</th>\n",
       "      <th>oancf</th>\n",
       "      <th>at</th>\n",
       "      <th>lt</th>\n",
       "      <th>seq</th>\n",
       "    </tr>\n",
       "  </thead>\n",
       "  <tbody>\n",
       "    <tr>\n",
       "      <th>0</th>\n",
       "      <td>2575</td>\n",
       "      <td>2012-12-31</td>\n",
       "      <td>12</td>\n",
       "      <td>MTD</td>\n",
       "      <td>1037646</td>\n",
       "      <td>Mettler Toledo</td>\n",
       "      <td>290.847</td>\n",
       "      <td>2341.528</td>\n",
       "      <td>811.204</td>\n",
       "      <td>327.704</td>\n",
       "      <td>2117.400</td>\n",
       "      <td>1290.181</td>\n",
       "      <td>827.219</td>\n",
       "    </tr>\n",
       "    <tr>\n",
       "      <th>1</th>\n",
       "      <td>2575</td>\n",
       "      <td>2013-12-31</td>\n",
       "      <td>12</td>\n",
       "      <td>MTD</td>\n",
       "      <td>1037646</td>\n",
       "      <td>Mettler Toledo</td>\n",
       "      <td>306.094</td>\n",
       "      <td>2378.972</td>\n",
       "      <td>794.915</td>\n",
       "      <td>345.928</td>\n",
       "      <td>2152.819</td>\n",
       "      <td>1217.767</td>\n",
       "      <td>935.052</td>\n",
       "    </tr>\n",
       "    <tr>\n",
       "      <th>2</th>\n",
       "      <td>2575</td>\n",
       "      <td>2014-12-31</td>\n",
       "      <td>12</td>\n",
       "      <td>MTD</td>\n",
       "      <td>1037646</td>\n",
       "      <td>Mettler Toledo</td>\n",
       "      <td>338.241</td>\n",
       "      <td>2485.983</td>\n",
       "      <td>809.537</td>\n",
       "      <td>418.912</td>\n",
       "      <td>2009.110</td>\n",
       "      <td>1289.515</td>\n",
       "      <td>719.595</td>\n",
       "    </tr>\n",
       "    <tr>\n",
       "      <th>3</th>\n",
       "      <td>2575</td>\n",
       "      <td>2015-12-31</td>\n",
       "      <td>12</td>\n",
       "      <td>MTD</td>\n",
       "      <td>1037646</td>\n",
       "      <td>Mettler Toledo</td>\n",
       "      <td>352.820</td>\n",
       "      <td>2395.447</td>\n",
       "      <td>744.867</td>\n",
       "      <td>426.868</td>\n",
       "      <td>2018.485</td>\n",
       "      <td>1438.028</td>\n",
       "      <td>580.457</td>\n",
       "    </tr>\n",
       "    <tr>\n",
       "      <th>4</th>\n",
       "      <td>2575</td>\n",
       "      <td>2016-12-31</td>\n",
       "      <td>12</td>\n",
       "      <td>MTD</td>\n",
       "      <td>1037646</td>\n",
       "      <td>Mettler Toledo</td>\n",
       "      <td>384.370</td>\n",
       "      <td>2508.257</td>\n",
       "      <td>767.753</td>\n",
       "      <td>443.078</td>\n",
       "      <td>2166.777</td>\n",
       "      <td>1731.834</td>\n",
       "      <td>434.943</td>\n",
       "    </tr>\n",
       "  </tbody>\n",
       "</table>\n",
       "</div>"
      ],
      "text/plain": [
       "   gvkey   datadate  fyr  tic      cik            conm       ni      sale  \\\n",
       "0   2575 2012-12-31   12  MTD  1037646  Mettler Toledo  290.847  2341.528   \n",
       "1   2575 2013-12-31   12  MTD  1037646  Mettler Toledo  306.094  2378.972   \n",
       "2   2575 2014-12-31   12  MTD  1037646  Mettler Toledo  338.241  2485.983   \n",
       "3   2575 2015-12-31   12  MTD  1037646  Mettler Toledo  352.820  2395.447   \n",
       "4   2575 2016-12-31   12  MTD  1037646  Mettler Toledo  384.370  2508.257   \n",
       "\n",
       "      cogs    oancf        at        lt      seq  \n",
       "0  811.204  327.704  2117.400  1290.181  827.219  \n",
       "1  794.915  345.928  2152.819  1217.767  935.052  \n",
       "2  809.537  418.912  2009.110  1289.515  719.595  \n",
       "3  744.867  426.868  2018.485  1438.028  580.457  \n",
       "4  767.753  443.078  2166.777  1731.834  434.943  "
      ]
     },
     "execution_count": 2,
     "metadata": {},
     "output_type": "execute_result"
    }
   ],
   "source": [
    "comp = pd.read_csv('fina.csv', index_col=False, parse_dates=['datadate'] )\n",
    "comp.head()"
   ]
  },
  {
   "cell_type": "markdown",
   "metadata": {},
   "source": [
    "#### Do the following: \n",
    " - i) print out the column list \n",
    " - ii) create a list of columns named `cols`"
   ]
  },
  {
   "cell_type": "code",
   "execution_count": 3,
   "metadata": {},
   "outputs": [
    {
     "data": {
      "text/plain": [
       "Index(['gvkey', 'datadate', 'fyr', 'tic', 'cik', 'conm', 'ni', 'sale', 'cogs',\n",
       "       'oancf', 'at', 'lt', 'seq'],\n",
       "      dtype='object')"
      ]
     },
     "execution_count": 3,
     "metadata": {},
     "output_type": "execute_result"
    }
   ],
   "source": [
    "comp.columns"
   ]
  },
  {
   "cell_type": "code",
   "execution_count": 4,
   "metadata": {},
   "outputs": [
    {
     "data": {
      "text/plain": [
       "['gvkey',\n",
       " 'datadate',\n",
       " 'fyr',\n",
       " 'tic',\n",
       " 'cik',\n",
       " 'conm',\n",
       " 'ni',\n",
       " 'sale',\n",
       " 'cogs',\n",
       " 'oancf',\n",
       " 'at',\n",
       " 'lt',\n",
       " 'seq']"
      ]
     },
     "execution_count": 4,
     "metadata": {},
     "output_type": "execute_result"
    }
   ],
   "source": [
    "cols = comp.columns.to_list()\n",
    "cols"
   ]
  },
  {
   "cell_type": "markdown",
   "metadata": {},
   "source": [
    "#### Identify which variables are missing values using two different approaches"
   ]
  },
  {
   "cell_type": "code",
   "execution_count": 5,
   "metadata": {},
   "outputs": [
    {
     "name": "stdout",
     "output_type": "stream",
     "text": [
      "<class 'pandas.core.frame.DataFrame'>\n",
      "RangeIndex: 3502 entries, 0 to 3501\n",
      "Data columns (total 13 columns):\n",
      " #   Column    Non-Null Count  Dtype         \n",
      "---  ------    --------------  -----         \n",
      " 0   gvkey     3502 non-null   int64         \n",
      " 1   datadate  3502 non-null   datetime64[ns]\n",
      " 2   fyr       3502 non-null   int64         \n",
      " 3   tic       3502 non-null   object        \n",
      " 4   cik       3502 non-null   int64         \n",
      " 5   conm      3502 non-null   object        \n",
      " 6   ni        3502 non-null   float64       \n",
      " 7   sale      3502 non-null   float64       \n",
      " 8   cogs      2322 non-null   float64       \n",
      " 9   oancf     3122 non-null   float64       \n",
      " 10  at        3475 non-null   float64       \n",
      " 11  lt        3473 non-null   float64       \n",
      " 12  seq       3498 non-null   float64       \n",
      "dtypes: datetime64[ns](1), float64(7), int64(3), object(2)\n",
      "memory usage: 355.8+ KB\n"
     ]
    }
   ],
   "source": [
    "comp.info()"
   ]
  },
  {
   "cell_type": "code",
   "execution_count": 6,
   "metadata": {},
   "outputs": [
    {
     "data": {
      "text/plain": [
       "gvkey          0\n",
       "datadate       0\n",
       "fyr            0\n",
       "tic            0\n",
       "cik            0\n",
       "conm           0\n",
       "ni             0\n",
       "sale           0\n",
       "cogs        1180\n",
       "oancf        380\n",
       "at            27\n",
       "lt            29\n",
       "seq            4\n",
       "dtype: int64"
      ]
     },
     "execution_count": 6,
     "metadata": {},
     "output_type": "execute_result"
    }
   ],
   "source": [
    "comp.isnull().sum()"
   ]
  },
  {
   "cell_type": "markdown",
   "metadata": {},
   "source": [
    "#### Using `.apply`, convert the following:\n",
    " - `gvkey` to 6-digit text string\n",
    " - `cik` to a 10-digit text string.\n",
    " \n"
   ]
  },
  {
   "cell_type": "code",
   "execution_count": 7,
   "metadata": {},
   "outputs": [
    {
     "data": {
      "text/html": [
       "<div>\n",
       "<style scoped>\n",
       "    .dataframe tbody tr th:only-of-type {\n",
       "        vertical-align: middle;\n",
       "    }\n",
       "\n",
       "    .dataframe tbody tr th {\n",
       "        vertical-align: top;\n",
       "    }\n",
       "\n",
       "    .dataframe thead th {\n",
       "        text-align: right;\n",
       "    }\n",
       "</style>\n",
       "<table border=\"1\" class=\"dataframe\">\n",
       "  <thead>\n",
       "    <tr style=\"text-align: right;\">\n",
       "      <th></th>\n",
       "      <th>gvkey</th>\n",
       "      <th>datadate</th>\n",
       "      <th>fyr</th>\n",
       "      <th>tic</th>\n",
       "      <th>cik</th>\n",
       "      <th>conm</th>\n",
       "      <th>ni</th>\n",
       "      <th>sale</th>\n",
       "      <th>cogs</th>\n",
       "      <th>oancf</th>\n",
       "      <th>at</th>\n",
       "      <th>lt</th>\n",
       "      <th>seq</th>\n",
       "    </tr>\n",
       "  </thead>\n",
       "  <tbody>\n",
       "    <tr>\n",
       "      <th>0</th>\n",
       "      <td>002575</td>\n",
       "      <td>2012-12-31</td>\n",
       "      <td>12</td>\n",
       "      <td>MTD</td>\n",
       "      <td>0001037646</td>\n",
       "      <td>Mettler Toledo</td>\n",
       "      <td>290.847</td>\n",
       "      <td>2341.528</td>\n",
       "      <td>811.204</td>\n",
       "      <td>327.704</td>\n",
       "      <td>2117.400</td>\n",
       "      <td>1290.181</td>\n",
       "      <td>827.219</td>\n",
       "    </tr>\n",
       "    <tr>\n",
       "      <th>1</th>\n",
       "      <td>002575</td>\n",
       "      <td>2013-12-31</td>\n",
       "      <td>12</td>\n",
       "      <td>MTD</td>\n",
       "      <td>0001037646</td>\n",
       "      <td>Mettler Toledo</td>\n",
       "      <td>306.094</td>\n",
       "      <td>2378.972</td>\n",
       "      <td>794.915</td>\n",
       "      <td>345.928</td>\n",
       "      <td>2152.819</td>\n",
       "      <td>1217.767</td>\n",
       "      <td>935.052</td>\n",
       "    </tr>\n",
       "    <tr>\n",
       "      <th>2</th>\n",
       "      <td>002575</td>\n",
       "      <td>2014-12-31</td>\n",
       "      <td>12</td>\n",
       "      <td>MTD</td>\n",
       "      <td>0001037646</td>\n",
       "      <td>Mettler Toledo</td>\n",
       "      <td>338.241</td>\n",
       "      <td>2485.983</td>\n",
       "      <td>809.537</td>\n",
       "      <td>418.912</td>\n",
       "      <td>2009.110</td>\n",
       "      <td>1289.515</td>\n",
       "      <td>719.595</td>\n",
       "    </tr>\n",
       "    <tr>\n",
       "      <th>3</th>\n",
       "      <td>002575</td>\n",
       "      <td>2015-12-31</td>\n",
       "      <td>12</td>\n",
       "      <td>MTD</td>\n",
       "      <td>0001037646</td>\n",
       "      <td>Mettler Toledo</td>\n",
       "      <td>352.820</td>\n",
       "      <td>2395.447</td>\n",
       "      <td>744.867</td>\n",
       "      <td>426.868</td>\n",
       "      <td>2018.485</td>\n",
       "      <td>1438.028</td>\n",
       "      <td>580.457</td>\n",
       "    </tr>\n",
       "    <tr>\n",
       "      <th>4</th>\n",
       "      <td>002575</td>\n",
       "      <td>2016-12-31</td>\n",
       "      <td>12</td>\n",
       "      <td>MTD</td>\n",
       "      <td>0001037646</td>\n",
       "      <td>Mettler Toledo</td>\n",
       "      <td>384.370</td>\n",
       "      <td>2508.257</td>\n",
       "      <td>767.753</td>\n",
       "      <td>443.078</td>\n",
       "      <td>2166.777</td>\n",
       "      <td>1731.834</td>\n",
       "      <td>434.943</td>\n",
       "    </tr>\n",
       "  </tbody>\n",
       "</table>\n",
       "</div>"
      ],
      "text/plain": [
       "    gvkey   datadate  fyr  tic         cik            conm       ni      sale  \\\n",
       "0  002575 2012-12-31   12  MTD  0001037646  Mettler Toledo  290.847  2341.528   \n",
       "1  002575 2013-12-31   12  MTD  0001037646  Mettler Toledo  306.094  2378.972   \n",
       "2  002575 2014-12-31   12  MTD  0001037646  Mettler Toledo  338.241  2485.983   \n",
       "3  002575 2015-12-31   12  MTD  0001037646  Mettler Toledo  352.820  2395.447   \n",
       "4  002575 2016-12-31   12  MTD  0001037646  Mettler Toledo  384.370  2508.257   \n",
       "\n",
       "      cogs    oancf        at        lt      seq  \n",
       "0  811.204  327.704  2117.400  1290.181  827.219  \n",
       "1  794.915  345.928  2152.819  1217.767  935.052  \n",
       "2  809.537  418.912  2009.110  1289.515  719.595  \n",
       "3  744.867  426.868  2018.485  1438.028  580.457  \n",
       "4  767.753  443.078  2166.777  1731.834  434.943  "
      ]
     },
     "execution_count": 7,
     "metadata": {},
     "output_type": "execute_result"
    }
   ],
   "source": [
    "comp['gvkey'] = comp['gvkey'].apply('{:0>6}'.format)\n",
    "comp['cik'] = comp['cik'].apply('{:0>10}'.format)\n",
    "comp.head()"
   ]
  },
  {
   "cell_type": "code",
   "execution_count": 8,
   "metadata": {},
   "outputs": [
    {
     "name": "stdout",
     "output_type": "stream",
     "text": [
      "<class 'pandas.core.frame.DataFrame'>\n",
      "RangeIndex: 3502 entries, 0 to 3501\n",
      "Data columns (total 13 columns):\n",
      " #   Column    Non-Null Count  Dtype         \n",
      "---  ------    --------------  -----         \n",
      " 0   gvkey     3502 non-null   object        \n",
      " 1   datadate  3502 non-null   datetime64[ns]\n",
      " 2   fyr       3502 non-null   int64         \n",
      " 3   tic       3502 non-null   object        \n",
      " 4   cik       3502 non-null   object        \n",
      " 5   conm      3502 non-null   object        \n",
      " 6   ni        3502 non-null   float64       \n",
      " 7   sale      3502 non-null   float64       \n",
      " 8   cogs      2322 non-null   float64       \n",
      " 9   oancf     3122 non-null   float64       \n",
      " 10  at        3475 non-null   float64       \n",
      " 11  lt        3473 non-null   float64       \n",
      " 12  seq       3498 non-null   float64       \n",
      "dtypes: datetime64[ns](1), float64(7), int64(1), object(4)\n",
      "memory usage: 355.8+ KB\n"
     ]
    }
   ],
   "source": [
    "comp.info()"
   ]
  },
  {
   "cell_type": "markdown",
   "metadata": {},
   "source": [
    "#### Drop duplicates in `comp` and check how many observations get dropped"
   ]
  },
  {
   "cell_type": "code",
   "execution_count": 9,
   "metadata": {},
   "outputs": [
    {
     "name": "stdout",
     "output_type": "stream",
     "text": [
      "<class 'pandas.core.frame.DataFrame'>\n",
      "RangeIndex: 3502 entries, 0 to 3501\n",
      "Data columns (total 13 columns):\n",
      " #   Column    Non-Null Count  Dtype         \n",
      "---  ------    --------------  -----         \n",
      " 0   gvkey     3502 non-null   object        \n",
      " 1   datadate  3502 non-null   datetime64[ns]\n",
      " 2   fyr       3502 non-null   int64         \n",
      " 3   tic       3502 non-null   object        \n",
      " 4   cik       3502 non-null   object        \n",
      " 5   conm      3502 non-null   object        \n",
      " 6   ni        3502 non-null   float64       \n",
      " 7   sale      3502 non-null   float64       \n",
      " 8   cogs      2322 non-null   float64       \n",
      " 9   oancf     3122 non-null   float64       \n",
      " 10  at        3475 non-null   float64       \n",
      " 11  lt        3473 non-null   float64       \n",
      " 12  seq       3498 non-null   float64       \n",
      "dtypes: datetime64[ns](1), float64(7), int64(1), object(4)\n",
      "memory usage: 355.8+ KB\n"
     ]
    }
   ],
   "source": [
    "comp = comp.drop_duplicates()\n",
    "comp.info()"
   ]
  }
 ],
 "metadata": {
  "kernelspec": {
   "display_name": "Python 3",
   "language": "python",
   "name": "python3"
  },
  "language_info": {
   "name": "python",
   "version": "3.x"
  }
 },
 "nbformat": 4,
 "nbformat_minor": 2
}