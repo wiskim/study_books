{
 "cells": [
  {
   "cell_type": "markdown",
   "metadata": {},
   "source": [
    "# Supervised Machine Learning Models - Random Forest Classification - Exercise Solution"
   ]
  },
  {
   "cell_type": "markdown",
   "metadata": {},
   "source": [
    "#### Exercise\n",
    "\n",
    "In this exercise you will return to the **WA_Fn-UseC_-HR-Employee-Attrition.csv** dataset to predict employee attrition that we used when learning logistic regression in a previous lecture. As a reminder, the data was obtained from https://www.kaggle.com/datasets/pavansubhasht/ibm-hr-analytics-attrition-dataset and contains the following variables:\n",
    "\n",
    "| Variable | Definition |\n",
    "| --- | --- |\n",
    "| Attrition | 'Yes' if the employee leaves the company, 'No' if the employee stays with the company |\n",
    "| EmployeeNumber | Unique identifier for each employee |\n",
    "| Age | Age in years of the employee |\n",
    "| BusinessTravel | Frequency of business travel: 'Frequently', 'Rarely' or 'Non-Travel' |\n",
    "| DailyRate | Daily rate of pay for the employee |\n",
    "| Department | Department the employee belongs to: 'Sales', 'Research & Development' or 'Human Resources' |\n",
    "| DistanceFromHome | Distance from employee's home to workplace |\n",
    "| Education | Level of education: 1 'Below College', 2 'College', 3 'Bachelor', 4 'Master', 5 'Doctor' |\n",
    "| EducationField | Field of study in which the employee obtained their highest education: 'Life Sciences', 'Medical', 'Marketing', 'Technical Degree', 'Human Resources', 'Engineering', 'Arts', or 'Other' |\n",
    "| EmployeeCount | Number of employees in the company |\n",
    "| EnvironmentSatisfaction | Employee's level of satisfaction with their work environment: 1 'Low', 2 'Medium', 3 'High', 4 'Very High' |\n",
    "| Gender | Employee's gender: 'Male' or 'Female' |\n",
    "| HourlyRate | Hourly rate of pay for the employee |\n",
    "| JobInvolvement | Employee's level of job involvement: 1 'Low', 2 'Medium', 3 'High', 4 'Very High' |\n",
    "| JobLevel | Employee's job level: 1 'Entry Level', 2 'Intermediate Level', 3 'Managerial Level', 4 'Director Level', 5 'Executive Level' |\n",
    "| JobRole | Employee's job role: 'Sales Executive', 'Research Scientist', 'Laboratory Technician', 'Manufacturing Director', 'Healthcare Representative', 'Manager', 'Sales Representative', 'Research Director', 'Human Resources' |\n",
    "| JobSatisfaction | Employee's level of job satisfaction: 1 'Low', 2 'Medium', 3 'High', 4 'Very High' |\n",
    "| MaritalStatus | Employee's marital status: 'Single', 'Married' or 'Divorced' |\n",
    "| MonthlyIncome | Monthly income of the employee |\n",
    "| MonthlyRate | Monthly rate of pay for the employee |\n",
    "| NumCompaniesWorked | Number of companies the employee has worked for |\n",
    "| Over18 | Whether the employee is over 18 years old: 'Y' or 'N' |\n",
    "| OverTime | Whether the employee works overtime: 'Yes' or 'No' |\n",
    "| PercentSalaryHike | Percentage increase in salary for the employee |\n",
    "| PerformanceRating | Employee's performance rating: 1 'Low', 2 'Good', 3 'Excellent', 4 'Outstanding' |\n",
    "| RelationshipSatisfaction | Employee's level of satisfaction with their relationships at work: 1 'Low', 2 'Medium', 3 'High', 4 'Very High' |\n",
    "| StandardHours | Standard number of working hours for the company |\n",
    "| StockOptionLevel | Employee's level of stock options: 0 'None', 1 'Low', 2 'Medium', 3 'High' |\n",
    "| TotalWorkingYears | Total number of years the employee has worked |\n",
    "| TrainingTimesLastYear | Number of times the employee received training last year |\n",
    "| WorkLifeBalance | Employee's level of work-life balance: 1 'Bad', 2 'Good', 3 'Better', 4 'Best' |\n",
    "| YearsAtCompany | Number of years the employee has worked at the company |\n",
    "| YearsInCurrentRole | Number of years the employee has been in their current role |\n",
    "| YearsSinceLastPromotion | Number of years since the employee's last promotion |\n",
    "| YearsWithCurrManager | Number of years the employee has been working under their current manager |\n",
    "\n",
    "Use random forest classification to predict whether the employee will leave the company (i.e., **Attrition**) using all possible independent variables in the model. Train the model on a random sample of 75% of the observations in the dataset, and test the model on the remaining 25% of the observations in the dataset. How well did the model perform?"
   ]
  },
  {
   "cell_type": "code",
   "execution_count": null,
   "metadata": {},
   "outputs": [],
   "source": [
    "import pandas as pd\n",
    "import numpy as np\n",
    "import warnings\n",
    "import statsmodels.api as sm\n",
    "from sklearn.ensemble import RandomForestClassifier\n",
    "from sklearn.metrics import confusion_matrix\n",
    "from sklearn.model_selection import train_test_split\n",
    "\n",
    "warnings.filterwarnings('ignore')\n",
    "pd.set_option('display.max_columns', None)\n",
    "pd.set_option('display.max_rows', None)\n",
    "pd.set_option('display.width', 10000)\n",
    "pd.set_option('display.max_colwidth', None)\n",
    "pd.options.display.float_format = '{:,.3f}'.format"
   ]
  },
  {
   "cell_type": "code",
   "execution_count": null,
   "metadata": {},
   "outputs": [],
   "source": [
    "# Read in the data\n",
    "df = pd.read_csv('WA_Fn-UseC_-HR-Employee-Attrition.csv')\n",
    "\n",
    "# Notice that 'EmployeeCount' has all values equal to 1. Let's remove it.\n",
    "#del df['EmployeeCount']\n",
    "\n",
    "# Notice that 'StandardHours' has all values equal to 80. Let's remove it.\n",
    "#del df['StandardHours']\n",
    "\n",
    "# EmployeeNumber should have no relation with Attrition. Let's remove it.\n",
    "#del df['EmployeeNumber']\n",
    "\n",
    "df.drop(['EmployeeCount', 'StandardHours', 'EmployeeNumber'], axis=1, inplace=True)\n",
    "\n",
    "# Create an indicator variable equal to 1 if Attrition is 'Yes' and equal to 0 if Attrition is 'No'\n",
    "\n",
    "\n",
    "# Create dummy variables for categorical columns\n",
    "\n",
    "\n",
    "# Create list of independent variables\n",
    "indep_vars = [x for x in df.columns if x not in ['Attrition', 'BusinessTravel', 'Department', 'EducationField', 'Gender', 'JobRole', 'MaritalStatus', 'Over18', 'OverTime']]\n",
    "print(indep_vars)\n",
    "\n",
    "# Create X and y DataFrames\n",
    "\n",
    "\n",
    "# Split into training and testing sets\n"
   ]
  },
  {
   "cell_type": "code",
   "execution_count": null,
   "metadata": {},
   "outputs": [],
   "source": [
    "# Estimate the random forest classification model and create predictions in the out-of-sample testing set\n",
    "\n"
   ]
  },
  {
   "cell_type": "code",
   "execution_count": null,
   "metadata": {},
   "outputs": [],
   "source": [
    "# Evaluate the model\n"
   ]
  },
  {
   "cell_type": "code",
   "execution_count": null,
   "metadata": {},
   "outputs": [],
   "source": []
  },
  {
   "cell_type": "code",
   "execution_count": null,
   "metadata": {},
   "outputs": [],
   "source": [
    "# Feature importance\n"
   ]
  },
  {
   "cell_type": "code",
   "execution_count": null,
   "metadata": {},
   "outputs": [],
   "source": []
  }
 ],
 "metadata": {
  "kernelspec": {
   "display_name": "Python 3 (ipykernel)",
   "language": "python",
   "name": "python3"
  },
  "language_info": {
   "codemirror_mode": {
    "name": "ipython",
    "version": 3
   },
   "file_extension": ".py",
   "mimetype": "text/x-python",
   "name": "python",
   "nbconvert_exporter": "python",
   "pygments_lexer": "ipython3",
   "version": "3.11.5"
  },
  "vscode": {
   "interpreter": {
    "hash": "3bd13bc16400e16874b7ce28af58a129343287e94248a182c1f06fbb6b76ef8e"
   }
  }
 },
 "nbformat": 4,
 "nbformat_minor": 2
}
