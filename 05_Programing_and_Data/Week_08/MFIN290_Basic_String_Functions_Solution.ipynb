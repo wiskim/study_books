{
 "cells": [
  {
   "cell_type": "markdown",
   "metadata": {},
   "source": [
    "# Introduction to Textual Analysis - Basic String Functions\n",
    "\n",
    "A vast amount of data is contained in textual format (e.g., 10-Ks, news articles, press releases, conference calls, analyst reports, etc.), and there are many research questions that we can ask relating to this type of data.\n",
    "\n",
    "Working with textual data is no easy task because language is multi-faceted. There are many ways to convey similar information. For example, to communicate that the firm had a good quarter, the manager might say any of the following:\n",
    "\n",
    "    \"We had a great quarter.\"\n",
    "\n",
    "    \"Our quarter was fantastic.\"\n",
    "\n",
    "    \"We are proud of our results this quarter.\"\n",
    "\n",
    "    \"Our results were excellent this quarter.\"\n",
    "\n",
    "In this module, we'll introduce some basic string functions to begin to develop some core natural language processing skills that we can ultimately use to analyze textual data."
   ]
  },
  {
   "cell_type": "markdown",
   "metadata": {},
   "source": [
    "#### Basic String Functions\n",
    "\n",
    "We'll illustrate using the following text string."
   ]
  },
  {
   "cell_type": "code",
   "execution_count": 1,
   "metadata": {},
   "outputs": [],
   "source": [
    "text = 'Hello World!! '"
   ]
  },
  {
   "cell_type": "markdown",
   "metadata": {},
   "source": [
    "***Replace Text***\n",
    "\n",
    "Replace text in a string using the **replace** function."
   ]
  },
  {
   "cell_type": "code",
   "execution_count": 2,
   "metadata": {},
   "outputs": [
    {
     "data": {
      "text/plain": [
       "'Hi World!! '"
      ]
     },
     "execution_count": 2,
     "metadata": {},
     "output_type": "execute_result"
    }
   ],
   "source": [
    "replaced_text = text.replace('Hello','Hi')\n",
    "replaced_text"
   ]
  },
  {
   "cell_type": "markdown",
   "metadata": {},
   "source": [
    "***Remove Leading and Trailing Spaces***\n",
    "\n",
    "Remove leading and trailing spaces in a string using the **strip** function."
   ]
  },
  {
   "cell_type": "code",
   "execution_count": 3,
   "metadata": {},
   "outputs": [
    {
     "data": {
      "text/plain": [
       "'Hello World!!'"
      ]
     },
     "execution_count": 3,
     "metadata": {},
     "output_type": "execute_result"
    }
   ],
   "source": [
    "stripped_text1 = text.strip()\n",
    "stripped_text1"
   ]
  },
  {
   "cell_type": "markdown",
   "metadata": {},
   "source": [
    "***Remove Specific Leading and Trailing Characters***\n",
    "\n",
    "Remove specific leading and trailing characters from a string using the **strip** function."
   ]
  },
  {
   "cell_type": "code",
   "execution_count": 4,
   "metadata": {},
   "outputs": [
    {
     "data": {
      "text/plain": [
       "'Hello World'"
      ]
     },
     "execution_count": 4,
     "metadata": {},
     "output_type": "execute_result"
    }
   ],
   "source": [
    "stripped_text2 = stripped_text1.strip('!')\n",
    "stripped_text2"
   ]
  },
  {
   "cell_type": "markdown",
   "metadata": {},
   "source": [
    "***Split String***\n",
    "\n",
    "Split string based on a value (e.g., ' ') using the **split** function."
   ]
  },
  {
   "cell_type": "code",
   "execution_count": 5,
   "metadata": {},
   "outputs": [
    {
     "data": {
      "text/plain": [
       "['Hello', 'World!!', '']"
      ]
     },
     "execution_count": 5,
     "metadata": {},
     "output_type": "execute_result"
    }
   ],
   "source": [
    "words = text.split(' ')\n",
    "words"
   ]
  },
  {
   "cell_type": "markdown",
   "metadata": {},
   "source": [
    "***Convert to Upper Case***\n",
    "\n",
    "Convert string to all upper case using the **upper** function."
   ]
  },
  {
   "cell_type": "code",
   "execution_count": 6,
   "metadata": {},
   "outputs": [
    {
     "data": {
      "text/plain": [
       "'HELLO WORLD!! '"
      ]
     },
     "execution_count": 6,
     "metadata": {},
     "output_type": "execute_result"
    }
   ],
   "source": [
    "text_upper = text.upper()\n",
    "text_upper"
   ]
  },
  {
   "cell_type": "markdown",
   "metadata": {},
   "source": [
    "***Convert to Lower Case***\n",
    "\n",
    "Convert string to all lower case using the **lower** function."
   ]
  },
  {
   "cell_type": "code",
   "execution_count": 7,
   "metadata": {},
   "outputs": [
    {
     "data": {
      "text/plain": [
       "'hello world!! '"
      ]
     },
     "execution_count": 7,
     "metadata": {},
     "output_type": "execute_result"
    }
   ],
   "source": [
    "text_lower = text.lower()\n",
    "text_lower"
   ]
  },
  {
   "cell_type": "markdown",
   "metadata": {},
   "source": [
    "***Count Occurrences***\n",
    "\n",
    "Count occurences in a string using the **count** function."
   ]
  },
  {
   "cell_type": "code",
   "execution_count": 8,
   "metadata": {},
   "outputs": [
    {
     "data": {
      "text/plain": [
       "2"
      ]
     },
     "execution_count": 8,
     "metadata": {},
     "output_type": "execute_result"
    }
   ],
   "source": [
    "text = 'Hello World Hello!'\n",
    "count_hello = text.count('Hello')\n",
    "count_hello"
   ]
  },
  {
   "cell_type": "markdown",
   "metadata": {},
   "source": [
    "***Join Strings***\n",
    "\n",
    "Join strings together using the **join** function."
   ]
  },
  {
   "cell_type": "code",
   "execution_count": 9,
   "metadata": {},
   "outputs": [
    {
     "data": {
      "text/plain": [
       "'Hello~World~!'"
      ]
     },
     "execution_count": 9,
     "metadata": {},
     "output_type": "execute_result"
    }
   ],
   "source": [
    "words = ['Hello','World','!']\n",
    "#joined_text = ' '.join(words)\n",
    "joined_text = '~'.join(words)\n",
    "joined_text"
   ]
  },
  {
   "cell_type": "markdown",
   "metadata": {},
   "source": [
    "***Search Strings***\n",
    "\n",
    "Search a string for a specified value and return the first position of where it was found using the **find** function."
   ]
  },
  {
   "cell_type": "code",
   "execution_count": 10,
   "metadata": {},
   "outputs": [
    {
     "data": {
      "text/plain": [
       "10"
      ]
     },
     "execution_count": 10,
     "metadata": {},
     "output_type": "execute_result"
    }
   ],
   "source": [
    "text = 'Here is a string. This string is an example string.'\n",
    "loc_string = text.find('string') \n",
    "loc_string"
   ]
  },
  {
   "cell_type": "markdown",
   "metadata": {},
   "source": [
    "#### Boolean String Functions\n",
    "\n",
    "We can test if a string contains certain properties using the following functions:\n",
    "\n",
    "    islower() - returns True if all characters in a string are lower case\n",
    "    isupper() - returns True if all characters in a string are upper case\n",
    "    isnumeric() - returns True if all characters in a string are numeric\n",
    "    isalpha() - returns True if all characters in a string are in the alphabet\n",
    "    isalnum() - returns True if all characters in a string are alphanumeric\n",
    "    startswith() - returns True if a string starts with a specified value\n",
    "    endswith() - returns True if a string ends with a specified value"
   ]
  },
  {
   "cell_type": "code",
   "execution_count": 11,
   "metadata": {
    "scrolled": false
   },
   "outputs": [
    {
     "name": "stdout",
     "output_type": "stream",
     "text": [
      "The text is all lower case    : True\n",
      "The text is all upper case    : False\n",
      "The text is all numeric       : False\n",
      "The text is all alphabetic    : False\n",
      "The text is all alpha-numeric : False\n",
      "The text starts with \"Hello\"  : False\n",
      "The text ends with \"!\"        : False\n"
     ]
    }
   ],
   "source": [
    "text = 'hello world'\n",
    "print('The text is all lower case    : '+str(text.islower()))\n",
    "print('The text is all upper case    : '+str(text.isupper()))\n",
    "print('The text is all numeric       : '+str(text.isnumeric()))\n",
    "print('The text is all alphabetic    : '+str(text.isalpha()))\n",
    "print('The text is all alpha-numeric : '+str(text.isalnum()))\n",
    "print('The text starts with \"Hello\"  : '+str(text.startswith('Hello')))\n",
    "print('The text ends with \"!\"        : '+str(text.endswith('!')))"
   ]
  },
  {
   "cell_type": "markdown",
   "metadata": {},
   "source": [
    "#### Exercise\n",
    "\n",
    "You are given the following text string and string list:"
   ]
  },
  {
   "cell_type": "code",
   "execution_count": 12,
   "metadata": {},
   "outputs": [],
   "source": [
    "text = 'Hello MFIN290 students. I hope you are enjoying Python! Python is #1!'\n",
    "string_list = ['Hello','Python','Coder']"
   ]
  },
  {
   "cell_type": "markdown",
   "metadata": {},
   "source": [
    "Do the following:\n",
    "\n",
    "1. Obtain a list of all words in the `text` string.\n",
    "2. Replace '#1' with 'number one' in the `text` string.\n",
    "3. Convert all characters in the `text` string to lower case.\n",
    "4. Test whether the `text` string is all lower case.\n",
    "5. Count the number of 'p' characters in the `text` string.\n",
    "6. Test whether the `text` string ends with a period (i.e., '.').\n",
    "7. Identify the first index location of the word 'hope' within the `text` string.\n",
    "8. Join the `string_list` using a space (i.e., ' ')."
   ]
  },
  {
   "cell_type": "markdown",
   "metadata": {},
   "source": [
    "#### Solution for # 1"
   ]
  },
  {
   "cell_type": "code",
   "execution_count": 13,
   "metadata": {},
   "outputs": [
    {
     "data": {
      "text/plain": [
       "['Hello',\n",
       " 'MFIN290',\n",
       " 'students.',\n",
       " 'I',\n",
       " 'hope',\n",
       " 'you',\n",
       " 'are',\n",
       " 'enjoying',\n",
       " 'Python!',\n",
       " 'Python',\n",
       " 'is',\n",
       " '#1!']"
      ]
     },
     "execution_count": 13,
     "metadata": {},
     "output_type": "execute_result"
    }
   ],
   "source": [
    "words = text.split(' ')\n",
    "words"
   ]
  },
  {
   "cell_type": "markdown",
   "metadata": {},
   "source": [
    "#### Solution for # 2"
   ]
  },
  {
   "cell_type": "code",
   "execution_count": 14,
   "metadata": {},
   "outputs": [
    {
     "data": {
      "text/plain": [
       "'Hello MFIN290 students. I hope you are enjoying Python! Python is number one!'"
      ]
     },
     "execution_count": 14,
     "metadata": {},
     "output_type": "execute_result"
    }
   ],
   "source": [
    "text = text.replace('#1','number one')\n",
    "text"
   ]
  },
  {
   "cell_type": "markdown",
   "metadata": {},
   "source": [
    "#### Solution for # 3"
   ]
  },
  {
   "cell_type": "code",
   "execution_count": 15,
   "metadata": {},
   "outputs": [
    {
     "data": {
      "text/plain": [
       "'hello mfin290 students. i hope you are enjoying python! python is number one!'"
      ]
     },
     "execution_count": 15,
     "metadata": {},
     "output_type": "execute_result"
    }
   ],
   "source": [
    "text = text.lower()\n",
    "text"
   ]
  },
  {
   "cell_type": "markdown",
   "metadata": {},
   "source": [
    "#### Solution for # 4"
   ]
  },
  {
   "cell_type": "code",
   "execution_count": 16,
   "metadata": {},
   "outputs": [
    {
     "data": {
      "text/plain": [
       "True"
      ]
     },
     "execution_count": 16,
     "metadata": {},
     "output_type": "execute_result"
    }
   ],
   "source": [
    "text.islower()"
   ]
  },
  {
   "cell_type": "markdown",
   "metadata": {},
   "source": [
    "#### Solution for # 5"
   ]
  },
  {
   "cell_type": "code",
   "execution_count": 17,
   "metadata": {},
   "outputs": [
    {
     "data": {
      "text/plain": [
       "3"
      ]
     },
     "execution_count": 17,
     "metadata": {},
     "output_type": "execute_result"
    }
   ],
   "source": [
    "pcount = text.count('p')\n",
    "pcount"
   ]
  },
  {
   "cell_type": "markdown",
   "metadata": {},
   "source": [
    "#### Solution for # 6"
   ]
  },
  {
   "cell_type": "code",
   "execution_count": 18,
   "metadata": {},
   "outputs": [
    {
     "data": {
      "text/plain": [
       "False"
      ]
     },
     "execution_count": 18,
     "metadata": {},
     "output_type": "execute_result"
    }
   ],
   "source": [
    "text.endswith('.')"
   ]
  },
  {
   "cell_type": "markdown",
   "metadata": {},
   "source": [
    "#### Solution for # 7"
   ]
  },
  {
   "cell_type": "code",
   "execution_count": 19,
   "metadata": {},
   "outputs": [
    {
     "data": {
      "text/plain": [
       "26"
      ]
     },
     "execution_count": 19,
     "metadata": {},
     "output_type": "execute_result"
    }
   ],
   "source": [
    "hope_loc = text.find('hope')\n",
    "hope_loc"
   ]
  },
  {
   "cell_type": "markdown",
   "metadata": {},
   "source": [
    "#### Solution for # 8"
   ]
  },
  {
   "cell_type": "code",
   "execution_count": 20,
   "metadata": {},
   "outputs": [
    {
     "data": {
      "text/plain": [
       "'Hello Python Coder'"
      ]
     },
     "execution_count": 20,
     "metadata": {},
     "output_type": "execute_result"
    }
   ],
   "source": [
    "' '.join(string_list)"
   ]
  },
  {
   "cell_type": "code",
   "execution_count": null,
   "metadata": {},
   "outputs": [],
   "source": []
  }
 ],
 "metadata": {
  "kernelspec": {
   "display_name": "py312",
   "language": "python",
   "name": "python3"
  },
  "language_info": {
   "codemirror_mode": {
    "name": "ipython",
    "version": 3
   },
   "file_extension": ".py",
   "mimetype": "text/x-python",
   "name": "python",
   "nbconvert_exporter": "python",
   "pygments_lexer": "ipython3",
   "version": "3.12.7"
  }
 },
 "nbformat": 4,
 "nbformat_minor": 2
}
