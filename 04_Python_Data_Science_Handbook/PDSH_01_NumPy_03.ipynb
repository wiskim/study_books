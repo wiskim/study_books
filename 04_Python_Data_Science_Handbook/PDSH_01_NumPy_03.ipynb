{
  "cells": [
    {
      "metadata": {},
      "cell_type": "markdown",
      "source": "# 3. Computation on NumPy Arrays : Universal Functions"
    },
    {
      "metadata": {
        "trusted": true
      },
      "cell_type": "markdown",
      "source": "## 3-1. Exploring NumPy's UFuncs"
    },
    {
      "metadata": {
        "trusted": true
      },
      "cell_type": "markdown",
      "source": "### 3-1-1. Array arithmetic"
    },
    {
      "metadata": {
        "trusted": true
      },
      "cell_type": "code",
      "source": "import numpy as np",
      "execution_count": 1,
      "outputs": []
    },
    {
      "metadata": {
        "trusted": true
      },
      "cell_type": "code",
      "source": "x = np.arange(4)\nprint(\"x     = \", x)\nprint(\"x + 5 = \", x + 5)\nprint(\"X - 5 = \", x - 5)\nprint(\"x * 2 = \", x * 2)\nprint(\"x / 2 = \", x / 2)\nprint(\"x // 2 = \", x // 2) # floor divide",
      "execution_count": 2,
      "outputs": [
        {
          "output_type": "stream",
          "text": "x     =  [0 1 2 3]\nx + 5 =  [5 6 7 8]\nX - 5 =  [-5 -4 -3 -2]\nx * 2 =  [0 2 4 6]\nx / 2 =  [0.  0.5 1.  1.5]\nx // 2 =  [0 0 1 1]\n",
          "name": "stdout"
        }
      ]
    },
    {
      "metadata": {
        "trusted": true
      },
      "cell_type": "code",
      "source": "print(\"-x = \", -x)\nprint(\"x ** 2 = \", x ** 2)\nprint(\"x % 2 = \", x % 2) # mod",
      "execution_count": 3,
      "outputs": [
        {
          "output_type": "stream",
          "text": "-x =  [ 0 -1 -2 -3]\nx ** 2 =  [0 1 4 9]\nx % 2 =  [0 1 0 1]\n",
          "name": "stdout"
        }
      ]
    },
    {
      "metadata": {
        "trusted": true
      },
      "cell_type": "code",
      "source": "-(0.5*x + 1) ** 2",
      "execution_count": 4,
      "outputs": [
        {
          "output_type": "execute_result",
          "execution_count": 4,
          "data": {
            "text/plain": "array([-1.  , -2.25, -4.  , -6.25])"
          },
          "metadata": {}
        }
      ]
    },
    {
      "metadata": {
        "trusted": true
      },
      "cell_type": "code",
      "source": "np.add(x, 2)",
      "execution_count": 5,
      "outputs": [
        {
          "output_type": "execute_result",
          "execution_count": 5,
          "data": {
            "text/plain": "array([2, 3, 4, 5])"
          },
          "metadata": {}
        }
      ]
    },
    {
      "metadata": {},
      "cell_type": "markdown",
      "source": "## 3-1-2. Absolute value"
    },
    {
      "metadata": {
        "trusted": true
      },
      "cell_type": "code",
      "source": "x = np.array([-2, -1, 0, 1, 2])\nabs(x)",
      "execution_count": 6,
      "outputs": [
        {
          "output_type": "execute_result",
          "execution_count": 6,
          "data": {
            "text/plain": "array([2, 1, 0, 1, 2])"
          },
          "metadata": {}
        }
      ]
    },
    {
      "metadata": {
        "trusted": true
      },
      "cell_type": "code",
      "source": "np.absolute(x)",
      "execution_count": 7,
      "outputs": [
        {
          "output_type": "execute_result",
          "execution_count": 7,
          "data": {
            "text/plain": "array([2, 1, 0, 1, 2])"
          },
          "metadata": {}
        }
      ]
    },
    {
      "metadata": {
        "trusted": true
      },
      "cell_type": "code",
      "source": "np.abs(x)",
      "execution_count": 8,
      "outputs": [
        {
          "output_type": "execute_result",
          "execution_count": 8,
          "data": {
            "text/plain": "array([2, 1, 0, 1, 2])"
          },
          "metadata": {}
        }
      ]
    },
    {
      "metadata": {},
      "cell_type": "markdown",
      "source": "### 3-1-3. Trigonometic functions"
    },
    {
      "metadata": {
        "trusted": true
      },
      "cell_type": "code",
      "source": "theta = np.linspace(0, np.pi, 3)",
      "execution_count": 9,
      "outputs": []
    },
    {
      "metadata": {
        "trusted": true
      },
      "cell_type": "code",
      "source": "print(\"theta = \", theta)\nprint(\"sin(theta) = \", np.sin(theta))\nprint(\"cos(theta) = \", np.cos(theta))\nprint(\"tan(theta) = \", np.tan(theta))",
      "execution_count": 10,
      "outputs": [
        {
          "output_type": "stream",
          "text": "theta =  [0.         1.57079633 3.14159265]\nsin(theta) =  [0.0000000e+00 1.0000000e+00 1.2246468e-16]\ncos(theta) =  [ 1.000000e+00  6.123234e-17 -1.000000e+00]\ntan(theta) =  [ 0.00000000e+00  1.63312394e+16 -1.22464680e-16]\n",
          "name": "stdout"
        }
      ]
    },
    {
      "metadata": {
        "trusted": true
      },
      "cell_type": "code",
      "source": "x = [-1, 0, 1]\nprint(\"x = \", x)\nprint(\"arcsin(x) = \", np.arcsin(x))\nprint(\"arccos(x) = \", np.arccos(x))\nprint(\"arctan(x) = \", np.arctan(x))",
      "execution_count": 11,
      "outputs": [
        {
          "output_type": "stream",
          "text": "x =  [-1, 0, 1]\narcsin(x) =  [-1.57079633  0.          1.57079633]\narccos(x) =  [3.14159265 1.57079633 0.        ]\narctan(x) =  [-0.78539816  0.          0.78539816]\n",
          "name": "stdout"
        }
      ]
    },
    {
      "metadata": {},
      "cell_type": "markdown",
      "source": "### 3-1-4. Exponents and logarithms"
    },
    {
      "metadata": {
        "trusted": true
      },
      "cell_type": "code",
      "source": "x = [1, 2, 3]\nprint(\"x = \", x)\nprint(\"e^x = \", np.exp(x))\nprint(\"2^x = \", np.exp2(x))\nprint(\"3^x = \", np.power(3, x))",
      "execution_count": 13,
      "outputs": [
        {
          "output_type": "stream",
          "text": "x =  [1, 2, 3]\ne^x =  [ 2.71828183  7.3890561  20.08553692]\n2^x =  [2. 4. 8.]\n3^x =  [ 3  9 27]\n",
          "name": "stdout"
        }
      ]
    },
    {
      "metadata": {
        "trusted": true
      },
      "cell_type": "code",
      "source": "x = [1, 2, 4, 10]\nprint(\"x = \", x)\nprint(\"ln(x) = \", np.log(x))\nprint(\"log2(x) = \", np.log2(x))\nprint(\"log10(x) = \", np.log10(x))",
      "execution_count": 15,
      "outputs": [
        {
          "output_type": "stream",
          "text": "x =  [1, 2, 4, 10]\nln(x) =  [0.         0.69314718 1.38629436 2.30258509]\nlog2(x) =  [0.         1.         2.         3.32192809]\nlog10(x) =  [0.         0.30103    0.60205999 1.        ]\n",
          "name": "stdout"
        }
      ]
    },
    {
      "metadata": {
        "trusted": true
      },
      "cell_type": "code",
      "source": "x = [0, 0.001, 0.01, 0.1]\nprint(\"exp(x) - 1 = \", np.expm1(x))\nprint(\"log(1 + x) = \", np.log1p(x))",
      "execution_count": 18,
      "outputs": [
        {
          "output_type": "stream",
          "text": "exp(x) - 1 =  [0.         0.0010005  0.01005017 0.10517092]\nlog(1 + x) =  [0.         0.0009995  0.00995033 0.09531018]\n",
          "name": "stdout"
        }
      ]
    },
    {
      "metadata": {},
      "cell_type": "markdown",
      "source": "## 3-1-5. Specialized ufuncs"
    },
    {
      "metadata": {
        "trusted": true
      },
      "cell_type": "code",
      "source": "from scipy import special",
      "execution_count": 19,
      "outputs": []
    },
    {
      "metadata": {
        "trusted": true
      },
      "cell_type": "code",
      "source": "x = [1, 5, 10]\nprint(\"gamma(x) = \", special.gamma(x))\nprint(\"ln|gamma(x) = \", special.gammaln(x))\nprint(\"beta(x, 2) = \", special.beta(x, 2))",
      "execution_count": 20,
      "outputs": [
        {
          "output_type": "stream",
          "text": "gamma(x) =  [1.0000e+00 2.4000e+01 3.6288e+05]\nln|gamma(x) =  [ 0.          3.17805383 12.80182748]\nbeta(x, 2) =  [0.5        0.03333333 0.00909091]\n",
          "name": "stdout"
        }
      ]
    },
    {
      "metadata": {
        "trusted": true
      },
      "cell_type": "code",
      "source": "x = np.array([0, 0.3, 0.7, 1.0])\nprint(\"erf(x) = \", special.erf(x))\nprint(\"erfc(x) = \", special.erfc(x))\nprint(\"erfinv(x) = \", special.erfinv(x))",
      "execution_count": 21,
      "outputs": [
        {
          "output_type": "stream",
          "text": "erf(x) =  [0.         0.32862676 0.67780119 0.84270079]\nerfc(x) =  [1.         0.67137324 0.32219881 0.15729921]\nerfinv(x) =  [0.         0.27246271 0.73286908        inf]\n",
          "name": "stdout"
        }
      ]
    },
    {
      "metadata": {},
      "cell_type": "markdown",
      "source": "## 3-2. Advanced Ufunc Features"
    },
    {
      "metadata": {},
      "cell_type": "markdown",
      "source": "### 3-2-1. Specifying output"
    },
    {
      "metadata": {
        "trusted": true
      },
      "cell_type": "code",
      "source": "x = np.arange(5)\ny = np.empty(5)\nnp.multiply(x, 10, out=y)\nprint(y)",
      "execution_count": 23,
      "outputs": [
        {
          "output_type": "stream",
          "text": "[ 0. 10. 20. 30. 40.]\n",
          "name": "stdout"
        }
      ]
    },
    {
      "metadata": {
        "trusted": true
      },
      "cell_type": "code",
      "source": "y = np.zeros(10)\nnp.power(2, x, out=y[::2])\nprint(y)",
      "execution_count": 24,
      "outputs": [
        {
          "output_type": "stream",
          "text": "[ 1.  0.  2.  0.  4.  0.  8.  0. 16.  0.]\n",
          "name": "stdout"
        }
      ]
    },
    {
      "metadata": {},
      "cell_type": "markdown",
      "source": "### 3-2-2. Aggregates"
    },
    {
      "metadata": {
        "trusted": true
      },
      "cell_type": "code",
      "source": "x = np.arange(1, 6)\nnp.add.reduce(x)",
      "execution_count": 26,
      "outputs": [
        {
          "output_type": "execute_result",
          "execution_count": 26,
          "data": {
            "text/plain": "15"
          },
          "metadata": {}
        }
      ]
    },
    {
      "metadata": {
        "trusted": true
      },
      "cell_type": "code",
      "source": "np.multiply.reduce(x)",
      "execution_count": 27,
      "outputs": [
        {
          "output_type": "execute_result",
          "execution_count": 27,
          "data": {
            "text/plain": "120"
          },
          "metadata": {}
        }
      ]
    },
    {
      "metadata": {
        "trusted": true
      },
      "cell_type": "code",
      "source": "np.add.accumulate(x)",
      "execution_count": 29,
      "outputs": [
        {
          "output_type": "execute_result",
          "execution_count": 29,
          "data": {
            "text/plain": "array([ 1,  3,  6, 10, 15])"
          },
          "metadata": {}
        }
      ]
    },
    {
      "metadata": {
        "trusted": true
      },
      "cell_type": "code",
      "source": "np.multiply.accumulate(x)",
      "execution_count": 30,
      "outputs": [
        {
          "output_type": "execute_result",
          "execution_count": 30,
          "data": {
            "text/plain": "array([  1,   2,   6,  24, 120])"
          },
          "metadata": {}
        }
      ]
    },
    {
      "metadata": {},
      "cell_type": "markdown",
      "source": "### 3-2-3. Outer products"
    },
    {
      "metadata": {
        "trusted": true
      },
      "cell_type": "code",
      "source": "x = np.arange(1, 6)\nnp.multiply.outer(x, x)",
      "execution_count": 31,
      "outputs": [
        {
          "output_type": "execute_result",
          "execution_count": 31,
          "data": {
            "text/plain": "array([[ 1,  2,  3,  4,  5],\n       [ 2,  4,  6,  8, 10],\n       [ 3,  6,  9, 12, 15],\n       [ 4,  8, 12, 16, 20],\n       [ 5, 10, 15, 20, 25]])"
          },
          "metadata": {}
        }
      ]
    }
  ],
  "metadata": {
    "kernelspec": {
      "name": "python36",
      "display_name": "Python 3.6",
      "language": "python"
    },
    "language_info": {
      "mimetype": "text/x-python",
      "nbconvert_exporter": "python",
      "name": "python",
      "pygments_lexer": "ipython3",
      "version": "3.6.6",
      "file_extension": ".py",
      "codemirror_mode": {
        "version": 3,
        "name": "ipython"
      }
    }
  },
  "nbformat": 4,
  "nbformat_minor": 1
}