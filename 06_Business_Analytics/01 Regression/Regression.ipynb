{
 "cells": [
  {
   "cell_type": "markdown",
   "metadata": {},
   "source": [
    "# 1. Simple Linear Regression"
   ]
  },
  {
   "cell_type": "code",
   "execution_count": 1,
   "metadata": {},
   "outputs": [],
   "source": [
    "import pandas as pd\n",
    "import numpy as np\n",
    "import statsmodels.api as sm\n",
    "import matplotlib.pyplot as plt\n",
    "import seaborn as sns\n",
    "sns.set_theme()"
   ]
  },
  {
   "cell_type": "code",
   "execution_count": 2,
   "metadata": {},
   "outputs": [
    {
     "data": {
      "text/html": [
       "<div>\n",
       "<style scoped>\n",
       "    .dataframe tbody tr th:only-of-type {\n",
       "        vertical-align: middle;\n",
       "    }\n",
       "\n",
       "    .dataframe tbody tr th {\n",
       "        vertical-align: top;\n",
       "    }\n",
       "\n",
       "    .dataframe thead th {\n",
       "        text-align: right;\n",
       "    }\n",
       "</style>\n",
       "<table border=\"1\" class=\"dataframe\">\n",
       "  <thead>\n",
       "    <tr style=\"text-align: right;\">\n",
       "      <th></th>\n",
       "      <th>Date</th>\n",
       "      <th>S&amp;P500</th>\n",
       "      <th>Apple</th>\n",
       "      <th>Change_S&amp;P500</th>\n",
       "      <th>Change_Apple</th>\n",
       "    </tr>\n",
       "  </thead>\n",
       "  <tbody>\n",
       "    <tr>\n",
       "      <th>226</th>\n",
       "      <td>2000-02-01</td>\n",
       "      <td>1366.420044</td>\n",
       "      <td>2.741432</td>\n",
       "      <td>-0.020108</td>\n",
       "      <td>0.104819</td>\n",
       "    </tr>\n",
       "    <tr>\n",
       "      <th>225</th>\n",
       "      <td>2000-03-01</td>\n",
       "      <td>1498.579956</td>\n",
       "      <td>3.248164</td>\n",
       "      <td>0.096720</td>\n",
       "      <td>0.184842</td>\n",
       "    </tr>\n",
       "    <tr>\n",
       "      <th>224</th>\n",
       "      <td>2000-04-01</td>\n",
       "      <td>1452.430054</td>\n",
       "      <td>2.967144</td>\n",
       "      <td>-0.030796</td>\n",
       "      <td>-0.086517</td>\n",
       "    </tr>\n",
       "    <tr>\n",
       "      <th>223</th>\n",
       "      <td>2000-05-01</td>\n",
       "      <td>1420.599976</td>\n",
       "      <td>2.008989</td>\n",
       "      <td>-0.021915</td>\n",
       "      <td>-0.322922</td>\n",
       "    </tr>\n",
       "    <tr>\n",
       "      <th>222</th>\n",
       "      <td>2000-06-01</td>\n",
       "      <td>1454.599976</td>\n",
       "      <td>2.505256</td>\n",
       "      <td>0.023934</td>\n",
       "      <td>0.247023</td>\n",
       "    </tr>\n",
       "  </tbody>\n",
       "</table>\n",
       "</div>"
      ],
      "text/plain": [
       "          Date       S&P500     Apple  Change_S&P500  Change_Apple\n",
       "226 2000-02-01  1366.420044  2.741432      -0.020108      0.104819\n",
       "225 2000-03-01  1498.579956  3.248164       0.096720      0.184842\n",
       "224 2000-04-01  1452.430054  2.967144      -0.030796     -0.086517\n",
       "223 2000-05-01  1420.599976  2.008989      -0.021915     -0.322922\n",
       "222 2000-06-01  1454.599976  2.505256       0.023934      0.247023"
      ]
     },
     "execution_count": 2,
     "metadata": {},
     "output_type": "execute_result"
    }
   ],
   "source": [
    "stock_return = pd.read_csv('data/Apple_S&P500.csv')\n",
    "stock_return['Date'] = pd.to_datetime(stock_return['Date'])\n",
    "stock_return.sort_values(by='Date', inplace=True)\n",
    "stock_return.dropna(inplace=True)\n",
    "stock_return.head()"
   ]
  },
  {
   "cell_type": "code",
   "execution_count": 3,
   "metadata": {},
   "outputs": [
    {
     "name": "stdout",
     "output_type": "stream",
     "text": [
      "                            OLS Regression Results                            \n",
      "==============================================================================\n",
      "Dep. Variable:           Change_Apple   R-squared:                       0.255\n",
      "Model:                            OLS   Adj. R-squared:                  0.252\n",
      "Method:                 Least Squares   F-statistic:                     77.16\n",
      "Date:                Fri, 31 Jan 2025   Prob (F-statistic):           4.08e-16\n",
      "Time:                        21:51:08   Log-Likelihood:                 197.09\n",
      "No. Observations:                 227   AIC:                            -390.2\n",
      "Df Residuals:                     225   BIC:                            -383.3\n",
      "Df Model:                           1                                         \n",
      "Covariance Type:            nonrobust                                         \n",
      "=================================================================================\n",
      "                    coef    std err          t      P>|t|      [0.025      0.975]\n",
      "---------------------------------------------------------------------------------\n",
      "const             0.0210      0.007      3.089      0.002       0.008       0.034\n",
      "Change_S&P500     1.4232      0.162      8.784      0.000       1.104       1.742\n",
      "==============================================================================\n",
      "Omnibus:                       33.016   Durbin-Watson:                   2.036\n",
      "Prob(Omnibus):                  0.000   Jarque-Bera (JB):              144.129\n",
      "Skew:                          -0.427   Prob(JB):                     5.04e-32\n",
      "Kurtosis:                       6.809   Cond. No.                         23.9\n",
      "==============================================================================\n",
      "\n",
      "Notes:\n",
      "[1] Standard Errors assume that the covariance matrix of the errors is correctly specified.\n"
     ]
    }
   ],
   "source": [
    "X = stock_return[['Change_S&P500']]\n",
    "X = sm.add_constant(X)\n",
    "y = stock_return['Change_Apple']\n",
    "\n",
    "model = sm.OLS(y, X).fit()\n",
    "print(model.summary())"
   ]
  },
  {
   "cell_type": "code",
   "execution_count": 4,
   "metadata": {},
   "outputs": [
    {
     "data": {
      "text/plain": [
       "<Figure size 640x480 with 0 Axes>"
      ]
     },
     "metadata": {},
     "output_type": "display_data"
    },
    {
     "data": {
      "image/png": "[encoded data removed]",
      "text/plain": [
       "<Figure size 500x500 with 1 Axes>"
      ]
     },
     "metadata": {},
     "output_type": "display_data"
    }
   ],
   "source": [
    "plt.figure()\n",
    "sns.lmplot(data=stock_return, x='Change_S&P500', y='Change_Apple', ci=None)\n",
    "plt.xlabel('S&P500')\n",
    "plt.ylabel('Apple')\n",
    "plt.show()"
   ]
  },
  {
   "cell_type": "markdown",
   "metadata": {},
   "source": [
    "# 2. Multiple Regression"
   ]
  },
  {
   "cell_type": "code",
   "execution_count": 5,
   "metadata": {},
   "outputs": [
    {
     "data": {
      "text/html": [
       "<div>\n",
       "<style scoped>\n",
       "    .dataframe tbody tr th:only-of-type {\n",
       "        vertical-align: middle;\n",
       "    }\n",
       "\n",
       "    .dataframe tbody tr th {\n",
       "        vertical-align: top;\n",
       "    }\n",
       "\n",
       "    .dataframe thead th {\n",
       "        text-align: right;\n",
       "    }\n",
       "</style>\n",
       "<table border=\"1\" class=\"dataframe\">\n",
       "  <thead>\n",
       "    <tr style=\"text-align: right;\">\n",
       "      <th></th>\n",
       "      <th>Advertising</th>\n",
       "      <th>Shelf_Space</th>\n",
       "      <th>Sales</th>\n",
       "    </tr>\n",
       "  </thead>\n",
       "  <tbody>\n",
       "    <tr>\n",
       "      <th>0</th>\n",
       "      <td>1173</td>\n",
       "      <td>25</td>\n",
       "      <td>7517.5</td>\n",
       "    </tr>\n",
       "    <tr>\n",
       "      <th>1</th>\n",
       "      <td>307</td>\n",
       "      <td>25</td>\n",
       "      <td>3555.0</td>\n",
       "    </tr>\n",
       "    <tr>\n",
       "      <th>2</th>\n",
       "      <td>1019</td>\n",
       "      <td>25</td>\n",
       "      <td>6152.5</td>\n",
       "    </tr>\n",
       "    <tr>\n",
       "      <th>3</th>\n",
       "      <td>1066</td>\n",
       "      <td>25</td>\n",
       "      <td>6222.5</td>\n",
       "    </tr>\n",
       "    <tr>\n",
       "      <th>4</th>\n",
       "      <td>1187</td>\n",
       "      <td>25</td>\n",
       "      <td>6655.0</td>\n",
       "    </tr>\n",
       "  </tbody>\n",
       "</table>\n",
       "</div>"
      ],
      "text/plain": [
       "   Advertising  Shelf_Space   Sales\n",
       "0         1173           25  7517.5\n",
       "1          307           25  3555.0\n",
       "2         1019           25  6152.5\n",
       "3         1066           25  6222.5\n",
       "4         1187           25  6655.0"
      ]
     },
     "execution_count": 5,
     "metadata": {},
     "output_type": "execute_result"
    }
   ],
   "source": [
    "sales = pd.read_csv('data/Sales_Data.csv')\n",
    "sales.head()"
   ]
  },
  {
   "cell_type": "code",
   "execution_count": 6,
   "metadata": {},
   "outputs": [
    {
     "name": "stdout",
     "output_type": "stream",
     "text": [
      "                            OLS Regression Results                            \n",
      "==============================================================================\n",
      "Dep. Variable:                  Sales   R-squared:                       0.828\n",
      "Model:                            OLS   Adj. R-squared:                  0.818\n",
      "Method:                 Least Squares   F-statistic:                     88.90\n",
      "Date:                Fri, 31 Jan 2025   Prob (F-statistic):           7.39e-15\n",
      "Time:                        21:51:08   Log-Likelihood:                -308.62\n",
      "No. Observations:                  40   AIC:                             623.2\n",
      "Df Residuals:                      37   BIC:                             628.3\n",
      "Df Model:                           2                                         \n",
      "Covariance Type:            nonrobust                                         \n",
      "===============================================================================\n",
      "                  coef    std err          t      P>|t|      [0.025      0.975]\n",
      "-------------------------------------------------------------------------------\n",
      "const        2127.1938    347.511      6.121      0.000    1423.070    2831.317\n",
      "Advertising     3.2103      0.259     12.397      0.000       2.686       3.735\n",
      "Shelf_Space    27.4796      3.658      7.512      0.000      20.067      34.892\n",
      "==============================================================================\n",
      "Omnibus:                        0.306   Durbin-Watson:                   1.595\n",
      "Prob(Omnibus):                  0.858   Jarque-Bera (JB):                0.486\n",
      "Skew:                          -0.008   Prob(JB):                        0.784\n",
      "Kurtosis:                       2.460   Cond. No.                     3.93e+03\n",
      "==============================================================================\n",
      "\n",
      "Notes:\n",
      "[1] Standard Errors assume that the covariance matrix of the errors is correctly specified.\n",
      "[2] The condition number is large, 3.93e+03. This might indicate that there are\n",
      "strong multicollinearity or other numerical problems.\n"
     ]
    }
   ],
   "source": [
    "X = sales[['Advertising', 'Shelf_Space']]\n",
    "X = sm.add_constant(X)\n",
    "y = sales['Sales']\n",
    "\n",
    "model = sm.OLS(y, X).fit()\n",
    "print(model.summary())"
   ]
  },
  {
   "cell_type": "markdown",
   "metadata": {},
   "source": [
    "## 2.1. Multicollinearity"
   ]
  },
  {
   "cell_type": "code",
   "execution_count": 7,
   "metadata": {},
   "outputs": [
    {
     "data": {
      "text/html": [
       "<div>\n",
       "<style scoped>\n",
       "    .dataframe tbody tr th:only-of-type {\n",
       "        vertical-align: middle;\n",
       "    }\n",
       "\n",
       "    .dataframe tbody tr th {\n",
       "        vertical-align: top;\n",
       "    }\n",
       "\n",
       "    .dataframe thead th {\n",
       "        text-align: right;\n",
       "    }\n",
       "</style>\n",
       "<table border=\"1\" class=\"dataframe\">\n",
       "  <thead>\n",
       "    <tr style=\"text-align: right;\">\n",
       "      <th></th>\n",
       "      <th>SQRFOOT</th>\n",
       "      <th>BEDROOMS</th>\n",
       "      <th>AGE</th>\n",
       "      <th>PRICE</th>\n",
       "    </tr>\n",
       "  </thead>\n",
       "  <tbody>\n",
       "    <tr>\n",
       "      <th>0</th>\n",
       "      <td>1650</td>\n",
       "      <td>2</td>\n",
       "      <td>10</td>\n",
       "      <td>232000</td>\n",
       "    </tr>\n",
       "    <tr>\n",
       "      <th>1</th>\n",
       "      <td>1800</td>\n",
       "      <td>3</td>\n",
       "      <td>5</td>\n",
       "      <td>275000</td>\n",
       "    </tr>\n",
       "    <tr>\n",
       "      <th>2</th>\n",
       "      <td>2530</td>\n",
       "      <td>4</td>\n",
       "      <td>9</td>\n",
       "      <td>510000</td>\n",
       "    </tr>\n",
       "    <tr>\n",
       "      <th>3</th>\n",
       "      <td>2380</td>\n",
       "      <td>3</td>\n",
       "      <td>21</td>\n",
       "      <td>382000</td>\n",
       "    </tr>\n",
       "    <tr>\n",
       "      <th>4</th>\n",
       "      <td>2000</td>\n",
       "      <td>3</td>\n",
       "      <td>8</td>\n",
       "      <td>278000</td>\n",
       "    </tr>\n",
       "  </tbody>\n",
       "</table>\n",
       "</div>"
      ],
      "text/plain": [
       "   SQRFOOT  BEDROOMS  AGE   PRICE\n",
       "0     1650         2   10  232000\n",
       "1     1800         3    5  275000\n",
       "2     2530         4    9  510000\n",
       "3     2380         3   21  382000\n",
       "4     2000         3    8  278000"
      ]
     },
     "execution_count": 7,
     "metadata": {},
     "output_type": "execute_result"
    }
   ],
   "source": [
    "home_price = pd.read_csv('data/Home_Price_Data.csv')\n",
    "home_price.head()"
   ]
  },
  {
   "cell_type": "code",
   "execution_count": 8,
   "metadata": {},
   "outputs": [
    {
     "name": "stdout",
     "output_type": "stream",
     "text": [
      "                            OLS Regression Results                            \n",
      "==============================================================================\n",
      "Dep. Variable:                  PRICE   R-squared:                       0.862\n",
      "Model:                            OLS   Adj. R-squared:                  0.846\n",
      "Method:                 Least Squares   F-statistic:                     54.23\n",
      "Date:                Fri, 31 Jan 2025   Prob (F-statistic):           2.52e-11\n",
      "Time:                        21:51:08   Log-Likelihood:                -367.45\n",
      "No. Observations:                  30   AIC:                             742.9\n",
      "Df Residuals:                      26   BIC:                             748.5\n",
      "Df Model:                           3                                         \n",
      "Covariance Type:            nonrobust                                         \n",
      "==============================================================================\n",
      "                 coef    std err          t      P>|t|      [0.025      0.975]\n",
      "------------------------------------------------------------------------------\n",
      "const      -1.195e+05   4.58e+04     -2.607      0.015   -2.14e+05   -2.53e+04\n",
      "SQRFOOT      305.9393     38.855      7.874      0.000     226.072     385.806\n",
      "BEDROOMS   -1.822e+04   2.44e+04     -0.748      0.461   -6.83e+04    3.19e+04\n",
      "AGE        -1.015e+04   2284.099     -4.442      0.000   -1.48e+04   -5451.087\n",
      "==============================================================================\n",
      "Omnibus:                        5.476   Durbin-Watson:                   2.900\n",
      "Prob(Omnibus):                  0.065   Jarque-Bera (JB):                4.116\n",
      "Skew:                           0.889   Prob(JB):                        0.128\n",
      "Kurtosis:                       3.366   Cond. No.                     1.06e+04\n",
      "==============================================================================\n",
      "\n",
      "Notes:\n",
      "[1] Standard Errors assume that the covariance matrix of the errors is correctly specified.\n",
      "[2] The condition number is large, 1.06e+04. This might indicate that there are\n",
      "strong multicollinearity or other numerical problems.\n"
     ]
    }
   ],
   "source": [
    "X = home_price[['SQRFOOT', 'BEDROOMS', 'AGE']]\n",
    "X = sm.add_constant(X)\n",
    "y = home_price['PRICE']\n",
    "\n",
    "model = sm.OLS(y, X).fit()\n",
    "print(model.summary())"
   ]
  },
  {
   "cell_type": "code",
   "execution_count": 9,
   "metadata": {},
   "outputs": [
    {
     "name": "stdout",
     "output_type": "stream",
     "text": [
      "           SQRFOOT  BEDROOMS       AGE     PRICE\n",
      "SQRFOOT   1.000000  0.835459  0.466909  0.870362\n",
      "BEDROOMS  0.835459  1.000000  0.324190  0.721286\n",
      "AGE       0.466909  0.324190  1.000000  0.124340\n",
      "PRICE     0.870362  0.721286  0.124340  1.000000\n"
     ]
    }
   ],
   "source": [
    "correlation_matrix = home_price.corr()\n",
    "print(correlation_matrix)"
   ]
  },
  {
   "cell_type": "markdown",
   "metadata": {},
   "source": [
    "## 2.2. Using Dummy Variables to Include Qualitative Information (Part 1)"
   ]
  },
  {
   "cell_type": "code",
   "execution_count": 10,
   "metadata": {},
   "outputs": [
    {
     "data": {
      "text/html": [
       "<div>\n",
       "<style scoped>\n",
       "    .dataframe tbody tr th:only-of-type {\n",
       "        vertical-align: middle;\n",
       "    }\n",
       "\n",
       "    .dataframe tbody tr th {\n",
       "        vertical-align: top;\n",
       "    }\n",
       "\n",
       "    .dataframe thead th {\n",
       "        text-align: right;\n",
       "    }\n",
       "</style>\n",
       "<table border=\"1\" class=\"dataframe\">\n",
       "  <thead>\n",
       "    <tr style=\"text-align: right;\">\n",
       "      <th></th>\n",
       "      <th>Gender</th>\n",
       "      <th>Years</th>\n",
       "      <th>Salary</th>\n",
       "    </tr>\n",
       "  </thead>\n",
       "  <tbody>\n",
       "    <tr>\n",
       "      <th>0</th>\n",
       "      <td>Male</td>\n",
       "      <td>4</td>\n",
       "      <td>75891</td>\n",
       "    </tr>\n",
       "    <tr>\n",
       "      <th>1</th>\n",
       "      <td>Female</td>\n",
       "      <td>3</td>\n",
       "      <td>57943</td>\n",
       "    </tr>\n",
       "    <tr>\n",
       "      <th>2</th>\n",
       "      <td>Female</td>\n",
       "      <td>4</td>\n",
       "      <td>52095</td>\n",
       "    </tr>\n",
       "    <tr>\n",
       "      <th>3</th>\n",
       "      <td>Male</td>\n",
       "      <td>1</td>\n",
       "      <td>65356</td>\n",
       "    </tr>\n",
       "    <tr>\n",
       "      <th>4</th>\n",
       "      <td>Female</td>\n",
       "      <td>5</td>\n",
       "      <td>73294</td>\n",
       "    </tr>\n",
       "  </tbody>\n",
       "</table>\n",
       "</div>"
      ],
      "text/plain": [
       "   Gender  Years  Salary\n",
       "0    Male      4   75891\n",
       "1  Female      3   57943\n",
       "2  Female      4   52095\n",
       "3    Male      1   65356\n",
       "4  Female      5   73294"
      ]
     },
     "execution_count": 10,
     "metadata": {},
     "output_type": "execute_result"
    }
   ],
   "source": [
    "salary = pd.read_csv('data/Salaries_Data.csv')\n",
    "salary.head()"
   ]
  },
  {
   "cell_type": "code",
   "execution_count": 11,
   "metadata": {},
   "outputs": [
    {
     "data": {
      "text/html": [
       "<div>\n",
       "<style scoped>\n",
       "    .dataframe tbody tr th:only-of-type {\n",
       "        vertical-align: middle;\n",
       "    }\n",
       "\n",
       "    .dataframe tbody tr th {\n",
       "        vertical-align: top;\n",
       "    }\n",
       "\n",
       "    .dataframe thead th {\n",
       "        text-align: right;\n",
       "    }\n",
       "</style>\n",
       "<table border=\"1\" class=\"dataframe\">\n",
       "  <thead>\n",
       "    <tr style=\"text-align: right;\">\n",
       "      <th></th>\n",
       "      <th>Years</th>\n",
       "      <th>Salary</th>\n",
       "      <th>Gender_Male</th>\n",
       "    </tr>\n",
       "  </thead>\n",
       "  <tbody>\n",
       "    <tr>\n",
       "      <th>0</th>\n",
       "      <td>4</td>\n",
       "      <td>75891</td>\n",
       "      <td>1</td>\n",
       "    </tr>\n",
       "    <tr>\n",
       "      <th>1</th>\n",
       "      <td>3</td>\n",
       "      <td>57943</td>\n",
       "      <td>0</td>\n",
       "    </tr>\n",
       "    <tr>\n",
       "      <th>2</th>\n",
       "      <td>4</td>\n",
       "      <td>52095</td>\n",
       "      <td>0</td>\n",
       "    </tr>\n",
       "    <tr>\n",
       "      <th>3</th>\n",
       "      <td>1</td>\n",
       "      <td>65356</td>\n",
       "      <td>1</td>\n",
       "    </tr>\n",
       "    <tr>\n",
       "      <th>4</th>\n",
       "      <td>5</td>\n",
       "      <td>73294</td>\n",
       "      <td>0</td>\n",
       "    </tr>\n",
       "  </tbody>\n",
       "</table>\n",
       "</div>"
      ],
      "text/plain": [
       "   Years  Salary  Gender_Male\n",
       "0      4   75891            1\n",
       "1      3   57943            0\n",
       "2      4   52095            0\n",
       "3      1   65356            1\n",
       "4      5   73294            0"
      ]
     },
     "execution_count": 11,
     "metadata": {},
     "output_type": "execute_result"
    }
   ],
   "source": [
    "salary_dummy = pd.get_dummies(salary, columns=['Gender'], drop_first=True, dtype=int)\n",
    "salary_dummy.head()"
   ]
  },
  {
   "cell_type": "code",
   "execution_count": 12,
   "metadata": {},
   "outputs": [
    {
     "name": "stdout",
     "output_type": "stream",
     "text": [
      "                            OLS Regression Results                            \n",
      "==============================================================================\n",
      "Dep. Variable:                 Salary   R-squared:                       0.932\n",
      "Model:                            OLS   Adj. R-squared:                  0.930\n",
      "Method:                 Least Squares   F-statistic:                     476.1\n",
      "Date:                Fri, 31 Jan 2025   Prob (F-statistic):           1.75e-41\n",
      "Time:                        21:51:08   Log-Likelihood:                -723.93\n",
      "No. Observations:                  73   AIC:                             1454.\n",
      "Df Residuals:                      70   BIC:                             1461.\n",
      "Df Model:                           2                                         \n",
      "Covariance Type:            nonrobust                                         \n",
      "===============================================================================\n",
      "                  coef    std err          t      P>|t|      [0.025      0.975]\n",
      "-------------------------------------------------------------------------------\n",
      "const        4.466e+04   1290.583     34.603      0.000    4.21e+04    4.72e+04\n",
      "Years        4392.4439    159.828     27.482      0.000    4073.677    4711.211\n",
      "Gender_Male  1.292e+04   1188.875     10.872      0.000    1.06e+04    1.53e+04\n",
      "==============================================================================\n",
      "Omnibus:                        0.186   Durbin-Watson:                   1.654\n",
      "Prob(Omnibus):                  0.911   Jarque-Bera (JB):                0.379\n",
      "Skew:                           0.039   Prob(JB):                        0.827\n",
      "Kurtosis:                       2.656   Cond. No.                         18.8\n",
      "==============================================================================\n",
      "\n",
      "Notes:\n",
      "[1] Standard Errors assume that the covariance matrix of the errors is correctly specified.\n"
     ]
    }
   ],
   "source": [
    "X = salary_dummy[['Years', 'Gender_Male']]\n",
    "X = sm.add_constant(X)\n",
    "y = salary_dummy['Salary']\n",
    "\n",
    "model = sm.OLS(y, X).fit()\n",
    "print(model.summary())"
   ]
  },
  {
   "cell_type": "code",
   "execution_count": 13,
   "metadata": {},
   "outputs": [
    {
     "data": {
      "image/png": "[encoded data removed]",
      "text/plain": [
       "<Figure size 640x480 with 1 Axes>"
      ]
     },
     "metadata": {},
     "output_type": "display_data"
    }
   ],
   "source": [
    "male = np.linspace(X['Years'].min(), X['Years'].max(), 100)\n",
    "male = pd.DataFrame({'const': 1, 'Years': male, 'Gender_Male': 1})\n",
    "male['Salary'] = model.predict(male)\n",
    "\n",
    "female = np.linspace(X['Years'].min(), X['Years'].max(), 100)\n",
    "female = pd.DataFrame({'const': 1, 'Years': female, 'Gender_Male': 0})\n",
    "female['Salary'] = model.predict(female)\n",
    "\n",
    "plt.figure()\n",
    "sns.scatterplot(data=salary, x='Years', y='Salary', hue='Gender')\n",
    "sns.lineplot(data=male, x='Years', y='Salary', legend=False)\n",
    "sns.lineplot(data=female, x='Years', y='Salary', legend=False)\n",
    "plt.legend(title='')\n",
    "plt.show()"
   ]
  },
  {
   "cell_type": "markdown",
   "metadata": {},
   "source": [
    "## 2.3. Using Dummy Variables to Include Qualitative Information (Part 2)"
   ]
  },
  {
   "cell_type": "code",
   "execution_count": 14,
   "metadata": {},
   "outputs": [
    {
     "data": {
      "text/html": [
       "<div>\n",
       "<style scoped>\n",
       "    .dataframe tbody tr th:only-of-type {\n",
       "        vertical-align: middle;\n",
       "    }\n",
       "\n",
       "    .dataframe tbody tr th {\n",
       "        vertical-align: top;\n",
       "    }\n",
       "\n",
       "    .dataframe thead th {\n",
       "        text-align: right;\n",
       "    }\n",
       "</style>\n",
       "<table border=\"1\" class=\"dataframe\">\n",
       "  <thead>\n",
       "    <tr style=\"text-align: right;\">\n",
       "      <th></th>\n",
       "      <th>Neighborhood</th>\n",
       "      <th>Sqft</th>\n",
       "      <th>Price</th>\n",
       "    </tr>\n",
       "  </thead>\n",
       "  <tbody>\n",
       "    <tr>\n",
       "      <th>0</th>\n",
       "      <td>B</td>\n",
       "      <td>2754</td>\n",
       "      <td>750473</td>\n",
       "    </tr>\n",
       "    <tr>\n",
       "      <th>1</th>\n",
       "      <td>C</td>\n",
       "      <td>2170</td>\n",
       "      <td>428975</td>\n",
       "    </tr>\n",
       "    <tr>\n",
       "      <th>2</th>\n",
       "      <td>B</td>\n",
       "      <td>3022</td>\n",
       "      <td>799011</td>\n",
       "    </tr>\n",
       "    <tr>\n",
       "      <th>3</th>\n",
       "      <td>B</td>\n",
       "      <td>2420</td>\n",
       "      <td>734132</td>\n",
       "    </tr>\n",
       "    <tr>\n",
       "      <th>4</th>\n",
       "      <td>C</td>\n",
       "      <td>2559</td>\n",
       "      <td>499298</td>\n",
       "    </tr>\n",
       "  </tbody>\n",
       "</table>\n",
       "</div>"
      ],
      "text/plain": [
       "  Neighborhood  Sqft   Price\n",
       "0            B  2754  750473\n",
       "1            C  2170  428975\n",
       "2            B  3022  799011\n",
       "3            B  2420  734132\n",
       "4            C  2559  499298"
      ]
     },
     "execution_count": 14,
     "metadata": {},
     "output_type": "execute_result"
    }
   ],
   "source": [
    "home_price_2 = pd.read_csv('data/Home_Price_Data_2.csv')\n",
    "home_price_2.head()"
   ]
  },
  {
   "cell_type": "code",
   "execution_count": 15,
   "metadata": {},
   "outputs": [
    {
     "data": {
      "text/html": [
       "<div>\n",
       "<style scoped>\n",
       "    .dataframe tbody tr th:only-of-type {\n",
       "        vertical-align: middle;\n",
       "    }\n",
       "\n",
       "    .dataframe tbody tr th {\n",
       "        vertical-align: top;\n",
       "    }\n",
       "\n",
       "    .dataframe thead th {\n",
       "        text-align: right;\n",
       "    }\n",
       "</style>\n",
       "<table border=\"1\" class=\"dataframe\">\n",
       "  <thead>\n",
       "    <tr style=\"text-align: right;\">\n",
       "      <th></th>\n",
       "      <th>Sqft</th>\n",
       "      <th>Price</th>\n",
       "      <th>Neighborhood_B</th>\n",
       "      <th>Neighborhood_C</th>\n",
       "    </tr>\n",
       "  </thead>\n",
       "  <tbody>\n",
       "    <tr>\n",
       "      <th>0</th>\n",
       "      <td>2754</td>\n",
       "      <td>750473</td>\n",
       "      <td>1</td>\n",
       "      <td>0</td>\n",
       "    </tr>\n",
       "    <tr>\n",
       "      <th>1</th>\n",
       "      <td>2170</td>\n",
       "      <td>428975</td>\n",
       "      <td>0</td>\n",
       "      <td>1</td>\n",
       "    </tr>\n",
       "    <tr>\n",
       "      <th>2</th>\n",
       "      <td>3022</td>\n",
       "      <td>799011</td>\n",
       "      <td>1</td>\n",
       "      <td>0</td>\n",
       "    </tr>\n",
       "    <tr>\n",
       "      <th>3</th>\n",
       "      <td>2420</td>\n",
       "      <td>734132</td>\n",
       "      <td>1</td>\n",
       "      <td>0</td>\n",
       "    </tr>\n",
       "    <tr>\n",
       "      <th>4</th>\n",
       "      <td>2559</td>\n",
       "      <td>499298</td>\n",
       "      <td>0</td>\n",
       "      <td>1</td>\n",
       "    </tr>\n",
       "  </tbody>\n",
       "</table>\n",
       "</div>"
      ],
      "text/plain": [
       "   Sqft   Price  Neighborhood_B  Neighborhood_C\n",
       "0  2754  750473               1               0\n",
       "1  2170  428975               0               1\n",
       "2  3022  799011               1               0\n",
       "3  2420  734132               1               0\n",
       "4  2559  499298               0               1"
      ]
     },
     "execution_count": 15,
     "metadata": {},
     "output_type": "execute_result"
    }
   ],
   "source": [
    "home_price_2_dummy = pd.get_dummies(home_price_2, columns=['Neighborhood'], drop_first=True, dtype=int)\n",
    "home_price_2_dummy.head()"
   ]
  },
  {
   "cell_type": "code",
   "execution_count": 16,
   "metadata": {},
   "outputs": [
    {
     "name": "stdout",
     "output_type": "stream",
     "text": [
      "                            OLS Regression Results                            \n",
      "==============================================================================\n",
      "Dep. Variable:                  Price   R-squared:                       0.969\n",
      "Model:                            OLS   Adj. R-squared:                  0.968\n",
      "Method:                 Least Squares   F-statistic:                     1315.\n",
      "Date:                Fri, 31 Jan 2025   Prob (F-statistic):           2.08e-95\n",
      "Time:                        21:51:08   Log-Likelihood:                -1545.7\n",
      "No. Observations:                 131   AIC:                             3099.\n",
      "Df Residuals:                     127   BIC:                             3111.\n",
      "Df Model:                           3                                         \n",
      "Covariance Type:            nonrobust                                         \n",
      "==================================================================================\n",
      "                     coef    std err          t      P>|t|      [0.025      0.975]\n",
      "----------------------------------------------------------------------------------\n",
      "const           6.441e+05   1.82e+04     35.375      0.000    6.08e+05     6.8e+05\n",
      "Sqft             112.2406      6.955     16.139      0.000      98.478     126.003\n",
      "Neighborhood_B  -1.79e+05   9194.780    -19.470      0.000   -1.97e+05   -1.61e+05\n",
      "Neighborhood_C  -4.32e+05   8327.028    -51.876      0.000   -4.48e+05   -4.15e+05\n",
      "==============================================================================\n",
      "Omnibus:                        0.106   Durbin-Watson:                   1.989\n",
      "Prob(Omnibus):                  0.948   Jarque-Bera (JB):                0.211\n",
      "Skew:                          -0.062   Prob(JB):                        0.900\n",
      "Kurtosis:                       2.846   Cond. No.                     1.66e+04\n",
      "==============================================================================\n",
      "\n",
      "Notes:\n",
      "[1] Standard Errors assume that the covariance matrix of the errors is correctly specified.\n",
      "[2] The condition number is large, 1.66e+04. This might indicate that there are\n",
      "strong multicollinearity or other numerical problems.\n"
     ]
    }
   ],
   "source": [
    "X = home_price_2_dummy[['Sqft', 'Neighborhood_B', 'Neighborhood_C']]\n",
    "X = sm.add_constant(X)\n",
    "y = home_price_2_dummy['Price']\n",
    "\n",
    "model = sm.OLS(y, X).fit()\n",
    "print(model.summary())  "
   ]
  },
  {
   "cell_type": "code",
   "execution_count": 17,
   "metadata": {},
   "outputs": [
    {
     "data": {
      "image/png": "[encoded data removed]",
      "text/plain": [
       "<Figure size 640x480 with 1 Axes>"
      ]
     },
     "metadata": {},
     "output_type": "display_data"
    }
   ],
   "source": [
    "neighborhood_a = np.linspace(X['Sqft'].min(), X['Sqft'].max(), 100)\n",
    "neighborhood_a = pd.DataFrame({'const': 1, 'Sqft': neighborhood_a, 'Neighborhood_B': 0, 'Neighborhood_C': 0})\n",
    "neighborhood_a['Price'] = model.predict(neighborhood_a)\n",
    "\n",
    "neighborhood_b = np.linspace(X['Sqft'].min(), X['Sqft'].max(), 100)\n",
    "neighborhood_b = pd.DataFrame({'const': 1, 'Sqft': neighborhood_b, 'Neighborhood_B': 1, 'Neighborhood_C': 0})\n",
    "neighborhood_b['Price'] = model.predict(neighborhood_b)\n",
    "\n",
    "neighborhood_c = np.linspace(X['Sqft'].min(), X['Sqft'].max(), 100)\n",
    "neighborhood_c = pd.DataFrame({'const': 1, 'Sqft': neighborhood_c, 'Neighborhood_B': 0, 'Neighborhood_C': 1})\n",
    "neighborhood_c['Price'] = model.predict(neighborhood_c)\n",
    "\n",
    "plt.figure()\n",
    "sns.scatterplot(data=home_price_2, x='Sqft', y='Price', hue='Neighborhood', hue_order=['A', 'B', 'C'])\n",
    "sns.lineplot(data=neighborhood_a, x='Sqft', y='Price', legend=False)\n",
    "sns.lineplot(data=neighborhood_b, x='Sqft', y='Price', legend=False)\n",
    "sns.lineplot(data=neighborhood_c, x='Sqft', y='Price', legend=False)\n",
    "plt.show()"
   ]
  }
 ],
 "metadata": {
  "kernelspec": {
   "display_name": "py312",
   "language": "python",
   "name": "python3"
  },
  "language_info": {
   "codemirror_mode": {
    "name": "ipython",
    "version": 3
   },
   "file_extension": ".py",
   "mimetype": "text/x-python",
   "name": "python",
   "nbconvert_exporter": "python",
   "pygments_lexer": "ipython3",
   "version": "3.12.7"
  }
 },
 "nbformat": 4,
 "nbformat_minor": 2
}
