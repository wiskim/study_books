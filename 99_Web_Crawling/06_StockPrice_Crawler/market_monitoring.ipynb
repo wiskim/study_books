{
 "cells": [
  {
   "cell_type": "code",
   "execution_count": null,
   "metadata": {},
   "outputs": [],
   "source": [
    "import pandas as pd\n",
    "import yfinance as yf\n",
    "from datetime import datetime, timedelta\n",
    "import matplotlib.pyplot as plt\n",
    "import matplotlib.font_manager as fm\n",
    "plt.rc('font', family='AppleGothic')"
   ]
  },
  {
   "cell_type": "code",
   "execution_count": null,
   "metadata": {},
   "outputs": [],
   "source": [
    "ticker_df = pd.read_csv('ticker.csv')\n",
    "\n",
    "current_date = datetime.today()\n",
    "start_date = (datetime.today() - timedelta(days=365))\n",
    "ytd_start = datetime(current_date.year, 1, 1)"
   ]
  },
  {
   "cell_type": "markdown",
   "metadata": {},
   "source": [
    "# 국가별 주가지수"
   ]
  },
  {
   "cell_type": "code",
   "execution_count": null,
   "metadata": {},
   "outputs": [],
   "source": [
    "country_df = ticker_df[ticker_df['CATEGORY'] == 'Country']\n",
    "country_df = country_df.drop(columns=['CATEGORY'])\n",
    "history_df = yf.download(country_df['TICKER'].tolist(), start=start_date.strftime('%Y-%m-%d'), end=current_date.strftime('%Y-%m-%d'))\n",
    "close_df = history_df['Close']\n",
    "period_return_df = pd.DataFrame()\n",
    "period_return_df['YTD'] = (close_df.iloc[-1] / close_df[close_df.index >= ytd_start].iloc[0] - 1)\n",
    "period_return_df['1D'] = close_df.iloc[-1] / close_df.iloc[-2] - 1\n",
    "period_return_df['1W'] = close_df.iloc[-1] / close_df.iloc[-5] - 1\n",
    "period_return_df['1M'] = close_df.iloc[-1] / close_df.iloc[-20] - 1\n",
    "period_return_df['3M'] = close_df.iloc[-1] / close_df.iloc[-60] - 1\n",
    "period_return_df['1Y'] = close_df.iloc[-1] / close_df.iloc[-250] - 1\n",
    "period_return_df = period_return_df*100\n",
    "period_return_df = period_return_df.round(2)\n",
    "country_df = country_df.merge(period_return_df, left_on='TICKER', right_index=True)\n",
    "country_df.reset_index(drop=True, inplace=True)\n",
    "country_df"
   ]
  },
  {
   "cell_type": "code",
   "execution_count": null,
   "metadata": {},
   "outputs": [],
   "source": [
    "close_norm_df = close_df / close_df.iloc[0]\n",
    "close_norm_df = close_norm_df[close_norm_df.index >= ytd_start]\n",
    "ticker_name_map = dict(zip(ticker_df['TICKER'], ticker_df['NAME']))\n",
    "close_norm_df.columns = [ticker_name_map.get(ticker, ticker) for ticker in close_norm_df.columns]\n",
    "\n",
    "plt.figure(figsize=(10, 6))\n",
    "plt.plot(close_norm_df)\n",
    "plt.legend(close_norm_df.columns, bbox_to_anchor=(1.05, 1), loc='upper left')\n",
    "plt.grid(True)\n",
    "plt.tight_layout()"
   ]
  },
  {
   "cell_type": "markdown",
   "metadata": {},
   "source": [
    "# 미국 S&P 500 섹터"
   ]
  },
  {
   "cell_type": "code",
   "execution_count": null,
   "metadata": {},
   "outputs": [],
   "source": [
    "sector_df = ticker_df[ticker_df['CATEGORY'] == 'Sector']\n",
    "sector_df = sector_df.drop(columns=['CATEGORY'])\n",
    "history_df = yf.download(sector_df['TICKER'].tolist(), start=start_date.strftime('%Y-%m-%d'), end=current_date.strftime('%Y-%m-%d'))\n",
    "close_df = history_df['Close']\n",
    "period_return_df = pd.DataFrame()\n",
    "period_return_df['YTD'] = (close_df.iloc[-1] / close_df[close_df.index >= ytd_start].iloc[0] - 1)\n",
    "period_return_df['1D'] = close_df.iloc[-1] / close_df.iloc[-2] - 1\n",
    "period_return_df['1W'] = close_df.iloc[-1] / close_df.iloc[-5] - 1\n",
    "period_return_df['1M'] = close_df.iloc[-1] / close_df.iloc[-20] - 1\n",
    "period_return_df['3M'] = close_df.iloc[-1] / close_df.iloc[-60] - 1\n",
    "period_return_df['1Y'] = close_df.iloc[-1] / close_df.iloc[-250] - 1\n",
    "period_return_df = period_return_df*100\n",
    "period_return_df = period_return_df.round(2)\n",
    "sector_df = sector_df.merge(period_return_df, left_on='TICKER', right_index=True)\n",
    "sector_df.reset_index(drop=True, inplace=True)\n",
    "sector_df"
   ]
  },
  {
   "cell_type": "code",
   "execution_count": null,
   "metadata": {},
   "outputs": [],
   "source": [
    "close_norm_df = close_df / close_df.iloc[0]\n",
    "close_norm_df = close_norm_df[close_norm_df.index >= ytd_start]\n",
    "ticker_name_map = dict(zip(ticker_df['TICKER'], ticker_df['NAME']))\n",
    "close_norm_df.columns = [ticker_name_map.get(ticker, ticker) for ticker in close_norm_df.columns]\n",
    "\n",
    "plt.figure(figsize=(10, 6))\n",
    "plt.plot(close_norm_df)\n",
    "plt.legend(close_norm_df.columns, bbox_to_anchor=(1.05, 1), loc='upper left')\n",
    "plt.grid(True)\n",
    "plt.tight_layout()"
   ]
  },
  {
   "cell_type": "markdown",
   "metadata": {},
   "source": [
    "# 미국 M7"
   ]
  },
  {
   "cell_type": "code",
   "execution_count": null,
   "metadata": {},
   "outputs": [],
   "source": [
    "m7_df = ticker_df[ticker_df['CATEGORY'] == 'M7']\n",
    "m7_df = m7_df.drop(columns=['CATEGORY'])\n",
    "history_df = yf.download(m7_df['TICKER'].tolist(), start=start_date.strftime('%Y-%m-%d'), end=current_date.strftime('%Y-%m-%d'))\n",
    "close_df = history_df['Close']\n",
    "period_return_df = pd.DataFrame()\n",
    "period_return_df['YTD'] = (close_df.iloc[-1] / close_df[close_df.index >= ytd_start].iloc[0] - 1)\n",
    "period_return_df['1D'] = close_df.iloc[-1] / close_df.iloc[-2] - 1\n",
    "period_return_df['1W'] = close_df.iloc[-1] / close_df.iloc[-5] - 1\n",
    "period_return_df['1M'] = close_df.iloc[-1] / close_df.iloc[-20] - 1\n",
    "period_return_df['3M'] = close_df.iloc[-1] / close_df.iloc[-60] - 1\n",
    "period_return_df['1Y'] = close_df.iloc[-1] / close_df.iloc[-250] - 1\n",
    "period_return_df = period_return_df*100\n",
    "period_return_df = period_return_df.round(2)\n",
    "m7_df = m7_df.merge(period_return_df, left_on='TICKER', right_index=True)\n",
    "m7_df.reset_index(drop=True, inplace=True)\n",
    "m7_df"
   ]
  },
  {
   "cell_type": "code",
   "execution_count": null,
   "metadata": {},
   "outputs": [],
   "source": [
    "close_norm_df = close_df / close_df.iloc[0]\n",
    "close_norm_df = close_norm_df[close_norm_df.index >= ytd_start]\n",
    "ticker_name_map = dict(zip(ticker_df['TICKER'], ticker_df['NAME']))\n",
    "close_norm_df.columns = [ticker_name_map.get(ticker, ticker) for ticker in close_norm_df.columns]\n",
    "\n",
    "plt.figure(figsize=(10, 6))\n",
    "plt.plot(close_norm_df)\n",
    "plt.legend(close_norm_df.columns, bbox_to_anchor=(1.05, 1), loc='upper left')\n",
    "plt.grid(True)\n",
    "plt.tight_layout()"
   ]
  },
  {
   "cell_type": "markdown",
   "metadata": {},
   "source": [
    "# 채권"
   ]
  },
  {
   "cell_type": "code",
   "execution_count": null,
   "metadata": {},
   "outputs": [],
   "source": [
    "bond_df = ticker_df[ticker_df['CATEGORY'] == 'Bond']\n",
    "bond_df = bond_df.drop(columns=['CATEGORY'])\n",
    "history_df = yf.download(bond_df['TICKER'].tolist(), start=start_date.strftime('%Y-%m-%d'), end=current_date.strftime('%Y-%m-%d'))\n",
    "close_df = history_df['Close']\n",
    "period_return_df = pd.DataFrame()\n",
    "period_return_df['YTD'] = (close_df.iloc[-1] / close_df[close_df.index >= ytd_start].iloc[0] - 1)\n",
    "period_return_df['1D'] = close_df.iloc[-1] / close_df.iloc[-2] - 1\n",
    "period_return_df['1W'] = close_df.iloc[-1] / close_df.iloc[-5] - 1\n",
    "period_return_df['1M'] = close_df.iloc[-1] / close_df.iloc[-20] - 1\n",
    "period_return_df['3M'] = close_df.iloc[-1] / close_df.iloc[-60] - 1\n",
    "period_return_df['1Y'] = close_df.iloc[-1] / close_df.iloc[-250] - 1\n",
    "period_return_df = period_return_df*100\n",
    "period_return_df = period_return_df.round(2)\n",
    "bond_df = bond_df.merge(period_return_df, left_on='TICKER', right_index=True)\n",
    "bond_df.reset_index(drop=True, inplace=True)\n",
    "bond_df"
   ]
  },
  {
   "cell_type": "code",
   "execution_count": null,
   "metadata": {},
   "outputs": [],
   "source": [
    "close_norm_df = close_df / close_df.iloc[0]\n",
    "close_norm_df = close_norm_df[close_norm_df.index >= ytd_start]\n",
    "ticker_name_map = dict(zip(ticker_df['TICKER'], ticker_df['NAME']))\n",
    "close_norm_df.columns = [ticker_name_map.get(ticker, ticker) for ticker in close_norm_df.columns]\n",
    "\n",
    "plt.figure(figsize=(10, 6))\n",
    "plt.plot(close_norm_df)\n",
    "plt.legend(close_norm_df.columns, bbox_to_anchor=(1.05, 1), loc='upper left')\n",
    "plt.grid(True)\n",
    "plt.tight_layout()"
   ]
  },
  {
   "cell_type": "markdown",
   "metadata": {},
   "source": [
    "# 원자재"
   ]
  },
  {
   "cell_type": "code",
   "execution_count": null,
   "metadata": {},
   "outputs": [],
   "source": [
    "commodity_df = ticker_df[ticker_df['CATEGORY'] == 'Commodity']\n",
    "commodity_df = commodity_df.drop(columns=['CATEGORY'])\n",
    "history_df = yf.download(commodity_df['TICKER'].tolist(), start=start_date.strftime('%Y-%m-%d'), end=current_date.strftime('%Y-%m-%d'))\n",
    "close_df = history_df['Close']\n",
    "period_return_df = pd.DataFrame()\n",
    "period_return_df['YTD'] = (close_df.iloc[-1] / close_df[close_df.index >= ytd_start].iloc[0] - 1)\n",
    "period_return_df['1D'] = close_df.iloc[-1] / close_df.iloc[-2] - 1\n",
    "period_return_df['1W'] = close_df.iloc[-1] / close_df.iloc[-5] - 1\n",
    "period_return_df['1M'] = close_df.iloc[-1] / close_df.iloc[-20] - 1\n",
    "period_return_df['3M'] = close_df.iloc[-1] / close_df.iloc[-60] - 1\n",
    "period_return_df['1Y'] = close_df.iloc[-1] / close_df.iloc[-250] - 1\n",
    "period_return_df = period_return_df*100\n",
    "period_return_df = period_return_df.round(2)\n",
    "commodity_df = commodity_df.merge(period_return_df, left_on='TICKER', right_index=True)\n",
    "commodity_df.reset_index(drop=True, inplace=True)\n",
    "commodity_df"
   ]
  },
  {
   "cell_type": "code",
   "execution_count": null,
   "metadata": {},
   "outputs": [],
   "source": [
    "close_norm_df = close_df / close_df.iloc[0]\n",
    "close_norm_df = close_norm_df[close_norm_df.index >= ytd_start]\n",
    "ticker_name_map = dict(zip(ticker_df['TICKER'], ticker_df['NAME']))\n",
    "close_norm_df.columns = [ticker_name_map.get(ticker, ticker) for ticker in close_norm_df.columns]\n",
    "\n",
    "plt.figure(figsize=(10, 6))\n",
    "plt.plot(close_norm_df)\n",
    "plt.legend(close_norm_df.columns, bbox_to_anchor=(1.05, 1), loc='upper left')\n",
    "plt.grid(True)\n",
    "plt.tight_layout()"
   ]
  },
  {
   "cell_type": "markdown",
   "metadata": {},
   "source": [
    "# 환율"
   ]
  },
  {
   "cell_type": "code",
   "execution_count": null,
   "metadata": {},
   "outputs": [],
   "source": [
    "currency_df = ticker_df[ticker_df['CATEGORY'] == 'Currency']\n",
    "currency_df = currency_df.drop(columns=['CATEGORY'])\n",
    "history_df = yf.download(currency_df['TICKER'].tolist(), start=start_date.strftime('%Y-%m-%d'), end=current_date.strftime('%Y-%m-%d'))\n",
    "close_df = history_df['Close']\n",
    "period_return_df = pd.DataFrame()\n",
    "period_return_df['YTD'] = (close_df.iloc[-1] / close_df[close_df.index >= ytd_start].iloc[0] - 1)\n",
    "period_return_df['1D'] = close_df.iloc[-1] / close_df.iloc[-2] - 1\n",
    "period_return_df['1W'] = close_df.iloc[-1] / close_df.iloc[-5] - 1\n",
    "period_return_df['1M'] = close_df.iloc[-1] / close_df.iloc[-20] - 1\n",
    "period_return_df['3M'] = close_df.iloc[-1] / close_df.iloc[-60] - 1\n",
    "period_return_df['1Y'] = close_df.iloc[-1] / close_df.iloc[-250] - 1\n",
    "period_return_df = period_return_df*-100\n",
    "period_return_df = period_return_df.round(2)\n",
    "currency_df = currency_df.merge(period_return_df, left_on='TICKER', right_index=True)\n",
    "currency_df.reset_index(drop=True, inplace=True)\n",
    "currency_df"
   ]
  },
  {
   "cell_type": "code",
   "execution_count": null,
   "metadata": {},
   "outputs": [],
   "source": [
    "close_norm_df = close_df / close_df.iloc[0]\n",
    "close_norm_df = close_norm_df[close_norm_df.index >= ytd_start]\n",
    "ticker_name_map = dict(zip(ticker_df['TICKER'], ticker_df['NAME']))\n",
    "close_norm_df.columns = [ticker_name_map.get(ticker, ticker) for ticker in close_norm_df.columns]\n",
    "\n",
    "plt.figure(figsize=(10, 6))\n",
    "plt.plot(close_norm_df)\n",
    "plt.legend(close_norm_df.columns, bbox_to_anchor=(1.05, 1), loc='upper left')\n",
    "plt.gca().invert_yaxis()\n",
    "plt.grid(True)\n",
    "plt.tight_layout()"
   ]
  }
 ],
 "metadata": {
  "kernelspec": {
   "display_name": "py312",
   "language": "python",
   "name": "python3"
  },
  "language_info": {
   "codemirror_mode": {
    "name": "ipython",
    "version": 3
   },
   "file_extension": ".py",
   "mimetype": "text/x-python",
   "name": "python",
   "nbconvert_exporter": "python",
   "pygments_lexer": "ipython3",
   "version": "3.12.7"
  }
 },
 "nbformat": 4,
 "nbformat_minor": 2
}
